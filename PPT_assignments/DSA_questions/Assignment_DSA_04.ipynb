{
 "cells": [
  {
   "cell_type": "markdown",
   "id": "0daddb0d",
   "metadata": {},
   "source": [
    "# Assignment - 04"
   ]
  },
  {
   "cell_type": "markdown",
   "id": "b656721a",
   "metadata": {},
   "source": [
    "<font size = \"3\">__1. Given three integer arrays arr1, arr2 and arr3 **sorted** in **strictly increasing** order, return a sorted array of **only** the integers that appeared in **all** three arrays.__</font>\n",
    "\n",
    "**Example 1:**\n",
    "\n",
    ">Input: arr1 = [1,2,3,4,5], arr2 = [1,2,5,7,9], arr3 = [1,3,4,5,8]<br>\n",
    ">Output: [1,5]\n",
    "\n",
    "**Explanation:** \n",
    "`Only 1 and 5 appeared in the three arrays.`"
   ]
  },
  {
   "cell_type": "code",
   "execution_count": 1,
   "id": "be783b5d",
   "metadata": {},
   "outputs": [
    {
     "name": "stdout",
     "output_type": "stream",
     "text": [
      "[1, 5]\n"
     ]
    }
   ],
   "source": [
    "# Function definition\n",
    "def arraysIntersection(arr1, arr2, arr3):\n",
    "    p1, p2, p3 = 0, 0, 0\n",
    "    result = []\n",
    "\n",
    "    while p1 < len(arr1) and p2 < len(arr2) and p3 < len(arr3):\n",
    "        if arr1[p1] == arr2[p2] == arr3[p3]:\n",
    "            result.append(arr1[p1])\n",
    "            p1 += 1\n",
    "            p2 += 1\n",
    "            p3 += 1\n",
    "        else:\n",
    "            min_val = min(arr1[p1], arr2[p2], arr3[p3])\n",
    "            if arr1[p1] == min_val:\n",
    "                p1 += 1\n",
    "            if arr2[p2] == min_val:\n",
    "                p2 += 1\n",
    "            if arr3[p3] == min_val:\n",
    "                p3 += 1\n",
    "\n",
    "    return result\n",
    "\n",
    "\n",
    "# Driver code\n",
    "arr1 = [1, 2, 3, 4, 5]\n",
    "arr2 = [1, 2, 5, 7, 9]\n",
    "arr3 = [1, 3, 4, 5, 8]\n",
    "result = arraysIntersection(arr1, arr2, arr3)\n",
    "print(result)  # Output: [1, 5]\n"
   ]
  },
  {
   "cell_type": "markdown",
   "id": "61eec0a4",
   "metadata": {},
   "source": [
    "<font size = \"3\">__2. Given two 0-indexed integer arrays nums1 and nums2, return a list answer of size 2 *where:*__</font>\n",
    "\n",
    "- answer[0] is a list of all **distinct** integers in* nums1 *which are **not** present in nums2.\n",
    "- answer[1] is a list of all **distinct** integers in* nums2 *which are **not** present in nums1.\n",
    "\n",
    "**Note** that the integers in the lists may be returned in **any** order.\n",
    "\n",
    "**Example 1:**\n",
    "\n",
    ">Input: nums1 = [1,2,3], nums2 = [2,4,6]<br>\n",
    ">Output: [[1,3],[4,6]]\n",
    "\n",
    "**Explanation:**\n",
    "\n",
    "`For nums1, nums1[1] = 2 is present at index 0 of nums2, whereas nums1[0] = 1 and nums1[2] = 3 are not present in nums2. Therefore, answer[0] = [1,3].`\n",
    "\n",
    "`For nums2, nums2[0] = 2 is present at index 1 of nums1, whereas nums2[1] = 4 and nums2[2] = 6 are not present in nums2. Therefore, answer[1] = [4,6].`"
   ]
  },
  {
   "cell_type": "code",
   "execution_count": 2,
   "id": "2d40afec",
   "metadata": {},
   "outputs": [
    {
     "name": "stdout",
     "output_type": "stream",
     "text": [
      "[[1, 3], [4, 6]]\n"
     ]
    }
   ],
   "source": [
    "# Function definition\n",
    "def findDisappearedNumbers(nums1, nums2):\n",
    "    set1 = set(nums1)\n",
    "    set2 = set(nums2)\n",
    "\n",
    "    diff1 = set1 - set2\n",
    "    diff2 = set2 - set1\n",
    "\n",
    "    return [list(diff1), list(diff2)]\n",
    "\n",
    "# Driver code\n",
    "nums1 = [1, 2, 3]\n",
    "nums2 = [2, 4, 6]\n",
    "result = findDisappearedNumbers(nums1, nums2)\n",
    "print(result)  # Output: [[1, 3], [4, 6]]\n"
   ]
  },
  {
   "cell_type": "markdown",
   "id": "bb31695d",
   "metadata": {},
   "source": [
    "<font size = \"3\">__3. Given a 2D integer array matrix, return *the transpose of matrix.__</font>\n",
    "\n",
    "The transpose of a matrix is the matrix flipped over its main diagonal, switching the matrix's row and column indices.\n",
    "\n",
    "**Example 1:**\n",
    "\n",
    ">Input: matrix = [[1,2,3],[4,5,6],[7,8,9]]<br>\n",
    ">Output: [[1,4,7],[2,5,8],[3,6,9]]"
   ]
  },
  {
   "cell_type": "code",
   "execution_count": 3,
   "id": "8d453362",
   "metadata": {},
   "outputs": [
    {
     "name": "stdout",
     "output_type": "stream",
     "text": [
      "[[1, 4, 7], [2, 5, 8], [3, 6, 9]]\n"
     ]
    }
   ],
   "source": [
    "# Function definition \n",
    "def transpose(matrix):\n",
    "    rows = len(matrix)\n",
    "    columns = len(matrix[0])\n",
    "    result = [[0] * rows for _ in range(columns)]\n",
    "\n",
    "    for i in range(rows):\n",
    "        for j in range(columns):\n",
    "            result[j][i] = matrix[i][j]\n",
    "\n",
    "    return result\n",
    "\n",
    "# Driver code\n",
    "matrix = [[1, 2, 3], [4, 5, 6], [7, 8, 9]]\n",
    "result = transpose(matrix)\n",
    "print(result)  # Output: [[1, 4, 7], [2, 5, 8], [3, 6, 9]]\n"
   ]
  },
  {
   "cell_type": "markdown",
   "id": "71dbe353",
   "metadata": {},
   "source": [
    "<font size = \"3\">__4. Given an integer array nums of 2n integers, group these integers into n pairs (a1, b1), (a2, b2), ..., (an, bn) such that the sum of min(ai, bi) for all i is maximized. Return the maximized sum.__</font>\n",
    "\n",
    "**Example 1:**\n",
    "\n",
    ">Input: nums = [1,4,3,2]<br>\n",
    ">Output: 4\n",
    "\n",
    "**Explanation:** All possible pairings (ignoring the ordering of elements) are:\n",
    "\n",
    "1. (1, 4), (2, 3) -> min(1, 4) + min(2, 3) = 1 + 2 = 3\n",
    "\n",
    "2. (1, 3), (2, 4) -> min(1, 3) + min(2, 4) = 1 + 2 = 3\n",
    "\n",
    "3. (1, 2), (3, 4) -> min(1, 2) + min(3, 4) = 1 + 3 = 4\n",
    "\n",
    "So the maximum possible sum is 4."
   ]
  },
  {
   "cell_type": "code",
   "execution_count": 4,
   "id": "2c3f5fca",
   "metadata": {},
   "outputs": [
    {
     "name": "stdout",
     "output_type": "stream",
     "text": [
      "4\n"
     ]
    }
   ],
   "source": [
    "# Function definition\n",
    "def arrayPairSum(nums):\n",
    "    nums.sort()\n",
    "    max_sum = 0\n",
    "\n",
    "    for i in range(0, len(nums), 2):\n",
    "        max_sum += nums[i]\n",
    "\n",
    "    return max_sum\n",
    "\n",
    "# Driver code\n",
    "nums = [1, 4, 3, 2]\n",
    "result = arrayPairSum(nums)\n",
    "print(result)  # Output: 4\n"
   ]
  },
  {
   "cell_type": "markdown",
   "id": "c80bb5f8",
   "metadata": {},
   "source": [
    "<font size = \"3\">__5. You have n coins and you want to build a staircase with these coins. The staircase consists of k rows where the ith row has exactly i coins. The last row of the staircase may be incomplete.__</font>\n",
    "\n",
    "Given the integer n, return the number of **complete rows** of the staircase you will build.\n",
    "\n",
    "**Example 1:**\n",
    "\n",
    ">Input: n = 5<br>\n",
    ">Output: 2\n",
    "\n",
    "**Explanation:** \n",
    "`Because the 3rd row is incomplete, we return 2.`"
   ]
  },
  {
   "cell_type": "code",
   "execution_count": 5,
   "id": "2f924780",
   "metadata": {},
   "outputs": [
    {
     "name": "stdout",
     "output_type": "stream",
     "text": [
      "2\n"
     ]
    }
   ],
   "source": [
    "# Function Definition \n",
    "def arrangeCoins(n):\n",
    "    k = 0\n",
    "\n",
    "    while (k * (k + 1)) // 2 <= n:\n",
    "        k += 1\n",
    "\n",
    "    return k - 1\n",
    "\n",
    "# Driver code\n",
    "n = 5\n",
    "result = arrangeCoins(n)\n",
    "print(result)  # Output: 2\n"
   ]
  },
  {
   "cell_type": "markdown",
   "id": "8ef0d40a",
   "metadata": {},
   "source": [
    "<font size = \"3\">__6. Given an integer array nums sorted in non-decreasing order, return an array of the squares of each number sorted in non-decreasing order.__</font>\n",
    "\n",
    "**Example 1:**\n",
    "\n",
    ">Input: nums = [-4,-1,0,3,10]<br>\n",
    ">Output: [0,1,9,16,100]\n",
    "\n",
    "**Explanation:** \n",
    "`After squaring, the array becomes [16,1,0,9,100]`.<br>\n",
    "`After sorting, it becomes [0,1,9,16,100]`"
   ]
  },
  {
   "cell_type": "code",
   "execution_count": 6,
   "id": "7b8268f4",
   "metadata": {},
   "outputs": [
    {
     "name": "stdout",
     "output_type": "stream",
     "text": [
      "[0, 1, 9, 16, 100]\n"
     ]
    }
   ],
   "source": [
    "# Function Definition \n",
    "def sortedSquares(nums):\n",
    "    n = len(nums)\n",
    "    result = [0] * n\n",
    "    left, right = 0, n - 1\n",
    "\n",
    "    for i in range(n - 1, -1, -1):\n",
    "        if abs(nums[left]) > abs(nums[right]):\n",
    "            result[i] = nums[left] ** 2\n",
    "            left += 1\n",
    "        else:\n",
    "            result[i] = nums[right] ** 2\n",
    "            right -= 1\n",
    "\n",
    "    return result\n",
    "\n",
    "# Driver code\n",
    "nums = [-4, -1, 0, 3, 10]\n",
    "result = sortedSquares(nums)\n",
    "print(result)  # Output: [0, 1, 9, 16, 100]\n"
   ]
  },
  {
   "cell_type": "markdown",
   "id": "2332ee2e",
   "metadata": {},
   "source": [
    "<font size = \"3\">__7. You are given an m x n matrix M initialized with all 0's and an array of operations ops, where ops[i] = [ai, bi] means M[x][y] should be incremented by one for all__</font> `0 <= x < ai and 0 <= y < bi.`\n",
    "\n",
    "Count and return the number of maximum integers in the matrix after performing all the operations\n",
    "\n",
    "**Example 1:**\n",
    "\n",
    ">Input: m = 3, n = 3, ops = [[2,2],[3,3]]<br>\n",
    ">Output: 4\n",
    "\n",
    "**Explanation:** \n",
    "`The maximum integer in M is 2, and there are four of it in M. So return 4.`"
   ]
  },
  {
   "cell_type": "code",
   "execution_count": 7,
   "id": "0adaba4d",
   "metadata": {},
   "outputs": [
    {
     "name": "stdout",
     "output_type": "stream",
     "text": [
      "4\n"
     ]
    }
   ],
   "source": [
    "# Function definition \n",
    "def maxCount(m, n, ops):\n",
    "    min_row = m\n",
    "    min_col = n\n",
    "\n",
    "    for op in ops:\n",
    "        min_row = min(min_row, op[0])\n",
    "        min_col = min(min_col, op[1])\n",
    "\n",
    "    return min_row * min_col\n",
    "\n",
    "# Driver code\n",
    "m = 3\n",
    "n = 3\n",
    "ops = [[2, 2], [3, 3]]\n",
    "result = maxCount(m, n, ops)\n",
    "print(result)  # Output: 4\n"
   ]
  },
  {
   "cell_type": "markdown",
   "id": "ee8e0b61",
   "metadata": {},
   "source": [
    "<font size = \"3\">__8. Given the array nums consisting of 2n elements in the form [x1,x2,...,xn,y1,y2,...,yn].__</font>\n",
    "\n",
    "Return the array in the form [x1,y1,x2,y2,...,xn,yn].\n",
    "\n",
    "**Example 1:**\n",
    "\n",
    ">Input: nums = [2,5,1,3,4,7], n = 3<br>\n",
    ">Output: [2,3,5,4,1,7]\n",
    "\n",
    "**Explanation:** `Since x1=2, x2=5, x3=1, y1=3, y2=4, y3=7 then the answer is [2,3,5,4,1,7].`"
   ]
  },
  {
   "cell_type": "code",
   "execution_count": 8,
   "id": "f80a9f7c",
   "metadata": {},
   "outputs": [
    {
     "name": "stdout",
     "output_type": "stream",
     "text": [
      "[2, 3, 5, 4, 1, 7]\n"
     ]
    }
   ],
   "source": [
    "# Function definition \n",
    "def shuffle(nums, n):\n",
    "    result = [0] * (2 * n)\n",
    "\n",
    "    for i in range(n):\n",
    "        result[2 * i] = nums[i]\n",
    "        result[2 * i + 1] = nums[n + i]\n",
    "\n",
    "    return result\n",
    "\n",
    "# Driver code\n",
    "nums = [2, 5, 1, 3, 4, 7]\n",
    "n = 3\n",
    "result = shuffle(nums, n)\n",
    "print(result)  # Output: [2, 3, 5, 4, 1, 7]\n"
   ]
  },
  {
   "cell_type": "code",
   "execution_count": null,
   "id": "19ee4f38",
   "metadata": {},
   "outputs": [],
   "source": []
  }
 ],
 "metadata": {
  "kernelspec": {
   "display_name": "Python 3 (ipykernel)",
   "language": "python",
   "name": "python3"
  },
  "language_info": {
   "codemirror_mode": {
    "name": "ipython",
    "version": 3
   },
   "file_extension": ".py",
   "mimetype": "text/x-python",
   "name": "python",
   "nbconvert_exporter": "python",
   "pygments_lexer": "ipython3",
   "version": "3.10.9"
  }
 },
 "nbformat": 4,
 "nbformat_minor": 5
}
