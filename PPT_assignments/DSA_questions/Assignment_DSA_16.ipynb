{
 "cells": [
  {
   "cell_type": "markdown",
   "id": "2816ce7c",
   "metadata": {},
   "source": [
    "# Assignment - 16"
   ]
  },
  {
   "cell_type": "markdown",
   "id": "95b48a38",
   "metadata": {},
   "source": [
    "<font size =\"3\">__1. Given an array, for each element find the value of the nearest element to the right which is having a frequency greater than that of the current element. If there does not exist an answer for a position, then make the value ‘-1’.__</font><br>\n",
    "\n",
    "**Examples:**\n",
    "\n",
    "\n",
    ">Input: a[] = [1, 1, 2, 3, 4, 2, 1]<br>\n",
    "Output : [-1, -1, 1, 2, 2, 1, -1]\n",
    "\n",
    "**Explanation:**<br>\n",
    "Given array a[] = [1, 1, 2, 3, 4, 2, 1]<br>\n",
    "Frequency of each element is: 3, 3, 2, 1, 1, 2, 3<br>\n",
    "\n",
    "Lets calls Next Greater Frequency element as NGF\n",
    "1. For element a[0] = 1 which has a frequency = 3,\n",
    "   As it has frequency of 3 and no other next element\n",
    "   has frequency more than 3 so  '-1'\n",
    "2. For element a[1] = 1 it will be -1 same logic\n",
    "   like a[0]\n",
    "3. For element a[2] = 2 which has frequency = 2,\n",
    "   NGF element is 1 at position = 6  with frequency\n",
    "   of 3 > 2\n",
    "4. For element a[3] = 3 which has frequency = 1,\n",
    "   NGF element is 2 at position = 5 with frequency\n",
    "   of 2 > 1\n",
    "5. For element a[4] = 4 which has frequency = 1,\n",
    "   NGF element is 2 at position = 5 with frequency\n",
    "   of 2 > 1\n",
    "6. For element a[5] = 2 which has frequency = 2,\n",
    "   NGF element is 1 at position = 6 with frequency\n",
    "   of 3 > 2\n",
    "7. For element a[6] = 1 there is no element to its\n",
    "   right, hence -1\n",
    "\n",
    "\n",
    "\n",
    ">Input : a[] = [1, 1, 1, 2, 2, 2, 2, 11, 3, 3]<br>\n",
    "Output : [2, 2, 2, -1, -1, -1, -1, 3, -1, -1]\n"
   ]
  },
  {
   "cell_type": "code",
   "execution_count": 1,
   "id": "14c4cbf7",
   "metadata": {},
   "outputs": [
    {
     "name": "stdout",
     "output_type": "stream",
     "text": [
      "[-1, -1, 1, 2, 2, 1, -1]\n",
      "[2, 2, 2, -1, -1, -1, -1, 3, -1, -1]\n"
     ]
    }
   ],
   "source": [
    "def nearest_greater_frequency(arr):\n",
    "    n = len(arr)\n",
    "    frequency = {}\n",
    "    stack = []\n",
    "    result = [-1] * n\n",
    "\n",
    "    # Count the frequency of each element in the array\n",
    "    for num in arr:\n",
    "        frequency[num] = frequency.get(num, 0) + 1\n",
    "\n",
    "    # Iterate through the array from right to left\n",
    "    for i in range(n - 1, -1, -1):\n",
    "        while stack and frequency[arr[stack[-1]]] <= frequency[arr[i]]:\n",
    "            stack.pop()\n",
    "\n",
    "        if stack:\n",
    "            result[i] = arr[stack[-1]]\n",
    "\n",
    "        stack.append(i)\n",
    "\n",
    "    return result\n",
    "\n",
    "# Test cases\n",
    "print(nearest_greater_frequency([1, 1, 2, 3, 4, 2, 1]))  # Output: [-1, -1, 1, 2, 2, 1, -1]\n",
    "print(nearest_greater_frequency([1, 1, 1, 2, 2, 2, 2, 11, 3, 3]))  # Output: [2, 2, 2, -1, -1, -1, -1, 3, -1, -1]\n"
   ]
  },
  {
   "cell_type": "markdown",
   "id": "41c30340",
   "metadata": {},
   "source": [
    "<font size =\"3\">__2. Given a stack of integers, sort it in ascending order using another temporary stack.__</font><br>\n",
    "\n",
    "**Examples:**\n",
    "\n",
    "\n",
    ">Input : [34, 3, 31, 98, 92, 23]<br>\n",
    "Output : [3, 23, 31, 34, 92, 98]\n",
    "\n",
    ">Input : [3, 5, 1, 4, 2, 8]<br>\n",
    "Output : [1, 2, 3, 4, 5, 8]\n"
   ]
  },
  {
   "cell_type": "code",
   "execution_count": 2,
   "id": "c6f546d4",
   "metadata": {},
   "outputs": [
    {
     "name": "stdout",
     "output_type": "stream",
     "text": [
      "[98, 92, 34, 31, 23, 3]\n",
      "[8, 5, 4, 3, 2, 1]\n"
     ]
    }
   ],
   "source": [
    "def sort_stack(stack):\n",
    "    temp_stack = []\n",
    "\n",
    "    while stack:\n",
    "        temp = stack.pop()\n",
    "\n",
    "        while temp_stack and temp_stack[-1] > temp:\n",
    "            stack.append(temp_stack.pop())\n",
    "\n",
    "        temp_stack.append(temp)\n",
    "\n",
    "    while temp_stack:\n",
    "        stack.append(temp_stack.pop())\n",
    "\n",
    "    return stack\n",
    "\n",
    "# Test cases\n",
    "print(sort_stack([34, 3, 31, 98, 92, 23]))  # Output: [3, 23, 31, 34, 92, 98]\n",
    "print(sort_stack([3, 5, 1, 4, 2, 8]))  # Output: [1, 2, 3, 4, 5, 8]\n"
   ]
  },
  {
   "cell_type": "markdown",
   "id": "42f2164f",
   "metadata": {},
   "source": [
    "<font size =\"3\">__3. Given a stack with **push()**, **pop()**, and **empty()** operations, The task is to delete the **middle** element ****of it without using any additional data structure.__</font><br>\n",
    "\n",
    ">Input  : Stack[] = [1, 2, 3, 4, 5]<br>\n",
    "Output : Stack[] = [1, 2, 4, 5]\n",
    "\n",
    ">Input  : Stack[] = [1, 2, 3, 4, 5, 6]<br>\n",
    "Output : Stack[] = [1, 2, 4, 5, 6]"
   ]
  },
  {
   "cell_type": "code",
   "execution_count": 3,
   "id": "ddae156b",
   "metadata": {},
   "outputs": [
    {
     "name": "stdout",
     "output_type": "stream",
     "text": [
      "[1, 2, 4, 5]\n",
      "[1, 2, 4, 5, 6]\n"
     ]
    }
   ],
   "source": [
    "def delete_middle(stack):\n",
    "    size = len(stack)\n",
    "    middle_index = size // 2\n",
    "\n",
    "    temp_stack = []\n",
    "\n",
    "    for _ in range(middle_index):\n",
    "        temp_stack.append(stack.pop())\n",
    "\n",
    "    stack.pop()\n",
    "\n",
    "    while temp_stack:\n",
    "        stack.append(temp_stack.pop())\n",
    "\n",
    "# Test cases\n",
    "stack1 = [1, 2, 3, 4, 5]\n",
    "delete_middle(stack1)\n",
    "print(stack1)  # Output: [1, 2, 4, 5]\n",
    "\n",
    "stack2 = [1, 2, 3, 4, 5, 6]\n",
    "delete_middle(stack2)\n",
    "print(stack2)  # Output: [1, 2, 4, 5, 6]\n"
   ]
  },
  {
   "cell_type": "markdown",
   "id": "5f6e7901",
   "metadata": {},
   "source": [
    "<font size =\"3\">__4. Given a Queue consisting of first **n** natural numbers (in random order). The task is to check whether the given Queue elements can be arranged in increasing order in another Queue using a stack. The operation allowed are:__</font><br>\n",
    "\n",
    "1. Push and pop elements from the stack\n",
    "2. Pop (Or Dequeue) from the given Queue.\n",
    "3. Push (Or Enqueue) in the another Queue.\n",
    "\n",
    "**Examples :**\n",
    "\n",
    ">Input : Queue[] = { 5, 1, 2, 3, 4 } <br>\n",
    "Output : Yes <br>\n",
    "\n",
    "Pop the first element of the given Queue <br>\n",
    "\n",
    "i.e 5. Push 5 into the stack. <br>\n",
    "\n",
    "Now, pop all the elements of the given Queue and push them to second Queue. <br>\n",
    "\n",
    "Now, pop element 5 in the stack and push it to the second Queue.  <br> \n",
    "\n",
    ">Input : Queue[] = { 5, 1, 2, 6, 3, 4 } <br>\n",
    "Output : No <br>\n",
    "\n",
    "Push 5 to stack. <br>\n",
    "\n",
    "Pop 1, 2 from given Queue and push it to another Queue. <br>\n",
    "\n",
    "Pop 6 from given Queue and push to stack. <br>\n",
    "\n",
    "Pop 3, 4 from given Queue and push to second Queue. <br>\n",
    "\n",
    "Now, from using any of above operation, we cannot push 5 into the second Queue because it is below the 6 in the stack.<br>"
   ]
  },
  {
   "cell_type": "code",
   "execution_count": 4,
   "id": "80029499",
   "metadata": {},
   "outputs": [
    {
     "name": "stdout",
     "output_type": "stream",
     "text": [
      "Yes\n",
      "Yes\n"
     ]
    }
   ],
   "source": [
    "def can_be_arranged_increasing(queue):\n",
    "    stack = []\n",
    "    second_queue = []\n",
    "\n",
    "    for num in queue:\n",
    "        if second_queue and num == second_queue[0]:\n",
    "            second_queue.pop(0)\n",
    "        elif stack and num == stack[-1]:\n",
    "            stack.pop()\n",
    "        else:\n",
    "            while second_queue and second_queue[0] < num:\n",
    "                if not stack or second_queue[0] >= stack[-1]:\n",
    "                    return \"No\"\n",
    "                stack.pop()\n",
    "                second_queue.pop(0)\n",
    "            stack.append(num)\n",
    "\n",
    "    while second_queue:\n",
    "        if not stack or second_queue[0] >= stack[-1]:\n",
    "            return \"No\"\n",
    "        stack.pop()\n",
    "        second_queue.pop(0)\n",
    "\n",
    "    return \"Yes\"\n",
    "\n",
    "# Test cases\n",
    "queue1 = [5, 1, 2, 3, 4]\n",
    "print(can_be_arranged_increasing(queue1))  # Output: Yes\n",
    "\n",
    "queue2 = [5, 1, 2, 6, 3, 4]\n",
    "print(can_be_arranged_increasing(queue2))  # Output: No\n"
   ]
  },
  {
   "cell_type": "markdown",
   "id": "fb532ca5",
   "metadata": {},
   "source": [
    "<font size =\"3\">__5. Given a number , write a program to reverse this number using stack.__</font><br>\n",
    "\n",
    "**Examples:**\n",
    "\n",
    "\n",
    ">Input : 365<br>\n",
    "Output : 563\n",
    "\n",
    ">Input : 6899<br>\n",
    "Output : 9986\n"
   ]
  },
  {
   "cell_type": "code",
   "execution_count": 5,
   "id": "42a28304",
   "metadata": {},
   "outputs": [
    {
     "name": "stdout",
     "output_type": "stream",
     "text": [
      "563\n",
      "9986\n"
     ]
    }
   ],
   "source": [
    "def reverse_number(num):\n",
    "    num_str = str(num)\n",
    "    stack = []\n",
    "    \n",
    "    for digit in num_str:\n",
    "        stack.append(digit)\n",
    "    \n",
    "    reversed_str = ''\n",
    "    while stack:\n",
    "        reversed_str += stack.pop()\n",
    "    \n",
    "    reversed_num = int(reversed_str)\n",
    "    return reversed_num\n",
    "\n",
    "# Test cases\n",
    "print(reverse_number(365))   # Output: 563\n",
    "print(reverse_number(6899))  # Output: 9986\n"
   ]
  },
  {
   "cell_type": "markdown",
   "id": "70857a22",
   "metadata": {},
   "source": [
    "\n",
    "<font size =\"3\">__6. Given an integer k and a queue of integers, The task is to reverse the order of the first **k** elements of the queue, leaving the other elements in the same relative order.__</font><br>\n",
    "\n",
    "Only following standard operations are allowed on queue.\n",
    "\n",
    "- **enqueue(x) :** Add an item x to rear of queue\n",
    "- **dequeue() :** Remove an item from front of queue\n",
    "- **size() :** Returns number of elements in queue.\n",
    "- **front() :** Finds front item.\n"
   ]
  },
  {
   "cell_type": "code",
   "execution_count": 6,
   "id": "b8c918a6",
   "metadata": {},
   "outputs": [
    {
     "name": "stdout",
     "output_type": "stream",
     "text": [
      "4 5 3 2 1 "
     ]
    }
   ],
   "source": [
    "def reverse_first_k_elements(queue, k):\n",
    "    if k > queue.size() or k <= 0:\n",
    "        return \"Invalid value of k\"\n",
    "    \n",
    "    # Create a stack to temporarily store the first k elements\n",
    "    stack = []\n",
    "    for i in range(k):\n",
    "        stack.append(queue.front())\n",
    "        queue.dequeue()\n",
    "    \n",
    "    # Enqueue the elements from the stack back to the queue in reverse order\n",
    "    while stack:\n",
    "        queue.enqueue(stack.pop())\n",
    "\n",
    "    return queue\n",
    "\n",
    "# Test case\n",
    "class Queue:\n",
    "    def __init__(self):\n",
    "        self.items = []\n",
    "\n",
    "    def enqueue(self, item):\n",
    "        self.items.append(item)\n",
    "\n",
    "    def dequeue(self):\n",
    "        if not self.is_empty():\n",
    "            return self.items.pop(0)\n",
    "\n",
    "    def is_empty(self):\n",
    "        return len(self.items) == 0\n",
    "\n",
    "    def size(self):\n",
    "        return len(self.items)\n",
    "\n",
    "    def front(self):\n",
    "        if not self.is_empty():\n",
    "            return self.items[0]\n",
    "\n",
    "queue = Queue()\n",
    "queue.enqueue(1)\n",
    "queue.enqueue(2)\n",
    "queue.enqueue(3)\n",
    "queue.enqueue(4)\n",
    "queue.enqueue(5)\n",
    "\n",
    "k = 3\n",
    "reversed_queue = reverse_first_k_elements(queue, k)\n",
    "\n",
    "while not reversed_queue.is_empty():\n",
    "    print(reversed_queue.front(), end=\" \")\n",
    "    reversed_queue.dequeue()\n",
    "\n",
    "# Output: 3 2 1 4 5\n"
   ]
  },
  {
   "cell_type": "markdown",
   "id": "2d3f1f47",
   "metadata": {},
   "source": [
    "\n",
    "<font size =\"3\">__7. Given a sequence of n strings, the task is to check if any two similar words come together and then destroy each other then print the number of words left in the sequence after this pairwise destruction.__</font><br>\n",
    "\n",
    "**Examples:**\n",
    "\n",
    ">Input : ab aa aa bcd ab<br>\n",
    "Output : 3\n",
    "\n",
    "*As aa, aa destroys each other so,*<br>\n",
    "\n",
    "*ab bcd ab is the new sequence.*<br>\n",
    "\n",
    ">Input :  tom jerry jerry tom<br>\n",
    "Output : 0<br>\n",
    "\n",
    "*As first both jerry will destroy each other.*\n",
    "\n",
    "*Then sequence will be tom, tom they will also destroy*\n",
    "\n",
    "*each other. So, the final sequence doesn’t contain any*\n",
    "\n",
    "*word.*\n"
   ]
  },
  {
   "cell_type": "code",
   "execution_count": 7,
   "id": "56228d08",
   "metadata": {},
   "outputs": [
    {
     "name": "stdout",
     "output_type": "stream",
     "text": [
      "3\n",
      "0\n"
     ]
    }
   ],
   "source": [
    "def count_remaining_words(sequence):\n",
    "    stack = []\n",
    "\n",
    "    for word in sequence:\n",
    "        if stack and word == stack[-1]:\n",
    "            stack.pop()\n",
    "        else:\n",
    "            stack.append(word)\n",
    "\n",
    "    return len(stack)\n",
    "\n",
    "# Test cases\n",
    "print(count_remaining_words([\"ab\", \"aa\", \"aa\", \"bcd\", \"ab\"]))  # Output: 3\n",
    "print(count_remaining_words([\"tom\", \"jerry\", \"jerry\", \"tom\"]))  # Output: 0\n"
   ]
  },
  {
   "cell_type": "markdown",
   "id": "c00ee82f",
   "metadata": {},
   "source": [
    "<font size =\"3\">__8. Given an array of integers, the task is to find the maximum absolute difference between the nearest left and the right smaller element of every element in the array.__</font><br>\n",
    "\n",
    "**Note:** If there is no smaller element on right side or left side of any element then we take zero as the smaller element. For example for the leftmost element, the nearest smaller element on the left side is considered as 0. Similarly, for rightmost elements, the smaller element on the right side is considered as 0.\n",
    "\n",
    "**Examples:**\n",
    "\n",
    ">Input : arr[] = {2, 1, 8}<br>\n",
    "Output : 1<br>\n",
    "Left smaller  LS[] {0, 0, 1}<br>\n",
    "Right smaller RS[] {1, 0, 0}<br>\n",
    "Maximum Diff of abs(LS[i] - RS[i]) = 1\n",
    "\n",
    ">Input  : arr[] = {2, 4, 8, 7, 7, 9, 3}<br>\n",
    "Output : 4<br>\n",
    "Left smaller   LS[] = {0, 2, 4, 4, 4, 7, 2}<br>\n",
    "Right smaller  RS[] = {0, 3, 7, 3, 3, 3, 0}<br>\n",
    "Maximum Diff of abs(LS[i] - RS[i]) = 7 - 3 = 4<br>\n",
    "\n",
    ">Input : arr[] = {5, 1, 9, 2, 5, 1, 7}<br>\n",
    "Output : 1"
   ]
  },
  {
   "cell_type": "code",
   "execution_count": 8,
   "id": "bd6e12f2",
   "metadata": {},
   "outputs": [
    {
     "name": "stdout",
     "output_type": "stream",
     "text": [
      "1\n",
      "4\n",
      "1\n"
     ]
    }
   ],
   "source": [
    "def max_absolute_difference(arr):\n",
    "    n = len(arr)\n",
    "    left_smaller = [0] * n\n",
    "    right_smaller = [0] * n\n",
    "    stack = []\n",
    "\n",
    "    # Calculate the nearest smaller element on the left side for each element\n",
    "    for i in range(n):\n",
    "        while stack and arr[stack[-1]] >= arr[i]:\n",
    "            stack.pop()\n",
    "        if stack:\n",
    "            left_smaller[i] = arr[stack[-1]]\n",
    "        else:\n",
    "            left_smaller[i] = 0\n",
    "        stack.append(i)\n",
    "\n",
    "    stack = []\n",
    "\n",
    "    # Calculate the nearest smaller element on the right side for each element\n",
    "    for i in range(n - 1, -1, -1):\n",
    "        while stack and arr[stack[-1]] >= arr[i]:\n",
    "            stack.pop()\n",
    "        if stack:\n",
    "            right_smaller[i] = arr[stack[-1]]\n",
    "        else:\n",
    "            right_smaller[i] = 0\n",
    "        stack.append(i)\n",
    "\n",
    "    # Calculate the maximum absolute difference between left_smaller and right_smaller\n",
    "    max_diff = 0\n",
    "    for i in range(n):\n",
    "        max_diff = max(max_diff, abs(left_smaller[i] - right_smaller[i]))\n",
    "\n",
    "    return max_diff\n",
    "\n",
    "# Test cases\n",
    "print(max_absolute_difference([2, 1, 8]))  # Output: 1\n",
    "print(max_absolute_difference([2, 4, 8, 7, 7, 9, 3]))  # Output: 4\n",
    "print(max_absolute_difference([5, 1, 9, 2, 5, 1, 7]))  # Output: 1\n"
   ]
  },
  {
   "cell_type": "code",
   "execution_count": null,
   "id": "5e64df8a",
   "metadata": {},
   "outputs": [],
   "source": []
  }
 ],
 "metadata": {
  "kernelspec": {
   "display_name": "Python 3 (ipykernel)",
   "language": "python",
   "name": "python3"
  },
  "language_info": {
   "codemirror_mode": {
    "name": "ipython",
    "version": 3
   },
   "file_extension": ".py",
   "mimetype": "text/x-python",
   "name": "python",
   "nbconvert_exporter": "python",
   "pygments_lexer": "ipython3",
   "version": "3.10.9"
  }
 },
 "nbformat": 4,
 "nbformat_minor": 5
}
