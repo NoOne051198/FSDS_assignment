{
 "cells": [
  {
   "cell_type": "markdown",
   "id": "a7f75273",
   "metadata": {},
   "source": [
    "# Assignment - 06"
   ]
  },
  {
   "cell_type": "markdown",
   "id": "441cda6f",
   "metadata": {},
   "source": [
    "<font size = \"3\">__1. A permutation perm of n + 1 integers of all the integers in the range [0, n] can be represented as a string s of length n where:__</font>\n",
    "\n",
    "- s[i] == 'I' if perm[i] < perm[i + 1], and\n",
    "- s[i] == 'D' if perm[i] > perm[i + 1].\n",
    "\n",
    "Given a string s, reconstruct the permutation perm and return it. If there are multiple valid permutations perm, return **any of them**.\n",
    "\n",
    "**Example 1:**\n",
    "\n",
    ">Input: s = \"IDID\"<br>\n",
    ">Output: [0,4,1,3,2]"
   ]
  },
  {
   "cell_type": "code",
   "execution_count": 1,
   "id": "30f67d8a",
   "metadata": {},
   "outputs": [
    {
     "name": "stdout",
     "output_type": "stream",
     "text": [
      "[0, 4, 1, 3, 2]\n"
     ]
    }
   ],
   "source": [
    "# Function definition \n",
    "def findPermutation(s):\n",
    "    n = len(s)\n",
    "    result = []\n",
    "    left, right = 0, n\n",
    "    for ch in s:\n",
    "        if ch == 'I':\n",
    "            result.append(left)\n",
    "            left += 1\n",
    "        elif ch == 'D':\n",
    "            result.append(right)\n",
    "            right -= 1\n",
    "    result.append(left)  # or right, both will be the same at this point\n",
    "    return result\n",
    "\n",
    "# Driver code\n",
    "s = \"IDID\"\n",
    "result = findPermutation(s)\n",
    "print(result)  # Output: [0, 4, 1, 3, 2]"
   ]
  },
  {
   "cell_type": "markdown",
   "id": "6036dcc8",
   "metadata": {},
   "source": [
    "<font size = \"3\">__2. You are given an m x n integer matrix matrix with the following two properties:__</font>\n",
    "\n",
    "- Each row is sorted in non-decreasing order.\n",
    "- The first integer of each row is greater than the last integer of the previous row.\n",
    "\n",
    "Given an integer target, return true *if* target *is in* matrix *or* false *otherwise*.\n",
    "\n",
    "You must write a solution in O(log(m * n)) time complexity.\n",
    "\n",
    "**Example 1:**\n",
    "\n",
    ">Input: matrix = [[1,3,5,7],[10,11,16,20],[23,30,34,60]], target = 3<br>\n",
    ">Output: true"
   ]
  },
  {
   "cell_type": "code",
   "execution_count": 2,
   "id": "30c025f2",
   "metadata": {},
   "outputs": [
    {
     "name": "stdout",
     "output_type": "stream",
     "text": [
      "True\n"
     ]
    }
   ],
   "source": [
    "# Function definition \n",
    "def searchMatrix(matrix, target):\n",
    "    m, n = len(matrix), len(matrix[0])\n",
    "    left = 0\n",
    "    right = m * n - 1\n",
    "    while left <= right:\n",
    "        mid = (left + right) // 2\n",
    "        row = mid // n\n",
    "        col = mid % n\n",
    "        if matrix[row][col] == target:\n",
    "            return True\n",
    "        elif matrix[row][col] < target:\n",
    "            left = mid + 1\n",
    "        else:\n",
    "            right = mid - 1\n",
    "    return False\n",
    "\n",
    "# Driver code\n",
    "matrix = [[1, 3, 5, 7], [10, 11, 16, 20], [23, 30, 34, 60]]\n",
    "target = 3\n",
    "result = searchMatrix(matrix, target)\n",
    "print(result)  # Output: True\n"
   ]
  },
  {
   "cell_type": "markdown",
   "id": "c79401c8",
   "metadata": {},
   "source": [
    "<font size = \"3\">__3. Given an array of integers arr, return true if and only if it is a valid mountain array.__</font>\n",
    "\n",
    "Recall that arr is a mountain array if and only if:\n",
    "\n",
    "- arr.length >= 3\n",
    "- There exists some i with 0 < i < arr.length - 1 such that:\n",
    "    - arr[0] < arr[1] < ... < arr[i - 1] < arr[i]\n",
    "    - arr[i] > arr[i + 1] > ... > arr[arr.length - 1]\n",
    "    \n",
    "**Example 1:**\n",
    ">Input: arr = [2,1]<br>\n",
    ">Output: false"
   ]
  },
  {
   "cell_type": "code",
   "execution_count": 3,
   "id": "a56deaa2",
   "metadata": {},
   "outputs": [
    {
     "name": "stdout",
     "output_type": "stream",
     "text": [
      "False\n"
     ]
    }
   ],
   "source": [
    "# Function definition \n",
    "def validMountainArray(arr):\n",
    "    n = len(arr)\n",
    "    if n < 3:\n",
    "        return False\n",
    "\n",
    "    left = 0\n",
    "    right = n - 1\n",
    "\n",
    "    while left < right:\n",
    "        if arr[left] >= arr[left + 1] or arr[right] >= arr[right - 1]:\n",
    "            return False\n",
    "\n",
    "        left += 1\n",
    "        right -= 1\n",
    "\n",
    "    return True\n",
    "\n",
    "# Driver code\n",
    "arr = [2, 1]\n",
    "result = validMountainArray(arr)\n",
    "print(result)  # Output: False\n"
   ]
  },
  {
   "cell_type": "markdown",
   "id": "014c22c8",
   "metadata": {},
   "source": [
    "<font size = \"3\">__4. Given a binary array nums, return the maximum length of a contiguous subarray with an equal number of 0 and 1.__</font>\n",
    "\n",
    "**Example 1:**\n",
    "\n",
    ">Input: nums = [0,1]<br>\n",
    ">Output: 2\n",
    "\n",
    "**Explanation:**\n",
    "\n",
    "`[0, 1] is the longest contiguous subarray with an equal number of 0 and 1.`"
   ]
  },
  {
   "cell_type": "code",
   "execution_count": 4,
   "id": "f4194fe8",
   "metadata": {},
   "outputs": [
    {
     "name": "stdout",
     "output_type": "stream",
     "text": [
      "2\n"
     ]
    }
   ],
   "source": [
    "# Function definition \n",
    "def findMaxLength(nums):\n",
    "    count = 0\n",
    "    max_length = 0\n",
    "    seen = {0: -1}\n",
    "\n",
    "    for i in range(len(nums)):\n",
    "        count += 1 if nums[i] == 1 else -1\n",
    "\n",
    "        if count in seen:\n",
    "            max_length = max(max_length, i - seen[count])\n",
    "        else:\n",
    "            seen[count] = i\n",
    "\n",
    "    return max_length\n",
    "\n",
    "# Driver code\n",
    "nums = [0, 1]\n",
    "result = findMaxLength(nums)\n",
    "print(result)  # Output: 2\n"
   ]
  },
  {
   "cell_type": "markdown",
   "id": "05957f31",
   "metadata": {},
   "source": [
    "<font size = \"3\">__5. The product sum of two equal-length arrays a and b is equal to the sum of__</font> `a[i] * b[i] for all 0 <= i < a.length (**0-indexed**)`.\n",
    "\n",
    "- For example, if a = [1,2,3,4] and b = [5,2,3,1], the **product sum** would be 1*5 + 2*2 + 3*3 + 4*1 = 22.\n",
    "\n",
    "Given two arrays nums1 and nums2 of length n, return the **minimum product sum** if you are allowed to **rearrange** the **order** of the elements in nums1.\n",
    "\n",
    "**Example 1:**\n",
    "\n",
    ">Input: nums1 = [5,3,4,2], nums2 = [4,2,2,5]<br>\n",
    ">Output: 40\n",
    "\n",
    "**Explanation:**\n",
    "\n",
    "`We can rearrange nums1 to become [3,5,4,2]. The product sum of [3,5,4,2] and [4,2,2,5] is 3*4 + 5*2 + 4*2 + 2*5 = 40.`"
   ]
  },
  {
   "cell_type": "code",
   "execution_count": 5,
   "id": "16905946",
   "metadata": {},
   "outputs": [
    {
     "name": "stdout",
     "output_type": "stream",
     "text": [
      "40\n"
     ]
    }
   ],
   "source": [
    "# Function definition \n",
    "def minProductSum(nums1, nums2):\n",
    "    nums1.sort()\n",
    "    nums2.sort(reverse=True)\n",
    "\n",
    "    min_product_sum = 0\n",
    "    for i in range(len(nums1)):\n",
    "        min_product_sum += nums1[i] * nums2[i]\n",
    "\n",
    "    return min_product_sum\n",
    "\n",
    "# Driver code\n",
    "nums1 = [5, 3, 4, 2]\n",
    "nums2 = [4, 2, 2, 5]\n",
    "result = minProductSum(nums1, nums2)\n",
    "print(result)  # Output: 40\n"
   ]
  },
  {
   "cell_type": "markdown",
   "id": "83652f50",
   "metadata": {},
   "source": [
    "<font size = \"3\">__6. An integer array original is transformed into a doubled array changed by appending twice the value of every element in original, and then randomly shuffling the resulting array.__</font>\n",
    "\n",
    "Given an array changed, return original if changed is a **doubled** array. If changed is not a **doubled** array, return an empty array. The elements in original may be returned in **any** order.\n",
    "\n",
    "**Example 1:**\n",
    "\n",
    ">Input: changed = [1,3,4,2,6,8]<br>\n",
    ">Output: [1,3,4]\n",
    "\n",
    "**Explanation:** One possible original array could be [1,3,4]:\n",
    "\n",
    "- Twice the value of 1 is 1 * 2 = 2.\n",
    "- Twice the value of 3 is 3 * 2 = 6.\n",
    "- Twice the value of 4 is 4 * 2 = 8.\n",
    "\n",
    "Other original arrays could be [4,3,1] or [3,1,4]."
   ]
  },
  {
   "cell_type": "code",
   "execution_count": 6,
   "id": "41be7269",
   "metadata": {},
   "outputs": [
    {
     "name": "stdout",
     "output_type": "stream",
     "text": [
      "[1, 3, 4]\n"
     ]
    }
   ],
   "source": [
    "# Function definition \n",
    "from collections import defaultdict\n",
    "\n",
    "def findOriginalArray(changed):\n",
    "    if len(changed) % 2 != 0:\n",
    "        return []\n",
    "\n",
    "    counts = defaultdict(int)\n",
    "    for num in changed:\n",
    "        counts[num] += 1\n",
    "\n",
    "    original = []\n",
    "    for num in changed:\n",
    "        if counts[num] > 0 and counts[2*num] > 0:\n",
    "            original.append(num)\n",
    "            counts[num] -= 1\n",
    "            counts[2*num] -= 1\n",
    "\n",
    "    return original if len(original) == len(changed) // 2 else []\n",
    "\n",
    "# Driver code\n",
    "changed = [1, 3, 4, 2, 6, 8]\n",
    "result = findOriginalArray(changed)\n",
    "print(result)  # Output: [1, 3, 4]\n"
   ]
  },
  {
   "cell_type": "markdown",
   "id": "328bf7de",
   "metadata": {},
   "source": [
    "<font size = \"3\">__7. Given a positive integer n, generate an n x n matrix filled with elements from 1 to n2 in spiral order.__</font>\n",
    "\n",
    "**Example 1:**\n",
    ">Input: n = 3<br>\n",
    ">Output: [[1,2,3],[8,9,4],[7,6,5]]"
   ]
  },
  {
   "cell_type": "code",
   "execution_count": 7,
   "id": "179103bd",
   "metadata": {},
   "outputs": [
    {
     "name": "stdout",
     "output_type": "stream",
     "text": [
      "[[1, 2, 3], [8, 9, 4], [7, 6, 5]]\n"
     ]
    }
   ],
   "source": [
    "# Function definition \n",
    "def generateMatrix(n):\n",
    "    matrix = [[0] * n for _ in range(n)]\n",
    "    num = 1\n",
    "    row, col = 0, 0\n",
    "    direction = \"right\"\n",
    "\n",
    "    for _ in range(n * n):\n",
    "        matrix[row][col] = num\n",
    "        num += 1\n",
    "\n",
    "        if direction == \"right\":\n",
    "            if col + 1 < n and matrix[row][col + 1] == 0:\n",
    "                col += 1\n",
    "            else:\n",
    "                direction = \"down\"\n",
    "                row += 1\n",
    "        elif direction == \"down\":\n",
    "            if row + 1 < n and matrix[row + 1][col] == 0:\n",
    "                row += 1\n",
    "            else:\n",
    "                direction = \"left\"\n",
    "                col -= 1\n",
    "        elif direction == \"left\":\n",
    "            if col - 1 >= 0 and matrix[row][col - 1] == 0:\n",
    "                col -= 1\n",
    "            else:\n",
    "                direction = \"up\"\n",
    "                row -= 1\n",
    "        elif direction == \"up\":\n",
    "            if row - 1 >= 0 and matrix[row - 1][col] == 0:\n",
    "                row -= 1\n",
    "            else:\n",
    "                direction = \"right\"\n",
    "                col += 1\n",
    "\n",
    "    return matrix\n",
    "\n",
    "# Driver code \n",
    "n = 3\n",
    "result = generateMatrix(n)\n",
    "print(result)  # Output: [[1, 2, 3], [8, 9, 4], [7, 6, 5]]\n"
   ]
  },
  {
   "cell_type": "markdown",
   "id": "6503c874",
   "metadata": {},
   "source": [
    "<font size = \"3\">__8. Given two sparse matrices mat1 of size m x k and mat2 of size k x n, return the result of mat1 x mat2. You may assume that multiplication is always possible.__</font>\n",
    "\n",
    "**Example 1:**\n",
    ">Input: mat1 = [[1,0,0],[-1,0,3]], mat2 = [[7,0,0],[0,0,0],[0,0,1]]<br>\n",
    ">Output: [[7,0,0],[-7,0,3]]"
   ]
  },
  {
   "cell_type": "code",
   "execution_count": 8,
   "id": "8c7fb7f3",
   "metadata": {},
   "outputs": [
    {
     "name": "stdout",
     "output_type": "stream",
     "text": [
      "[[7, 0, 0], [-7, 0, 3]]\n"
     ]
    }
   ],
   "source": [
    "# Function definition \n",
    "def multiply(mat1, mat2):\n",
    "    m, k = len(mat1), len(mat1[0])\n",
    "    k, n = len(mat2), len(mat2[0])\n",
    "\n",
    "    result = [[0] * n for _ in range(m)]\n",
    "\n",
    "    for i in range(m):\n",
    "        for j in range(n):\n",
    "            for p in range(k):\n",
    "                result[i][j] += mat1[i][p] * mat2[p][j]\n",
    "\n",
    "    return result\n",
    "\n",
    "# Driver code\n",
    "mat1 = [[1, 0, 0], [-1, 0, 3]]\n",
    "mat2 = [[7, 0, 0], [0, 0, 0], [0, 0, 1]]\n",
    "\n",
    "result = multiply(mat1, mat2)\n",
    "print(result)  # Output: [[7, 0, 0], [-7, 0, 3]]\n"
   ]
  },
  {
   "cell_type": "markdown",
   "id": "ba597d3d",
   "metadata": {},
   "source": []
  }
 ],
 "metadata": {
  "kernelspec": {
   "display_name": "Python 3 (ipykernel)",
   "language": "python",
   "name": "python3"
  },
  "language_info": {
   "codemirror_mode": {
    "name": "ipython",
    "version": 3
   },
   "file_extension": ".py",
   "mimetype": "text/x-python",
   "name": "python",
   "nbconvert_exporter": "python",
   "pygments_lexer": "ipython3",
   "version": "3.10.9"
  }
 },
 "nbformat": 4,
 "nbformat_minor": 5
}
