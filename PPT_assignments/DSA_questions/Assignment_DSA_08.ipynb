{
 "cells": [
  {
   "cell_type": "markdown",
   "id": "89927549",
   "metadata": {},
   "source": [
    "# Assignment - 08"
   ]
  },
  {
   "cell_type": "markdown",
   "id": "cd055266",
   "metadata": {},
   "source": [
    "<font size = \"3\">__1. Given two strings s1 and s2, return *the lowest ASCII sum of deleted characters to make two strings equal.__</font>\n",
    "\n",
    "**Example 1:**\n",
    "\n",
    ">Input: s1 = \"sea\", s2 = \"eat\"<br>\n",
    ">Output: 231\n",
    "\n",
    "**Explanation:** `Deleting \"s\" from \"sea\" adds the ASCII value of \"s\" (115) to the sum.`\n",
    "\n",
    "`Deleting \"t\" from \"eat\" adds 116 to the sum.`\n",
    "\n",
    "At the end, both strings are equal, and 115 + 116 = 231 is the minimum sum possible to achieve this."
   ]
  },
  {
   "cell_type": "code",
   "execution_count": 1,
   "id": "72f2436e",
   "metadata": {},
   "outputs": [
    {
     "name": "stdout",
     "output_type": "stream",
     "text": [
      "231\n"
     ]
    }
   ],
   "source": [
    "# Function definition \n",
    "def minimumDeleteSum(s1, s2):\n",
    "    m, n = len(s1), len(s2)\n",
    "    dp = [[0] * (n + 1) for _ in range(m + 1)]\n",
    "\n",
    "    # Initialize base cases for empty strings\n",
    "    for i in range(1, m + 1):\n",
    "        dp[i][0] = dp[i-1][0] + ord(s1[i-1])\n",
    "    for j in range(1, n + 1):\n",
    "        dp[0][j] = dp[0][j-1] + ord(s2[j-1])\n",
    "\n",
    "    # Fill the dp matrix\n",
    "    for i in range(1, m + 1):\n",
    "        for j in range(1, n + 1):\n",
    "            if s1[i-1] == s2[j-1]:\n",
    "                dp[i][j] = dp[i-1][j-1]\n",
    "            else:\n",
    "                dp[i][j] = min(dp[i-1][j] + ord(s1[i-1]), dp[i][j-1] + ord(s2[j-1]))\n",
    "\n",
    "    return dp[m][n]\n",
    "\n",
    "# Driver code\n",
    "s1 = \"sea\"\n",
    "s2 = \"eat\"\n",
    "print(minimumDeleteSum(s1, s2))  # Output: 231\n"
   ]
  },
  {
   "cell_type": "markdown",
   "id": "42fa5082",
   "metadata": {},
   "source": [
    "<font size = \"3\">__2. Given a string s containing only three types of characters: '(', ')' and '*', return true if s is valid.__</font>\n",
    "\n",
    "The following rules define a **valid** string:\n",
    "\n",
    "- Any left parenthesis '(' must have a corresponding right parenthesis ')'.\n",
    "- Any right parenthesis ')' must have a corresponding left parenthesis '('.\n",
    "- Left parenthesis '(' must go before the corresponding right parenthesis ')'.\n",
    "- '*' could be treated as a single right parenthesis ')' or a single left parenthesis '(' or an empty string \"\".\n",
    "\n",
    "**Example 1:**\n",
    "\n",
    ">Input: s = \"()\"<br>\n",
    ">Output: true"
   ]
  },
  {
   "cell_type": "code",
   "execution_count": 2,
   "id": "4c7d4305",
   "metadata": {},
   "outputs": [
    {
     "name": "stdout",
     "output_type": "stream",
     "text": [
      "True\n"
     ]
    }
   ],
   "source": [
    "# Function definition \n",
    "def isValid(s):\n",
    "    stack = []\n",
    "\n",
    "    for c in s:\n",
    "        if c in '(*':\n",
    "            stack.append(c)\n",
    "        elif c == ')':\n",
    "            if stack and stack[-1] == '(':\n",
    "                stack.pop()\n",
    "            elif stack and stack[-1] == '*':\n",
    "                stack.pop()\n",
    "                if stack and stack[-1] == '(':\n",
    "                    stack.pop()\n",
    "            else:\n",
    "                return False\n",
    "\n",
    "    while stack:\n",
    "        if stack[-1] == '(':\n",
    "            if len(stack) >= 2 and stack[-2] == '*':\n",
    "                stack.pop()\n",
    "                stack.pop()\n",
    "            else:\n",
    "                return False\n",
    "        else:\n",
    "            return False\n",
    "\n",
    "    return True\n",
    "\n",
    "# Driver code \n",
    "s = \"()\"\n",
    "print(isValid(s))  # Output: True\n"
   ]
  },
  {
   "cell_type": "markdown",
   "id": "8279457e",
   "metadata": {},
   "source": [
    "<font size = \"3\">__3. Given two strings word1 and word2, return *the minimum number of steps required to make word1 and word2 the same.__</font>\n",
    "\n",
    "In one **step**, you can delete exactly one character in either string.\n",
    "\n",
    "**Example 1:**\n",
    "\n",
    ">Input: word1 = \"sea\", word2 = \"eat\"<br>\n",
    ">Output: 2\n",
    "\n",
    "**Explanation:** `You need one step to make \"sea\" to \"ea\" and another step to make \"eat\" to \"ea\".`"
   ]
  },
  {
   "cell_type": "code",
   "execution_count": 3,
   "id": "b20f71b8",
   "metadata": {},
   "outputs": [
    {
     "name": "stdout",
     "output_type": "stream",
     "text": [
      "2\n"
     ]
    }
   ],
   "source": [
    "# Function definition \n",
    "def minDistance(word1, word2):\n",
    "    m, n = len(word1), len(word2)\n",
    "    dp = [[0] * (n + 1) for _ in range(m + 1)]\n",
    "\n",
    "    for i in range(m + 1):\n",
    "        dp[i][0] = i\n",
    "\n",
    "    for j in range(n + 1):\n",
    "        dp[0][j] = j\n",
    "\n",
    "    for i in range(1, m + 1):\n",
    "        for j in range(1, n + 1):\n",
    "            if word1[i - 1] == word2[j - 1]:\n",
    "                dp[i][j] = dp[i - 1][j - 1]\n",
    "            else:\n",
    "                dp[i][j] = 1 + min(dp[i - 1][j], dp[i][j - 1])\n",
    "\n",
    "    return dp[m][n]\n",
    "\n",
    "# Driver code \n",
    "word1 = \"sea\"\n",
    "word2 = \"eat\"\n",
    "print(minDistance(word1, word2))  # Output: 2\n"
   ]
  },
  {
   "cell_type": "markdown",
   "id": "ef7b57a5",
   "metadata": {},
   "source": [
    "<font size = \"3\">__4. You need to construct a binary tree from a string consisting of parenthesis and integers.__</font>\n",
    "\n",
    "The whole input represents a binary tree. It contains an integer followed by zero, one or two pairs of parenthesis. The integer represents the root's value and a pair of parenthesis contains a child binary tree with the same structure.\n",
    "You always start to construct the **left** child node of the parent first if it exists.\n",
    "    \n",
    "**Example 1:**\n",
    ">Input: s = \"4(2(3)(1))(6(5))\"<br>\n",
    ">Output: [4,2,6,3,1,5]"
   ]
  },
  {
   "cell_type": "code",
   "execution_count": 8,
   "id": "78960d37",
   "metadata": {},
   "outputs": [],
   "source": [
    "class TreeNode:\n",
    "    def __init__(self, val=0, left=None, right=None):\n",
    "        self.val = val\n",
    "        self.left = left\n",
    "        self.right = right\n",
    "\n",
    "def constructTree(s, start, end):\n",
    "    if start > end:\n",
    "        return None\n",
    "\n",
    "    # Find the root value\n",
    "    root_val = 0\n",
    "    i = start\n",
    "    while i <= end and s[i] != '(':\n",
    "        root_val = root_val * 10 + int(s[i])\n",
    "        i += 1\n",
    "\n",
    "    # Create the root node\n",
    "    root = TreeNode(root_val)\n",
    "\n",
    "    # Find the indices of the parentheses that enclose the left and right subtrees\n",
    "    left_start = -1\n",
    "    left_end = -1\n",
    "    right_start = -1\n",
    "    right_end = -1\n",
    "    count = 0\n",
    "    for j in range(start, end + 1):\n",
    "        if s[j] == '(':\n",
    "            count += 1\n",
    "            if count == 1:\n",
    "                left_start = j\n",
    "        elif s[j] == ')':\n",
    "            count -= 1\n",
    "            if count == 0:\n",
    "                if left_start != -1 and left_end == -1:\n",
    "                    left_end = j\n",
    "                else:\n",
    "                    right_end = j\n",
    "\n",
    "    # Recursively construct the left and right subtrees\n",
    "    root.left = constructTree(s, left_start + 1, left_end - 1)\n",
    "    root.right = constructTree(s, right_start + 1, right_end - 1)\n",
    "\n",
    "    return root\n",
    "\n",
    "\n",
    "s = \"4(2(3)(1))(6(5))\"\n",
    "root = constructTree(s, 0, len(s) - 1)"
   ]
  },
  {
   "cell_type": "markdown",
   "id": "fe60cec9",
   "metadata": {},
   "source": [
    "<font size = \"3\">__5. Given an array of characters chars, compress it using the following algorithm:__</font>\n",
    "\n",
    "Begin with an empty string s. For each group of **consecutive repeating characters** in chars:\n",
    "\n",
    "- If the group's length is 1, append the character to s.\n",
    "- Otherwise, append the character followed by the group's length.\n",
    "\n",
    "The compressed string s **should not be returned separately**, but instead, be stored **in the input character array chars**. Note that group lengths that are 10 or longer will be split into multiple characters in chars.\n",
    "\n",
    "After you are done **modifying the input array,** return *the new length of the array*.\n",
    "\n",
    "You must write an algorithm that uses only constant extra space.\n",
    "\n",
    "**Example 1:**\n",
    "\n",
    ">Input: chars = [\"a\",\"a\",\"b\",\"b\",\"c\",\"c\",\"c\"]<br>\n",
    ">Output: Return 6, and the first 6 characters of the input array should be: [\"a\",\"2\",\"b\",\"2\",\"c\",\"3\"]\n",
    "\n",
    "**Explanation:**\n",
    "\n",
    "`The groups are \"aa\", \"bb\", and \"ccc\". This compresses to \"a2b2c3\".`"
   ]
  },
  {
   "cell_type": "code",
   "execution_count": 12,
   "id": "3a0f7a4d",
   "metadata": {},
   "outputs": [
    {
     "name": "stdout",
     "output_type": "stream",
     "text": [
      "Compressed length: 6\n",
      "Modified array: ['a', '2', 'b', '2', 'c', '3']\n"
     ]
    }
   ],
   "source": [
    "# Function definition \n",
    "def compress(chars):\n",
    "    count = 1\n",
    "    length = 0\n",
    "\n",
    "    for i in range(1, len(chars) + 1):\n",
    "        if i < len(chars) and chars[i] == chars[i - 1]:\n",
    "            count += 1\n",
    "        else:\n",
    "            chars[length] = chars[i - 1]\n",
    "            length += 1\n",
    "            if count > 1:\n",
    "                count_str = str(count)\n",
    "                for digit in count_str:\n",
    "                    chars[length] = digit\n",
    "                    length += 1\n",
    "            count = 1\n",
    "\n",
    "    chars[length:] = []\n",
    "\n",
    "    return length\n",
    "\n",
    "# Driver code\n",
    "chars = [\"a\", \"a\", \"b\", \"b\", \"c\", \"c\", \"c\"]\n",
    "compressed_length = compress(chars)\n",
    "print(f\"Compressed length: {compressed_length}\")\n",
    "print(f\"Modified array: {chars[:compressed_length]}\")\n"
   ]
  },
  {
   "cell_type": "markdown",
   "id": "ff4131da",
   "metadata": {},
   "source": [
    "<font size = \"3\">__6. Given two strings s and p, return *an array of all the start indices of p's anagrams in s. You may return the answer in any order.__</font>\n",
    "\n",
    "An Anagram is a word or phrase formed by rearranging the letters of a different word or phrase, typically using all the original letters exactly once.\n",
    "\n",
    "**Example 1:**\n",
    "\n",
    ">Input: s = \"cbaebabacd\", p = \"abc\"<br>\n",
    ">Output: [0,6]\n",
    "\n",
    "**Explanation:**\n",
    "\n",
    "The substring with start index = 0 is \"cba\", which is an anagram of \"abc\".\n",
    "\n",
    "The substring with start index = 6 is \"bac\", which is an anagram of \"abc\"."
   ]
  },
  {
   "cell_type": "code",
   "execution_count": 13,
   "id": "fe6d627e",
   "metadata": {},
   "outputs": [
    {
     "name": "stdout",
     "output_type": "stream",
     "text": [
      "[0, 6]\n"
     ]
    }
   ],
   "source": [
    "# Function definition \n",
    "from collections import Counter\n",
    "\n",
    "def findAnagrams(s, p):\n",
    "    result = []\n",
    "    p_count = Counter(p)\n",
    "    window_count = Counter()\n",
    "    left = 0\n",
    "\n",
    "    for right in range(len(s)):\n",
    "        window_count[s[right]] += 1\n",
    "        if right - left + 1 > len(p):\n",
    "            window_count[s[left]] -= 1\n",
    "            if window_count[s[left]] == 0:\n",
    "                del window_count[s[left]]\n",
    "            left += 1\n",
    "        if p_count == window_count:\n",
    "            result.append(left)\n",
    "\n",
    "    return result\n",
    "\n",
    "\n",
    "# Driver code\n",
    "s = \"cbaebabacd\"\n",
    "p = \"abc\"\n",
    "result = findAnagrams(s, p)\n",
    "print(result)  # Output: [0, 6]\n"
   ]
  },
  {
   "cell_type": "markdown",
   "id": "4f0a5630",
   "metadata": {},
   "source": [
    "<font size = \"3\">__7. Given an encoded string, return its decoded string.__</font>\n",
    "\n",
    "The encoding rule is: k encoded_string, where the encoded_string inside the square brackets is being repeated exactly k times. Note that k is guaranteed to be a positive integer.\n",
    "\n",
    "You may assume that the input string is always valid; there are no extra white spaces, square brackets are well-formed, etc. Furthermore, you may assume that the original data does not contain any digits and that digits are only for those repeat numbers, k. For example, there will not be input like 3a or 2[4].\n",
    "\n",
    "The test cases are generated so that the length of the output will never exceed 105.\n",
    "\n",
    "**Example 1:**\n",
    "\n",
    ">Input: s = \"3[a]2[bc]\"<br>\n",
    ">Output: \"aaabcbc\""
   ]
  },
  {
   "cell_type": "code",
   "execution_count": 14,
   "id": "2cd78485",
   "metadata": {},
   "outputs": [
    {
     "name": "stdout",
     "output_type": "stream",
     "text": [
      "aaabcbc\n"
     ]
    }
   ],
   "source": [
    "# Function definition \n",
    "def decodeString(s):\n",
    "    stack = []\n",
    "    curr_str = ''\n",
    "    curr_num = 0\n",
    "\n",
    "    for char in s:\n",
    "        if char.isdigit():\n",
    "            curr_num = curr_num * 10 + int(char)\n",
    "        elif char == '[':\n",
    "            stack.append(curr_str)\n",
    "            stack.append(curr_num)\n",
    "            curr_str = ''\n",
    "            curr_num = 0\n",
    "        elif char == ']':\n",
    "            num = stack.pop()\n",
    "            prev_str = stack.pop()\n",
    "            curr_str = prev_str + curr_str * num\n",
    "        else:\n",
    "            curr_str += char\n",
    "\n",
    "    return curr_str\n",
    "\n",
    "# Driver code\n",
    "s = \"3[a]2[bc]\"\n",
    "result = decodeString(s)\n",
    "print(result)  # Output: \"aaabcbc\""
   ]
  },
  {
   "cell_type": "markdown",
   "id": "4bb7cb72",
   "metadata": {},
   "source": [
    "<font size = \"3\">__8. Given two strings s and goal, return true if you can swap two letters in s so the result is equal to goal, otherwise, return false.__</font>\n",
    "\n",
    "Swapping letters is defined as taking two indices i and j (0-indexed) such that i != j and swapping the characters at s[i] and s[j].\n",
    "\n",
    "- For example, swapping at indices 0 and 2 in \"abcd\" results in \"cbad\".\n",
    "\n",
    "**Example 1:**\n",
    "\n",
    ">Input: s = \"ab\", goal = \"ba\"<br>\n",
    ">Output: true\n",
    "\n",
    "**Explanation:** `You can swap s[0] = 'a' and s[1] = 'b' to get \"ba\", which is equal to goal.`"
   ]
  },
  {
   "cell_type": "code",
   "execution_count": 15,
   "id": "737ac04d",
   "metadata": {},
   "outputs": [
    {
     "name": "stdout",
     "output_type": "stream",
     "text": [
      "True\n"
     ]
    }
   ],
   "source": [
    "# Function definition \n",
    "def buddyStrings(s, goal):\n",
    "    if len(s) != len(goal):\n",
    "        return False\n",
    "\n",
    "    if s == goal:\n",
    "        # Check if there are any duplicate characters in s\n",
    "        seen = set()\n",
    "        for char in s:\n",
    "            if char in seen:\n",
    "                return True\n",
    "            seen.add(char)\n",
    "        return False\n",
    "\n",
    "    diff_positions = []\n",
    "    for i in range(len(s)):\n",
    "        if s[i] != goal[i]:\n",
    "            diff_positions.append(i)\n",
    "\n",
    "    if len(diff_positions) != 2:\n",
    "        return False\n",
    "\n",
    "    i, j = diff_positions\n",
    "    return s[i] == goal[j] and s[j] == goal[i]\n",
    "\n",
    "# Driver function \n",
    "s = \"ab\"\n",
    "goal = \"ba\"\n",
    "result = buddyStrings(s, goal)\n",
    "print(result)  # Output: True\n"
   ]
  },
  {
   "cell_type": "markdown",
   "id": "abb615e4",
   "metadata": {},
   "source": []
  }
 ],
 "metadata": {
  "kernelspec": {
   "display_name": "Python 3 (ipykernel)",
   "language": "python",
   "name": "python3"
  },
  "language_info": {
   "codemirror_mode": {
    "name": "ipython",
    "version": 3
   },
   "file_extension": ".py",
   "mimetype": "text/x-python",
   "name": "python",
   "nbconvert_exporter": "python",
   "pygments_lexer": "ipython3",
   "version": "3.10.9"
  }
 },
 "nbformat": 4,
 "nbformat_minor": 5
}
