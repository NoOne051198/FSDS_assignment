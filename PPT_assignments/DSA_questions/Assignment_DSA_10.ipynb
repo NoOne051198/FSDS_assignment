{
 "cells": [
  {
   "cell_type": "markdown",
   "id": "285f0cec",
   "metadata": {},
   "source": [
    "# Assignment - 10"
   ]
  },
  {
   "cell_type": "markdown",
   "id": "2b09439a",
   "metadata": {},
   "source": [
    "<font size = \"3\">__1. Given an integer n, return true if it is a power of three. Otherwise, return false.__</font>\n",
    "\n",
    "An integer `n` is a power of three, if there exists an integer `x` such that `n == 3x`.\n",
    "\n",
    "**Example 1:**\n",
    "\n",
    ">Input: n = 27<br>\n",
    ">Output: true<br>\n",
    ">Explanation: 27 = 33\n",
    "\n",
    "**Example 2:**\n",
    "\n",
    ">Input: n = 0<br>\n",
    ">Output: false<br>\n",
    ">Explanation: There is no x where 3x = 0.\n",
    "\n",
    "\n",
    "**Example 3:**\n",
    "\n",
    ">Input: n = -1<br>\n",
    ">Output: false<br>\n",
    ">Explanation: There is no x where 3x = (-1).\n"
   ]
  },
  {
   "cell_type": "code",
   "execution_count": 1,
   "id": "a43a73b0",
   "metadata": {},
   "outputs": [
    {
     "name": "stdout",
     "output_type": "stream",
     "text": [
      "True\n",
      "False\n",
      "False\n"
     ]
    }
   ],
   "source": [
    "# Function definition \n",
    "def is_power_of_three(n):\n",
    "    if n <= 0:\n",
    "        return False\n",
    "    \n",
    "    while n % 3 == 0:\n",
    "        n //= 3\n",
    "        \n",
    "    return n == 1\n",
    "\n",
    "# Example usage:\n",
    "print(is_power_of_three(27))  # Output: True\n",
    "print(is_power_of_three(0))   # Output: False\n",
    "print(is_power_of_three(-1))  # Output: False\n"
   ]
  },
  {
   "cell_type": "markdown",
   "id": "0d69f472",
   "metadata": {},
   "source": [
    "<font size = \"3\">__2. You have a list arr of all integers in the range [1, n] sorted in a strictly increasing order. Apply the following algorithm on arr:__</font>\n",
    "\n",
    "- Starting from left to right, remove the first number and every other number afterward until you reach the end of the list.\n",
    "- Repeat the previous step again, but this time from right to left, remove the rightmost number and every other number from the remaining numbers.\n",
    "- Keep repeating the steps again, alternating left to right and right to left, until a single number remains.\n",
    "\n",
    "Given the integer `n`, return *the last number that remains in* `arr`.\n",
    "\n",
    "**Example 1:**\n",
    ">Input: n = 9<br>\n",
    ">Output: 6<br>\n",
    ">Explanation:<br>\n",
    "arr = [1, 2,3, 4,5, 6,7, 8,9]<br>\n",
    "arr = [2,4, 6,8]<br>\n",
    "arr = [2, 6]<br>\n",
    "arr = [6]\n",
    "\n",
    "**Example 2:**\n",
    ">Input: n = 1<br>\n",
    ">Output: 1<br>"
   ]
  },
  {
   "cell_type": "code",
   "execution_count": 2,
   "id": "1cc010d0",
   "metadata": {},
   "outputs": [
    {
     "name": "stdout",
     "output_type": "stream",
     "text": [
      "6\n",
      "1\n"
     ]
    }
   ],
   "source": [
    "# Function definition \n",
    "def last_remaining(n):\n",
    "    left_to_right = True\n",
    "    remaining = n\n",
    "    step = 1\n",
    "    start = 1\n",
    "    \n",
    "    while remaining > 1:\n",
    "        if left_to_right or remaining % 2 == 1:\n",
    "            start += step\n",
    "        \n",
    "        remaining //= 2\n",
    "        step *= 2\n",
    "        left_to_right = not left_to_right\n",
    "    \n",
    "    return start\n",
    "\n",
    "# Example usage:\n",
    "print(last_remaining(9))  # Output: 6\n",
    "print(last_remaining(1))  # Output: 1\n"
   ]
  },
  {
   "cell_type": "markdown",
   "id": "5ce515b5",
   "metadata": {},
   "source": [
    "<font size = \"3\">__3. Given a set represented as a string, write a recursive code to print all subsets of it. The subsets can be printed in any order.__</font>\n",
    "\n",
    "**Example 1:**\n",
    "\n",
    ">Input :  set = “abc”<br>\n",
    ">Output : { “”, “a”, “b”, “c”, “ab”, “ac”, “bc”, “abc”}\n",
    "\n",
    "**Example 2:**\n",
    "\n",
    ">Input : set = “abcd”<br>\n",
    ">Output : { “”, “a” ,”ab” ,”abc” ,”abcd”, “abd” ,”ac” ,”acd”, “ad” ,”b”, “bc” ,”bcd” ,”bd” ,”c” ,”cd” ,”d” }"
   ]
  },
  {
   "cell_type": "code",
   "execution_count": 11,
   "id": "6fd8de34",
   "metadata": {},
   "outputs": [
    {
     "name": "stdout",
     "output_type": "stream",
     "text": [
      "\n",
      "c\n",
      "b\n",
      "bc\n",
      "a\n",
      "ac\n",
      "ab\n",
      "abc\n",
      "------------------------\n",
      "\n",
      "d\n",
      "c\n",
      "cd\n",
      "b\n",
      "bd\n",
      "bc\n",
      "bcd\n",
      "a\n",
      "ad\n",
      "ac\n",
      "acd\n",
      "ab\n",
      "abd\n",
      "abc\n",
      "abcd\n"
     ]
    }
   ],
   "source": [
    "# Function definition \n",
    "def print_subsets(set, subset=\"\", index=0):\n",
    "    if index == len(set):\n",
    "        print(subset)\n",
    "        return\n",
    "    \n",
    "    # Exclude the current element\n",
    "    print_subsets(set, subset, index + 1)\n",
    "    \n",
    "    # Include the current element\n",
    "    print_subsets(set, subset + set[index], index + 1)\n",
    "\n",
    "# Example usage:\n",
    "set = \"abc\"\n",
    "print_subsets(set)\n",
    "\n",
    "print(\"------------------------\")\n",
    "\n",
    "set = \"abcd\"\n",
    "print_subsets(set)\n"
   ]
  },
  {
   "cell_type": "markdown",
   "id": "3afca0f5",
   "metadata": {},
   "source": [
    "<font size = \"3\">__4. Given a string calculate length of the string using recursion.__</font>\n",
    "\n",
    "**Examples:**\n",
    ">Input : str = \"abcd\"<br>\n",
    ">Output :4\n",
    "\n",
    ">Input : str = \"GEEKSFORGEEKS\"<br>\n",
    ">Output :13"
   ]
  },
  {
   "cell_type": "code",
   "execution_count": 5,
   "id": "021f8505",
   "metadata": {},
   "outputs": [
    {
     "name": "stdout",
     "output_type": "stream",
     "text": [
      "4\n",
      "13\n"
     ]
    }
   ],
   "source": [
    "# Function definition \n",
    "def string_length(string):\n",
    "    if string == \"\":\n",
    "        return 0\n",
    "    else:\n",
    "        return 1 + string_length(string[1:])\n",
    "\n",
    "# Example usage:\n",
    "str = \"abcd\"\n",
    "print(string_length(str))\n",
    "\n",
    "str = \"GEEKSFORGEEKS\"\n",
    "print(string_length(str))\n"
   ]
  },
  {
   "cell_type": "markdown",
   "id": "8545030e",
   "metadata": {},
   "source": [
    "<font size = \"3\">__5. We are given a string S, we need to find count of all contiguous substrings starting and ending with same character.__</font>\n",
    "\n",
    ">Input  : S = \"abcab\"<br>\n",
    ">Output : 7<br>\n",
    "\n",
    "There are 15 substrings of \"abcab\"\n",
    "a, ab, abc, abca, abcab, b, bc, bca\n",
    "bcab, c, ca, cab, a, ab, b\n",
    "Out of the above substrings, there\n",
    "are 7 substrings : a, abca, b, bcab,\n",
    "c, a and b.\n",
    "\n",
    ">Input  : S = \"aba\"<br>\n",
    ">Output : 4\n",
    "\n",
    "The substrings are a, b, a and aba"
   ]
  },
  {
   "cell_type": "code",
   "execution_count": 6,
   "id": "10d97ab4",
   "metadata": {},
   "outputs": [
    {
     "name": "stdout",
     "output_type": "stream",
     "text": [
      "5\n",
      "4\n"
     ]
    }
   ],
   "source": [
    "# Function definition \n",
    "def count_substrings(s):\n",
    "    count = 0\n",
    "    n = len(s)\n",
    "  \n",
    "    # Iterate through each character in the string\n",
    "    for i in range(n):\n",
    "        # Count substrings ending at index i\n",
    "        count += 1\n",
    "        j = i - 1\n",
    "        k = i + 1\n",
    "        \n",
    "        # Expand around the character at index i\n",
    "        while j >= 0 and k < n and s[j] == s[k]:\n",
    "            count += 1\n",
    "            j -= 1\n",
    "            k += 1\n",
    "            \n",
    "    return count\n",
    "\n",
    "# Example usage:\n",
    "s = \"abcab\"\n",
    "print(count_substrings(s))\n",
    "\n",
    "s = \"aba\"\n",
    "print(count_substrings(s))"
   ]
  },
  {
   "cell_type": "markdown",
   "id": "4e3e3a63",
   "metadata": {},
   "source": [
    "<font size = \"3\">__6. The tower of Hanoi is a famous puzzle where we have three rods and N disks. The objective of the puzzle is to move the entire stack to another rod. You are given the number of discs N.__</font><br>\n",
    "Initially, these discs are in the rod 1. You need to print all the steps of discs movement so that all the discs reach the 3rd rod. Also, you need to find the total moves.**Note:** The discs are arranged such that the **top disc is numbered 1** and the **bottom-most disc is numbered N**. Also, all the discs have **different sizes** and a bigger disc **cannot** be put on the top of a smaller disc. Refer the provided link to get a better clarity about the puzzle.\n",
    "\n",
    "**Example 1:**\n",
    ">Input: N = 2<br>\n",
    ">Output:<br>\n",
    ">move disk 1 from rod 1 to rod 2<br>\n",
    ">move disk 2 from rod 1 to rod 3<br>\n",
    ">move disk 1 from rod 2 to rod 3<br>\n",
    "3<br>\n",
    "\n",
    "**Explanation:** For N=2 , steps will be\n",
    "as follows in the example and total\n",
    "3 steps will be taken.\n",
    "\n",
    "**Example 2:**\n",
    ">Input:<br>\n",
    ">N = 3<br>\n",
    ">Output:<br>\n",
    ">move disk 1 from rod 1 to rod 3<br>\n",
    ">move disk 2 from rod 1 to rod 2<br>\n",
    ">move disk 1 from rod 3 to rod 2<br>\n",
    ">move disk 3 from rod 1 to rod 3<br>\n",
    ">move disk 1 from rod 2 to rod 1<br>\n",
    ">move disk 2 from rod 2 to rod 3<br>\n",
    ">move disk 1 from rod 1 to rod 3<br>\n",
    ">7<br>\n",
    "\n",
    "**Explanation:** For N=3 , steps will be\n",
    "as follows in the example and total\n",
    "7 steps will be taken."
   ]
  },
  {
   "cell_type": "code",
   "execution_count": 7,
   "id": "8c602dc6",
   "metadata": {},
   "outputs": [
    {
     "name": "stdout",
     "output_type": "stream",
     "text": [
      "Move disk 1 from rod 1 to rod 2\n",
      "Move disk 2 from rod 1 to rod 3\n",
      "Move disk 1 from rod 2 to rod 3\n",
      "3\n",
      "Move disk 1 from rod 1 to rod 3\n",
      "Move disk 2 from rod 1 to rod 2\n",
      "Move disk 1 from rod 3 to rod 2\n",
      "Move disk 3 from rod 1 to rod 3\n",
      "Move disk 1 from rod 2 to rod 1\n",
      "Move disk 2 from rod 2 to rod 3\n",
      "Move disk 1 from rod 1 to rod 3\n",
      "7\n"
     ]
    }
   ],
   "source": [
    "# Function definition \n",
    "def tower_of_hanoi(n, source, auxiliary, destination):\n",
    "    if n == 1:\n",
    "        print(\"Move disk 1 from rod\", source, \"to rod\", destination)\n",
    "        return 1\n",
    "    \n",
    "    count = 0\n",
    "    count += tower_of_hanoi(n-1, source, destination, auxiliary)\n",
    "    print(\"Move disk\", n, \"from rod\", source, \"to rod\", destination)\n",
    "    count += 1\n",
    "    count += tower_of_hanoi(n-1, auxiliary, source, destination)\n",
    "    \n",
    "    return count\n",
    "\n",
    "# Example usage:\n",
    "N = 2\n",
    "total_moves = tower_of_hanoi(N, 1, 2, 3)\n",
    "print(total_moves)\n",
    "\n",
    "\n",
    "N = 3\n",
    "total_moves = tower_of_hanoi(N, 1, 2, 3)\n",
    "print(total_moves)\n"
   ]
  },
  {
   "cell_type": "markdown",
   "id": "dd2f0d60",
   "metadata": {},
   "source": [
    "<font size = \"3\">__7. Given a string str, the task is to print all the permutations of str. A permutation is an arrangement of all or part of a set of objects, with regard to the order of the arrangement.__</font><br>\n",
    "For instance, the words ‘bat’ and ‘tab’ represents two distinct permutation (or arrangements) of a similar three letter word.\n",
    "\n",
    "**Examples:**\n",
    "\n",
    ">Input: str = “cd”<br>\n",
    ">Output: cd dc\n",
    " \n",
    ">Input: str = “abb”<br>\n",
    ">Output: abb abb bab bba bab bba\n"
   ]
  },
  {
   "cell_type": "code",
   "execution_count": 9,
   "id": "b48c16f6",
   "metadata": {},
   "outputs": [
    {
     "name": "stdout",
     "output_type": "stream",
     "text": [
      "cd\n",
      "dc\n",
      "------------------------\n",
      "abb\n",
      "abb\n",
      "bab\n",
      "bba\n",
      "bba\n",
      "bab\n"
     ]
    }
   ],
   "source": [
    "# Function definition \n",
    "def permute(s, l, r):\n",
    "    if l == r:\n",
    "        print(''.join(s))\n",
    "    else:\n",
    "        for i in range(l, r + 1):\n",
    "            s[l], s[i] = s[i], s[l]\n",
    "            permute(s, l + 1, r)\n",
    "            s[l], s[i] = s[i], s[l]  # backtrack\n",
    "\n",
    "# Example usage:\n",
    "str = \"cd\"\n",
    "n = len(str)\n",
    "s = list(str)\n",
    "permute(s, 0, n - 1)\n",
    "\n",
    "print(\"------------------------\")\n",
    "str = \"abb\"\n",
    "n = len(str)\n",
    "s = list(str)\n",
    "permute(s, 0, n - 1)\n"
   ]
  },
  {
   "cell_type": "markdown",
   "id": "4209d442",
   "metadata": {},
   "source": [
    "<font size = \"3\">__8. Given a string, count total number of consonants in it. A consonant is an English alphabet character that is not vowel (a, e, i, o and u). Examples of constants are b, c, d, f, and g.__</font>\n",
    "\n",
    "**Examples :**\n",
    ">Input : abc de<br>\n",
    ">Output : 3\n",
    "\n",
    "There are three consonants b, c and d.\n",
    "\n",
    ">Input : geeksforgeeks portal<br>\n",
    ">Output : 12"
   ]
  },
  {
   "cell_type": "code",
   "execution_count": 10,
   "id": "e665dca0",
   "metadata": {},
   "outputs": [
    {
     "name": "stdout",
     "output_type": "stream",
     "text": [
      "3\n",
      "------------------------\n",
      "12\n"
     ]
    }
   ],
   "source": [
    "# Function definition \n",
    "def count_consonants(string):\n",
    "    consonants = 'bcdfghjklmnpqrstvwxyzBCDFGHJKLMNPQRSTVWXYZ'\n",
    "    count = 0\n",
    "    for char in string:\n",
    "        if char in consonants:\n",
    "            count += 1\n",
    "    return count\n",
    "\n",
    "# Example usage:\n",
    "string = \"abc de\"\n",
    "result = count_consonants(string)\n",
    "print(result)\n",
    "\n",
    "print(\"------------------------\")\n",
    "\n",
    "string = \"geeksforgeeks portal\"\n",
    "result = count_consonants(string)\n",
    "print(result)\n"
   ]
  },
  {
   "cell_type": "markdown",
   "id": "87d5e07a",
   "metadata": {},
   "source": []
  }
 ],
 "metadata": {
  "kernelspec": {
   "display_name": "Python 3 (ipykernel)",
   "language": "python",
   "name": "python3"
  },
  "language_info": {
   "codemirror_mode": {
    "name": "ipython",
    "version": 3
   },
   "file_extension": ".py",
   "mimetype": "text/x-python",
   "name": "python",
   "nbconvert_exporter": "python",
   "pygments_lexer": "ipython3",
   "version": "3.10.9"
  }
 },
 "nbformat": 4,
 "nbformat_minor": 5
}
