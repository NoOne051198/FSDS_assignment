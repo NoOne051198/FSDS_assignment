{
 "cells": [
  {
   "cell_type": "markdown",
   "id": "662e52f7",
   "metadata": {},
   "source": [
    "# Assignment - 15"
   ]
  },
  {
   "cell_type": "markdown",
   "id": "9f35be55",
   "metadata": {},
   "source": [
    "<font size=\"3\">__1. Given an array **arr[ ]** of size **N** having elements, the task is to find the next greater element for each element of the array in order of their appearance in the array.Next greater element of an element in the array is the nearest element on the right which is greater than the current element.If there does not exist next greater of current element, then next greater element for current element is -1.__</font><br> For example, next greater of the last element is always -1.\n",
    "\n",
    "**Example 1:**\n",
    "\n",
    ">Input:<br>\n",
    "N = 4, arr[] = [1 3 2 4]<br>\n",
    "Output:<br>\n",
    "3 4 4 -1<br>\n",
    "Explanation:<br>\n",
    "In the array, the next larger element\n",
    "to 1 is 3 , 3 is 4 , 2 is 4 and for 4 ?\n",
    "since it doesn't exist, it is -1.\n",
    "\n",
    "**Example 2:**\n",
    "\n",
    ">Input:<br>\n",
    "N = 5, arr[] [6 8 0 1 3]<br>\n",
    "Output:<br>\n",
    "8 -1 1 3 -1<br>\n",
    "Explanation:<br>\n",
    "In the array, the next larger element to\n",
    "6 is 8, for 8 there is no larger elements\n",
    "hence it is -1, for 0 it is 1 , for 1 it\n",
    "is 3 and then for 3 there is no larger\n",
    "element on right and hence -1.\n"
   ]
  },
  {
   "cell_type": "code",
   "execution_count": 1,
   "id": "17a69926",
   "metadata": {},
   "outputs": [
    {
     "name": "stdout",
     "output_type": "stream",
     "text": [
      "[3, 4, 4, -1]\n",
      "[8, -1, 1, 3, -1]\n"
     ]
    }
   ],
   "source": [
    "def nextGreaterElements(arr):\n",
    "    n = len(arr)\n",
    "    result = [-1] * n\n",
    "    stack = []\n",
    "\n",
    "    for i in range(n - 1, -1, -1):\n",
    "        while stack and stack[-1] <= arr[i]:\n",
    "            stack.pop()\n",
    "        if stack:\n",
    "            result[i] = stack[-1]\n",
    "        stack.append(arr[i])\n",
    "\n",
    "    return result\n",
    "\n",
    "# Test the algorithm\n",
    "# Example 1\n",
    "arr1 = [1, 3, 2, 4]\n",
    "result1 = nextGreaterElements(arr1)\n",
    "print(result1)  # Output: [3, 4, 4, -1]\n",
    "\n",
    "# Example 2\n",
    "arr2 = [6, 8, 0, 1, 3]\n",
    "result2 = nextGreaterElements(arr2)\n",
    "print(result2)  # Output: [8, -1, 1, 3, -1]\n"
   ]
  },
  {
   "cell_type": "markdown",
   "id": "93d17304",
   "metadata": {},
   "source": [
    "<font size=\"3\">__2. Given an array **a** of integers of length **n**, find the nearest smaller number for every element such that the smaller element is on left side.If no small element present on the left print -1.__</font><br>\n",
    "\n",
    "**Example 1:**\n",
    ">Input: n = 3<br>\n",
    "a = {1, 6, 2}<br>\n",
    "Output: -1 1 1<br>\n",
    "Explaination: There is no number at the\n",
    "left of 1. Smaller number than 6 and 2 is 1.\n",
    "\n",
    "**Example 2:**\n",
    "\n",
    ">Input: n = 6<br>\n",
    "a = {1, 5, 0, 3, 4, 5}<br>\n",
    "Output: -1 1 -1 0 3 4<br>\n",
    "Explaination: Upto 3 it is easy to see\n",
    "the smaller numbers. But for 4 the smaller\n",
    "numbers are 1, 0 and 3. But among them 3\n",
    "is closest. Similary for 5 it is 4.\n"
   ]
  },
  {
   "cell_type": "code",
   "execution_count": 2,
   "id": "e3cd9fa1",
   "metadata": {},
   "outputs": [
    {
     "name": "stdout",
     "output_type": "stream",
     "text": [
      "[-1, 1, 1]\n",
      "[-1, 1, -1, 0, 3, 4]\n"
     ]
    }
   ],
   "source": [
    "def nearestSmallerElements(a):\n",
    "    n = len(a)\n",
    "    result = [-1] * n\n",
    "    stack = []\n",
    "\n",
    "    for i in range(n):\n",
    "        while stack and stack[-1] >= a[i]:\n",
    "            stack.pop()\n",
    "        if stack:\n",
    "            result[i] = stack[-1]\n",
    "        stack.append(a[i])\n",
    "\n",
    "    return result\n",
    "\n",
    "# Test the algorithm\n",
    "# Example 1\n",
    "arr1 = [1, 6, 2]\n",
    "result1 = nearestSmallerElements(arr1)\n",
    "print(result1)  # Output: [-1, 1, 1]\n",
    "\n",
    "# Example 2\n",
    "arr2 = [1, 5, 0, 3, 4, 5]\n",
    "result2 = nearestSmallerElements(arr2)\n",
    "print(result2)  # Output: [-1, 1, -1, 0, 3, 4]\n"
   ]
  },
  {
   "cell_type": "markdown",
   "id": "0e9a8a1f",
   "metadata": {},
   "source": [
    "<font size=\"3\">__3. Implement a Stack using two queues **q1** and **q2**.__</font><br>\n",
    "\n",
    "**Example 1:**\n",
    "\n",
    ">Input:<br>\n",
    "push(2)<br>\n",
    "push(3)<br>\n",
    "pop()<br>\n",
    "push(4)<br>\n",
    "pop()<br>\n",
    "Output:3 4<br>\n",
    "Explanation:<br>\n",
    "push(2) the stack will be {2}<br>\n",
    "push(3) the stack will be {2 3}<br>\n",
    "pop()   poped element will be 3 the<br>\n",
    "        stack will be {2}<br>\n",
    "push(4) the stack will be {2 4}<br>\n",
    "pop()   poped element will be 4<br>\n",
    "\n",
    "\n",
    "**Example 2:**\n",
    "\n",
    ">Input:<br>\n",
    "push(2)<br>\n",
    "pop()<br>\n",
    "pop()<br>\n",
    "push(3)<br>\n",
    "Output:2 -1"
   ]
  },
  {
   "cell_type": "code",
   "execution_count": 3,
   "id": "bb71f8c8",
   "metadata": {},
   "outputs": [
    {
     "name": "stdout",
     "output_type": "stream",
     "text": [
      "3\n",
      "4\n",
      "2\n",
      "-1\n"
     ]
    }
   ],
   "source": [
    "class StackUsingQueues:\n",
    "    def __init__(self):\n",
    "        self.q1 = []\n",
    "        self.q2 = []\n",
    "\n",
    "    def push(self, x):\n",
    "        self.q1.append(x)\n",
    "\n",
    "    def pop(self):\n",
    "        if not self.q1:\n",
    "            return -1\n",
    "\n",
    "        while len(self.q1) > 1:\n",
    "            self.q2.append(self.q1.pop(0))\n",
    "\n",
    "        top_element = self.q1.pop(0)\n",
    "\n",
    "        self.q1, self.q2 = self.q2, self.q1\n",
    "\n",
    "        return top_element\n",
    "\n",
    "# Test the StackUsingQueues class\n",
    "# Example 1\n",
    "stack1 = StackUsingQueues()\n",
    "stack1.push(2)\n",
    "stack1.push(3)\n",
    "print(stack1.pop())  # Output: 3\n",
    "stack1.push(4)\n",
    "print(stack1.pop())  # Output: 4\n",
    "\n",
    "# Example 2\n",
    "stack2 = StackUsingQueues()\n",
    "stack2.push(2)\n",
    "print(stack2.pop())  # Output: 2\n",
    "print(stack2.pop())  # Output: -1\n"
   ]
  },
  {
   "cell_type": "markdown",
   "id": "347df68a",
   "metadata": {},
   "source": [
    "<font size=\"3\">__4. You are given a stack **St**. You have to reverse the stack using recursion.__</font><br>\n",
    "\n",
    "**Example 1:**\n",
    "\n",
    "\n",
    ">Input:St = {3,2,1,7,6}<br>\n",
    "Output:{6,7,1,2,3}\n",
    "\n",
    "**Example 2:**\n",
    "\n",
    ">Input:St = {4,3,9,6}<br>\n",
    "Output:{6,9,3,4}"
   ]
  },
  {
   "cell_type": "code",
   "execution_count": 4,
   "id": "8a35e38f",
   "metadata": {},
   "outputs": [
    {
     "name": "stdout",
     "output_type": "stream",
     "text": [
      "[6, 7, 1, 2, 3]\n",
      "[6, 9, 3, 4]\n"
     ]
    }
   ],
   "source": [
    "def insert_at_bottom(stack, item):\n",
    "    if not stack:\n",
    "        stack.append(item)\n",
    "    else:\n",
    "        temp = stack.pop()\n",
    "        insert_at_bottom(stack, item)\n",
    "        stack.append(temp)\n",
    "\n",
    "def reverse_stack(stack):\n",
    "    if not stack:\n",
    "        return\n",
    "    top_element = stack.pop()\n",
    "    reverse_stack(stack)\n",
    "    insert_at_bottom(stack, top_element)\n",
    "\n",
    "# Test the reverse_stack function\n",
    "# Example 1\n",
    "stack1 = [3, 2, 1, 7, 6]\n",
    "reverse_stack(stack1)\n",
    "print(stack1)  # Output: [6, 7, 1, 2, 3]\n",
    "\n",
    "# Example 2\n",
    "stack2 = [4, 3, 9, 6]\n",
    "reverse_stack(stack2)\n",
    "print(stack2)  # Output: [6, 9, 3, 4]\n"
   ]
  },
  {
   "cell_type": "markdown",
   "id": "558087e3",
   "metadata": {},
   "source": [
    "<font size=\"3\">__5. You are given a string **S**, the task is to reverse the string using stack.__</font><br>\n",
    "\n",
    "**Example 1:**\n",
    "\n",
    ">Input: S=\"GeeksforGeeks\"<br>\n",
    "Output: skeeGrofskeeG"
   ]
  },
  {
   "cell_type": "code",
   "execution_count": 5,
   "id": "31acaa9c",
   "metadata": {},
   "outputs": [
    {
     "name": "stdout",
     "output_type": "stream",
     "text": [
      "skeeGrofskeeG\n"
     ]
    }
   ],
   "source": [
    "def reverse_string_using_stack(S):\n",
    "    stack = []\n",
    "    for char in S:\n",
    "        stack.append(char)\n",
    "    \n",
    "    reversed_string = \"\"\n",
    "    while stack:\n",
    "        reversed_string += stack.pop()\n",
    "\n",
    "    return reversed_string\n",
    "\n",
    "# Test the reverse_string_using_stack function\n",
    "input_string = \"GeeksforGeeks\"\n",
    "reversed_string = reverse_string_using_stack(input_string)\n",
    "print(reversed_string)  # Output: skeeGrofskeeG\n"
   ]
  },
  {
   "cell_type": "markdown",
   "id": "228a04f1",
   "metadata": {},
   "source": [
    "<font size=\"3\">__6. Given string **S** representing a postfix expression, the task is to evaluate the expression and find the final value. Operators will only include the basic arithmetic operators like ***, /, + and -**.__</font><br>\n",
    "\n",
    "**Example 1:**\n",
    "\n",
    "\n",
    ">Input: S = \"231*+9-\"<br>\n",
    "Output: -4<br>\n",
    "Explanation:<br>\n",
    "After solving the given expression,\n",
    "we have -4 as result.\n",
    "\n",
    "\n",
    "\n",
    "**Example 2:**\n",
    "\n",
    ">Input: S = \"123+*8-\"<br>\n",
    "Output: -3<br>\n",
    "Explanation:<br>\n",
    "After solving the given postfix\n",
    "expression, we have -3 as result."
   ]
  },
  {
   "cell_type": "code",
   "execution_count": 6,
   "id": "2ba6134a",
   "metadata": {},
   "outputs": [
    {
     "name": "stdout",
     "output_type": "stream",
     "text": [
      "-4\n",
      "-3\n"
     ]
    }
   ],
   "source": [
    "def evaluate_postfix_expression(S):\n",
    "    stack = []\n",
    "    for char in S:\n",
    "        if char.isdigit():\n",
    "            stack.append(int(char))\n",
    "        else:\n",
    "            operand2 = stack.pop()\n",
    "            operand1 = stack.pop()\n",
    "            if char == '+':\n",
    "                stack.append(operand1 + operand2)\n",
    "            elif char == '-':\n",
    "                stack.append(operand1 - operand2)\n",
    "            elif char == '*':\n",
    "                stack.append(operand1 * operand2)\n",
    "            elif char == '/':\n",
    "                stack.append(operand1 / operand2)\n",
    "\n",
    "    return stack[0]\n",
    "\n",
    "# Test the evaluate_postfix_expression function\n",
    "expression1 = \"231*+9-\"\n",
    "expression2 = \"123+*8-\"\n",
    "print(evaluate_postfix_expression(expression1))  # Output: -4\n",
    "print(evaluate_postfix_expression(expression2))  # Output: -3\n"
   ]
  },
  {
   "cell_type": "markdown",
   "id": "78e3e7d7",
   "metadata": {},
   "source": [
    "<font size=\"3\">__7. Design a stack that supports push, pop, top, and retrieving the minimum element in constant time.__</font><br>\n",
    "\n",
    "Implement the `MinStack` class:\n",
    "\n",
    "- `MinStack()` initializes the stack object.\n",
    "- `void push(int val)` pushes the element `val` onto the stack.\n",
    "- `void pop()` removes the element on the top of the stack.\n",
    "- `int top()` gets the top element of the stack.\n",
    "- `int getMin()` retrieves the minimum element in the stack.\n",
    "\n",
    "You must implement a solution with `O(1)` time complexity for each function.\n",
    "\n",
    "**Example 1:**\n",
    "\n",
    ">Input<br>\n",
    "[\"MinStack\",\"push\",\"push\",\"push\",\"getMin\",\"pop\",\"top\",\"getMin\"]<br>\n",
    "[[],[-2],[0],[-3],[],[],[],[]]<br>\n",
    "Output<br>\n",
    "[null,null,null,null,-3,null,0,-2]\n",
    "\n",
    "**Explanation**\n",
    ">MinStack minStack = new MinStack();<br>\n",
    "minStack.push(-2);<br>\n",
    "minStack.push(0);<br>\n",
    "minStack.push(-3);<br>\n",
    "minStack.getMin(); // return -3<br>\n",
    "minStack.pop();<br>\n",
    "minStack.top();    // return 0<br>\n",
    "minStack.getMin(); // return -2"
   ]
  },
  {
   "cell_type": "code",
   "execution_count": 7,
   "id": "f3f32ce7",
   "metadata": {},
   "outputs": [
    {
     "name": "stdout",
     "output_type": "stream",
     "text": [
      "-3\n",
      "0\n",
      "-2\n"
     ]
    }
   ],
   "source": [
    "class MinStack:\n",
    "    def __init__(self):\n",
    "        self.stack = []\n",
    "        self.min_stack = []\n",
    "\n",
    "    def push(self, val: int) -> None:\n",
    "        self.stack.append(val)\n",
    "        if not self.min_stack or val <= self.min_stack[-1]:\n",
    "            self.min_stack.append(val)\n",
    "\n",
    "    def pop(self) -> None:\n",
    "        if self.stack[-1] == self.min_stack[-1]:\n",
    "            self.min_stack.pop()\n",
    "        self.stack.pop()\n",
    "\n",
    "    def top(self) -> int:\n",
    "        return self.stack[-1]\n",
    "\n",
    "    def getMin(self) -> int:\n",
    "        return self.min_stack[-1]\n",
    "\n",
    "# Test the MinStack class\n",
    "min_stack = MinStack()\n",
    "min_stack.push(-2)\n",
    "min_stack.push(0)\n",
    "min_stack.push(-3)\n",
    "print(min_stack.getMin())  # Output: -3\n",
    "min_stack.pop()\n",
    "print(min_stack.top())     # Output: 0\n",
    "print(min_stack.getMin())  # Output: -2\n"
   ]
  },
  {
   "cell_type": "markdown",
   "id": "042dd927",
   "metadata": {},
   "source": [
    "<font size=\"3\">__8. Given `n` non-negative integers representing an elevation map where the width of each bar is `1`, compute how much water it can trap after raining.__</font><br>\n",
    "\n",
    "**Example 1:**\n",
    "\n",
    ">Input: height = [0,1,0,2,1,0,1,3,2,1,2,1]<br>\n",
    "Output: 6<br>\n",
    "Explanation: The above elevation map (black section) is represented by array [0,1,0,2,1,0,1,3,2,1,2,1]. In this case, 6 units of rain water (blue section) are being trapped.\n",
    "\n",
    "\n",
    "**Example 2:**\n",
    "\n",
    ">Input: height = [4,2,0,3,2,5]<br>\n",
    "Output: 9"
   ]
  },
  {
   "cell_type": "code",
   "execution_count": 8,
   "id": "b7f87e58",
   "metadata": {},
   "outputs": [
    {
     "name": "stdout",
     "output_type": "stream",
     "text": [
      "6\n",
      "9\n"
     ]
    }
   ],
   "source": [
    "def trap(height):\n",
    "    n = len(height)\n",
    "    left, right = 0, n - 1\n",
    "    left_max, right_max = 0, 0\n",
    "    water = 0\n",
    "\n",
    "    while left < right:\n",
    "        if height[left] < height[right]:\n",
    "            if height[left] > left_max:\n",
    "                left_max = height[left]\n",
    "            else:\n",
    "                water += left_max - height[left]\n",
    "            left += 1\n",
    "        else:\n",
    "            if height[right] > right_max:\n",
    "                right_max = height[right]\n",
    "            else:\n",
    "                water += right_max - height[right]\n",
    "            right -= 1\n",
    "\n",
    "    return water\n",
    "\n",
    "# Test cases\n",
    "print(trap([0, 1, 0, 2, 1, 0, 1, 3, 2, 1, 2, 1]))  # Output: 6\n",
    "print(trap([4, 2, 0, 3, 2, 5]))                   # Output: 9\n"
   ]
  },
  {
   "cell_type": "code",
   "execution_count": null,
   "id": "59273c1b",
   "metadata": {},
   "outputs": [],
   "source": []
  }
 ],
 "metadata": {
  "kernelspec": {
   "display_name": "Python 3 (ipykernel)",
   "language": "python",
   "name": "python3"
  },
  "language_info": {
   "codemirror_mode": {
    "name": "ipython",
    "version": 3
   },
   "file_extension": ".py",
   "mimetype": "text/x-python",
   "name": "python",
   "nbconvert_exporter": "python",
   "pygments_lexer": "ipython3",
   "version": "3.10.9"
  }
 },
 "nbformat": 4,
 "nbformat_minor": 5
}
