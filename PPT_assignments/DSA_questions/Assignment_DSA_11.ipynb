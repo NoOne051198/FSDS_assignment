{
 "cells": [
  {
   "cell_type": "markdown",
   "id": "bbb8e673",
   "metadata": {},
   "source": [
    "# Assignment - 11"
   ]
  },
  {
   "cell_type": "markdown",
   "id": "5e4a0dc0",
   "metadata": {},
   "source": [
    "<font size = \"3\">__1. Given a non-negative integer x, return the square root of x rounded down to the nearest integer. The returned integer should be non-negative as well.__</font>\n",
    "\n",
    "You **must not use** any built-in exponent function or operator.\n",
    "\n",
    "- For example, do not use `pow(x, 0.5)` in c++ or `x ** 0.5` in python.<br>\n",
    "**Example 1:**\n",
    ">Input: x = 4<br>\n",
    ">Output: 2\n",
    "\n",
    "**Explanation:** The square root of 4 is 2, so we return 2.\n",
    "\n",
    "**Example 2:**\n",
    ">Input: x = 8<br>\n",
    ">Output: 2\n",
    "\n",
    "**Explanation:** The square root of 8 is 2.82842..., and since we round it down to the nearest integer, 2 is returned."
   ]
  },
  {
   "cell_type": "code",
   "execution_count": 1,
   "id": "fd7cec5e",
   "metadata": {},
   "outputs": [
    {
     "name": "stdout",
     "output_type": "stream",
     "text": [
      "2\n",
      "2\n"
     ]
    }
   ],
   "source": [
    "# Function definition \n",
    "def mySqrt(x):\n",
    "    if x == 0:\n",
    "        return 0\n",
    "    \n",
    "    left = 1\n",
    "    right = x\n",
    "    \n",
    "    while left <= right:\n",
    "        mid = (left + right) // 2\n",
    "        if mid * mid == x:\n",
    "            return mid\n",
    "        elif mid * mid < x:\n",
    "            left = mid + 1\n",
    "        else:\n",
    "            right = mid - 1\n",
    "    \n",
    "    return right\n",
    "\n",
    "# Example usage:\n",
    "x = 4\n",
    "result = mySqrt(x)\n",
    "print(result)\n",
    "\n",
    "\n",
    "x = 8\n",
    "result = mySqrt(x)\n",
    "print(result)\n"
   ]
  },
  {
   "cell_type": "markdown",
   "id": "e58a6086",
   "metadata": {},
   "source": [
    "<font size = \"3\">__2. A peak element is an element that is strictly greater than its neighbors.__</font>\n",
    "\n",
    "Given a **0-indexed** integer array `nums`, find a peak element, and return its index. If the array contains multiple peaks, return the index to **any of the peaks**.\n",
    "\n",
    "You may imagine that `nums[-1] = nums[n] = -∞`. In other words, an element is always considered to be strictly greater than a neighbor that is outside the array.\n",
    "\n",
    "You must write an algorithm that runs in `O(log n)` time.\n",
    "\n",
    "**Example 1:**\n",
    ">Input: nums = [1,2,3,1]<br>\n",
    ">Output: 2\n",
    "\n",
    "**Explanation:** 3 is a peak element and your function should return the index number 2.\n",
    "\n",
    "**Example 2:**\n",
    ">Input: nums = [1,2,1,3,5,6,4]<br>\n",
    ">Output: 5\n",
    "\n",
    "**Explanation:** Your function can return either index number 1 where the peak element is 2, or index number 5 where the peak element is 6."
   ]
  },
  {
   "cell_type": "code",
   "execution_count": 2,
   "id": "dbeb326c",
   "metadata": {},
   "outputs": [
    {
     "name": "stdout",
     "output_type": "stream",
     "text": [
      "2\n",
      "5\n"
     ]
    }
   ],
   "source": [
    "# function definition \n",
    "def findPeakElement(nums):\n",
    "    left = 0\n",
    "    right = len(nums) - 1\n",
    "    \n",
    "    while left < right:\n",
    "        mid = left + (right - left) // 2\n",
    "        \n",
    "        if nums[mid] < nums[mid + 1]:\n",
    "            left = mid + 1\n",
    "        else:\n",
    "            right = mid\n",
    "    \n",
    "    return left\n",
    "\n",
    "# Example usage:\n",
    "nums = [1, 2, 3, 1]\n",
    "result = findPeakElement(nums)\n",
    "print(result)\n",
    "\n",
    "\n",
    "nums = [1,2,1,3,5,6,4]\n",
    "result = findPeakElement(nums)\n",
    "print(result)\n"
   ]
  },
  {
   "cell_type": "markdown",
   "id": "34540679",
   "metadata": {},
   "source": [
    "<font size = \"3\">__3. Given an array nums containing n distinct numbers in the range [0, n], return the only number in the range that is missing from the array.__</font>\n",
    "**Example 1:**\n",
    ">Input: nums = [3,0,1]<br>\n",
    ">Output: 2\n",
    "\n",
    "**Explanation:** n = 3 since there are 3 numbers, so all numbers are in the range [0,3]. 2 is the missing number in the range since it does not appear in nums.\n",
    "\n",
    "**Example 2:**\n",
    ">Input: nums = [0,1]<br>\n",
    ">Output: 2\n",
    "\n",
    "**Explanation:** n = 2 since there are 2 numbers, so all numbers are in the range [0,2]. 2 is the missing number in the range since it does not appear in nums.\n",
    "\n",
    "**Example 3:**\n",
    ">Input: nums = [9,6,4,2,3,5,7,0,1]<br>\n",
    ">Output: 8\n",
    "\n",
    "**Explanation:** n = 9 since there are 9 numbers, so all numbers are in the range [0,9]. 8 is the missing number in the range since it does not appear in nums."
   ]
  },
  {
   "cell_type": "code",
   "execution_count": 3,
   "id": "170a1297",
   "metadata": {},
   "outputs": [
    {
     "name": "stdout",
     "output_type": "stream",
     "text": [
      "2\n",
      "2\n",
      "8\n"
     ]
    }
   ],
   "source": [
    "# Function definition \n",
    "def missingNumber(nums):\n",
    "    n = len(nums)\n",
    "    missing = n\n",
    "\n",
    "    for i in range(n):\n",
    "        missing ^= i ^ nums[i]\n",
    "    \n",
    "    return missing\n",
    "\n",
    "# Example usage:\n",
    "nums = [3, 0, 1]\n",
    "result = missingNumber(nums)\n",
    "print(result)\n",
    "\n",
    "\n",
    "nums = [0,1]\n",
    "result = missingNumber(nums)\n",
    "print(result)\n",
    "\n",
    "\n",
    "nums = [9,6,4,2,3,5,7,0,1]\n",
    "result = missingNumber(nums)\n",
    "print(result)"
   ]
  },
  {
   "cell_type": "markdown",
   "id": "0a1529be",
   "metadata": {},
   "source": [
    "<font size = \"3\">__4. Given an array of integers nums containing n + 1 integers where each integer is in the range [1, n] inclusive.__</font>\n",
    "\n",
    "There is only **one repeated number** in `nums`, return *this repeated number*.\n",
    "\n",
    "You must solve the problem **without** modifying the array `nums` and uses only constant extra space.\n",
    "\n",
    "**Example 1:**\n",
    ">Input: nums = [1,3,4,2,2]<br>\n",
    ">Output: 2\n",
    "\n",
    "**Example 2:**\n",
    ">Input: nums = [3,1,3,4,2]<br>\n",
    ">Output: 3"
   ]
  },
  {
   "cell_type": "code",
   "execution_count": 4,
   "id": "29ff680e",
   "metadata": {},
   "outputs": [
    {
     "name": "stdout",
     "output_type": "stream",
     "text": [
      "2\n",
      "3\n"
     ]
    }
   ],
   "source": [
    "# Function definition \n",
    "def findDuplicate(nums):\n",
    "    slow = nums[0]\n",
    "    fast = nums[0]\n",
    "\n",
    "    # Move slow and fast pointers until they meet inside the cycle\n",
    "    while True:\n",
    "        slow = nums[slow]\n",
    "        fast = nums[nums[fast]]\n",
    "        if slow == fast:\n",
    "            break\n",
    "\n",
    "    # Move one pointer back to the start and advance both pointers at the same speed\n",
    "    slow = nums[0]\n",
    "    while slow != fast:\n",
    "        slow = nums[slow]\n",
    "        fast = nums[fast]\n",
    "\n",
    "    # Return the repeated number\n",
    "    return slow\n",
    "\n",
    "# Example usage:\n",
    "nums = [1, 3, 4, 2, 2]\n",
    "result = findDuplicate(nums)\n",
    "print(result)\n",
    "\n",
    "nums = [3,1,3,4,2]\n",
    "result = findDuplicate(nums)\n",
    "print(result)\n"
   ]
  },
  {
   "cell_type": "markdown",
   "id": "8523aacb",
   "metadata": {},
   "source": [
    "<font size = \"3\">__5. Given two integer arrays nums1 and nums2, return an array of their intersection. Each element in the result must be unique and you may return the result in any order.__</font>\n",
    "\n",
    "**Example 1:**\n",
    ">Input: nums1 = [1,2,2,1], nums2 = [2,2]<br>\n",
    ">Output: [2]\n",
    "\n",
    "**Example 2:**\n",
    ">Input: nums1 = [4,9,5], nums2 = [9,4,9,8,4]<br>\n",
    ">Output: [9,4]\n",
    "\n",
    "**Explanation:** [4,9] is also accepted."
   ]
  },
  {
   "cell_type": "code",
   "execution_count": 5,
   "id": "e75931da",
   "metadata": {},
   "outputs": [
    {
     "name": "stdout",
     "output_type": "stream",
     "text": [
      "[2]\n",
      "[9, 4]\n"
     ]
    }
   ],
   "source": [
    "# Function definition \n",
    "def intersection(nums1, nums2):\n",
    "    set1 = set(nums1)\n",
    "    result = []\n",
    "\n",
    "    for num in nums2:\n",
    "        if num in set1:\n",
    "            result.append(num)\n",
    "            set1.remove(num)  # Remove the element from the set to avoid duplicates in the result\n",
    "\n",
    "    return result\n",
    "\n",
    "# Example usage:\n",
    "nums1 = [1, 2, 2, 1]\n",
    "nums2 = [2, 2]\n",
    "result = intersection(nums1, nums2)\n",
    "print(result)\n",
    "\n",
    "nums1 = [4,9,5]\n",
    "nums2 = [9,4,9,8,4]\n",
    "result = intersection(nums1, nums2)\n",
    "print(result)\n"
   ]
  },
  {
   "cell_type": "markdown",
   "id": "bd4a6d56",
   "metadata": {},
   "source": [
    "<font size = \"3\">__6. Suppose an array of length `n` sorted in ascending order is **rotated** between `1` and `n` times. For example, the array `nums = [0,1,2,4,5,6,7]` might become:__</font>\n",
    "\n",
    "- `[4,5,6,7,0,1,2]` if it was rotated `4` times.\n",
    "- `[0,1,2,4,5,6,7]` if it was rotated `7` times.\n",
    "\n",
    "Notice that **rotating** an array `[a[0], a[1], a[2], ..., a[n-1]]` 1 time results in the array `[a[n-1], a[0], a[1], a[2], ..., a[n-2]]`.\n",
    "\n",
    "Given the sorted rotated array `nums` of **unique** elements, return *the minimum element of this array*.\n",
    "\n",
    "You must write an algorithm that runs in `O(log n) time.`\n",
    "\n",
    "**Example 1:**\n",
    ">Input: nums = [3,4,5,1,2]<br>\n",
    ">Output: 1\n",
    "\n",
    "**Explanation:** The original array was [1,2,3,4,5] rotated 3 times.\n",
    "\n",
    "**Example 2:**\n",
    ">Input: nums = [4,5,6,7,0,1,2]<br>\n",
    ">Output: 0\n",
    "\n",
    "**Explanation:** The original array was [0,1,2,4,5,6,7] and it was rotated 4 times.\n",
    "\n",
    "**Example 3:**\n",
    ">Input: nums = [11,13,15,17]<br>\n",
    ">Output: 11\n",
    "\n",
    "**Explanation:** The original array was [11,13,15,17] and it was rotated 4 times."
   ]
  },
  {
   "cell_type": "code",
   "execution_count": 6,
   "id": "d16e7021",
   "metadata": {},
   "outputs": [
    {
     "name": "stdout",
     "output_type": "stream",
     "text": [
      "1\n",
      "0\n",
      "11\n"
     ]
    }
   ],
   "source": [
    "# Function definition \n",
    "def findMin(nums):\n",
    "    left = 0\n",
    "    right = len(nums) - 1\n",
    "\n",
    "    while left < right:\n",
    "        mid = (left + right) // 2\n",
    "\n",
    "        if nums[mid] > nums[right]:\n",
    "            left = mid + 1\n",
    "        else:\n",
    "            right = mid\n",
    "\n",
    "    return nums[left]\n",
    "\n",
    "# Example usage:\n",
    "nums = [3, 4, 5, 1, 2]\n",
    "min_element = findMin(nums)\n",
    "print(min_element)\n",
    "\n",
    "nums = [4,5,6,7,0,1,2]\n",
    "min_element = findMin(nums)\n",
    "print(min_element)\n",
    "\n",
    "nums = [11,13,15,17]\n",
    "min_element = findMin(nums)\n",
    "print(min_element)\n"
   ]
  },
  {
   "cell_type": "markdown",
   "id": "94cae0c3",
   "metadata": {},
   "source": [
    "<font size = \"3\">__7. Given an array of integers `nums` sorted in non-decreasing order, find the starting and ending position of a given `target` value.__</font>\n",
    "\n",
    "If `target` is not found in the array, return `[-1, -1]`.\n",
    "\n",
    "You must write an algorithm with `O(log n)` runtime complexity.\n",
    "\n",
    "**Example 1:**\n",
    ">Input: nums = [5,7,7,8,8,10], target = 8<br>\n",
    ">Output: [3,4]\n",
    "\n",
    "**Example 2:**\n",
    ">Input: nums = [5,7,7,8,8,10], target = 6<br>\n",
    ">Output: [-1,-1]\n",
    "\n",
    "**Example 3:**\n",
    ">Input: nums = [], target = 0<br>\n",
    ">Output: [-1,-1]\n",
    "\n"
   ]
  },
  {
   "cell_type": "code",
   "execution_count": 7,
   "id": "2d04cbdf",
   "metadata": {},
   "outputs": [
    {
     "name": "stdout",
     "output_type": "stream",
     "text": [
      "[3, 4]\n",
      "[-1, -1]\n",
      "[-1, -1]\n"
     ]
    }
   ],
   "source": [
    "# Function definition \n",
    "def searchRange(nums, target):\n",
    "    left = findLeftmost(nums, target)\n",
    "    right = findRightmost(nums, target)\n",
    "    return [left, right]\n",
    "\n",
    "def findLeftmost(nums, target):\n",
    "    left = 0\n",
    "    right = len(nums) - 1\n",
    "    result = -1\n",
    "\n",
    "    while left <= right:\n",
    "        mid = (left + right) // 2\n",
    "\n",
    "        if nums[mid] == target:\n",
    "            result = mid\n",
    "            right = mid - 1\n",
    "        elif nums[mid] < target:\n",
    "            left = mid + 1\n",
    "        else:\n",
    "            right = mid - 1\n",
    "\n",
    "    return result\n",
    "\n",
    "def findRightmost(nums, target):\n",
    "    left = 0\n",
    "    right = len(nums) - 1\n",
    "    result = -1\n",
    "\n",
    "    while left <= right:\n",
    "        mid = (left + right) // 2\n",
    "\n",
    "        if nums[mid] == target:\n",
    "            result = mid\n",
    "            left = mid + 1\n",
    "        elif nums[mid] < target:\n",
    "            left = mid + 1\n",
    "        else:\n",
    "            right = mid - 1\n",
    "\n",
    "    return result\n",
    "\n",
    "# Example usage:\n",
    "nums = [5, 7, 7, 8, 8, 10]\n",
    "target = 8\n",
    "positions = searchRange(nums, target)\n",
    "print(positions)\n",
    "\n",
    "\n",
    "nums = [5,7,7,8,8,10]\n",
    "target = 6\n",
    "positions = searchRange(nums, target)\n",
    "print(positions)\n",
    "\n",
    "\n",
    "nums = []\n",
    "target = 0\n",
    "positions = searchRange(nums, target)\n",
    "print(positions)"
   ]
  },
  {
   "cell_type": "markdown",
   "id": "d4ab3f02",
   "metadata": {},
   "source": [
    "<font size = \"3\">__8. Given two integer arrays nums1 and nums2, return an array of their intersection. Each element in the result must appear as many times as it shows in both arrays and you may return the result in any order.__</font>\n",
    "\n",
    "**Example 1:**\n",
    ">Input: nums1 = [1,2,2,1], nums2 = [2,2]<br>\n",
    ">Output: [2,2]\n",
    "\n",
    "**Example 2:**\n",
    ">Input: nums1 = [4,9,5], nums2 = [9,4,9,8,4]<br>\n",
    ">Output: [4,9]\n",
    "\n",
    "**Explanation:** [9,4] is also accepted."
   ]
  },
  {
   "cell_type": "code",
   "execution_count": 8,
   "id": "08495f4c",
   "metadata": {},
   "outputs": [
    {
     "name": "stdout",
     "output_type": "stream",
     "text": [
      "[2, 2]\n",
      "[9, 4]\n"
     ]
    }
   ],
   "source": [
    "# Function definition\n",
    "from collections import defaultdict\n",
    "\n",
    "def intersect(nums1, nums2):\n",
    "    # Create a hash map to store the count of each element in nums1\n",
    "    count = defaultdict(int)\n",
    "    for num in nums1:\n",
    "        count[num] += 1\n",
    "\n",
    "    # Iterate through nums2 and check if each element exists in the hash map\n",
    "    # If it does, add it to the result array and decrement its count\n",
    "    result = []\n",
    "    for num in nums2:\n",
    "        if count[num] > 0:\n",
    "            result.append(num)\n",
    "            count[num] -= 1\n",
    "\n",
    "    return result\n",
    "\n",
    "# Example usage:\n",
    "nums1 = [1, 2, 2, 1]\n",
    "nums2 = [2, 2]\n",
    "result = intersect(nums1, nums2)\n",
    "print(result)\n",
    "\n",
    "nums1 = [4,9,5]\n",
    "nums2 = [9,4,9,8,4]\n",
    "result = intersect(nums1, nums2)\n",
    "print(result)"
   ]
  },
  {
   "cell_type": "markdown",
   "id": "d547546f",
   "metadata": {},
   "source": []
  }
 ],
 "metadata": {
  "kernelspec": {
   "display_name": "Python 3 (ipykernel)",
   "language": "python",
   "name": "python3"
  },
  "language_info": {
   "codemirror_mode": {
    "name": "ipython",
    "version": 3
   },
   "file_extension": ".py",
   "mimetype": "text/x-python",
   "name": "python",
   "nbconvert_exporter": "python",
   "pygments_lexer": "ipython3",
   "version": "3.10.9"
  }
 },
 "nbformat": 4,
 "nbformat_minor": 5
}
