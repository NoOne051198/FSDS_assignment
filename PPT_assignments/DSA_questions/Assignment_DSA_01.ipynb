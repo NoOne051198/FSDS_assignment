{
 "cells": [
  {
   "cell_type": "markdown",
   "id": "cc48352c",
   "metadata": {},
   "source": [
    "# Assignment - 01"
   ]
  },
  {
   "cell_type": "markdown",
   "id": "fed5b036",
   "metadata": {},
   "source": [
    "<font size = \"3\">__1. Given an array of integers nums and an integer target, return indices of the two numbers such that they add up to target.__</font>\n",
    "\n",
    "You may assume that each input would have exactly one solution, and you may not use the same element twice.\n",
    "\n",
    "You can return the answer in any order.\n",
    "\n",
    "**Example:**\n",
    ">Input: nums = [2,7,11,15], target = 9<br>\n",
    ">Output0 [0,1]\n",
    "\n",
    "**Explanation:** `Because nums[0] + nums[1] == 9, we return [0, 1]`"
   ]
  },
  {
   "cell_type": "code",
   "execution_count": 1,
   "id": "23547151",
   "metadata": {},
   "outputs": [
    {
     "name": "stdout",
     "output_type": "stream",
     "text": [
      "[0, 1]\n"
     ]
    }
   ],
   "source": [
    "def twoSum(nums, target):\n",
    "    # Create a hashmap to store elements and their indices\n",
    "    hashmap = {}\n",
    "    \n",
    "    # Iterate through the array\n",
    "    for i, num in enumerate(nums):\n",
    "        # Check if the complement exists in the hashmap\n",
    "        complement = target - num\n",
    "        if complement in hashmap:\n",
    "            # Return the indices of the two numbers\n",
    "            return [hashmap[complement], i]\n",
    "        \n",
    "        # Add the current element and its index to the hashmap\n",
    "        hashmap[num] = i\n",
    "    \n",
    "    # If no solution is found, return an empty list\n",
    "    return []\n",
    "\n",
    "# Driver code\n",
    "nums = [2, 7, 11, 15]\n",
    "target = 9\n",
    "result = twoSum(nums, target)\n",
    "print(result)  # Output: [0, 1]\n"
   ]
  },
  {
   "cell_type": "markdown",
   "id": "9a9e0bcd",
   "metadata": {},
   "source": [
    "<font size = \"3\">__2. Given an integer array nums and an integer val, remove all occurrences of val in nums in-place. The order of the elements may be changed. Then return the number of elements in nums which are not equal to val.__</font>\n",
    "\n",
    "Consider the number of elements in nums which are not equal to val be k, to get accepted, you need to do the following things:\n",
    "\n",
    "- Change the array nums such that the first k elements of nums contain the elements which are not equal to val. The remaining elements of nums are not important as well as the size of nums.\n",
    "- Return k.\n",
    "\n",
    "**Example :**\n",
    ">Input: nums = [3,2,2,3], val = 3<br>\n",
    ">Output: 2, nums = [2,2,_*,_*]\n",
    "\n",
    "**Explanation:** `Your function should return k = 2, with the first two elements of nums being 2. It does not matter what you leave beyond the returned k (hence they are underscores)`"
   ]
  },
  {
   "cell_type": "code",
   "execution_count": 2,
   "id": "cec81b2a",
   "metadata": {},
   "outputs": [
    {
     "name": "stdout",
     "output_type": "stream",
     "text": [
      "2\n",
      "[2, 2, 2, 3]\n"
     ]
    }
   ],
   "source": [
    "def removeElement(nums, val):\n",
    "    i = 0  # Pointer for copying non-val elements\n",
    "    for j in range(len(nums)):  # Pointer for iterating through nums\n",
    "        if nums[j] != val:\n",
    "            nums[i] = nums[j]\n",
    "            i += 1\n",
    "\n",
    "    return i\n",
    "\n",
    "# Driver code\n",
    "nums = [3, 2, 2, 3]\n",
    "val = 3\n",
    "result = removeElement(nums, val)\n",
    "print(result)  # Output: 2\n",
    "print(nums)  # Output: [2, 2, _, _]"
   ]
  },
  {
   "cell_type": "markdown",
   "id": "438446f9",
   "metadata": {},
   "source": [
    "<font size = \"3\">__3. Given a sorted array of distinct integers and a target value, return the index if the target is found. If not, return the index where it would be if it were inserted in order.__</font>\n",
    "\n",
    "You must write an algorithm with O(log n) runtime complexity.\n",
    "\n",
    "**Example 1:**\n",
    ">Input: nums = [1,3,5,6], target = 5<br>\n",
    ">Output: 2"
   ]
  },
  {
   "cell_type": "code",
   "execution_count": 3,
   "id": "f733f18a",
   "metadata": {},
   "outputs": [
    {
     "name": "stdout",
     "output_type": "stream",
     "text": [
      "2\n"
     ]
    }
   ],
   "source": [
    "def searchInsert(nums, target):\n",
    "    left, right = 0, len(nums) - 1\n",
    "\n",
    "    while left <= right:\n",
    "        mid = (left + right) // 2\n",
    "\n",
    "        if nums[mid] == target:\n",
    "            return mid\n",
    "        elif nums[mid] < target:\n",
    "            left = mid + 1\n",
    "        else:\n",
    "            right = mid - 1\n",
    "\n",
    "    return left\n",
    "\n",
    "# Driver code\n",
    "nums = [1, 3, 5, 6]\n",
    "target = 5\n",
    "result = searchInsert(nums, target)\n",
    "print(result)  # Output: 2\n"
   ]
  },
  {
   "cell_type": "markdown",
   "id": "29147a70",
   "metadata": {},
   "source": [
    "<font size = \"3\">__4. You are given a large integer represented as an integer array digits, where each digits[i] is the ith digit of the integer. The digits are ordered from most significant to least significant in left-to-right order. The large integer does not contain any leading 0's.__</font>\n",
    "\n",
    "Increment the large integer by one and return the resulting array of digits.\n",
    "\n",
    "**Example 1:**\n",
    ">Input: digits = [1,2,3]<br>\n",
    ">Output: [1,2,4]\n",
    "\n",
    "**Explanation:** `The array represents the integer 123.`\n",
    "\n",
    "`Incrementing by one gives 123 + 1 = 124.`<br>\n",
    "`Thus, the result should be [1,2,4].`"
   ]
  },
  {
   "cell_type": "code",
   "execution_count": 4,
   "id": "d1ad2414",
   "metadata": {},
   "outputs": [
    {
     "name": "stdout",
     "output_type": "stream",
     "text": [
      "[1, 2, 4]\n"
     ]
    }
   ],
   "source": [
    "def plusOne(digits):\n",
    "    carry = 1\n",
    "    for i in range(len(digits) - 1, -1, -1):\n",
    "        digits[i] += carry\n",
    "        carry = digits[i] // 10\n",
    "        digits[i] %= 10\n",
    "        if carry == 0:\n",
    "            break\n",
    "    if carry != 0:\n",
    "        digits.insert(0, carry)\n",
    "    return digits\n",
    "\n",
    "# Driver code\n",
    "digits = [1, 2, 3]\n",
    "result = plusOne(digits)\n",
    "print(result)  # Output: [1, 2, 4]\n"
   ]
  },
  {
   "cell_type": "markdown",
   "id": "1b898fac",
   "metadata": {},
   "source": [
    "<font size = \"3\">__5. You are given two integer arrays nums1 and nums2, sorted in non-decreasing order, and two integers m and n, representing the number of elements in nums1 and nums2 respectively.__</font>\n",
    "\n",
    "Merge nums1 and nums2 into a single array sorted in non-decreasing order.\n",
    "\n",
    "The final sorted array should not be returned by the function, but instead be stored inside the array nums1. To accommodate this, nums1 has a length of m + n, where the first m elements denote the elements that should be merged, and the last n elements are set to 0 and should be ignored. nums2 has a length of n.\n",
    "\n",
    "**Example 1:**\n",
    ">Input: nums1 = [1,2,3,0,0,0], m = 3, nums2 = [2,5,6], n = 3<br>\n",
    ">Output: [1,2,2,3,5,6]\n",
    "\n",
    "**Explanation:** `The arrays we are merging are [1,2,3] and [2,5,6].`\n",
    "`The result of the merge is [1,2,2,3,5,6] with the underlined elements coming from nums1.`"
   ]
  },
  {
   "cell_type": "code",
   "execution_count": 5,
   "id": "76b48908",
   "metadata": {},
   "outputs": [
    {
     "name": "stdout",
     "output_type": "stream",
     "text": [
      "[1, 2, 2, 3, 5, 6]\n"
     ]
    }
   ],
   "source": [
    "def merge(nums1, m, nums2, n):\n",
    "    p1 = m - 1\n",
    "    p2 = n - 1\n",
    "    p = m + n - 1\n",
    "\n",
    "    while p1 >= 0 and p2 >= 0:\n",
    "        if nums1[p1] > nums2[p2]:\n",
    "            nums1[p] = nums1[p1]\n",
    "            p1 -= 1\n",
    "        else:\n",
    "            nums1[p] = nums2[p2]\n",
    "            p2 -= 1\n",
    "        p -= 1\n",
    "\n",
    "    # Copy remaining elements from nums2 to nums1\n",
    "    nums1[:p2 + 1] = nums2[:p2 + 1]\n",
    "\n",
    "    return nums1\n",
    "\n",
    "# Driver code\n",
    "nums1 = [1, 2, 3, 0, 0, 0]\n",
    "m = 3\n",
    "nums2 = [2, 5, 6]\n",
    "n = 3\n",
    "result = merge(nums1, m, nums2, n)\n",
    "print(result)  # Output: [1, 2, 2, 3, 5, 6]\n"
   ]
  },
  {
   "cell_type": "markdown",
   "id": "9031540e",
   "metadata": {},
   "source": [
    "<font size = \"3\">__6. Given an integer array nums, return true if any value appears at least twice in the array, and return false if every element is distinct.__</font>\n",
    "\n",
    "**Example 1:**\n",
    ">Input: nums = [1,2,3,1]<br>\n",
    ">Output: true"
   ]
  },
  {
   "cell_type": "code",
   "execution_count": 6,
   "id": "3a8b11fc",
   "metadata": {},
   "outputs": [
    {
     "name": "stdout",
     "output_type": "stream",
     "text": [
      "True\n"
     ]
    }
   ],
   "source": [
    "def containsDuplicate(nums):\n",
    "    seen = set()\n",
    "    for num in nums:\n",
    "        if num in seen:\n",
    "            return True\n",
    "        seen.add(num)\n",
    "    return False\n",
    "\n",
    "# Driver code\n",
    "nums = [1, 2, 3, 1]\n",
    "result = containsDuplicate(nums)\n",
    "print(result)  # Output: True\n"
   ]
  },
  {
   "cell_type": "markdown",
   "id": "e5c8de99",
   "metadata": {},
   "source": [
    "<font size = \"3\">__7. Given an integer array nums, move all 0's to the end of it while maintaining the relative order of the nonzero elements.__</font>\n",
    "\n",
    "Note that you must do this in-place without making a copy of the array.\n",
    "\n",
    "**Example 1:**\n",
    ">Input: nums = [0,1,0,3,12]<br>\n",
    ">Output: [1,3,12,0,0]"
   ]
  },
  {
   "cell_type": "code",
   "execution_count": 7,
   "id": "b0fb6ac6",
   "metadata": {},
   "outputs": [
    {
     "name": "stdout",
     "output_type": "stream",
     "text": [
      "[1, 3, 12, 0, 0]\n"
     ]
    }
   ],
   "source": [
    "def moveZeroes(nums):\n",
    "    i = 0  # Pointer for nonzero elements\n",
    "\n",
    "    for j in range(len(nums)):  # Pointer for iterating through nums\n",
    "        if nums[j] != 0:\n",
    "            nums[i], nums[j] = nums[j], nums[i]\n",
    "            i += 1\n",
    "\n",
    "    # Set remaining elements to 0\n",
    "    for k in range(i, len(nums)):\n",
    "        nums[k] = 0\n",
    "\n",
    "    return nums\n",
    "\n",
    "# Driver code\n",
    "nums = [0, 1, 0, 3, 12]\n",
    "result = moveZeroes(nums)\n",
    "print(result)  # Output: [1, 3, 12, 0, 0]\n"
   ]
  },
  {
   "cell_type": "markdown",
   "id": "dd0e1ae9",
   "metadata": {},
   "source": [
    "<font size = \"3\">__8. You have a set of integers s, which originally contains all the numbers from 1 to n. Unfortunately, due to some error, one of the numbers in s got duplicated to another number in the set, which results in repetition of one number and loss of another number.__</font>\n",
    "\n",
    "You are given an integer array nums representing the data status of this set after the error.\n",
    "\n",
    "Find the number that occurs twice and the number that is missing and return them in the form of an array.\n",
    "\n",
    "**Example 1:**\n",
    ">Input: nums = [1,2,2,4]<br>\n",
    ">Output: [2,3]"
   ]
  },
  {
   "cell_type": "code",
   "execution_count": 8,
   "id": "1555bd87",
   "metadata": {},
   "outputs": [
    {
     "name": "stdout",
     "output_type": "stream",
     "text": [
      "[2, 3]\n"
     ]
    }
   ],
   "source": [
    "def findErrorNums(nums):\n",
    "    numSet = set()\n",
    "    duplicate = 0\n",
    "    missing = 0\n",
    "\n",
    "    for num in nums:\n",
    "        if num in numSet:\n",
    "            duplicate = num\n",
    "        numSet.add(num)\n",
    "\n",
    "    for i in range(1, len(nums) + 1):\n",
    "        if i not in numSet:\n",
    "            missing = i\n",
    "\n",
    "    return [duplicate, missing]\n",
    "\n",
    "# Driver code\n",
    "nums = [1, 2, 2, 4]\n",
    "result = findErrorNums(nums)\n",
    "print(result)  # Output: [2, 3]\n"
   ]
  },
  {
   "cell_type": "markdown",
   "id": "fb4c44d4",
   "metadata": {},
   "source": []
  }
 ],
 "metadata": {
  "kernelspec": {
   "display_name": "Python 3 (ipykernel)",
   "language": "python",
   "name": "python3"
  },
  "language_info": {
   "codemirror_mode": {
    "name": "ipython",
    "version": 3
   },
   "file_extension": ".py",
   "mimetype": "text/x-python",
   "name": "python",
   "nbconvert_exporter": "python",
   "pygments_lexer": "ipython3",
   "version": "3.10.9"
  }
 },
 "nbformat": 4,
 "nbformat_minor": 5
}
