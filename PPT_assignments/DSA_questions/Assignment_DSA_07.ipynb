{
 "cells": [
  {
   "cell_type": "markdown",
   "id": "7b6c0cee",
   "metadata": {},
   "source": [
    "# Assignment - 07"
   ]
  },
  {
   "cell_type": "markdown",
   "id": "9641b8c5",
   "metadata": {},
   "source": [
    "<font size = \"3\">__1. Given two strings s and t, determine if they are isomorphic.__</font>\n",
    "\n",
    "Two strings s and t are isomorphic if the characters in s can be replaced to get t.\n",
    "\n",
    "All occurrences of a character must be replaced with another character while preserving the order of characters. No two characters may map to the same character, but a character may map to itself.\n",
    "\n",
    "**Example 1:**\n",
    "\n",
    ">Input: s = \"egg\", t = \"add\"<br>\n",
    ">Output: true"
   ]
  },
  {
   "cell_type": "code",
   "execution_count": 1,
   "id": "9ffa78ba",
   "metadata": {},
   "outputs": [
    {
     "name": "stdout",
     "output_type": "stream",
     "text": [
      "True\n"
     ]
    }
   ],
   "source": [
    "# Function definition \n",
    "def isIsomorphic(s, t):\n",
    "    if len(s) != len(t):\n",
    "        return False\n",
    "\n",
    "    s_map = {}\n",
    "    t_map = {}\n",
    "\n",
    "    for i in range(len(s)):\n",
    "        if s[i] in s_map:\n",
    "            if s_map[s[i]] != t[i]:\n",
    "                return False\n",
    "        else:\n",
    "            s_map[s[i]] = t[i]\n",
    "\n",
    "        if t[i] in t_map:\n",
    "            if t_map[t[i]] != s[i]:\n",
    "                return False\n",
    "        else:\n",
    "            t_map[t[i]] = s[i]\n",
    "\n",
    "    return True\n",
    "\n",
    "# Driver code\n",
    "s = \"egg\"\n",
    "t = \"add\"\n",
    "\n",
    "print(isIsomorphic(s, t))  # Output: True\n"
   ]
  },
  {
   "cell_type": "markdown",
   "id": "c6a0ebe8",
   "metadata": {},
   "source": [
    "<font size = \"3\">__2. Given a string num which represents an integer, return true if num is a strobogrammatic number.__</font>\n",
    "\n",
    "A **strobogrammatic number** is a number that looks the same when rotated 180 degrees (looked at upside down).\n",
    "\n",
    "**Example 1:**\n",
    "\n",
    ">Input: num = \"69\"<br>\n",
    ">Output: true"
   ]
  },
  {
   "cell_type": "code",
   "execution_count": 2,
   "id": "53da7542",
   "metadata": {},
   "outputs": [
    {
     "name": "stdout",
     "output_type": "stream",
     "text": [
      "True\n"
     ]
    }
   ],
   "source": [
    "# Function definition \n",
    "def isStrobogrammatic(num):\n",
    "    valid_pairs = {\"00\", \"11\", \"69\", \"96\", \"88\"}\n",
    "    left, right = 0, len(num) - 1\n",
    "\n",
    "    while left <= right:\n",
    "        pair = num[left] + num[right]\n",
    "        if pair not in valid_pairs:\n",
    "            return False\n",
    "\n",
    "        left += 1\n",
    "        right -= 1\n",
    "\n",
    "    return True\n",
    "\n",
    "# Driver code\n",
    "num = \"69\"\n",
    "print(isStrobogrammatic(num))  # Output: True\n"
   ]
  },
  {
   "cell_type": "markdown",
   "id": "43c0788e",
   "metadata": {},
   "source": [
    "<font size = \"3\">__3. Given two non-negative integers, num1 and num2 represented as string, return the sum of num1 and num2 as a string.__</font>\n",
    "\n",
    "You must solve the problem without using any built-in library for handling large integers (such as BigInteger). You must also not convert the inputs to integers directly.\n",
    "\n",
    "**Example 1:**\n",
    "\n",
    ">Input: num1 = \"11\", num2 = \"123\"<br>\n",
    ">Output: \"134\""
   ]
  },
  {
   "cell_type": "code",
   "execution_count": 3,
   "id": "282bba14",
   "metadata": {},
   "outputs": [
    {
     "name": "stdout",
     "output_type": "stream",
     "text": [
      "134\n"
     ]
    }
   ],
   "source": [
    "# Function definition \n",
    "def addStrings(num1, num2):\n",
    "    result = \"\"\n",
    "    p1, p2 = len(num1) - 1, len(num2) - 1\n",
    "    carry = 0\n",
    "\n",
    "    while p1 >= 0 or p2 >= 0:\n",
    "        digit1 = int(num1[p1]) if p1 >= 0 else 0\n",
    "        digit2 = int(num2[p2]) if p2 >= 0 else 0\n",
    "        current_sum = digit1 + digit2 + carry\n",
    "\n",
    "        carry = current_sum // 10\n",
    "        digit_sum = current_sum % 10\n",
    "\n",
    "        result += str(digit_sum)\n",
    "\n",
    "        p1 -= 1\n",
    "        p2 -= 1\n",
    "\n",
    "    if carry > 0:\n",
    "        result += str(carry)\n",
    "\n",
    "    return result[::-1]\n",
    "\n",
    "# Driver function \n",
    "num1 = \"11\"\n",
    "num2 = \"123\"\n",
    "print(addStrings(num1, num2))  # Output: \"134\"\n"
   ]
  },
  {
   "cell_type": "markdown",
   "id": "546f59d8",
   "metadata": {},
   "source": [
    "<font size = \"3\">__4. Given a string s, reverse the order of characters in each word within a sentence while still preserving whitespace and initial word order.__</font>\n",
    "\n",
    "**Example 1:**\n",
    "\n",
    ">Input: s = \"Let's take LeetCode contest\"<br>\n",
    ">Output: \"s'teL ekat edoCteeL tsetnoc\""
   ]
  },
  {
   "cell_type": "code",
   "execution_count": 4,
   "id": "79605e77",
   "metadata": {},
   "outputs": [
    {
     "name": "stdout",
     "output_type": "stream",
     "text": [
      "s'teL ekat edoCteeL tsetnoc\n"
     ]
    }
   ],
   "source": [
    "# Function definition \n",
    "def reverseWords(s):\n",
    "    words = s.split()\n",
    "    reversed_words = [word[::-1] for word in words]\n",
    "    return ' '.join(reversed_words)\n",
    "\n",
    "# Driver code\n",
    "s = \"Let's take LeetCode contest\"\n",
    "print(reverseWords(s))  # Output: \"s'teL ekat edoCteeL tsetnoc\"\n"
   ]
  },
  {
   "cell_type": "markdown",
   "id": "41874257",
   "metadata": {},
   "source": [
    "<font size = \"3\">__5. Given a string s and an integer k, reverse the first k characters for every 2k characters counting from the start of the string.__</font>\n",
    "\n",
    "If there are fewer than k characters left, reverse all of them. If there are less than 2k but greater than or equal to k characters, then reverse the first k characters and leave the other as original.\n",
    "\n",
    "**Example 1:**\n",
    "\n",
    ">Input: s = \"abcdefg\", k = 2<br>\n",
    ">Output: \"bacdfeg\""
   ]
  },
  {
   "cell_type": "code",
   "execution_count": 5,
   "id": "1cf1ae4a",
   "metadata": {},
   "outputs": [
    {
     "name": "stdout",
     "output_type": "stream",
     "text": [
      "bacdfeg\n"
     ]
    }
   ],
   "source": [
    "# Function definition \n",
    "def reverseStr(s, k):\n",
    "    chars = list(s)\n",
    "    n = len(chars)\n",
    "    for i in range(0, n, 2*k):\n",
    "        chars[i:i+k] = reversed(chars[i:i+k])\n",
    "    return ''.join(chars)\n",
    "\n",
    "# Driver code\n",
    "s = \"abcdefg\"\n",
    "k = 2\n",
    "print(reverseStr(s, k))  # Output: \"bacdfeg\"\n"
   ]
  },
  {
   "cell_type": "markdown",
   "id": "41f4d344",
   "metadata": {},
   "source": [
    "<font size = \"3\">__6. Given two strings s and goal, return true if and only if s can become goal after some number of shifts on s.__</font>\n",
    "\n",
    "A **shift** on s consists of moving the leftmost character of s to the rightmost position.\n",
    "\n",
    "- For example, if s = \"abcde\", then it will be \"bcdea\" after one shift.\n",
    "\n",
    "**Example 1:**\n",
    "\n",
    ">Input: s = \"abcde\", goal = \"cdeab\"<br>\n",
    ">Output: true"
   ]
  },
  {
   "cell_type": "code",
   "execution_count": 6,
   "id": "9fb2ed36",
   "metadata": {},
   "outputs": [
    {
     "name": "stdout",
     "output_type": "stream",
     "text": [
      "True\n"
     ]
    }
   ],
   "source": [
    "# Function definition \n",
    "def canShift(s, goal):\n",
    "    if len(s) != len(goal):\n",
    "        return False\n",
    "\n",
    "    # Concatenate s with itself\n",
    "    s_concat = s + s\n",
    "\n",
    "    # Check if goal is a substring of s_concat\n",
    "    if goal in s_concat:\n",
    "        return True\n",
    "    else:\n",
    "        return False\n",
    "\n",
    "# Driver code\n",
    "s = \"abcde\"\n",
    "goal = \"cdeab\"\n",
    "result = canShift(s, goal)\n",
    "print(result)"
   ]
  },
  {
   "cell_type": "markdown",
   "id": "6b3e72c1",
   "metadata": {},
   "source": [
    "<font size = \"3\">__7. Given two strings s and t, return true *if they are equal when both are typed into empty text editors*. '#' means a backspace character.__</font>\n",
    "\n",
    "Note that after backspacing an empty text, the text will continue empty.\n",
    "\n",
    "**Example 1:**\n",
    "\n",
    ">Input: s = \"ab#c\", t = \"ad#c\"\n",
    ">Output: true\n",
    "\n",
    "**Explanation:**\n",
    "\n",
    "`Both s and t become \"ac\".`"
   ]
  },
  {
   "cell_type": "code",
   "execution_count": 7,
   "id": "dad26c0a",
   "metadata": {},
   "outputs": [
    {
     "name": "stdout",
     "output_type": "stream",
     "text": [
      "True\n"
     ]
    }
   ],
   "source": [
    "# Function definition \n",
    "def backspaceCompare(s, t):\n",
    "    stack_s = []\n",
    "    stack_t = []\n",
    "\n",
    "    for char in s:\n",
    "        if char != '#':\n",
    "            stack_s.append(char)\n",
    "        elif stack_s:\n",
    "            stack_s.pop()\n",
    "\n",
    "    for char in t:\n",
    "        if char != '#':\n",
    "            stack_t.append(char)\n",
    "        elif stack_t:\n",
    "            stack_t.pop()\n",
    "\n",
    "    return stack_s == stack_t\n",
    "\n",
    "# Driver code\n",
    "s = \"ab#c\"\n",
    "t = \"ad#c\"\n",
    "print(backspaceCompare(s, t))  # Output: True"
   ]
  },
  {
   "cell_type": "markdown",
   "id": "e263d284",
   "metadata": {},
   "source": [
    "<font size = \"3\">__8. You are given an array coordinates, coordinates[i] = [x, y], where [x, y] represents the coordinate of a point. Check if these points make a straight line in the XY plane.__</font>\n",
    "\n",
    "**Example 1:**\n",
    ">Input: coordinates = [[1,2],[2,3],[3,4],[4,5],[5,6],[6,7]]<br>\n",
    ">Output: true"
   ]
  },
  {
   "cell_type": "code",
   "execution_count": 8,
   "id": "5bce8117",
   "metadata": {},
   "outputs": [
    {
     "name": "stdout",
     "output_type": "stream",
     "text": [
      "True\n"
     ]
    }
   ],
   "source": [
    "# Function definition \n",
    "def checkStraightLine(coordinates):\n",
    "    x1, y1 = coordinates[0]\n",
    "    x2, y2 = coordinates[1]\n",
    "    initial_slope = (y2 - y1) / (x2 - x1) if x2 != x1 else float('inf')\n",
    "\n",
    "    for i in range(2, len(coordinates)):\n",
    "        x, y = coordinates[i]\n",
    "        slope = (y - y1) / (x - x1) if x != x1 else float('inf')\n",
    "        if slope != initial_slope:\n",
    "            return False\n",
    "\n",
    "    return True\n",
    "\n",
    "# Driver function \n",
    "coordinates = [[1,2],[2,3],[3,4],[4,5],[5,6],[6,7]]\n",
    "print(checkStraightLine(coordinates))  # Output: True\n"
   ]
  },
  {
   "cell_type": "markdown",
   "id": "737fdbcd",
   "metadata": {},
   "source": []
  }
 ],
 "metadata": {
  "kernelspec": {
   "display_name": "Python 3 (ipykernel)",
   "language": "python",
   "name": "python3"
  },
  "language_info": {
   "codemirror_mode": {
    "name": "ipython",
    "version": 3
   },
   "file_extension": ".py",
   "mimetype": "text/x-python",
   "name": "python",
   "nbconvert_exporter": "python",
   "pygments_lexer": "ipython3",
   "version": "3.10.9"
  }
 },
 "nbformat": 4,
 "nbformat_minor": 5
}
