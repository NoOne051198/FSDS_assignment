{
 "cells": [
  {
   "cell_type": "markdown",
   "id": "c062301e",
   "metadata": {},
   "source": [
    "# Assignment - 03"
   ]
  },
  {
   "cell_type": "markdown",
   "id": "25c94615",
   "metadata": {},
   "source": [
    "<font size = \"3\">__1. Given an integer array nums of length n and an integer target, find three integers in nums such that the sum is closest to the target.__</font>\n",
    "Return the sum of the three integers.\n",
    "\n",
    "You may assume that each input would have exactly one solution.\n",
    "\n",
    "**Example 1:**\n",
    ">Input: nums = [-1,2,1,-4], target = 1<br>\n",
    ">Output: 2\n",
    "\n",
    "**Explanation:**\n",
    "`The sum that is closest to the target is 2. (-1 + 2 + 1 = 2).`"
   ]
  },
  {
   "cell_type": "code",
   "execution_count": 1,
   "id": "a04b9faf",
   "metadata": {},
   "outputs": [
    {
     "name": "stdout",
     "output_type": "stream",
     "text": [
      "2\n"
     ]
    }
   ],
   "source": [
    "def threeSumClosest(nums, target):\n",
    "    nums.sort()\n",
    "    n = len(nums)\n",
    "    closest_sum = float('inf')\n",
    "\n",
    "    for i in range(n - 2):\n",
    "        left = i + 1\n",
    "        right = n - 1\n",
    "\n",
    "        while left < right:\n",
    "            current_sum = nums[i] + nums[left] + nums[right]\n",
    "            if current_sum == target:\n",
    "                return target\n",
    "            closest_sum = min(closest_sum, current_sum, key=lambda x: abs(x - target))\n",
    "\n",
    "            if current_sum < target:\n",
    "                left += 1\n",
    "            else:\n",
    "                right -= 1\n",
    "\n",
    "    return closest_sum\n",
    "\n",
    "# Driver code\n",
    "nums = [-1, 2, 1, -4]\n",
    "target = 1\n",
    "result = threeSumClosest(nums, target)\n",
    "print(result)  # Output: 2\n"
   ]
  },
  {
   "cell_type": "markdown",
   "id": "f67acea6",
   "metadata": {},
   "source": [
    "<font size = \"3\">__2. Given an array nums of n integers, return an array of all the unique quadruplets__</font><br>\n",
    "[nums[a], nums[b], nums[c], nums[d]] such that:<br>\n",
    "           ● 0 <= a, b, c, d < n<br>\n",
    "           ● a, b, c, and d are distinct.<br>\n",
    "           ● nums[a] + nums[b] + nums[c] + nums[d] == target<br>\n",
    "\n",
    "You may return the answer in any order.\n",
    "\n",
    "**Example 1:**\n",
    ">Input: nums = [1,0,-1,0,-2,2], target = 0<br>\n",
    ">Output: [[-2,-1,1,2],[-2,0,0,2],[-1,0,0,1]]"
   ]
  },
  {
   "cell_type": "code",
   "execution_count": 2,
   "id": "850390e7",
   "metadata": {},
   "outputs": [
    {
     "name": "stdout",
     "output_type": "stream",
     "text": [
      "[[-2, -1, 1, 2], [-2, 0, 0, 2], [-1, 0, 0, 1]]\n"
     ]
    }
   ],
   "source": [
    "def fourSum(nums, target):\n",
    "    nums.sort()\n",
    "    n = len(nums)\n",
    "    result = []\n",
    "\n",
    "    for i in range(n - 3):\n",
    "        if i > 0 and nums[i] == nums[i - 1]:\n",
    "            continue\n",
    "\n",
    "        for j in range(i + 1, n - 2):\n",
    "            if j > i + 1 and nums[j] == nums[j - 1]:\n",
    "                continue\n",
    "\n",
    "            left = j + 1\n",
    "            right = n - 1\n",
    "\n",
    "            while left < right:\n",
    "                current_sum = nums[i] + nums[j] + nums[left] + nums[right]\n",
    "\n",
    "                if current_sum == target:\n",
    "                    result.append([nums[i], nums[j], nums[left], nums[right]])\n",
    "                    left += 1\n",
    "                    right -= 1\n",
    "\n",
    "                    while left < right and nums[left] == nums[left - 1]:\n",
    "                        left += 1\n",
    "                    while left < right and nums[right] == nums[right + 1]:\n",
    "                        right -= 1\n",
    "\n",
    "                elif current_sum < target:\n",
    "                    left += 1\n",
    "                else:\n",
    "                    right -= 1\n",
    "\n",
    "    return result\n",
    "\n",
    "# Driver code\n",
    "nums = [1, 0, -1, 0, -2, 2]\n",
    "target = 0\n",
    "result = fourSum(nums, target)\n",
    "print(result)  # Output: [[-2, -1, 1, 2], [-2, 0, 0, 2], [-1, 0, 0, 1]]\n"
   ]
  },
  {
   "cell_type": "markdown",
   "id": "d8a88e8d",
   "metadata": {},
   "source": [
    "<font size = \"3\">__3. A permutation of an array of integers is an arrangement of its members into a\n",
    "sequence or linear order.__</font>\n",
    "\n",
    "For example, for arr = [1,2,3], the following are all the permutations of arr:\n",
    "[1,2,3], [1,3,2], [2, 1, 3], [2, 3, 1], [3,1,2], [3,2,1].\n",
    "\n",
    "The next permutation of an array of integers is the next lexicographically greater\n",
    "permutation of its integer. More formally, if all the permutations of the array are\n",
    "sorted in one container according to their lexicographical order, then the next\n",
    "permutation of that array is the permutation that follows it in the sorted container.\n",
    "\n",
    "If such an arrangement is not possible, the array must be rearranged as the\n",
    "lowest possible order (i.e., sorted in ascending order).<br>\n",
    "\n",
    "● For example, the next permutation of arr = [1,2,3] is [1,3,2].<br>\n",
    "● Similarly, the next permutation of arr = [2,3,1] is [3,1,2].<br>\n",
    "● While the next permutation of arr = [3,2,1] is [1,2,3] because [3,2,1] does not\n",
    "have a lexicographical larger rearrangement.<br>\n",
    "\n",
    "Given an array of integers nums, find the next permutation of nums.\n",
    "The replacement must be in place and use only constant extra memory.\n",
    "\n",
    "**Example 1:**\n",
    ">Input: nums = [1,2,3]<br>\n",
    ">Output: [1,3,2]"
   ]
  },
  {
   "cell_type": "code",
   "execution_count": 3,
   "id": "01a6339c",
   "metadata": {},
   "outputs": [
    {
     "name": "stdout",
     "output_type": "stream",
     "text": [
      "[1, 3, 2]\n"
     ]
    }
   ],
   "source": [
    "def nextPermutation(nums):\n",
    "    # Find the first pair of adjacent elements nums[i] and nums[i+1] such that nums[i] < nums[i+1]\n",
    "    i = len(nums) - 2\n",
    "    while i >= 0 and nums[i] >= nums[i+1]:\n",
    "        i -= 1\n",
    "\n",
    "    if i >= 0:\n",
    "        # Find the rightmost element nums[j] to the right of nums[i] such that nums[j] > nums[i]\n",
    "        j = len(nums) - 1\n",
    "        while j > i and nums[j] <= nums[i]:\n",
    "            j -= 1\n",
    "        # Swap nums[i] and nums[j]\n",
    "        nums[i], nums[j] = nums[j], nums[i]\n",
    "\n",
    "    # Reverse the subarray to the right of index i\n",
    "    left = i + 1\n",
    "    right = len(nums) - 1\n",
    "    while left < right:\n",
    "        nums[left], nums[right] = nums[right], nums[left]\n",
    "        left += 1\n",
    "        right -= 1\n",
    "\n",
    "    return nums\n",
    "\n",
    "# Driver code\n",
    "nums = [1, 2, 3]\n",
    "result = nextPermutation(nums)\n",
    "print(result)  # Output: [1, 3, 2]\n"
   ]
  },
  {
   "cell_type": "markdown",
   "id": "877588e9",
   "metadata": {},
   "source": [
    "<font size = \"3\">__4. Given a sorted array of distinct integers and a target value, return the index if the\n",
    "target is found. If not, return the index where it would be if it were inserted in\n",
    "order.__</font>\n",
    "\n",
    "You must write an algorithm with O(log n) runtime complexity.\n",
    "\n",
    "**Example 1:**\n",
    ">Input: nums = [1,3,5,6], target = 5<br>\n",
    ">Output: 2"
   ]
  },
  {
   "cell_type": "code",
   "execution_count": 4,
   "id": "3f7c8bae",
   "metadata": {},
   "outputs": [
    {
     "name": "stdout",
     "output_type": "stream",
     "text": [
      "2\n"
     ]
    }
   ],
   "source": [
    "def searchInsert(nums, target):\n",
    "    left, right = 0, len(nums) - 1\n",
    "\n",
    "    while left <= right:\n",
    "        mid = (left + right) // 2\n",
    "\n",
    "        if nums[mid] == target:\n",
    "            return mid\n",
    "        elif nums[mid] < target:\n",
    "            left = mid + 1\n",
    "        else:\n",
    "            right = mid - 1\n",
    "\n",
    "    return left\n",
    "\n",
    "# Driver code\n",
    "nums = [1, 3, 5, 6]\n",
    "target = 5\n",
    "result = searchInsert(nums, target)\n",
    "print(result)  # Output: 2\n"
   ]
  },
  {
   "cell_type": "markdown",
   "id": "f4d2622e",
   "metadata": {},
   "source": [
    "<font size = \"3\">__5. You are given a large integer represented as an integer array digits, where each\n",
    "digits[i] is the ith digit of the integer. The digits are ordered from most significant\n",
    "to least significant in left-to-right order. The large integer does not contain any\n",
    "leading 0's.__</font>\n",
    "\n",
    "Increment the large integer by one and return the resulting array of digits.\n",
    "\n",
    "**Example 1:**\n",
    ">Input: digits = [1,2,3]<br>\n",
    ">Output: [1,2,4]\n",
    "\n",
    "**Explanation:** `The array represents the integer 123.`<br>\n",
    "`Incrementing by one gives 123 + 1 = 124.`<br>\n",
    "`Thus, the result should be [1,2,4].`"
   ]
  },
  {
   "cell_type": "code",
   "execution_count": 5,
   "id": "03d45595",
   "metadata": {},
   "outputs": [
    {
     "name": "stdout",
     "output_type": "stream",
     "text": [
      "[1, 2, 4]\n"
     ]
    }
   ],
   "source": [
    "def plusOne(digits):\n",
    "    carry = 1\n",
    "\n",
    "    for i in range(len(digits) - 1, -1, -1):\n",
    "        digits[i] += carry\n",
    "        carry = digits[i] // 10\n",
    "        digits[i] %= 10\n",
    "\n",
    "        if carry == 0:\n",
    "            break\n",
    "\n",
    "    if carry != 0:\n",
    "        digits.insert(0, carry)\n",
    "\n",
    "    return digits\n",
    "\n",
    "# Driver code\n",
    "digits = [1, 2, 3]\n",
    "result = plusOne(digits)\n",
    "print(result)  # Output: [1, 2, 4]\n"
   ]
  },
  {
   "cell_type": "markdown",
   "id": "a64ba237",
   "metadata": {},
   "source": [
    "<font size = \"3\">__6. Given a non-empty array of integers nums, every element appears twice except\n",
    "for one. Find that single one.__</font>\n",
    "\n",
    "You must implement a solution with a linear runtime complexity and use only constant extra space.\n",
    "\n",
    "**Example 1:**\n",
    ">Input: nums = [2,2,1]<br>\n",
    ">Output: 1"
   ]
  },
  {
   "cell_type": "code",
   "execution_count": 6,
   "id": "a2678ca8",
   "metadata": {},
   "outputs": [
    {
     "name": "stdout",
     "output_type": "stream",
     "text": [
      "1\n"
     ]
    }
   ],
   "source": [
    "def singleNumber(nums):\n",
    "    result = 0\n",
    "\n",
    "    for num in nums:\n",
    "        result ^= num\n",
    "\n",
    "    return result\n",
    "\n",
    "# Driver code\n",
    "nums = [2, 2, 1]\n",
    "result = singleNumber(nums)\n",
    "print(result)  # Output: 1\n"
   ]
  },
  {
   "cell_type": "markdown",
   "id": "0c40f8c8",
   "metadata": {},
   "source": [
    "<font size = \"3\">__7. You are given an inclusive range [lower, upper] and a sorted unique integer array\n",
    "nums, where all elements are within the inclusive range.__</font>\n",
    "\n",
    "A number x is considered missing if x is in the range [lower, upper] and x is not in\n",
    "nums.\n",
    "\n",
    "Return the shortest sorted list of ranges that exactly covers all the missing\n",
    "numbers. That is, no element of nums is included in any of the ranges, and each\n",
    "missing number is covered by one of the ranges.\n",
    "\n",
    "**Example 1:**\n",
    ">Input: nums = [0,1,3,50,75], lower = 0, upper = 99<br>\n",
    ">Output: [[2,2],[4,49],[51,74],[76,99]]\n",
    "\n",
    "**Explanation:** `The ranges are:`<br>\n",
    "`[2,2]`<br>\n",
    "`[4,49]`<br>\n",
    "`[51,74]`<br>\n",
    "`[76,99]`"
   ]
  },
  {
   "cell_type": "code",
   "execution_count": 7,
   "id": "029c28af",
   "metadata": {},
   "outputs": [
    {
     "name": "stdout",
     "output_type": "stream",
     "text": [
      "[[2, 2], [4, 49], [51, 74], [76, 99]]\n"
     ]
    }
   ],
   "source": [
    "def findMissingRanges(nums, lower, upper):\n",
    "    result = []\n",
    "    start = lower\n",
    "\n",
    "    for num in nums + [upper + 1]:\n",
    "        if num == start:\n",
    "            start += 1\n",
    "        elif num > start:\n",
    "            end = num - 1\n",
    "            result.append([start, end])\n",
    "            start = num + 1\n",
    "\n",
    "    return result\n",
    "\n",
    "# Driver code\n",
    "nums = [0, 1, 3, 50, 75]\n",
    "lower = 0\n",
    "upper = 99\n",
    "result = findMissingRanges(nums, lower, upper)\n",
    "print(result)  # Output: [[2, 2], [4, 49], [51, 74], [76, 99]]\n"
   ]
  },
  {
   "cell_type": "markdown",
   "id": "34632dd7",
   "metadata": {},
   "source": [
    "<font size = \"3\">__8. Given an array of meeting time intervals where intervals[i] = [starti, endi],\n",
    "determine if a person could attend all meetings.__</font>\n",
    "\n",
    "**Example 1:**\n",
    ">Input: intervals = [[0,30],[5,10],[15,20]]<br>\n",
    ">Output: false"
   ]
  },
  {
   "cell_type": "code",
   "execution_count": 8,
   "id": "59053619",
   "metadata": {},
   "outputs": [
    {
     "name": "stdout",
     "output_type": "stream",
     "text": [
      "False\n"
     ]
    }
   ],
   "source": [
    "def canAttendMeetings(intervals):\n",
    "    intervals.sort(key=lambda x: x[0])\n",
    "\n",
    "    for i in range(1, len(intervals)):\n",
    "        if intervals[i][0] < intervals[i-1][1]:\n",
    "            return False\n",
    "\n",
    "    return True\n",
    "\n",
    "# Driver code\n",
    "intervals = [[0, 30], [5, 10], [15, 20]]\n",
    "result = canAttendMeetings(intervals)\n",
    "print(result)  # Output: False\n",
    "\n"
   ]
  },
  {
   "cell_type": "markdown",
   "id": "51359a71",
   "metadata": {},
   "source": []
  }
 ],
 "metadata": {
  "kernelspec": {
   "display_name": "Python 3 (ipykernel)",
   "language": "python",
   "name": "python3"
  },
  "language_info": {
   "codemirror_mode": {
    "name": "ipython",
    "version": 3
   },
   "file_extension": ".py",
   "mimetype": "text/x-python",
   "name": "python",
   "nbconvert_exporter": "python",
   "pygments_lexer": "ipython3",
   "version": "3.10.9"
  }
 },
 "nbformat": 4,
 "nbformat_minor": 5
}
