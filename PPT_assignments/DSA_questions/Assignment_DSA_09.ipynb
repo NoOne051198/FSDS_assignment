{
 "cells": [
  {
   "cell_type": "markdown",
   "id": "44f91da3",
   "metadata": {},
   "source": [
    "# Assignment - 09"
   ]
  },
  {
   "cell_type": "markdown",
   "id": "6df98be3",
   "metadata": {},
   "source": [
    "<font size = \"3\">__1. Given an integer n, return true if it is a power of two. Otherwise, return false.__</font>\n",
    "\n",
    "An integer `n` is a power of two, if there exists an integer `x` such that `n == 2x`.\n",
    "\n",
    "**Example 1:**\n",
    ">Input: n = 1 <br>\n",
    ">Output: true\n",
    "\n",
    "**Example 2:**\n",
    ">Input: n = 16 <br>\n",
    ">Output: true\n",
    "\n",
    "**Example 3:**\n",
    ">Input: n = 3 <br>\n",
    ">Output: false"
   ]
  },
  {
   "cell_type": "code",
   "execution_count": 1,
   "id": "ca53e4ea",
   "metadata": {},
   "outputs": [
    {
     "name": "stdout",
     "output_type": "stream",
     "text": [
      "True\n",
      "True\n",
      "False\n"
     ]
    }
   ],
   "source": [
    "# Function definition \n",
    "def isPowerOfTwo(n):\n",
    "    if n <= 0:\n",
    "        return False\n",
    "\n",
    "    # Count the number of set bits in n\n",
    "    count = 0\n",
    "    while n > 0:\n",
    "        count += n & 1\n",
    "        n >>= 1\n",
    "\n",
    "    # If there is only one bit set, n is a power of two\n",
    "    return count == 1\n",
    "\n",
    " \n",
    "# Example 1:\n",
    "n = 1\n",
    "result = isPowerOfTwo(n)\n",
    "print(result)  # Output: True\n",
    "\n",
    "# Example 2:\n",
    "n = 16\n",
    "result = isPowerOfTwo(n)\n",
    "print(result)  # Output: True\n",
    "\n",
    "# Example 3:\n",
    "n = 3\n",
    "result = isPowerOfTwo(n)\n",
    "print(result)  # Output: False\n"
   ]
  },
  {
   "cell_type": "markdown",
   "id": "4da43473",
   "metadata": {},
   "source": [
    "<font size = \"3\">__2. Given a number n, find the sum of the first natural numbers.__</font>\n",
    "\n",
    "**Example 1:**\n",
    "\n",
    ">Input: n = 3 <br>\n",
    ">Output: 6\n",
    "\n",
    "**Example 2:**\n",
    "\n",
    ">Input  : 5 <br>\n",
    ">Output : 15"
   ]
  },
  {
   "cell_type": "code",
   "execution_count": 2,
   "id": "c8730fb7",
   "metadata": {},
   "outputs": [
    {
     "name": "stdout",
     "output_type": "stream",
     "text": [
      "6\n",
      "15\n"
     ]
    }
   ],
   "source": [
    "# Function definition \n",
    "def sumOfNaturalNumbers(n):\n",
    "    return (n * (n + 1)) // 2\n",
    "\n",
    " \n",
    "# Example 1:\n",
    "n = 3\n",
    "result = sumOfNaturalNumbers(n)\n",
    "print(result)  # Output: 6\n",
    "\n",
    "# Example 2:\n",
    "n = 5\n",
    "result = sumOfNaturalNumbers(n)\n",
    "print(result)  # Output: 15\n"
   ]
  },
  {
   "cell_type": "markdown",
   "id": "23a94c3d",
   "metadata": {},
   "source": [
    "<font size = \"3\">__3. Given a positive integer, N. Find the factorial of N.__</font>\n",
    "\n",
    "**Example 1:**\n",
    "\n",
    ">Input: N = 5 <br>\n",
    ">Output: 120\n",
    "\n",
    "**Example 2:**\n",
    "\n",
    ">Input: N = 4<br>\n",
    ">Output: 24"
   ]
  },
  {
   "cell_type": "code",
   "execution_count": 3,
   "id": "965cc168",
   "metadata": {},
   "outputs": [
    {
     "name": "stdout",
     "output_type": "stream",
     "text": [
      "120\n",
      "24\n"
     ]
    }
   ],
   "source": [
    "# Function definition \n",
    "def factorial(N):\n",
    "    fact = 1\n",
    "    for i in range(1, N + 1):\n",
    "        fact *= i\n",
    "    return fact\n",
    "\n",
    "\n",
    "# Example 1:\n",
    "N = 5\n",
    "result = factorial(N)\n",
    "print(result)  # Output: 120\n",
    "\n",
    "# Example 2:\n",
    "N = 4\n",
    "result = factorial(N)\n",
    "print(result)  # Output: 24\n"
   ]
  },
  {
   "cell_type": "markdown",
   "id": "9abcd92c",
   "metadata": {},
   "source": [
    "<font size = \"3\">__4. Given a number N and a power P, the task is to find the exponent of this number raised to the given power, i.e. N^P.__</font>\n",
    "\n",
    "**Example 1 :** \n",
    "\n",
    ">Input: N = 5, P = 2<br>\n",
    ">Output: 25\n",
    "\n",
    "**Example 2 :**\n",
    ">Input: N = 2, P = 5<br>\n",
    ">Output: 32"
   ]
  },
  {
   "cell_type": "code",
   "execution_count": 4,
   "id": "f557de49",
   "metadata": {},
   "outputs": [
    {
     "name": "stdout",
     "output_type": "stream",
     "text": [
      "25\n",
      "32\n"
     ]
    }
   ],
   "source": [
    "# Function definition \n",
    "def exponentiation(N, P):\n",
    "    result = N ** P\n",
    "    return result\n",
    "\n",
    "\n",
    "# Example 1:\n",
    "N = 5\n",
    "P = 2\n",
    "result = exponentiation(N, P)\n",
    "print(result)  # Output: 25\n",
    "\n",
    "# Example 2:\n",
    "N = 2\n",
    "P = 5\n",
    "result = exponentiation(N, P)\n",
    "print(result)  # Output: 32\n"
   ]
  },
  {
   "cell_type": "markdown",
   "id": "487d3cd3",
   "metadata": {},
   "source": [
    "<font size = \"3\">__5. Given an array of integers arr, the task is to find maximum element of that array using recursion.__</font>\n",
    "\n",
    "**Example 1:**\n",
    "\n",
    ">Input: arr = {1, 4, 3, -5, -4, 8, 6};<br>\n",
    ">Output: 8\n",
    "\n",
    "**Example 2:**\n",
    "\n",
    ">Input: arr = {1, 4, 45, 6, 10, -8};<br>\n",
    ">Output: 45"
   ]
  },
  {
   "cell_type": "code",
   "execution_count": 5,
   "id": "e6242f70",
   "metadata": {},
   "outputs": [
    {
     "name": "stdout",
     "output_type": "stream",
     "text": [
      "8\n",
      "45\n"
     ]
    }
   ],
   "source": [
    "# Function definition \n",
    "def find_max(arr):\n",
    "    # Base case: If the array has only one element, return it as the maximum\n",
    "    if len(arr) == 1:\n",
    "        return arr[0]\n",
    "    \n",
    "    # Recursive case: Compare the first element with the maximum of the rest of the array\n",
    "    max_rest = find_max(arr[1:])\n",
    "    \n",
    "    # Return the maximum of the first element and the maximum of the rest of the array\n",
    "    return max(arr[0], max_rest)\n",
    "\n",
    "\n",
    "# \n",
    "# Example 1:\n",
    "arr = [1, 4, 3, -5, -4, 8, 6]\n",
    "result = find_max(arr)\n",
    "print(result)  # Output: 8\n",
    "\n",
    "# Example 2:\n",
    "arr = [1, 4, 45, 6, 10, -8]\n",
    "result = find_max(arr)\n",
    "print(result)  # Output: 45\n"
   ]
  },
  {
   "cell_type": "markdown",
   "id": "b6c3cc0f",
   "metadata": {},
   "source": [
    "<font size = \"3\">__6. Given first term (a), common difference (d) and a integer N of the Arithmetic Progression series, the task is to find Nth term of the series.__</font>\n",
    "\n",
    "**Example 1:**\n",
    "\n",
    ">Input : a = 2 d = 1 N = 5<br>\n",
    ">Output : 6<br>\n",
    ">The 5th term of the series is : 6<br>\n",
    "\n",
    "**Example 2:**\n",
    "\n",
    ">Input : a = 5 d = 2 N = 10<br>\n",
    ">Output : 23<br>\n",
    ">The 10th term of the series is : 23"
   ]
  },
  {
   "cell_type": "code",
   "execution_count": 6,
   "id": "d0b2e166",
   "metadata": {},
   "outputs": [
    {
     "name": "stdout",
     "output_type": "stream",
     "text": [
      "6\n",
      "23\n"
     ]
    }
   ],
   "source": [
    "# Function definition \n",
    "def find_nth_term(a, d, N):\n",
    "    nth_term = a + (N - 1) * d\n",
    "    return nth_term\n",
    "\n",
    "\n",
    "#  \n",
    "# Example 1:\n",
    "a = 2\n",
    "d = 1\n",
    "N = 5\n",
    "result = find_nth_term(a, d, N)\n",
    "print(result)  # Output: 6\n",
    "\n",
    "# Example 2:\n",
    "a = 5\n",
    "d = 2\n",
    "N = 10\n",
    "result = find_nth_term(a, d, N)\n",
    "print(result)  # Output: 23\n"
   ]
  },
  {
   "cell_type": "markdown",
   "id": "a9ac9959",
   "metadata": {},
   "source": [
    "<font size = \"3\">__7. Given a string S, the task is to write a program to print all permutations of a given string.__</font>\n",
    "\n",
    "**Example 1:**\n",
    "\n",
    ">Input: S = “ABC”<br>\n",
    ">Output: “ABC”, “ACB”, “BAC”, “BCA”, “CBA”, “CAB”\n",
    "\n",
    "**Example 2:**\n",
    "\n",
    ">Input: S = “XY”<br>\n",
    ">Output: “XY”, “YX”"
   ]
  },
  {
   "cell_type": "code",
   "execution_count": 7,
   "id": "e51803d8",
   "metadata": {},
   "outputs": [
    {
     "name": "stdout",
     "output_type": "stream",
     "text": [
      "['ABC', 'ACB', 'BAC', 'BCA', 'CBA', 'CAB']\n",
      "['XY', 'YX']\n"
     ]
    }
   ],
   "source": [
    "# Function definition \n",
    "def permutations(s):\n",
    "    result = []\n",
    "    backtrack(list(s), 0, len(s) - 1, result)\n",
    "    return result\n",
    "\n",
    "def backtrack(s, left, right, result):\n",
    "    if left == right:\n",
    "        result.append(\"\".join(s))\n",
    "    else:\n",
    "        for i in range(left, right + 1):\n",
    "            s[left], s[i] = s[i], s[left]  # Swap characters\n",
    "            backtrack(s, left + 1, right, result)  # Recurse\n",
    "            s[left], s[i] = s[i], s[left]  # Restore original order\n",
    "\n",
    "# Example1:\n",
    "s = \"ABC\"\n",
    "result = permutations(s)\n",
    "print(result)  # Output: ['ABC', 'ACB', 'BAC', 'BCA', 'CBA', 'CAB']\n",
    "\n",
    "# Example2:\n",
    "s = \"XY\"\n",
    "result = permutations(s)\n",
    "print(result)  # Output: ['XY', 'YX']\n"
   ]
  },
  {
   "cell_type": "markdown",
   "id": "267b5a0e",
   "metadata": {},
   "source": [
    "<font size = \"3\">__8. Given an array, find a product of all array elements.__</font>\n",
    "\n",
    "**Example 1:**\n",
    "\n",
    ">Input  : arr[] = {1, 2, 3, 4, 5}<br>\n",
    ">Output : 120\n",
    "\n",
    "**Example 2:**\n",
    "\n",
    ">Input  : arr[] = {1, 6, 3}<br>\n",
    ">Output : 18"
   ]
  },
  {
   "cell_type": "code",
   "execution_count": 8,
   "id": "38c01ae7",
   "metadata": {},
   "outputs": [
    {
     "name": "stdout",
     "output_type": "stream",
     "text": [
      "120\n",
      "18\n"
     ]
    }
   ],
   "source": [
    "# Function definition \n",
    "def product_of_array(arr):\n",
    "    product = 1\n",
    "    for num in arr:\n",
    "        product *= num\n",
    "    return product\n",
    "\n",
    "# Example1 :\n",
    "arr = [1, 2, 3, 4, 5]\n",
    "result = product_of_array(arr)\n",
    "print(result)  # Output: 120\n",
    "\n",
    "# Example2 :\n",
    "arr = [1, 6, 3]\n",
    "result = product_of_array(arr)\n",
    "print(result)  # Output: 18\n"
   ]
  },
  {
   "cell_type": "markdown",
   "id": "8d4f8869",
   "metadata": {},
   "source": []
  }
 ],
 "metadata": {
  "kernelspec": {
   "display_name": "Python 3 (ipykernel)",
   "language": "python",
   "name": "python3"
  },
  "language_info": {
   "codemirror_mode": {
    "name": "ipython",
    "version": 3
   },
   "file_extension": ".py",
   "mimetype": "text/x-python",
   "name": "python",
   "nbconvert_exporter": "python",
   "pygments_lexer": "ipython3",
   "version": "3.10.9"
  }
 },
 "nbformat": 4,
 "nbformat_minor": 5
}
