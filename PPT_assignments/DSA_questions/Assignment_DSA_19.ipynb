{
 "cells": [
  {
   "cell_type": "markdown",
   "id": "6c858b50",
   "metadata": {},
   "source": [
    "# Assignment - 19"
   ]
  },
  {
   "cell_type": "markdown",
   "id": "b617bbea",
   "metadata": {},
   "source": [
    "**Merge k Sorted Lists**\n",
    "\n",
    "<font size=\"3\">__1. You are given an array of `k` linked-lists `lists`, each linked-list is sorted in ascending order.__</font><br>\n",
    "\n",
    "*Merge all the linked-lists into one sorted linked-list and return it.*\n",
    "\n",
    "**Example 1:**\n",
    "\n",
    "\n",
    ">Input: lists = [[1,4,5],[1,3,4],[2,6]]<br>\n",
    "Output: [1,1,2,3,4,4,5,6]<br>\n",
    "Explanation: The linked-lists are:<br>\n",
    "[<br>\n",
    "  1->4->5,<br>\n",
    "  1->3->4,<br>\n",
    "  2->6<br>\n",
    "]<br>\n",
    "merging them into one sorted list:<br>\n",
    "1->1->2->3->4->4->5->6\n",
    "\n",
    "\n",
    "\n",
    "**Example 2:**\n",
    "\n",
    "\n",
    ">Input: lists = []<br>\n",
    "Output: []\n",
    "\n",
    "\n",
    "**Example 3:**\n",
    "\n",
    "\n",
    ">Input: lists = [[]]<br>\n",
    "Output: []\n",
    "\n",
    "\n",
    "\n",
    "**Constraints:**\n",
    "\n",
    "- `k == lists.length`\n",
    "- `0 <= k <= 10000`\n",
    "- `0 <= lists[i].length <= 500`\n",
    "- `-10000 <= lists[i][j] <= 10000`\n",
    "- `lists[i]` is sorted in **ascending order**.\n",
    "- The sum of `lists[i].length` will not exceed `10000`.\n"
   ]
  },
  {
   "cell_type": "code",
   "execution_count": 1,
   "id": "c7aac613",
   "metadata": {},
   "outputs": [
    {
     "name": "stdout",
     "output_type": "stream",
     "text": [
      "1->1->2->3->4->4->5->6->"
     ]
    }
   ],
   "source": [
    "import heapq\n",
    "\n",
    "class ListNode:\n",
    "    def __init__(self, val=0, next=None):\n",
    "        self.val = val\n",
    "        self.next = next\n",
    "\n",
    "def mergeKLists(lists):\n",
    "    heap = []\n",
    "    for head in lists:\n",
    "        while head:\n",
    "            heapq.heappush(heap, head.val)\n",
    "            head = head.next\n",
    "\n",
    "    dummy = ListNode(-1)\n",
    "    current = dummy\n",
    "    while heap:\n",
    "        current.next = ListNode(heapq.heappop(heap))\n",
    "        current = current.next\n",
    "\n",
    "    return dummy.next\n",
    "\n",
    "# Example usage\n",
    "# Constructing the linked lists for the given example\n",
    "list1 = ListNode(1, ListNode(4, ListNode(5)))\n",
    "list2 = ListNode(1, ListNode(3, ListNode(4)))\n",
    "list3 = ListNode(2, ListNode(6))\n",
    "lists = [list1, list2, list3]\n",
    "\n",
    "result = mergeKLists(lists)\n",
    "while result:\n",
    "    print(result.val, end=\"->\")\n",
    "    result = result.next\n"
   ]
  },
  {
   "cell_type": "markdown",
   "id": "a24e69ac",
   "metadata": {},
   "source": [
    "**Count of Smaller Numbers After Self**\n",
    "\n",
    "<font size=\"3\">__2. Given an integer array `nums`, return *an integer array* `counts` *where* `counts[i]` *is the number of smaller elements to the right of* `nums[i]`.__</font><br>\n",
    "\n",
    "**Example 1:**\n",
    "\n",
    "\n",
    ">Input: nums = [5,2,6,1]<br>\n",
    "Output: [2,1,1,0]<br>\n",
    "Explanation:<br>\n",
    "To the right of 5 there are2 smaller elements (2 and 1).<br>\n",
    "To the right of 2 there is only1 smaller element (1).<br>\n",
    "To the right of 6 there is1 smaller element (1).<br>\n",
    "To the right of 1 there is0 smaller element.\n",
    "\n",
    "\n",
    "**Example 2:**\n",
    "\n",
    ">Input: nums = [-1]<br>\n",
    "Output: [0]\n",
    "\n",
    "\n",
    "**Example 3:**\n",
    "\n",
    "\n",
    ">Input: nums = [-1,-1]<br>\n",
    "Output: [0,0]\n",
    "\n",
    "**Constraints:**\n",
    "\n",
    "- `1 <= nums.length <= 100000`\n",
    "- `-10000 <= nums[i] <= 10000`"
   ]
  },
  {
   "cell_type": "code",
   "execution_count": 2,
   "id": "55924f2d",
   "metadata": {},
   "outputs": [
    {
     "name": "stdout",
     "output_type": "stream",
     "text": [
      "[2, 1, 1, 0]\n"
     ]
    }
   ],
   "source": [
    "def countSmaller(nums):\n",
    "    def merge_sort(enum):\n",
    "        half = len(enum) // 2\n",
    "        if half:\n",
    "            left, right = merge_sort(enum[:half]), merge_sort(enum[half:])\n",
    "            for i in reversed(range(len(enum))):\n",
    "                if not right or left and left[-1][1] > right[-1][1]:\n",
    "                    smaller[left[-1][0]] += len(right)\n",
    "                    enum[i] = left.pop()\n",
    "                else:\n",
    "                    enum[i] = right.pop()\n",
    "        return enum\n",
    "\n",
    "    smaller = [0] * len(nums)\n",
    "    merge_sort(list(enumerate(nums)))\n",
    "    return smaller\n",
    "\n",
    "# Example usage\n",
    "nums = [5, 2, 6, 1]\n",
    "result = countSmaller(nums)\n",
    "print(result)  # Output: [2, 1, 1, 0]\n"
   ]
  },
  {
   "cell_type": "markdown",
   "id": "9200d218",
   "metadata": {},
   "source": [
    "**Sort an Array**\n",
    "\n",
    "<font size=\"3\">__3. Given an array of integers `nums`, sort the array in ascending order and return it.__</font><br>\n",
    "\n",
    "You must solve the problem **without using any built-in** functions in `O(nlog(n))` time complexity and with the smallest space complexity possible.\n",
    "\n",
    "**Example 1:**\n",
    "\n",
    "\n",
    ">Input: nums = [5,2,3,1]<br>\n",
    "Output: [1,2,3,5]<br>\n",
    "Explanation: After sorting the array, the positions of some numbers are not changed (for example, 2 and 3), while the positions of other numbers are changed (for example, 1 and 5).\n",
    "\n",
    "\n",
    "**Example 2:**\n",
    "\n",
    "\n",
    ">Input: nums = [5,1,1,2,0,0]<br>\n",
    "Output: [0,0,1,1,2,5]<br>\n",
    "Explanation: Note that the values of nums are not necessairly unique.\n",
    "\n",
    "\n",
    "**Constraints:**\n",
    "\n",
    "- `1 <= nums.length <= 5 * 10000`\n",
    "- `-5 * 104 <= nums[i] <= 5 * 10000`\n"
   ]
  },
  {
   "cell_type": "code",
   "execution_count": 3,
   "id": "9acca258",
   "metadata": {},
   "outputs": [
    {
     "name": "stdout",
     "output_type": "stream",
     "text": [
      "[1, 2, 3, 5]\n"
     ]
    }
   ],
   "source": [
    "def sortArray(nums):\n",
    "    def merge_sort(arr):\n",
    "        if len(arr) <= 1:\n",
    "            return arr\n",
    "\n",
    "        mid = len(arr) // 2\n",
    "        left = merge_sort(arr[:mid])\n",
    "        right = merge_sort(arr[mid:])\n",
    "\n",
    "        return merge(left, right)\n",
    "\n",
    "    def merge(left, right):\n",
    "        merged = []\n",
    "        i, j = 0, 0\n",
    "\n",
    "        while i < len(left) and j < len(right):\n",
    "            if left[i] < right[j]:\n",
    "                merged.append(left[i])\n",
    "                i += 1\n",
    "            else:\n",
    "                merged.append(right[j])\n",
    "                j += 1\n",
    "\n",
    "        while i < len(left):\n",
    "            merged.append(left[i])\n",
    "            i += 1\n",
    "\n",
    "        while j < len(right):\n",
    "            merged.append(right[j])\n",
    "            j += 1\n",
    "\n",
    "        return merged\n",
    "\n",
    "    return merge_sort(nums)\n",
    "\n",
    "# Example usage\n",
    "nums = [5, 2, 3, 1]\n",
    "result = sortArray(nums)\n",
    "print(result)  # Output: [1, 2, 3, 5]\n"
   ]
  },
  {
   "cell_type": "markdown",
   "id": "f65a1f59",
   "metadata": {},
   "source": [
    "**Move all zeroes to end of array**\n",
    "\n",
    "<font size=\"3\">__4. Given an array of random numbers, Push all the zero’s of a given array to the end of the array.__</font><br> For example, if the given arrays is {1, 9, 8, 4, 0, 0, 2, 7, 0, 6, 0}, it should be changed to {1, 9, 8, 4, 2, 7, 6, 0, 0, 0, 0}. The order of all other elements should be same. Expected time complexity is O(n) and extra space is O(1).\n",
    "\n",
    "**Example:**\n",
    "\n",
    "\n",
    ">Input :  arr[] = {1, 2, 0, 4, 3, 0, 5, 0};<br>\n",
    "Output : arr[] = {1, 2, 4, 3, 5, 0, 0, 0};\n",
    "\n",
    ">Input : arr[]  = {1, 2, 0, 0, 0, 3, 6};<br>\n",
    "Output : arr[] = {1, 2, 3, 6, 0, 0, 0};\n"
   ]
  },
  {
   "cell_type": "code",
   "execution_count": 4,
   "id": "619e0ad1",
   "metadata": {},
   "outputs": [
    {
     "name": "stdout",
     "output_type": "stream",
     "text": [
      "[1, 2, 4, 3, 5, 0, 0, 0]\n"
     ]
    }
   ],
   "source": [
    "def moveZeroes(nums):\n",
    "    left = 0\n",
    "\n",
    "    for right in range(len(nums)):\n",
    "        if nums[right] != 0:\n",
    "            nums[left], nums[right] = nums[right], nums[left]\n",
    "            left += 1\n",
    "\n",
    "# Example usage\n",
    "arr = [1, 2, 0, 4, 3, 0, 5, 0]\n",
    "moveZeroes(arr)\n",
    "print(arr)  # Output: [1, 2, 4, 3, 5, 0, 0, 0]\n"
   ]
  },
  {
   "cell_type": "markdown",
   "id": "b283eb9d",
   "metadata": {},
   "source": [
    "**Rearrange array in alternating positive & negative items with O(1) extra space**\n",
    "\n",
    "<font size=\"3\">__5. Given an **array of positive** and **negative numbers**, arrange them in an **alternate** fashion such that every positive number is followed by a negative and vice-versa maintaining the **order of appearance**. The number of positive and negative numbers need not be equal. If there are more positive numbers they appear at the end of the array. If there are more negative numbers, they too appear at the end of the array.__</font><br>\n",
    "\n",
    "**Examples:**\n",
    "\n",
    ">Input:  arr[] = {1, 2, 3, -4, -1, 4}<br>\n",
    "Output: arr[] = {-4, 1, -1, 2, 3, 4}\n",
    "\n",
    ">Input:  arr[] = {-5, -2, 5, 2, 4, 7, 1, 8, 0, -8}<br>\n",
    "Output: arr[] = {-5, 5, -2, 2, -8, 4, 7, 1, 8, 0}\n"
   ]
  },
  {
   "cell_type": "code",
   "execution_count": 5,
   "id": "bb9fdfc8",
   "metadata": {},
   "outputs": [
    {
     "name": "stdout",
     "output_type": "stream",
     "text": [
      "[1, -1, 3, -4, 2, 4]\n"
     ]
    }
   ],
   "source": [
    "def rearrangeAlternate(arr):\n",
    "    n = len(arr)\n",
    "    positive = 0\n",
    "\n",
    "    # Count the number of positive elements\n",
    "    for i in range(n):\n",
    "        if arr[i] > 0:\n",
    "            positive += 1\n",
    "\n",
    "    # Partition the array based on positive elements\n",
    "    i, j = 0, n - 1\n",
    "    while i < j:\n",
    "        if positive > n // 2 and arr[i] > 0:\n",
    "            i += 1\n",
    "        elif positive <= n // 2 and arr[i] <= 0:\n",
    "            i += 1\n",
    "        elif arr[j] <= 0:\n",
    "            j -= 1\n",
    "        else:\n",
    "            arr[i], arr[j] = arr[j], arr[i]\n",
    "            i += 1\n",
    "            j -= 1\n",
    "\n",
    "    # Rearrange the array in alternating fashion\n",
    "    i, j = 1, positive\n",
    "    while i < j and j < n:\n",
    "        arr[i], arr[j] = arr[j], arr[i]\n",
    "        i += 2\n",
    "        j += 1\n",
    "\n",
    "# Example usage\n",
    "arr = [1, 2, 3, -4, -1, 4]\n",
    "rearrangeAlternate(arr)\n",
    "print(arr)  # Output: [-4, 1, -1, 2, 3, 4]\n"
   ]
  },
  {
   "cell_type": "markdown",
   "id": "66553701",
   "metadata": {},
   "source": [
    "**Merge two sorted arrays**\n",
    "\n",
    "<font size=\"3\">__6. Given two sorted arrays, the task is to merge them in a sorted manner.__</font><br>\n",
    "\n",
    "**Examples:**\n",
    "\n",
    ">Input: arr1[] = { 1, 3, 4, 5}, arr2[] = {2, 4, 6, 8} <br>\n",
    "Output: arr3[] = {1, 2, 3, 4, 4, 5, 6, 8}\n",
    "\n",
    ">Input: arr1[] = { 5, 8, 9}, arr2[] = {4, 7, 8}<br>\n",
    "Output: arr3[] = {4, 5, 7, 8, 8, 9}\n"
   ]
  },
  {
   "cell_type": "code",
   "execution_count": 6,
   "id": "f5a3da29",
   "metadata": {},
   "outputs": [
    {
     "name": "stdout",
     "output_type": "stream",
     "text": [
      "[1, 2, 3, 4, 4, 5, 6, 8]\n"
     ]
    }
   ],
   "source": [
    "def mergeSortedArrays(arr1, arr2):\n",
    "    n1, n2 = len(arr1), len(arr2)\n",
    "    merged = []\n",
    "\n",
    "    i, j = 0, 0\n",
    "    while i < n1 and j < n2:\n",
    "        if arr1[i] < arr2[j]:\n",
    "            merged.append(arr1[i])\n",
    "            i += 1\n",
    "        else:\n",
    "            merged.append(arr2[j])\n",
    "            j += 1\n",
    "\n",
    "    # Add any remaining elements from arr1 and arr2\n",
    "    while i < n1:\n",
    "        merged.append(arr1[i])\n",
    "        i += 1\n",
    "\n",
    "    while j < n2:\n",
    "        merged.append(arr2[j])\n",
    "        j += 1\n",
    "\n",
    "    return merged\n",
    "\n",
    "# Example usage\n",
    "arr1 = [1, 3, 4, 5]\n",
    "arr2 = [2, 4, 6, 8]\n",
    "merged_array = mergeSortedArrays(arr1, arr2)\n",
    "print(merged_array)  # Output: [1, 2, 3, 4, 4, 5, 6, 8]\n"
   ]
  },
  {
   "cell_type": "markdown",
   "id": "a9b88627",
   "metadata": {},
   "source": [
    "**Intersection of Two Arrays**\n",
    "\n",
    "<font size=\"3\">__7. Given two integer arrays `nums1` and `nums2`, return *an array of their intersection*. Each element in the result must be **unique** and you may return the result in **any order**.__</font><br>\n",
    "\n",
    "**Example 1:**\n",
    "\n",
    ">Input: nums1 = [1,2,2,1], nums2 = [2,2]<br>\n",
    "Output: [2]\n",
    "\n",
    "\n",
    "**Example 2:**\n",
    "\n",
    "\n",
    ">Input: nums1 = [4,9,5], nums2 = [9,4,9,8,4]<br>\n",
    "Output: [9,4]<br>\n",
    "Explanation: [4,9] is also accepted.\n",
    "\n",
    "\n",
    "**Constraints:**\n",
    "\n",
    "- `1 <= nums1.length, nums2.length <= 1000`\n",
    "- `0 <= nums1[i], nums2[i] <= 1000`\n"
   ]
  },
  {
   "cell_type": "code",
   "execution_count": 7,
   "id": "4559b2c2",
   "metadata": {},
   "outputs": [
    {
     "name": "stdout",
     "output_type": "stream",
     "text": [
      "[2]\n"
     ]
    }
   ],
   "source": [
    "def intersection(nums1, nums2):\n",
    "    set1 = set(nums1)\n",
    "    set2 = set(nums2)\n",
    "    return list(set1.intersection(set2))\n",
    "\n",
    "# Example usage\n",
    "nums1 = [1, 2, 2, 1]\n",
    "nums2 = [2, 2]\n",
    "result = intersection(nums1, nums2)\n",
    "print(result)  # Output: [2]\n"
   ]
  },
  {
   "cell_type": "markdown",
   "id": "3ee45caf",
   "metadata": {},
   "source": [
    "**Intersection of Two Arrays II**\n",
    "\n",
    "<font size=\"3\">__8. Given two integer arrays `nums1` and `nums2`, return *an array of their intersection*. Each element in the result must appear as many times as it shows in both arrays and you may return the result in **any order**.__</font><br>\n",
    "\n",
    "**Example 1:**\n",
    "\n",
    ">Input: nums1 = [1,2,2,1], nums2 = [2,2]<br>\n",
    "Output: [2,2]\n",
    "\n",
    "\n",
    "**Example 2:**\n",
    "\n",
    ">Input: nums1 = [4,9,5], nums2 = [9,4,9,8,4]<br>\n",
    "Output: [4,9]<br>\n",
    "Explanation: [9,4] is also accepted.\n",
    "\n",
    "\n",
    "**Constraints:**\n",
    "\n",
    "- `1 <= nums1.length, nums2.length <= 1000`\n",
    "- `0 <= nums1[i], nums2[i] <= 1000`"
   ]
  },
  {
   "cell_type": "code",
   "execution_count": 8,
   "id": "acad636c",
   "metadata": {},
   "outputs": [
    {
     "name": "stdout",
     "output_type": "stream",
     "text": [
      "[2, 2]\n"
     ]
    }
   ],
   "source": [
    "def intersect(nums1, nums2):\n",
    "    # Create dictionaries to store the count of elements in each array\n",
    "    count1 = {}\n",
    "    count2 = {}\n",
    "\n",
    "    # Populate the dictionaries with counts of elements\n",
    "    for num in nums1:\n",
    "        count1[num] = count1.get(num, 0) + 1\n",
    "\n",
    "    for num in nums2:\n",
    "        count2[num] = count2.get(num, 0) + 1\n",
    "\n",
    "    # Find the intersection and store the result in a list\n",
    "    result = []\n",
    "    for num in count1:\n",
    "        if num in count2:\n",
    "            # Add the element min(count1[num], count2[num]) times to the result list\n",
    "            result.extend([num] * min(count1[num], count2[num]))\n",
    "\n",
    "    return result\n",
    "\n",
    "# Example usage\n",
    "nums1 = [1, 2, 2, 1]\n",
    "nums2 = [2, 2]\n",
    "result = intersect(nums1, nums2)\n",
    "print(result)  # Output: [2, 2]\n"
   ]
  },
  {
   "cell_type": "code",
   "execution_count": null,
   "id": "7b42ea64",
   "metadata": {},
   "outputs": [],
   "source": []
  }
 ],
 "metadata": {
  "kernelspec": {
   "display_name": "Python 3 (ipykernel)",
   "language": "python",
   "name": "python3"
  },
  "language_info": {
   "codemirror_mode": {
    "name": "ipython",
    "version": 3
   },
   "file_extension": ".py",
   "mimetype": "text/x-python",
   "name": "python",
   "nbconvert_exporter": "python",
   "pygments_lexer": "ipython3",
   "version": "3.10.9"
  }
 },
 "nbformat": 4,
 "nbformat_minor": 5
}
