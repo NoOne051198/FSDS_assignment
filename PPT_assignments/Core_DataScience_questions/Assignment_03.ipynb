{
 "cells": [
  {
   "cell_type": "markdown",
   "id": "06a2aa4f",
   "metadata": {},
   "source": [
    "# Assignment - 02"
   ]
  },
  {
   "cell_type": "markdown",
   "id": "77d7ef9e",
   "metadata": {},
   "source": [
    "<font size=\"3\">__1. Scenario: A company wants to analyze the sales performance of its products in different regions. They have collected the following data:<br>\n",
    "   Region A: [10, 15, 12, 8, 14]<br>\n",
    "   Region B: [18, 20, 16, 22, 25]<br>\n",
    "   Calculate the mean sales for each region.__</font>"
   ]
  },
  {
   "cell_type": "code",
   "execution_count": null,
   "id": "def6f1b4",
   "metadata": {},
   "outputs": [],
   "source": [
    "# Sales data for Region A and Region B\n",
    "sales_region_a = [10, 15, 12, 8, 14]\n",
    "sales_region_b = [18, 20, 16, 22, 25]\n",
    "\n",
    "# Calculate the mean sales for Region A\n",
    "mean_sales_region_a = sum(sales_region_a) / len(sales_region_a)\n",
    "\n",
    "# Calculate the mean sales for Region B\n",
    "mean_sales_region_b = sum(sales_region_b) / len(sales_region_b)\n",
    "\n",
    "# Print the mean sales for each region\n",
    "print(\"Mean sales for Region A:\", mean_sales_region_a)\n",
    "print(\"Mean sales for Region B:\", mean_sales_region_b)\n"
   ]
  },
  {
   "cell_type": "markdown",
   "id": "eb9d3eff",
   "metadata": {},
   "source": [
    "<font size=\"3\">__2. Scenario: A survey is conducted to measure customer satisfaction on a scale of 1 to 5. The data collected is as follows:<br>\n",
    "   [4, 5, 2, 3, 5, 4, 3, 2, 4, 5]<br>\n",
    "   Calculate the mode of the survey responses.__</font>"
   ]
  },
  {
   "cell_type": "code",
   "execution_count": null,
   "id": "af7ba6e8",
   "metadata": {},
   "outputs": [],
   "source": [
    "import statistics\n",
    "\n",
    "# Survey responses\n",
    "survey_responses = [4, 5, 2, 3, 5, 4, 3, 2, 4, 5]\n",
    "\n",
    "# Calculate the mode\n",
    "mode = statistics.mode(survey_responses)\n",
    "\n",
    "# Print the mode\n",
    "print(\"Mode of the survey responses:\", mode)\n"
   ]
  },
  {
   "cell_type": "markdown",
   "id": "fbf9f38d",
   "metadata": {},
   "source": [
    "<font size=\"3\">__3. Scenario: A company wants to compare the salaries of two departments. The salary data for Department A and Department B are as follows:<br>\n",
    "   Department A: [5000, 6000, 5500, 7000]<br>\n",
    "   Department B: [4500, 5500, 5800, 6000, 5200]<br>\n",
    "   Calculate the median salary for each department.__</font>"
   ]
  },
  {
   "cell_type": "code",
   "execution_count": null,
   "id": "fdfbf488",
   "metadata": {},
   "outputs": [],
   "source": [
    "import statistics\n",
    "\n",
    "# Salary data for Department A and Department B\n",
    "salaries_department_a = [5000, 6000, 5500, 7000]\n",
    "salaries_department_b = [4500, 5500, 5800, 6000, 5200]\n",
    "\n",
    "# Calculate the median salary for Department A\n",
    "median_salary_department_a = statistics.median(salaries_department_a)\n",
    "\n",
    "# Calculate the median salary for Department B\n",
    "median_salary_department_b = statistics.median(salaries_department_b)\n",
    "\n",
    "# Print the median salary for each department\n",
    "print(\"Median salary for Department A:\", median_salary_department_a)\n",
    "print(\"Median salary for Department B:\", median_salary_department_b)\n"
   ]
  },
  {
   "cell_type": "markdown",
   "id": "c5fc4a85",
   "metadata": {},
   "source": [
    "<font size=\"3\">__4. Scenario: A data analyst wants to determine the variability in the daily stock prices of a company. The data collected is as follows:<br>\n",
    "   [25.5, 24.8, 26.1, 25.3, 24.9]<br>\n",
    "   Calculate the range of the stock prices.__</font>"
   ]
  },
  {
   "cell_type": "code",
   "execution_count": null,
   "id": "8520ad60",
   "metadata": {},
   "outputs": [],
   "source": [
    "# Stock prices data\n",
    "stock_prices = [25.5, 24.8, 26.1, 25.3, 24.9]\n",
    "\n",
    "# Calculate the range\n",
    "price_range = max(stock_prices) - min(stock_prices)\n",
    "\n",
    "# Print the range of the stock prices\n",
    "print(\"Range of the stock prices:\", price_range)\n"
   ]
  },
  {
   "cell_type": "markdown",
   "id": "52262861",
   "metadata": {},
   "source": [
    "<font size=\"3\">__5. Scenario: A study is conducted to compare the performance of two different teaching methods. The test scores of the students in each group are as follows:<br>\n",
    "   Group A: [85, 90, 92, 88, 91]<br>\n",
    "   Group B: [82, 88, 90, 86, 87]<br>\n",
    "   Perform a t-test to determine if there is a significant difference in the mean scores between the two groups.__</font>"
   ]
  },
  {
   "cell_type": "code",
   "execution_count": null,
   "id": "de3edcf5",
   "metadata": {},
   "outputs": [],
   "source": [
    "from scipy import stats\n",
    "\n",
    "# Test scores for Group A and Group B\n",
    "scores_group_a = [85, 90, 92, 88, 91]\n",
    "scores_group_b = [82, 88, 90, 86, 87]\n",
    "\n",
    "# Perform the t-test\n",
    "t_statistic, p_value = stats.ttest_ind(scores_group_a, scores_group_b)\n",
    "\n",
    "# Print the t-statistic and p-value\n",
    "print(\"t-statistic:\", t_statistic)\n",
    "print(\"p-value:\", p_value)\n"
   ]
  },
  {
   "cell_type": "markdown",
   "id": "650f19a3",
   "metadata": {},
   "source": [
    "<font size=\"3\">__6. Scenario: A company wants to analyze the relationship between advertising expenditure and sales. The data collected is as follows:<br>\n",
    "   Advertising Expenditure (in thousands): [10, 15, 12, 8, 14]<br>\n",
    "   Sales (in thousands): [25, 30, 28, 20, 26]<br>\n",
    "   Calculate the correlation coefficient between advertising expenditure and sales.__</font>"
   ]
  },
  {
   "cell_type": "code",
   "execution_count": null,
   "id": "cdf39cb4",
   "metadata": {},
   "outputs": [],
   "source": [
    "import numpy as np\n",
    "\n",
    "# Advertising expenditure and sales data\n",
    "advertising_expenditure = [10, 15, 12, 8, 14]\n",
    "sales = [25, 30, 28, 20, 26]\n",
    "\n",
    "# Calculate the correlation coefficient\n",
    "correlation_coefficient = np.corrcoef(advertising_expenditure, sales)[0, 1]\n",
    "\n",
    "# Print the correlation coefficient\n",
    "print(\"Correlation coefficient:\", correlation_coefficient)\n"
   ]
  },
  {
   "cell_type": "markdown",
   "id": "658203e3",
   "metadata": {},
   "source": [
    "<font size=\"3\">__7. Scenario: A survey is conducted to measure the heights of a group of people. The data collected is as follows:<br>\n",
    "   [160, 170, 165, 155, 175, 180, 170]<br>\n",
    "   Calculate the standard deviation of the heights.__</font>"
   ]
  },
  {
   "cell_type": "code",
   "execution_count": null,
   "id": "b884cf34",
   "metadata": {},
   "outputs": [],
   "source": [
    "import numpy as np\n",
    "\n",
    "# Heights data\n",
    "heights = [160, 170, 165, 155, 175, 180, 170]\n",
    "\n",
    "# Calculate the standard deviation\n",
    "std_deviation = np.std(heights)\n",
    "\n",
    "# Print the standard deviation\n",
    "print(\"Standard deviation of the heights:\", std_deviation)\n"
   ]
  },
  {
   "cell_type": "markdown",
   "id": "414166c6",
   "metadata": {},
   "source": [
    "<font size=\"3\">__8. Scenario: A company wants to analyze the relationship between employee tenure and job satisfaction. The data collected is as follows:<br>\n",
    "   Employee Tenure (in years): [2, 3, 5, 4, 6, 2, 4]<br>\n",
    "   Job Satisfaction (on a scale of 1 to 10): [7, 8, 6, 9, 5, 7, 6]<br>\n",
    "   Perform a linear regression analysis to predict job satisfaction based on employee tenure.__</font>"
   ]
  },
  {
   "cell_type": "code",
   "execution_count": null,
   "id": "cddcc4fa",
   "metadata": {},
   "outputs": [],
   "source": [
    "import numpy as np\n",
    "from scipy import stats\n",
    "\n",
    "# Employee tenure and job satisfaction data\n",
    "employee_tenure = [2, 3, 5, 4, 6, 2, 4]\n",
    "job_satisfaction = [7, 8, 6, 9, 5, 7, 6]\n",
    "\n",
    "# Perform the linear regression analysis\n",
    "slope, intercept, r_value, p_value, std_err = stats.linregress(employee_tenure, job_satisfaction)\n",
    "\n",
    "# Print the slope, intercept, r-value, p-value, and standard error\n",
    "print(\"Slope:\", slope)\n",
    "print(\"Intercept:\", intercept)\n",
    "print(\"R-value (correlation coefficient):\", r_value)\n",
    "print(\"P-value:\", p_value)\n",
    "print(\"Standard error:\", std_err)\n"
   ]
  },
  {
   "cell_type": "markdown",
   "id": "4e4860d7",
   "metadata": {},
   "source": [
    "<font size=\"3\">__9. Scenario: A study is conducted to compare the effectiveness of two different medications. The recovery times of the patients in each group are as follows:<br>\n",
    "   Medication A: [10, 12, 14, 11, 13]<br>\n",
    "   Medication B: [15, 17, 16, 14, 18]<br>\n",
    "   Perform an analysis of variance (ANOVA) to determine if there is a significant difference in the mean recovery times between the two medications.__</font>"
   ]
  },
  {
   "cell_type": "code",
   "execution_count": null,
   "id": "f73ff792",
   "metadata": {},
   "outputs": [],
   "source": [
    "from scipy import stats\n",
    "\n",
    "# Recovery times for Medication A and Medication B\n",
    "recovery_times_medication_a = [10, 12, 14, 11, 13]\n",
    "recovery_times_medication_b = [15, 17, 16, 14, 18]\n",
    "\n",
    "# Perform the ANOVA\n",
    "f_statistic, p_value = stats.f_oneway(recovery_times_medication_a, recovery_times_medication_b)\n",
    "\n",
    "# Print the F-statistic and p-value\n",
    "print(\"F-statistic:\", f_statistic)\n",
    "print(\"p-value:\", p_value)\n"
   ]
  },
  {
   "cell_type": "markdown",
   "id": "ef9a5864",
   "metadata": {},
   "source": [
    "<font size=\"3\">__10. Scenario: A company wants to analyze customer feedback ratings on a scale of 1 to 10. The data collected is as follows:<br>\n",
    "    [8, 9, 7, 6, 8, 10, 9, 8, 7, 8]<br>\n",
    "    Calculate the 75th percentile of the feedback ratings.__</font>"
   ]
  },
  {
   "cell_type": "code",
   "execution_count": null,
   "id": "6213a926",
   "metadata": {},
   "outputs": [],
   "source": [
    "import numpy as np\n",
    "\n",
    "# Feedback ratings data\n",
    "feedback_ratings = [8, 9, 7, 6, 8, 10, 9, 8, 7, 8]\n",
    "\n",
    "# Calculate the 75th percentile\n",
    "percentile_75 = np.percentile(feedback_ratings, 75)\n",
    "\n",
    "# Print the 75th percentile\n",
    "print(\"75th percentile of the feedback ratings:\", percentile_75)\n"
   ]
  },
  {
   "cell_type": "markdown",
   "id": "31557e15",
   "metadata": {},
   "source": [
    "<font size=\"3\">__11. Scenario: A quality control department wants to test the weight consistency of a product. The weights of a sample of products are as follows:<br>\n",
    "    [10.2, 9.8, 10.0, 10.5, 10.3, 10.1]<br>\n",
    "    Perform a hypothesis test to determine if the mean weight differs significantly from 10 grams.__</font>"
   ]
  },
  {
   "cell_type": "code",
   "execution_count": null,
   "id": "92d3957c",
   "metadata": {},
   "outputs": [],
   "source": [
    "from scipy import stats\n",
    "\n",
    "# Weights data\n",
    "weights = [10.2, 9.8, 10.0, 10.5, 10.3, 10.1]\n",
    "\n",
    "# Perform the one-sample t-test\n",
    "t_statistic, p_value = stats.ttest_1samp(weights, 10)\n",
    "\n",
    "# Print the t-statistic and p-value\n",
    "print(\"T-statistic:\", t_statistic)\n",
    "print(\"P-value:\", p_value)\n"
   ]
  },
  {
   "cell_type": "markdown",
   "id": "1ac792bf",
   "metadata": {},
   "source": [
    "<font size=\"3\">__12. Scenario: A company wants to analyze the click-through rates of two different website designs. The number of clicks for each design is as follows:<br>\n",
    "    Design A: [100, 120, 110, 90, 95]<br>\n",
    "    Design B: [80, 85, 90, 95, 100]<br>\n",
    "    Perform a chi-square test to determine if there is a significant difference in the click-through rates between the two designs.__</font>"
   ]
  },
  {
   "cell_type": "code",
   "execution_count": null,
   "id": "6fcdef60",
   "metadata": {},
   "outputs": [],
   "source": [
    "from scipy import stats\n",
    "\n",
    "# Clicks data for Design A and Design B\n",
    "clicks_design_a = [100, 120, 110, 90, 95]\n",
    "clicks_design_b = [80, 85, 90, 95, 100]\n",
    "\n",
    "# Perform the chi-square test\n",
    "chi2_statistic, p_value = stats.chisquare(clicks_design_a, f_exp=clicks_design_b)\n",
    "\n",
    "# Print the chi-square statistic and p-value\n",
    "print(\"Chi-square statistic:\", chi2_statistic)\n",
    "print(\"P-value:\", p_value)\n"
   ]
  },
  {
   "cell_type": "markdown",
   "id": "cb665095",
   "metadata": {},
   "source": [
    "<font size=\"3\">__13. Scenario: A survey is conducted to measure customer satisfaction with a product on a scale of 1 to 10. The data collected is as follows:<br>\n",
    "    [7, 9, 6, 8, 10, 7, 8, 9, 7, 8]<br>\n",
    "    Calculate the 95% confidence interval for the population mean satisfaction score.__</font>"
   ]
  },
  {
   "cell_type": "code",
   "execution_count": null,
   "id": "bedd11a2",
   "metadata": {},
   "outputs": [],
   "source": [
    "import numpy as np\n",
    "from scipy import stats\n",
    "\n",
    "# Satisfaction scores data\n",
    "satisfaction_scores = [7, 9, 6, 8, 10, 7, 8, 9, 7, 8]\n",
    "\n",
    "# Calculate the mean and standard error\n",
    "mean = np.mean(satisfaction_scores)\n",
    "std_error = stats.sem(satisfaction_scores)\n",
    "\n",
    "# Calculate the 95% confidence interval\n",
    "confidence_interval = stats.t.interval(0.95, len(satisfaction_scores)-1, loc=mean, scale=std_error)\n",
    "\n",
    "# Print the confidence interval\n",
    "print(\"95% Confidence Interval:\", confidence_interval)\n"
   ]
  },
  {
   "cell_type": "markdown",
   "id": "e406be63",
   "metadata": {},
   "source": [
    "<font size=\"3\">__14. Scenario: A company wants to analyze the effect of temperature on product performance. The data collected is as follows:<br>\n",
    "    Temperature (in degrees Celsius): [20, 22, 23, 19, 21]<br>\n",
    "    Performance (on a scale of 1 to 10): [8, 7, 9, 6, 8]<br>\n",
    "    Perform a simple linear regression to predict performance based on temperature.__</font>"
   ]
  },
  {
   "cell_type": "code",
   "execution_count": null,
   "id": "9e34b10a",
   "metadata": {},
   "outputs": [],
   "source": [
    "from scipy import stats\n",
    "\n",
    "# Temperature and performance data\n",
    "temperature = [20, 22, 23, 19, 21]\n",
    "performance = [8, 7, 9, 6, 8]\n",
    "\n",
    "# Perform the linear regression\n",
    "slope, intercept, r_value, p_value, std_err = stats.linregress(temperature, performance)\n",
    "\n",
    "# Print the slope, intercept, r-value, p-value, and standard error\n",
    "print(\"Slope:\", slope)\n",
    "print(\"Intercept:\", intercept)\n",
    "print(\"R-value (correlation coefficient):\", r_value)\n",
    "print(\"P-value:\", p_value)\n",
    "print(\"Standard error:\", std_err)\n"
   ]
  },
  {
   "cell_type": "markdown",
   "id": "b5062b4e",
   "metadata": {},
   "source": [
    "<font size=\"3\">__15. Scenario: A study is conducted to compare the preferences of two groups of participants. The preferences are measured on a Likert scale from 1 to 5. The data collected is as follows:<br>\n",
    "    Group A: [4, 3, 5, 2, 4]<br>\n",
    "    Group B: [3, 2, 4, 3, 3]<br>\n",
    "    Perform a Mann-Whitney U test to determine if there is a significant difference in the median preferences between the two groups.__</font>"
   ]
  },
  {
   "cell_type": "code",
   "execution_count": null,
   "id": "75644593",
   "metadata": {},
   "outputs": [],
   "source": [
    "from scipy import stats\n",
    "\n",
    "# Preferences data for Group A and Group B\n",
    "preferences_group_a = [4, 3, 5, 2, 4]\n",
    "preferences_group_b = [3, 2, 4, 3, 3]\n",
    "\n",
    "# Perform the Mann-Whitney U test\n",
    "statistic, p_value = stats.mannwhitneyu(preferences_group_a, preferences_group_b)\n",
    "\n",
    "# Print the test statistic and p-value\n",
    "print(\"Mann-Whitney U statistic:\", statistic)\n",
    "print(\"P-value:\", p_value)\n"
   ]
  },
  {
   "cell_type": "markdown",
   "id": "2d5e9bb2",
   "metadata": {},
   "source": [
    "<font size=\"3\">__16. Scenario: A company wants to analyze the distribution of customer ages. The data collected is as follows:<br>\n",
    "    [25, 30, 35, 40, 45, 50, 55, 60, 65, 70]<br>\n",
    "    Calculate the interquartile range (IQR) of the ages.__</font>"
   ]
  },
  {
   "cell_type": "code",
   "execution_count": null,
   "id": "13b2fee4",
   "metadata": {},
   "outputs": [],
   "source": [
    "import numpy as np\n",
    "\n",
    "# Customer ages data\n",
    "customer_ages = [25, 30, 35, 40, 45, 50, 55, 60, 65, 70]\n",
    "\n",
    "# Calculate the first quartile (Q1)\n",
    "q1 = np.percentile(customer_ages, 25)\n",
    "\n",
    "# Calculate the third quartile (Q3)\n",
    "q3 = np.percentile(customer_ages, 75)\n",
    "\n",
    "# Calculate the interquartile range (IQR)\n",
    "iqr = q3 - q1\n",
    "\n",
    "# Print the interquartile range\n",
    "print(\"Interquartile Range (IQR) of the ages:\", iqr)\n"
   ]
  },
  {
   "cell_type": "markdown",
   "id": "a44ed1ea",
   "metadata": {},
   "source": [
    "<font size=\"3\">__17. Scenario: A study is conducted to compare the performance of three different machine learning algorithms. The accuracy scores for each algorithm are as follows:<br>\n",
    "    Algorithm A: [0.85, 0.80, 0.82, 0.87, 0.83]<br>\n",
    "    Algorithm B: [0.78, 0.82, 0.84, 0.80, 0.79]<br>\n",
    "    Algorithm C: [0.90, 0.88, 0.89, 0.86, 0.87]<br>\n",
    "    Perform a Kruskal-Wallis test to determine if there is a significant difference in the median accuracy scores between the algorithms.__</font>"
   ]
  },
  {
   "cell_type": "code",
   "execution_count": null,
   "id": "3729880b",
   "metadata": {},
   "outputs": [],
   "source": [
    "from scipy import stats\n",
    "\n",
    "# Accuracy scores data for Algorithm A, Algorithm B, and Algorithm C\n",
    "accuracy_scores_algorithm_a = [0.85, 0.80, 0.82, 0.87, 0.83]\n",
    "accuracy_scores_algorithm_b = [0.78, 0.82, 0.84, 0.80, 0.79]\n",
    "accuracy_scores_algorithm_c = [0.90, 0.88, 0.89, 0.86, 0.87]\n",
    "\n",
    "# Perform the Kruskal-Wallis test\n",
    "statistic, p_value = stats.kruskal(accuracy_scores_algorithm_a, accuracy_scores_algorithm_b, accuracy_scores_algorithm_c)\n",
    "\n",
    "# Print the test statistic and p-value\n",
    "print(\"Kruskal-Wallis test statistic:\", statistic)\n",
    "print(\"P-value:\", p_value)\n"
   ]
  },
  {
   "cell_type": "markdown",
   "id": "7955ca20",
   "metadata": {},
   "source": [
    "<font size=\"3\">__18. Scenario: A company wants to analyze the effect of price on sales. The data collected is as follows:\n",
    "    Price (in dollars): [10, 15, 12, 8, 14]<br>\n",
    "    Sales: [100, 80, 90, 110, 95]<br>\n",
    "    Perform a simple linear regression to predict sales based on price.__</font>"
   ]
  },
  {
   "cell_type": "code",
   "execution_count": null,
   "id": "6af35de6",
   "metadata": {},
   "outputs": [],
   "source": [
    "from scipy import stats\n",
    "\n",
    "# Price and sales data\n",
    "price = [10, 15, 12, 8, 14]\n",
    "sales = [100, 80, 90, 110, 95]\n",
    "\n",
    "# Perform the linear regression\n",
    "slope, intercept, r_value, p_value, std_err = stats.linregress(price, sales)\n",
    "\n",
    "# Print the slope, intercept, r-value, p-value, and standard error\n",
    "print(\"Slope:\", slope)\n",
    "print(\"Intercept:\", intercept)\n",
    "print(\"R-value (correlation coefficient):\", r_value)\n",
    "print(\"P-value:\", p_value)\n",
    "print(\"Standard error:\", std_err)\n"
   ]
  },
  {
   "cell_type": "markdown",
   "id": "ef727daf",
   "metadata": {},
   "source": [
    "<font size=\"3\">__19. Scenario: A survey is conducted to measure the satisfaction levels of customers with a new product. The data collected is as follows:<br>\n",
    "    [7, 8, 9, 6, 8, 7, 9, 7, 8, 7]<br>\n",
    "    Calculate the standard error of the mean satisfaction score.__</font>"
   ]
  },
  {
   "cell_type": "code",
   "execution_count": null,
   "id": "d726c143",
   "metadata": {},
   "outputs": [],
   "source": [
    "import numpy as np\n",
    "\n",
    "# Satisfaction scores data\n",
    "satisfaction_scores = [7, 8, 9, 6, 8, 7, 9, 7, 8, 7]\n",
    "\n",
    "# Calculate the standard error of the mean\n",
    "std_error = np.std(satisfaction_scores) / np.sqrt(len(satisfaction_scores))\n",
    "\n",
    "# Print the standard error of the mean\n",
    "print(\"Standard Error of the Mean:\", std_error)\n"
   ]
  },
  {
   "cell_type": "markdown",
   "id": "0084cbbd",
   "metadata": {},
   "source": [
    "<font size=\"3\">__20. Scenario: A company wants to analyze the relationship between advertising expenditure and sales. The data collected is as follows:<br>\n",
    "    Advertising Expenditure (in thousands): [10, 15, 12, 8, 14]<br>\n",
    "    Sales (in thousands): [25, 30, 28, 20, 26]<br>\n",
    "    Perform a multiple regression analysis to predict sales based on advertising expenditure.__</font>"
   ]
  },
  {
   "cell_type": "code",
   "execution_count": null,
   "id": "de8bc52a",
   "metadata": {},
   "outputs": [],
   "source": [
    "import statsmodels.api as sm\n",
    "import pandas as pd\n",
    "\n",
    "# Advertising expenditure and sales data\n",
    "advertising_expenditure = [10, 15, 12, 8, 14]\n",
    "sales = [25, 30, 28, 20, 26]\n",
    "\n",
    "# Create a DataFrame for the data\n",
    "data = pd.DataFrame({'Advertising Expenditure': advertising_expenditure, 'Sales': sales})\n",
    "\n",
    "# Add a constant column to the data\n",
    "data = sm.add_constant(data)\n",
    "\n",
    "# Perform the multiple regression analysis\n",
    "model = sm.OLS(data['Sales'], data[['const', 'Advertising Expenditure']])\n",
    "results = model.fit()\n",
    "\n",
    "# Print the regression results\n",
    "print(results.summary())\n"
   ]
  },
  {
   "cell_type": "markdown",
   "id": "e5e0d46a",
   "metadata": {},
   "source": []
  },
  {
   "cell_type": "code",
   "execution_count": null,
   "id": "f512d4b4",
   "metadata": {},
   "outputs": [],
   "source": []
  },
  {
   "cell_type": "markdown",
   "id": "a828dd88",
   "metadata": {},
   "source": []
  },
  {
   "cell_type": "code",
   "execution_count": null,
   "id": "de863a9c",
   "metadata": {},
   "outputs": [],
   "source": []
  },
  {
   "cell_type": "markdown",
   "id": "7ae6d4a0",
   "metadata": {},
   "source": []
  },
  {
   "cell_type": "code",
   "execution_count": null,
   "id": "f4cd9d68",
   "metadata": {},
   "outputs": [],
   "source": []
  },
  {
   "cell_type": "markdown",
   "id": "a021ae4f",
   "metadata": {},
   "source": []
  },
  {
   "cell_type": "code",
   "execution_count": null,
   "id": "50894120",
   "metadata": {},
   "outputs": [],
   "source": []
  },
  {
   "cell_type": "markdown",
   "id": "da20dee2",
   "metadata": {},
   "source": []
  },
  {
   "cell_type": "code",
   "execution_count": null,
   "id": "aa177e30",
   "metadata": {},
   "outputs": [],
   "source": []
  },
  {
   "cell_type": "markdown",
   "id": "21bccfe1",
   "metadata": {},
   "source": []
  },
  {
   "cell_type": "code",
   "execution_count": null,
   "id": "a2c67963",
   "metadata": {},
   "outputs": [],
   "source": []
  }
 ],
 "metadata": {
  "kernelspec": {
   "display_name": "Python 3 (ipykernel)",
   "language": "python",
   "name": "python3"
  },
  "language_info": {
   "codemirror_mode": {
    "name": "ipython",
    "version": 3
   },
   "file_extension": ".py",
   "mimetype": "text/x-python",
   "name": "python",
   "nbconvert_exporter": "python",
   "pygments_lexer": "ipython3",
   "version": "3.10.9"
  }
 },
 "nbformat": 4,
 "nbformat_minor": 5
}
