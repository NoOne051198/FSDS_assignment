{
 "cells": [
  {
   "cell_type": "markdown",
   "id": "d53118dd",
   "metadata": {},
   "source": [
    "# Assignment - 01"
   ]
  },
  {
   "cell_type": "markdown",
   "id": "1bcf15dc",
   "metadata": {},
   "source": [
    "<font size=\"3\">__1. Write a Python program to reverse a string without using any built-in string reversal functions.__</font>"
   ]
  },
  {
   "cell_type": "code",
   "execution_count": null,
   "id": "64c4130a",
   "metadata": {},
   "outputs": [],
   "source": [
    "def reverse_string(input_str):\n",
    "    reversed_str = \"\"\n",
    "    for char in input_str:\n",
    "        reversed_str = char + reversed_str\n",
    "    return reversed_str\n",
    "\n",
    "# Example usage\n",
    "input_string = \"Hello, World!\"\n",
    "reversed_string = reverse_string(input_string)\n",
    "print(reversed_string)\n"
   ]
  },
  {
   "cell_type": "markdown",
   "id": "0856c2fd",
   "metadata": {},
   "source": [
    "<font size=\"3\">__2. Implement a function to check if a given string is a palindrome.__</font>"
   ]
  },
  {
   "cell_type": "code",
   "execution_count": null,
   "id": "cf9bb496",
   "metadata": {},
   "outputs": [],
   "source": [
    "def is_palindrome(input_str):\n",
    "    # Remove any non-alphanumeric characters and convert to lowercase\n",
    "    input_str = ''.join(c.lower() for c in input_str if c.isalnum())\n",
    "\n",
    "    # Check if the string is equal to its reverse\n",
    "    return input_str == input_str[::-1]\n",
    "\n",
    "# Example usage\n",
    "input_string = \"A man, a plan, a canal: Panama\"\n",
    "print(is_palindrome(input_string))  # Output: True\n"
   ]
  },
  {
   "cell_type": "markdown",
   "id": "0e1a0145",
   "metadata": {},
   "source": [
    "<font size=\"3\">__3. Write a program to find the largest element in a given list.__</font>"
   ]
  },
  {
   "cell_type": "code",
   "execution_count": null,
   "id": "e38fa89a",
   "metadata": {},
   "outputs": [],
   "source": [
    "def find_largest_element(input_list):\n",
    "    if len(input_list) == 0:\n",
    "        return None\n",
    "\n",
    "    largest_element = input_list[0]\n",
    "    for num in input_list:\n",
    "        if num > largest_element:\n",
    "            largest_element = num\n",
    "\n",
    "    return largest_element\n",
    "\n",
    "# Example usage\n",
    "numbers = [5, 9, 3, 7, 2, 8]\n",
    "largest_num = find_largest_element(numbers)\n",
    "print(\"The largest element is:\", largest_num)\n"
   ]
  },
  {
   "cell_type": "markdown",
   "id": "68505dc1",
   "metadata": {},
   "source": [
    "<font size=\"3\">__4. Implement a function to count the occurrence of each element in a list.__</font>"
   ]
  },
  {
   "cell_type": "code",
   "execution_count": null,
   "id": "aa6692d7",
   "metadata": {},
   "outputs": [],
   "source": [
    "def count_occurrences(input_list):\n",
    "    occurrence_count = {}\n",
    "    for element in input_list:\n",
    "        if element in occurrence_count:\n",
    "            occurrence_count[element] += 1\n",
    "        else:\n",
    "            occurrence_count[element] = 1\n",
    "    return occurrence_count\n",
    "\n",
    "# Example usage\n",
    "numbers = [1, 2, 3, 2, 1, 3, 3, 4, 4, 4]\n",
    "occurrence_count = count_occurrences(numbers)\n",
    "print(occurrence_count)\n"
   ]
  },
  {
   "cell_type": "markdown",
   "id": "41718ea7",
   "metadata": {},
   "source": [
    "<font size=\"3\">__5. Write a Python program to find the second largest number in a list.__</font>"
   ]
  },
  {
   "cell_type": "code",
   "execution_count": null,
   "id": "163b6809",
   "metadata": {},
   "outputs": [],
   "source": [
    "def find_second_largest(input_list):\n",
    "    if len(input_list) < 2:\n",
    "        return None\n",
    "\n",
    "    largest = max(input_list[0], input_list[1])\n",
    "    second_largest = min(input_list[0], input_list[1])\n",
    "\n",
    "    for num in input_list[2:]:\n",
    "        if num > largest:\n",
    "            second_largest = largest\n",
    "            largest = num\n",
    "        elif num > second_largest:\n",
    "            second_largest = num\n",
    "\n",
    "    return second_largest\n",
    "\n",
    "# Example usage\n",
    "numbers = [5, 9, 3, 7, 2, 8]\n",
    "second_largest_num = find_second_largest(numbers)\n",
    "print(\"The second largest number is:\", second_largest_num)\n"
   ]
  },
  {
   "cell_type": "markdown",
   "id": "bb4dcfab",
   "metadata": {},
   "source": [
    "<font size=\"3\">__6. Implement a function to remove duplicate elements from a list.__</font>"
   ]
  },
  {
   "cell_type": "code",
   "execution_count": null,
   "id": "c338b57a",
   "metadata": {},
   "outputs": [],
   "source": [
    "def remove_duplicates(input_list):\n",
    "    unique_list = []\n",
    "    for element in input_list:\n",
    "        if element not in unique_list:\n",
    "            unique_list.append(element)\n",
    "    return unique_list\n",
    "\n",
    "# Example usage\n",
    "numbers = [2, 5, 3, 2, 8, 5, 1, 9, 3, 8]\n",
    "unique_numbers = remove_duplicates(numbers)\n",
    "print(unique_numbers)\n"
   ]
  },
  {
   "cell_type": "markdown",
   "id": "79bf678e",
   "metadata": {},
   "source": [
    "<font size=\"3\">__7. Write a program to calculate the factorial of a given number.__</font>"
   ]
  },
  {
   "cell_type": "code",
   "execution_count": null,
   "id": "dd7e6345",
   "metadata": {},
   "outputs": [],
   "source": [
    "def factorial(n):\n",
    "    if n < 0:\n",
    "        return None\n",
    "    elif n == 0:\n",
    "        return 1\n",
    "    else:\n",
    "        result = 1\n",
    "        for i in range(1, n+1):\n",
    "            result *= i\n",
    "        return result\n",
    "\n",
    "# Example usage\n",
    "number = 5\n",
    "factorial_value = factorial(number)\n",
    "print(\"The factorial of\", number, \"is:\", factorial_value)\n"
   ]
  },
  {
   "cell_type": "markdown",
   "id": "ff4e8b29",
   "metadata": {},
   "source": [
    "<font size=\"3\">__8. Implement a function to check if a given number is prime.__</font>"
   ]
  },
  {
   "cell_type": "code",
   "execution_count": null,
   "id": "b6c86016",
   "metadata": {},
   "outputs": [],
   "source": [
    "def is_prime(number):\n",
    "    if number < 2:\n",
    "        return False\n",
    "    for i in range(2, int(number ** 0.5) + 1):\n",
    "        if number % i == 0:\n",
    "            return False\n",
    "    return True\n",
    "\n",
    "# Example usage\n",
    "num = 17\n",
    "if is_prime(num):\n",
    "    print(num, \"is prime.\")\n",
    "else:\n",
    "    print(num, \"is not prime.\")\n"
   ]
  },
  {
   "cell_type": "markdown",
   "id": "4be884fa",
   "metadata": {},
   "source": [
    "<font size=\"3\">__9. Write a Python program to sort a list of integers in ascending order.__</font>"
   ]
  },
  {
   "cell_type": "code",
   "execution_count": null,
   "id": "08b2addd",
   "metadata": {},
   "outputs": [],
   "source": [
    "def sort_list_ascending(input_list):\n",
    "    input_list.sort()\n",
    "    return input_list\n",
    "\n",
    "# Example usage\n",
    "numbers = [5, 2, 8, 1, 9, 3]\n",
    "sorted_numbers = sort_list_ascending(numbers)\n",
    "print(\"Sorted list in ascending order:\", sorted_numbers)\n"
   ]
  },
  {
   "cell_type": "markdown",
   "id": "917b46c2",
   "metadata": {},
   "source": [
    "<font size=\"3\">__10. Implement a function to find the sum of all numbers in a list.__</font>"
   ]
  },
  {
   "cell_type": "code",
   "execution_count": null,
   "id": "129689f4",
   "metadata": {},
   "outputs": [],
   "source": [
    "def calculate_sum(input_list):\n",
    "    sum_result = 0\n",
    "    for num in input_list:\n",
    "        sum_result += num\n",
    "    return sum_result\n",
    "\n",
    "# Example usage\n",
    "numbers = [5, 2, 8, 1, 9, 3]\n",
    "sum_of_numbers = calculate_sum(numbers)\n",
    "print(\"Sum of numbers:\", sum_of_numbers)\n"
   ]
  },
  {
   "cell_type": "markdown",
   "id": "7b9a4883",
   "metadata": {},
   "source": [
    "<font size=\"3\">__11. Write a program to find the common elements between two lists.__</font>"
   ]
  },
  {
   "cell_type": "code",
   "execution_count": null,
   "id": "3b2cfb27",
   "metadata": {},
   "outputs": [],
   "source": [
    "def find_common_elements(list1, list2):\n",
    "    common_elements = []\n",
    "    for element in list1:\n",
    "        if element in list2 and element not in common_elements:\n",
    "            common_elements.append(element)\n",
    "    return common_elements\n",
    "\n",
    "# Example usage\n",
    "list1 = [2, 5, 3, 8, 1]\n",
    "list2 = [5, 7, 1, 9, 3]\n",
    "common_elements = find_common_elements(list1, list2)\n",
    "print(\"Common elements:\", common_elements)\n"
   ]
  },
  {
   "cell_type": "markdown",
   "id": "2a1b5ff4",
   "metadata": {},
   "source": [
    "<font size=\"3\">__12. Implement a function to check if a given string is an anagram of another string.__</font>"
   ]
  },
  {
   "cell_type": "code",
   "execution_count": null,
   "id": "3e7c9c3b",
   "metadata": {},
   "outputs": [],
   "source": [
    "def is_anagram(string1, string2):\n",
    "    # Remove any non-alphanumeric characters and convert to lowercase\n",
    "    string1 = ''.join(c.lower() for c in string1 if c.isalnum())\n",
    "    string2 = ''.join(c.lower() for c in string2 if c.isalnum())\n",
    "\n",
    "    # Check if the sorted strings are equal\n",
    "    return sorted(string1) == sorted(string2)\n",
    "\n",
    "# Example usage\n",
    "word1 = \"listen\"\n",
    "word2 = \"silent\"\n",
    "if is_anagram(word1, word2):\n",
    "    print(word1, \"and\", word2, \"are anagrams.\")\n",
    "else:\n",
    "    print(word1, \"and\", word2, \"are not anagrams.\")\n"
   ]
  },
  {
   "cell_type": "markdown",
   "id": "e5cbe49d",
   "metadata": {},
   "source": [
    "<font size=\"3\">__13. Write a Python program to generate all permutations of a given string.__</font>"
   ]
  },
  {
   "cell_type": "code",
   "execution_count": null,
   "id": "089a642b",
   "metadata": {},
   "outputs": [],
   "source": [
    "def generate_permutations(input_string):\n",
    "    # Base case: If the string has only one character, return it as a single permutation\n",
    "    if len(input_string) == 1:\n",
    "        return [input_string]\n",
    "\n",
    "    # Recursive case: Generate permutations by selecting each character as the first character\n",
    "    permutations = []\n",
    "    for i in range(len(input_string)):\n",
    "        first_char = input_string[i]\n",
    "        remaining_chars = input_string[:i] + input_string[i+1:]\n",
    "        for permutation in generate_permutations(remaining_chars):\n",
    "            permutations.append(first_char + permutation)\n",
    "\n",
    "    return permutations\n",
    "\n",
    "# Example usage\n",
    "word = \"abc\"\n",
    "permutations = generate_permutations(word)\n",
    "print(\"All permutations of\", word, \":\")\n",
    "for permutation in permutations:\n",
    "    print(permutation)\n"
   ]
  },
  {
   "cell_type": "markdown",
   "id": "2d520912",
   "metadata": {},
   "source": [
    "<font size=\"3\">__14. Implement a function to calculate the Fibonacci sequence up to a given number of terms.__</font>"
   ]
  },
  {
   "cell_type": "code",
   "execution_count": null,
   "id": "12ebce62",
   "metadata": {},
   "outputs": [],
   "source": [
    "def fibonacci_sequence(num_terms):\n",
    "    sequence = [0, 1]  # Initialize the sequence with the first two terms\n",
    "\n",
    "    if num_terms <= 2:\n",
    "        return sequence[:num_terms]\n",
    "\n",
    "    while len(sequence) < num_terms:\n",
    "        next_term = sequence[-1] + sequence[-2]\n",
    "        sequence.append(next_term)\n",
    "\n",
    "    return sequence\n",
    "\n",
    "# Example usage\n",
    "num_terms = 10\n",
    "fib_sequence = fibonacci_sequence(num_terms)\n",
    "print(\"Fibonacci sequence up to\", num_terms, \"terms:\")\n",
    "print(fib_sequence)\n"
   ]
  },
  {
   "cell_type": "markdown",
   "id": "6fac4881",
   "metadata": {},
   "source": [
    "<font size=\"3\">__15. Write a program to find the median of a list of numbers.__</font>"
   ]
  },
  {
   "cell_type": "code",
   "execution_count": null,
   "id": "9c38db9a",
   "metadata": {},
   "outputs": [],
   "source": [
    "def find_median(numbers):\n",
    "    numbers.sort()  # Sort the numbers in ascending order\n",
    "\n",
    "    n = len(numbers)\n",
    "    if n % 2 == 0:\n",
    "        # If the number of elements is even, average the middle two numbers\n",
    "        mid_index1 = n // 2 - 1\n",
    "        mid_index2 = n // 2\n",
    "        median = (numbers[mid_index1] + numbers[mid_index2]) / 2\n",
    "    else:\n",
    "        # If the number of elements is odd, take the middle number\n",
    "        mid_index = n // 2\n",
    "        median = numbers[mid_index]\n",
    "\n",
    "    return median\n",
    "\n",
    "# Example usage\n",
    "nums = [5, 2, 8, 1, 9, 3, 7]\n",
    "median_value = find_median(nums)\n",
    "print(\"The median is:\", median_value)\n"
   ]
  },
  {
   "cell_type": "markdown",
   "id": "b33c5c87",
   "metadata": {},
   "source": [
    "<font size=\"3\">__16. Implement a function to check if a given list is sorted in non-decreasing order.__</font>"
   ]
  },
  {
   "cell_type": "code",
   "execution_count": null,
   "id": "aa662c52",
   "metadata": {},
   "outputs": [],
   "source": [
    "def is_sorted(numbers):\n",
    "    for i in range(1, len(numbers)):\n",
    "        if numbers[i] < numbers[i-1]:\n",
    "            return False\n",
    "    return True\n",
    "\n",
    "# Example usage\n",
    "nums1 = [1, 2, 3, 4, 5]\n",
    "print(is_sorted(nums1))  # Output: True\n",
    "\n",
    "nums2 = [5, 2, 8, 1, 9]\n",
    "print(is_sorted(nums2))  # Output: False\n"
   ]
  },
  {
   "cell_type": "markdown",
   "id": "108256a4",
   "metadata": {},
   "source": [
    "<font size=\"3\">__17. Write a Python program to find the intersection of two lists.__</font>"
   ]
  },
  {
   "cell_type": "code",
   "execution_count": null,
   "id": "0576b349",
   "metadata": {},
   "outputs": [],
   "source": [
    "def find_intersection(list1, list2):\n",
    "    set1 = set(list1)\n",
    "    set2 = set(list2)\n",
    "    intersection = set1.intersection(set2)\n",
    "    return list(intersection)\n",
    "\n",
    "# Example usage\n",
    "nums1 = [1, 2, 3, 4, 5]\n",
    "nums2 = [4, 5, 6, 7, 8]\n",
    "intersection_list = find_intersection(nums1, nums2)\n",
    "print(\"Intersection of the lists:\", intersection_list)\n"
   ]
  },
  {
   "cell_type": "markdown",
   "id": "86875cc3",
   "metadata": {},
   "source": [
    "<font size=\"3\">__18. Implement a function to find the maximum subarray sum in a given list.__</font>"
   ]
  },
  {
   "cell_type": "code",
   "execution_count": null,
   "id": "262c3a54",
   "metadata": {},
   "outputs": [],
   "source": [
    "def max_subarray_sum(numbers):\n",
    "    if not numbers:\n",
    "        return 0\n",
    "\n",
    "    max_sum = numbers[0]\n",
    "    current_sum = numbers[0]\n",
    "\n",
    "    for num in numbers[1:]:\n",
    "        current_sum = max(num, current_sum + num)\n",
    "        max_sum = max(max_sum, current_sum)\n",
    "\n",
    "    return max_sum\n",
    "\n",
    "# Example usage\n",
    "nums = [-2, 1, -3, 4, -1, 2, 1, -5, 4]\n",
    "max_sum = max_subarray_sum(nums)\n",
    "print(\"Maximum subarray sum:\", max_sum)\n"
   ]
  },
  {
   "cell_type": "markdown",
   "id": "650d05e1",
   "metadata": {},
   "source": [
    "<font size=\"3\">__19. Write a program to remove all vowels from a given string.__</font>"
   ]
  },
  {
   "cell_type": "code",
   "execution_count": null,
   "id": "fa9c43e1",
   "metadata": {},
   "outputs": [],
   "source": [
    "def remove_vowels(input_string):\n",
    "    vowels = ['a', 'e', 'i', 'o', 'u']\n",
    "    result = \"\"\n",
    "    for char in input_string:\n",
    "        if char.lower() not in vowels:\n",
    "            result += char\n",
    "    return result\n",
    "\n",
    "# Example usage\n",
    "string = \"Hello, World!\"\n",
    "new_string = remove_vowels(string)\n",
    "print(\"String without vowels:\", new_string)\n"
   ]
  },
  {
   "cell_type": "markdown",
   "id": "8f3415eb",
   "metadata": {},
   "source": [
    "<font size=\"3\">__20. Implement a function to reverse the order of words in a given sentence.__</font>"
   ]
  },
  {
   "cell_type": "code",
   "execution_count": null,
   "id": "ae90ef84",
   "metadata": {},
   "outputs": [],
   "source": [
    "def reverse_words(sentence):\n",
    "    words = sentence.split()  # Split the sentence into individual words\n",
    "    reversed_words = words[::-1]  # Reverse the order of the words\n",
    "    reversed_sentence = \" \".join(reversed_words)  # Join the reversed words back into a sentence\n",
    "    return reversed_sentence\n",
    "\n",
    "# Example usage\n",
    "sentence = \"Hello, how are you?\"\n",
    "reversed_sentence = reverse_words(sentence)\n",
    "print(\"Reversed sentence:\", reversed_sentence)\n"
   ]
  },
  {
   "cell_type": "markdown",
   "id": "bdf48b7a",
   "metadata": {},
   "source": [
    "<font size=\"3\">__21. Write a Python program to check if two strings are anagrams of each other.__</font>"
   ]
  },
  {
   "cell_type": "code",
   "execution_count": null,
   "id": "4cb73c43",
   "metadata": {},
   "outputs": [],
   "source": [
    "def are_anagrams(string1, string2):\n",
    "    # Remove any non-alphanumeric characters and convert to lowercase\n",
    "    string1 = ''.join(c.lower() for c in string1 if c.isalnum())\n",
    "    string2 = ''.join(c.lower() for c in string2 if c.isalnum())\n",
    "\n",
    "    # Check if the sorted strings are equal\n",
    "    return sorted(string1) == sorted(string2)\n",
    "\n",
    "# Example usage\n",
    "word1 = \"listen\"\n",
    "word2 = \"silent\"\n",
    "if are_anagrams(word1, word2):\n",
    "    print(word1, \"and\", word2, \"are anagrams.\")\n",
    "else:\n",
    "    print(word1, \"and\", word2, \"are not anagrams.\")\n"
   ]
  },
  {
   "cell_type": "markdown",
   "id": "f8993e89",
   "metadata": {},
   "source": [
    "<font size=\"3\">__22. Implement a function to find the first non-repeating character in a string.__</font>"
   ]
  },
  {
   "cell_type": "code",
   "execution_count": null,
   "id": "e6ad40a7",
   "metadata": {},
   "outputs": [],
   "source": [
    "def find_first_non_repeating_char(input_string):\n",
    "    char_count = {}\n",
    "    for char in input_string:\n",
    "        if char in char_count:\n",
    "            char_count[char] += 1\n",
    "        else:\n",
    "            char_count[char] = 1\n",
    "\n",
    "    for char in input_string:\n",
    "        if char_count[char] == 1:\n",
    "            return char\n",
    "\n",
    "    return None\n",
    "\n",
    "# Example usage\n",
    "string = \"abracadabra\"\n",
    "first_non_repeating_char = find_first_non_repeating_char(string)\n",
    "if first_non_repeating_char:\n",
    "    print(\"The first non-repeating character is:\", first_non_repeating_char)\n",
    "else:\n",
    "    print(\"There are no non-repeating characters in the string.\")\n"
   ]
  },
  {
   "cell_type": "markdown",
   "id": "77029029",
   "metadata": {},
   "source": [
    "<font size=\"3\">__23. Write a program to find the prime factors of a given number.__</font>"
   ]
  },
  {
   "cell_type": "code",
   "execution_count": null,
   "id": "60e14f8c",
   "metadata": {},
   "outputs": [],
   "source": [
    "def find_prime_factors(number):\n",
    "    prime_factors = []\n",
    "    divisor = 2\n",
    "\n",
    "    while divisor <= number:\n",
    "        if number % divisor == 0:\n",
    "            prime_factors.append(divisor)\n",
    "            number //= divisor\n",
    "        else:\n",
    "            divisor += 1\n",
    "\n",
    "    return prime_factors\n",
    "\n",
    "# Example usage\n",
    "num = 56\n",
    "prime_factors = find_prime_factors(num)\n",
    "print(\"Prime factors of\", num, \"are:\", prime_factors)\n"
   ]
  },
  {
   "cell_type": "markdown",
   "id": "2ad7e30b",
   "metadata": {},
   "source": [
    "<font size=\"3\">__24. Implement a function to check if a given number is a power of two.__</font>"
   ]
  },
  {
   "cell_type": "code",
   "execution_count": null,
   "id": "c6b3d995",
   "metadata": {},
   "outputs": [],
   "source": [
    "def is_power_of_two(number):\n",
    "    if number <= 0:\n",
    "        return False\n",
    "\n",
    "    while number > 1:\n",
    "        if number % 2 != 0:\n",
    "            return False\n",
    "        number //= 2\n",
    "\n",
    "    return True\n",
    "\n",
    "# Example usage\n",
    "num1 = 16\n",
    "if is_power_of_two(num1):\n",
    "    print(num1, \"is a power of two.\")\n",
    "else:\n",
    "    print(num1, \"is not a power of two.\")\n",
    "\n",
    "num2 = 20\n",
    "if is_power_of_two(num2):\n",
    "    print(num2, \"is a power of two.\")\n",
    "else:\n",
    "    print(num2, \"is not a power of two.\")\n"
   ]
  },
  {
   "cell_type": "markdown",
   "id": "606292c6",
   "metadata": {},
   "source": [
    "<font size=\"3\">__25. Write a Python program to merge two sorted lists into a single sorted list.__</font>"
   ]
  },
  {
   "cell_type": "code",
   "execution_count": null,
   "id": "84786760",
   "metadata": {},
   "outputs": [],
   "source": [
    "def merge_sorted_lists(list1, list2):\n",
    "    merged_list = []\n",
    "    i = 0\n",
    "    j = 0\n",
    "\n",
    "    while i < len(list1) and j < len(list2):\n",
    "        if list1[i] <= list2[j]:\n",
    "            merged_list.append(list1[i])\n",
    "            i += 1\n",
    "        else:\n",
    "            merged_list.append(list2[j])\n",
    "            j += 1\n",
    "\n",
    "    while i < len(list1):\n",
    "        merged_list.append(list1[i])\n",
    "        i += 1\n",
    "\n",
    "    while j < len(list2):\n",
    "        merged_list.append(list2[j])\n",
    "        j += 1\n",
    "\n",
    "    return merged_list\n",
    "\n",
    "# Example usage\n",
    "nums1 = [1, 3, 5, 7]\n",
    "nums2 = [2, 4, 6, 8]\n",
    "merged_nums = merge_sorted_lists(nums1, nums2)\n",
    "print(\"Merged sorted list:\", merged_nums)\n"
   ]
  },
  {
   "cell_type": "markdown",
   "id": "dd622b9a",
   "metadata": {},
   "source": [
    "<font size=\"3\">__26. Implement a function to find the mode of a list of numbers.__</font>"
   ]
  },
  {
   "cell_type": "code",
   "execution_count": null,
   "id": "9dc35c6a",
   "metadata": {},
   "outputs": [],
   "source": [
    "from collections import Counter\n",
    "\n",
    "def find_mode(numbers):\n",
    "    # Count the occurrences of each number\n",
    "    counts = Counter(numbers)\n",
    "\n",
    "    # Find the maximum count\n",
    "    max_count = max(counts.values())\n",
    "\n",
    "    # Find all numbers with the maximum count\n",
    "    mode = [num for num, count in counts.items() if count == max_count]\n",
    "\n",
    "    return mode\n",
    "\n",
    "# Example usage\n",
    "nums = [2, 3, 4, 2, 5, 4, 3, 2, 4, 5]\n",
    "mode_values = find_mode(nums)\n",
    "print(\"Mode(s):\", mode_values)\n"
   ]
  },
  {
   "cell_type": "markdown",
   "id": "becc74c6",
   "metadata": {},
   "source": [
    "<font size=\"3\">__27. Write a program to find the greatest common divisor (GCD) of two numbers.__</font>"
   ]
  },
  {
   "cell_type": "code",
   "execution_count": null,
   "id": "004557c1",
   "metadata": {},
   "outputs": [],
   "source": [
    "def find_gcd(num1, num2):\n",
    "    while num2 != 0:\n",
    "        temp = num2\n",
    "        num2 = num1 % num2\n",
    "        num1 = temp\n",
    "\n",
    "    return num1\n",
    "\n",
    "# Example usage\n",
    "a = 24\n",
    "b = 36\n",
    "gcd = find_gcd(a, b)\n",
    "print(\"The GCD of\", a, \"and\", b, \"is:\", gcd)\n"
   ]
  },
  {
   "cell_type": "markdown",
   "id": "4e6c015e",
   "metadata": {},
   "source": [
    "<font size=\"3\">__28. Implement a function to calculate the square root of a given number.__</font>"
   ]
  },
  {
   "cell_type": "code",
   "execution_count": null,
   "id": "713ba13d",
   "metadata": {},
   "outputs": [],
   "source": [
    "def square_root(number):\n",
    "    if number < 0:\n",
    "        raise ValueError(\"Cannot calculate square root of a negative number.\")\n",
    "    if number == 0:\n",
    "        return 0\n",
    "\n",
    "    guess = number / 2\n",
    "    while True:\n",
    "        new_guess = (guess + number / guess) / 2\n",
    "        if abs(guess - new_guess) < 1e-9:  # Adjust the precision as needed\n",
    "            break\n",
    "        guess = new_guess\n",
    "\n",
    "    return new_guess\n",
    "\n",
    "# Example usage\n",
    "num = 16\n",
    "sqrt = square_root(num)\n",
    "print(\"Square root of\", num, \"is:\", sqrt)\n"
   ]
  },
  {
   "cell_type": "markdown",
   "id": "7b74b594",
   "metadata": {},
   "source": [
    "<font size=\"3\">__29. Write a Python program to check if a given string is a valid palindrome ignoring non-alphanumeric characters.__</font>"
   ]
  },
  {
   "cell_type": "code",
   "execution_count": null,
   "id": "c2d96c14",
   "metadata": {},
   "outputs": [],
   "source": [
    "import re\n",
    "\n",
    "def is_valid_palindrome(string):\n",
    "    # Remove non-alphanumeric characters and convert to lowercase\n",
    "    cleaned_string = re.sub(r'[^a-zA-Z0-9]', '', string.lower())\n",
    "\n",
    "    # Check if the cleaned string is equal to its reverse\n",
    "    return cleaned_string == cleaned_string[::-1]\n",
    "\n",
    "# Example usage\n",
    "word1 = \"A man, a plan, a canal: Panama\"\n",
    "if is_valid_palindrome(word1):\n",
    "    print(word1, \"is a valid palindrome.\")\n",
    "else:\n",
    "    print(word1, \"is not a valid palindrome.\")\n",
    "\n",
    "word2 = \"race a car\"\n",
    "if is_valid_palindrome(word2):\n",
    "    print(word2, \"is a valid palindrome.\")\n",
    "else:\n",
    "    print(word2, \"is not a valid palindrome.\")\n"
   ]
  },
  {
   "cell_type": "markdown",
   "id": "e1ba98e1",
   "metadata": {},
   "source": [
    " <font size=\"3\">__30. Implement a function to find the minimum element in a rotated sorted list.__</font>"
   ]
  },
  {
   "cell_type": "code",
   "execution_count": null,
   "id": "2ef1d157",
   "metadata": {},
   "outputs": [],
   "source": [
    "def find_minimum(nums):\n",
    "    left = 0\n",
    "    right = len(nums) - 1\n",
    "\n",
    "    while left < right:\n",
    "        mid = (left + right) // 2\n",
    "\n",
    "        # If the middle element is greater than the last element, the minimum element is in the right half\n",
    "        if nums[mid] > nums[right]:\n",
    "            left = mid + 1\n",
    "        # If the middle element is less than the last element, the minimum element is in the left half\n",
    "        elif nums[mid] < nums[right]:\n",
    "            right = mid\n",
    "        # If the middle element is equal to the last element, we reduce the search space by one\n",
    "        else:\n",
    "            right -= 1\n",
    "\n",
    "    return nums[left]\n",
    "\n",
    "# Example usage\n",
    "rotated_nums = [4, 5, 6, 7, 0, 1, 2]\n",
    "minimum = find_minimum(rotated_nums)\n",
    "print(\"Minimum element:\", minimum)\n"
   ]
  },
  {
   "cell_type": "markdown",
   "id": "d71ae505",
   "metadata": {},
   "source": [
    "<font size=\"3\">__31. Write a program to find the sum of all even numbers in a list.__</font>"
   ]
  },
  {
   "cell_type": "code",
   "execution_count": null,
   "id": "1b9730d3",
   "metadata": {},
   "outputs": [],
   "source": [
    "def sum_of_even_numbers(numbers):\n",
    "    sum_even = 0\n",
    "    for num in numbers:\n",
    "        if num % 2 == 0:\n",
    "            sum_even += num\n",
    "    return sum_even\n",
    "\n",
    "# Example usage\n",
    "nums = [1, 2, 3, 4, 5, 6, 7, 8, 9, 10]\n",
    "sum_even_nums = sum_of_even_numbers(nums)\n",
    "print(\"Sum of even numbers:\", sum_even_nums)\n"
   ]
  },
  {
   "cell_type": "markdown",
   "id": "e28d1bcc",
   "metadata": {},
   "source": [
    "<font size=\"3\">__32. Implement a function to calculate the power of a number using recursion.__</font>"
   ]
  },
  {
   "cell_type": "code",
   "execution_count": null,
   "id": "7bd5562f",
   "metadata": {},
   "outputs": [],
   "source": [
    "def power(base, exponent):\n",
    "    if exponent == 0:\n",
    "        return 1\n",
    "    elif exponent < 0:\n",
    "        return 1 / power(base, -exponent)\n",
    "    else:\n",
    "        return base * power(base, exponent - 1)\n",
    "\n",
    "# Example usage\n",
    "base = 2\n",
    "exponent = 3\n",
    "result = power(base, exponent)\n",
    "print(base, \"raised to the power\", exponent, \"is:\", result)\n"
   ]
  },
  {
   "cell_type": "markdown",
   "id": "01ab868b",
   "metadata": {},
   "source": [
    "<font size=\"3\">__33. Write a Python program to remove duplicates from a list while preserving the order.__</font>"
   ]
  },
  {
   "cell_type": "code",
   "execution_count": null,
   "id": "3efafa94",
   "metadata": {},
   "outputs": [],
   "source": [
    "def remove_duplicates_preserve_order(lst):\n",
    "    seen = set()\n",
    "    unique_list = []\n",
    "\n",
    "    for item in lst:\n",
    "        if item not in seen:\n",
    "            seen.add(item)\n",
    "            unique_list.append(item)\n",
    "\n",
    "    return unique_list\n",
    "\n",
    "# Example usage\n",
    "numbers = [2, 3, 1, 2, 4, 3, 5, 4, 1]\n",
    "result = remove_duplicates_preserve_order(numbers)\n",
    "print(\"List after removing duplicates:\", result)\n"
   ]
  },
  {
   "cell_type": "markdown",
   "id": "9295996a",
   "metadata": {},
   "source": [
    "<font size=\"3\">__34. Implement a function to find the longest common prefix among a list of strings.__</font>"
   ]
  },
  {
   "cell_type": "code",
   "execution_count": null,
   "id": "f6487907",
   "metadata": {},
   "outputs": [],
   "source": [
    "def longest_common_prefix(strings):\n",
    "    if not strings:\n",
    "        return \"\"\n",
    "\n",
    "    shortest_string = min(strings, key=len)\n",
    "    prefix = \"\"\n",
    "\n",
    "    for i in range(len(shortest_string)):\n",
    "        char = shortest_string[i]\n",
    "        for string in strings:\n",
    "            if string[i] != char:\n",
    "                return prefix\n",
    "        prefix += char\n",
    "\n",
    "    return prefix\n",
    "\n",
    "# Example usage\n",
    "words = [\"flower\", \"flow\", \"flight\"]\n",
    "common_prefix = longest_common_prefix(words)\n",
    "print(\"Longest common prefix:\", common_prefix)\n"
   ]
  },
  {
   "cell_type": "markdown",
   "id": "e438fe89",
   "metadata": {},
   "source": [
    "<font size=\"3\">__35. Write a program to check if a given number is a perfect square.__</font>"
   ]
  },
  {
   "cell_type": "code",
   "execution_count": null,
   "id": "404803ba",
   "metadata": {},
   "outputs": [],
   "source": [
    "def is_perfect_square(number):\n",
    "    if number < 0:\n",
    "        return False\n",
    "\n",
    "    root = int(number ** 0.5)\n",
    "    return root * root == number\n",
    "\n",
    "# Example usage\n",
    "num1 = 16\n",
    "if is_perfect_square(num1):\n",
    "    print(num1, \"is a perfect square.\")\n",
    "else:\n",
    "    print(num1, \"is not a perfect square.\")\n",
    "\n",
    "num2 = 20\n",
    "if is_perfect_square(num2):\n",
    "    print(num2, \"is a perfect square.\")\n",
    "else:\n",
    "    print(num2, \"is not a perfect square.\")\n"
   ]
  },
  {
   "cell_type": "markdown",
   "id": "71a11564",
   "metadata": {},
   "source": [
    "<font size=\"3\">__36. Implement a function to calculate the product of all elements in a list.__</font>"
   ]
  },
  {
   "cell_type": "code",
   "execution_count": null,
   "id": "8b7e522a",
   "metadata": {},
   "outputs": [],
   "source": [
    "def calculate_product(numbers):\n",
    "    if not numbers:\n",
    "        return 1\n",
    "\n",
    "    product = 1\n",
    "    for num in numbers:\n",
    "        product *= num\n",
    "\n",
    "    return product\n",
    "\n",
    "# Example usage\n",
    "nums = [2, 3, 4, 5]\n",
    "product = calculate_product(nums)\n",
    "print(\"Product of elements:\", product)\n"
   ]
  },
  {
   "cell_type": "markdown",
   "id": "96f8cf2e",
   "metadata": {},
   "source": [
    "<font size=\"3\">__37. Write a Python program to reverse the order of words in a sentence while preserving the word order.__</font>"
   ]
  },
  {
   "cell_type": "code",
   "execution_count": null,
   "id": "de682a81",
   "metadata": {},
   "outputs": [],
   "source": [
    "def reverse_words(sentence):\n",
    "    words = sentence.split()\n",
    "    reversed_sentence = ' '.join(reversed(words))\n",
    "    return reversed_sentence\n",
    "\n",
    "# Example usage\n",
    "input_sentence = \"Hello, how are you?\"\n",
    "reversed_sentence = reverse_words(input_sentence)\n",
    "print(\"Reversed sentence:\", reversed_sentence)\n"
   ]
  },
  {
   "cell_type": "markdown",
   "id": "54a80248",
   "metadata": {},
   "source": [
    "<font size=\"3\">__38. Implement a function to find the missing number in a given list of consecutive numbers.__</font>"
   ]
  },
  {
   "cell_type": "code",
   "execution_count": null,
   "id": "346c31fd",
   "metadata": {},
   "outputs": [],
   "source": [
    "def find_missing_number(numbers):\n",
    "    n = len(numbers) + 1\n",
    "    total_sum = n * (n + 1) // 2\n",
    "    actual_sum = sum(numbers)\n",
    "    missing_number = total_sum - actual_sum\n",
    "    return missing_number\n",
    "\n",
    "# Example usage\n",
    "consecutive_nums = [1, 2, 3, 5, 6]\n",
    "missing_num = find_missing_number(consecutive_nums)\n",
    "print(\"Missing number:\", missing_num)\n"
   ]
  },
  {
   "cell_type": "markdown",
   "id": "5b0c9cd9",
   "metadata": {},
   "source": [
    "<font size=\"3\">__39. Write a program to find the sum of digits of a given number.__</font>"
   ]
  },
  {
   "cell_type": "code",
   "execution_count": null,
   "id": "847bcf42",
   "metadata": {},
   "outputs": [],
   "source": [
    "def sum_of_digits(number):\n",
    "    sum_digits = 0\n",
    "    while number > 0:\n",
    "        digit = number % 10\n",
    "        sum_digits += digit\n",
    "        number //= 10\n",
    "    return sum_digits\n",
    "\n",
    "# Example usage\n",
    "num = 12345\n",
    "digit_sum = sum_of_digits(num)\n",
    "print(\"Sum of digits:\", digit_sum)\n"
   ]
  },
  {
   "cell_type": "markdown",
   "id": "0f62e10c",
   "metadata": {},
   "source": [
    "<font size=\"3\">__40. Implement a function to check if a given string is a valid palindrome considering case sensitivity.__</font>"
   ]
  },
  {
   "cell_type": "code",
   "execution_count": null,
   "id": "8a4b8942",
   "metadata": {},
   "outputs": [],
   "source": [
    "def is_valid_palindrome(string):\n",
    "    # Remove non-alphanumeric characters\n",
    "    cleaned_string = ''.join(char.lower() for char in string if char.isalnum())\n",
    "\n",
    "    # Check if the cleaned string is equal to its reverse\n",
    "    return cleaned_string == cleaned_string[::-1]\n",
    "\n",
    "# Example usage\n",
    "word1 = \"Madam\"\n",
    "if is_valid_palindrome(word1):\n",
    "    print(word1, \"is a valid palindrome.\")\n",
    "else:\n",
    "    print(word1, \"is not a valid palindrome.\")\n",
    "\n",
    "word2 = \"Racecar\"\n",
    "if is_valid_palindrome(word2):\n",
    "    print(word2, \"is a valid palindrome.\")\n",
    "else:\n",
    "    print(word2, \"is not a valid palindrome.\")\n"
   ]
  },
  {
   "cell_type": "markdown",
   "id": "ae346e67",
   "metadata": {},
   "source": [
    "<font size=\"3\">__41. Write a Python program to find the smallest missing positive integer in a list.__</font>"
   ]
  },
  {
   "cell_type": "code",
   "execution_count": null,
   "id": "7cbf321d",
   "metadata": {},
   "outputs": [],
   "source": [
    "def find_smallest_missing_positive(nums):\n",
    "    n = len(nums)\n",
    "\n",
    "    # Step 1: Segregate positive and non-positive numbers\n",
    "    i = 0\n",
    "    for j in range(n):\n",
    "        if nums[j] <= 0:\n",
    "            nums[i], nums[j] = nums[j], nums[i]\n",
    "            i += 1\n",
    "\n",
    "    # Step 2: Mark visited indices\n",
    "    for j in range(i, n):\n",
    "        num = abs(nums[j])\n",
    "        if num <= n - i:\n",
    "            nums[i + num - 1] = -abs(nums[i + num - 1])\n",
    "\n",
    "    # Step 3: Find the smallest missing positive integer\n",
    "    for j in range(i, n):\n",
    "        if nums[j] > 0:\n",
    "            return j - i + 1\n",
    "\n",
    "    return n - i + 1\n",
    "\n",
    "# Example usage\n",
    "numbers = [3, 4, -1, 1]\n",
    "smallest_missing = find_smallest_missing_positive(numbers)\n",
    "print(\"Smallest missing positive integer:\", smallest_missing)\n"
   ]
  },
  {
   "cell_type": "markdown",
   "id": "12ec0b28",
   "metadata": {},
   "source": [
    "<font size=\"3\">__42. Implement a function to find the longest palindrome substring in a given string.__</font>"
   ]
  },
  {
   "cell_type": "code",
   "execution_count": null,
   "id": "64550fb9",
   "metadata": {},
   "outputs": [],
   "source": [
    "def longest_palindrome_substring(s):\n",
    "    longest_palindrome = \"\"\n",
    "\n",
    "    for i in range(len(s)):\n",
    "        # For odd length palindromes\n",
    "        palindrome_odd = expand_around_center(s, i, i)\n",
    "        longest_palindrome = max(longest_palindrome, palindrome_odd, key=len)\n",
    "\n",
    "        # For even length palindromes\n",
    "        palindrome_even = expand_around_center(s, i, i + 1)\n",
    "        longest_palindrome = max(longest_palindrome, palindrome_even, key=len)\n",
    "\n",
    "    return longest_palindrome\n",
    "\n",
    "def expand_around_center(s, left, right):\n",
    "    while left >= 0 and right < len(s) and s[left] == s[right]:\n",
    "        left -= 1\n",
    "        right += 1\n",
    "    return s[left + 1: right]\n",
    "\n",
    "# Example usage\n",
    "string = \"babad\"\n",
    "result = longest_palindrome_substring(string)\n",
    "print(\"Longest palindrome substring:\", result)\n"
   ]
  },
  {
   "cell_type": "markdown",
   "id": "1ea01cc1",
   "metadata": {},
   "source": [
    " <font size=\"3\">__43. Write a program to find the number of occurrences of a given element in a list.__</font>"
   ]
  },
  {
   "cell_type": "code",
   "execution_count": null,
   "id": "40954188",
   "metadata": {},
   "outputs": [],
   "source": [
    "def count_occurrences(lst, element):\n",
    "    count = 0\n",
    "    for item in lst:\n",
    "        if item == element:\n",
    "            count += 1\n",
    "    return count\n",
    "\n",
    "# Example usage\n",
    "numbers = [1, 2, 3, 4, 2, 2, 5, 2]\n",
    "element = 2\n",
    "occurrences = count_occurrences(numbers, element)\n",
    "print(\"Number of occurrences of\", element, \"in the list:\", occurrences)\n"
   ]
  },
  {
   "cell_type": "markdown",
   "id": "27c10acc",
   "metadata": {},
   "source": [
    " <font size=\"3\">__44. Implement a function to check if a given number is a perfect number.__</font>"
   ]
  },
  {
   "cell_type": "code",
   "execution_count": null,
   "id": "080727f7",
   "metadata": {},
   "outputs": [],
   "source": [
    "def is_perfect_number(number):\n",
    "    if number <= 0:\n",
    "        return False\n",
    "\n",
    "    divisors_sum = 0\n",
    "    for i in range(1, number):\n",
    "        if number % i == 0:\n",
    "            divisors_sum += i\n",
    "\n",
    "    return divisors_sum == number\n",
    "\n",
    "# Example usage\n",
    "num1 = 6\n",
    "if is_perfect_number(num1):\n",
    "    print(num1, \"is a perfect number.\")\n",
    "else:\n",
    "    print(num1, \"is not a perfect number.\")\n",
    "\n",
    "num2 = 28\n",
    "if is_perfect_number(num2):\n",
    "    print(num2, \"is a perfect number.\")\n",
    "else:\n",
    "    print(num2, \"is not a perfect number.\")\n"
   ]
  },
  {
   "cell_type": "markdown",
   "id": "eea7ddbf",
   "metadata": {},
   "source": [
    "<font size=\"3\">__45. Write a Python program to remove all duplicates from a string.__</font>"
   ]
  },
  {
   "cell_type": "code",
   "execution_count": null,
   "id": "fdc0a126",
   "metadata": {},
   "outputs": [],
   "source": [
    "def remove_duplicates(string):\n",
    "    unique_chars = []\n",
    "    result = \"\"\n",
    "\n",
    "    for char in string:\n",
    "        if char not in unique_chars:\n",
    "            unique_chars.append(char)\n",
    "            result += char\n",
    "\n",
    "    return result\n",
    "\n",
    "# Example usage\n",
    "input_string = \"Hello, World!\"\n",
    "output_string = remove_duplicates(input_string)\n",
    "print(\"String with duplicates removed:\", output_string)\n"
   ]
  },
  {
   "cell_type": "markdown",
   "id": "84b105e3",
   "metadata": {},
   "source": [
    "<font size=\"3\">__46. Implement a function to find the first missing positive__</font>"
   ]
  },
  {
   "cell_type": "code",
   "execution_count": null,
   "id": "85bab95f",
   "metadata": {},
   "outputs": [],
   "source": [
    "def find_first_missing_positive(nums):\n",
    "    n = len(nums)\n",
    "    \n",
    "    # Step 1: Segregate positive and non-positive numbers\n",
    "    i = 0\n",
    "    for j in range(n):\n",
    "        if nums[j] <= 0:\n",
    "            nums[i], nums[j] = nums[j], nums[i]\n",
    "            i += 1\n",
    "\n",
    "    # Step 2: Mark visited indices\n",
    "    for j in range(i, n):\n",
    "        num = abs(nums[j])\n",
    "        if num <= n - i:\n",
    "            nums[i + num - 1] = -abs(nums[i + num - 1])\n",
    "\n",
    "    # Step 3: Find the first missing positive integer\n",
    "    for j in range(i, n):\n",
    "        if nums[j] > 0:\n",
    "            return j - i + 1\n",
    "\n",
    "    return n - i + 1\n",
    "\n",
    "# Example usage\n",
    "numbers = [3, 4, -1, 1]\n",
    "first_missing = find_first_missing_positive(numbers)\n",
    "print(\"First missing positive integer:\", first_missing)\n"
   ]
  },
  {
   "cell_type": "code",
   "execution_count": null,
   "id": "60e6c6a2",
   "metadata": {},
   "outputs": [],
   "source": []
  },
  {
   "cell_type": "code",
   "execution_count": null,
   "id": "699b436b",
   "metadata": {},
   "outputs": [],
   "source": []
  }
 ],
 "metadata": {
  "kernelspec": {
   "display_name": "Python 3 (ipykernel)",
   "language": "python",
   "name": "python3"
  },
  "language_info": {
   "codemirror_mode": {
    "name": "ipython",
    "version": 3
   },
   "file_extension": ".py",
   "mimetype": "text/x-python",
   "name": "python",
   "nbconvert_exporter": "python",
   "pygments_lexer": "ipython3",
   "version": "3.10.9"
  }
 },
 "nbformat": 4,
 "nbformat_minor": 5
}
