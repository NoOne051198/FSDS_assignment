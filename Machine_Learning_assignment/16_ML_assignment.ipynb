{
 "cells": [
  {
   "cell_type": "markdown",
   "id": "121055eb",
   "metadata": {},
   "source": [
    "# Assignment - 16 Solution "
   ]
  },
  {
   "cell_type": "markdown",
   "id": "76412cb8",
   "metadata": {},
   "source": [
    "<font size = 3>__1. In a linear equation, what is the difference between a dependent variable and an independent variable ?__</font>\n",
    "\n",
    "__Ans:__ In a linear equation, the `dependent variable` is the variable whose value depends on the independent variable. The `independent variable` is the variable that is being manipulated or controlled to determine the value of the dependent variable. In other words, the independent variable is the input or the cause, while the dependent variable is the output or the effect. __For example,__ in the equation `y = mx + b`, `y is the dependent variable`, `x is the independent variable`, m is the slope of the line, and b is the y-intercept. The value of y is determined by the value of x."
   ]
  },
  {
   "cell_type": "markdown",
   "id": "2d281b58",
   "metadata": {},
   "source": [
    "<font size = 3>__2. What is the concept of simple linear regression? Give a specific example ?__</font>\n",
    "\n",
    "__Ans:__ Simple linear regression is a statistical technique used to study the relationship between two variables, where one variable is independent, and the other variable is dependent. The goal is to identify a linear relationship between the two variables, such that changes in the independent variable will have a predictable impact on the dependent variable.\n",
    "\n",
    "__For example,__ suppose we want to study the relationship between a person's height and their weight. Height is the independent variable, while weight is the dependent variable. Using simple linear regression, we can model the relationship between the two variables by fitting a straight line to the data points."
   ]
  },
  {
   "cell_type": "markdown",
   "id": "d7399120",
   "metadata": {},
   "source": [
    "<font size = 3>__3. In a linear regression, define the slope ?__</font>\n",
    "\n",
    "__Ans:__ In linear regression, the slope refers to the coefficient of the independent variable (x) in the linear equation. It represents the change in the dependent variable (y) for every one-unit change in the independent variable. The slope is also known as the regression coefficient and is typically denoted by the letter `\"a\" in the linear equation y = a*x + b`."
   ]
  },
  {
   "cell_type": "markdown",
   "id": "668b1588",
   "metadata": {},
   "source": [
    "<font size = 3>__4. Determine the graph's slope, where the lower point on the line is represented as (3, 2) and the higher point is represented as (2, 2) ?__</font>\n",
    "\n",
    "__Ans:__ The points (3,2) and (2,2) lie on the same horizontal line parallel to the x-axis, and the slope of a horizontal line is zero. So, the slope of the line passing through the two given points is `zero`."
   ]
  },
  {
   "cell_type": "markdown",
   "id": "be6c307d",
   "metadata": {},
   "source": [
    "<font size = 3>__5. In linear regression, what are the conditions for a positive slope ?__</font>\n",
    "\n",
    "\n",
    "__Ans:__ A positive slope in linear regression occurs when there is a upward trend in the scatter plot of the data points. This means that as the value of the independent variable increases, the value of the dependent variable also increases. The condition for a positive slope is that the correlation coefficient between the two variables should be positive."
   ]
  },
  {
   "cell_type": "markdown",
   "id": "58e702db",
   "metadata": {},
   "source": [
    "<font size = 3>__6. In linear regression, what are the conditions for a negative slope ?__</font>\n",
    "\n",
    "__Ans:__ A negative slope in linear regression occurs when there is a downward trend in the scatter plot of the data points. This means that as the value of the independent variable increases, the value of the dependent variable decreases. The condition for a negative slope is that the correlation coefficient between the two variables should be negative."
   ]
  },
  {
   "cell_type": "markdown",
   "id": "dd7de8c5",
   "metadata": {},
   "source": [
    "<font size = 3>__7. What is multiple linear regression and how does it work ?__</font>\n",
    "\n",
    "__Ans:__ Multiple linear regression is a statistical technique used to model the relationship between two or more independent variables and a dependent variable. It extends simple linear regression by allowing multiple predictors to be used to estimate a response variable. It works by fitting a line or hyperplane to the observed data in a way that minimizes the sum of the squared errors between the predicted and actual values. This model can then be used to make predictions for new values of the independent variables."
   ]
  },
  {
   "cell_type": "markdown",
   "id": "7795033f",
   "metadata": {},
   "source": [
    "<font size = 3>__8. In multiple linear regression, define the number of squares due to error ?__</font>\n",
    "\n",
    "\n",
    "__Ans:__ In multiple linear regression, the sum of squares due to error (SSE) is the sum of the squared differences between the actual values of the dependent variable and the predicted values obtained from the regression model. It represents the amount of unexplained variability in the dependent variable that cannot be accounted for by the independent variables in the model. The goal of the regression analysis is to minimize SSE to improve the accuracy of the model."
   ]
  },
  {
   "cell_type": "markdown",
   "id": "0ed788c8",
   "metadata": {},
   "source": [
    "<font size = 3>__9. In multiple linear regression, define the number of squares due to regression ?__</font>\n",
    "\n",
    "\n",
    "__Ans:__ The sum of squares due to regression in multiple linear regression is the variation in the response variable that can be explained by the predictor variables. It measures the difference between the predicted values and the mean of the response variable, and quantifies the contribution of the predictor variables to the overall fit of the model."
   ]
  },
  {
   "cell_type": "markdown",
   "id": "2306094e",
   "metadata": {},
   "source": [
    "<font size = 3>__10. In a regression equation, what is multicollinearity ?__</font>\n",
    "\n",
    "__Ans:__ Multicollinearity is a phenomenon in regression analysis where two or more independent variables in a model are highly correlated, making it difficult to determine the true relationship between each independent variable and the dependent variable."
   ]
  },
  {
   "cell_type": "markdown",
   "id": "ee1815b9",
   "metadata": {},
   "source": [
    "<font size = 3>__11. What is heteroskedasticity, and what does it mean ?__</font>\n",
    "\n",
    "__Ans:__ Heteroskedasticity is a situation where the variability of the errors in a regression model is unequal across the range of predicted values. It indicates that the variance of the errors is not constant, violating the assumption of homoskedasticity. This can result in biased estimates of standard errors and unreliable statistical inferences."
   ]
  },
  {
   "cell_type": "markdown",
   "id": "198bab0e",
   "metadata": {},
   "source": [
    "<font size = 3>__12. Describe the concept of ridge regression ?__</font>\n",
    "\n",
    "__Ans:__ Ridge regression is a technique used in linear regression to address the issue of multicollinearity by adding a penalty term to the regression equation to shrink the coefficients towards zero. This helps to reduce the variance of the regression estimates and improve the model's generalization ability. The amount of shrinkage is controlled by a tuning parameter called lambda."
   ]
  },
  {
   "cell_type": "markdown",
   "id": "acab229a",
   "metadata": {},
   "source": [
    "<font size = 3>__13. Describe the concept of lasso regression ?__</font>\n",
    "\n",
    "__Ans:__ Lasso regression is a type of linear regression that uses L1 regularization to shrink the coefficients of the predictor variables towards zero, effectively selecting a subset of the most important variables for the model. It is particularly useful in situations where there are many predictor variables and some are irrelevant or redundant, as it can help to improve model interpretability and reduce overfitting."
   ]
  },
  {
   "cell_type": "markdown",
   "id": "6e26c46b",
   "metadata": {},
   "source": [
    "<font size = 3>__14. What is polynomial regression and how does it work ?__</font>\n",
    "\n",
    "__Ans:__ Polynomial regression is a type of regression analysis that models the relationship between the independent variable and dependent variable as an nth degree polynomial. It extends the idea of simple linear regression to capture more complex, non-linear relationships between the variables.\n"
   ]
  },
  {
   "cell_type": "markdown",
   "id": "0c0afc93",
   "metadata": {},
   "source": [
    "<font size = 3>__15. Describe the basis function ?__</font>\n",
    "\n",
    "__Ans:__ A basis function is a function used to represent a complex input-output relationship by transforming input variables into a set of functions to approximate the output. It is used in many machine learning algorithms such as regression, neural networks, and support vector machines."
   ]
  },
  {
   "cell_type": "markdown",
   "id": "0431f0a9",
   "metadata": {},
   "source": [
    "<font size = 3>__16. Describe how logistic regression works ?__</font>\n",
    "\n",
    "__Ans:__ Logistic regression is a binary classification algorithm that predicts the probability of an outcome based on a set of independent variables. It uses a logistic function to map the input values to the output. The output is constrained between 0 and 1, which is interpreted as the probability of belonging to one of the two classes. The logistic function is trained using a maximum likelihood estimation approach to find the best coefficients that minimize the difference between the predicted probabilities and the actual class labels."
   ]
  },
  {
   "cell_type": "code",
   "execution_count": null,
   "id": "a1860fae",
   "metadata": {},
   "outputs": [],
   "source": []
  }
 ],
 "metadata": {
  "kernelspec": {
   "display_name": "Python 3 (ipykernel)",
   "language": "python",
   "name": "python3"
  },
  "language_info": {
   "codemirror_mode": {
    "name": "ipython",
    "version": 3
   },
   "file_extension": ".py",
   "mimetype": "text/x-python",
   "name": "python",
   "nbconvert_exporter": "python",
   "pygments_lexer": "ipython3",
   "version": "3.10.9"
  }
 },
 "nbformat": 4,
 "nbformat_minor": 5
}
