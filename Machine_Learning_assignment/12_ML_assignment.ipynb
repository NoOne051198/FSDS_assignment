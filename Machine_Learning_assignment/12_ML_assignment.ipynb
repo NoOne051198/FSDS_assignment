{
 "cells": [
  {
   "cell_type": "markdown",
   "id": "e3a8cffd",
   "metadata": {},
   "source": [
    "# Assignment - 12 Solution"
   ]
  },
  {
   "cell_type": "markdown",
   "id": "c6b1c789",
   "metadata": {},
   "source": [
    "<font size = 3>__1. What is prior probability ? Give an example ?__</font>\n",
    "\n",
    "\n",
    "__Ans:__ Prior probability is the initial or background probability of an event before any data or evidence is taken into account. For __instance,__ if we are estimating the probability of a patient having a particular disease, the prior probability may be based on the prevalence of the disease in the general population."
   ]
  },
  {
   "cell_type": "markdown",
   "id": "687ef1ab",
   "metadata": {},
   "source": [
    "<font size = 3>__2. What is posterior probability ? Give an example ?__</font>\n",
    "\n",
    "\n",
    "__Ans:__ Posterior probability is the probability of a hypothesis given the observed evidence. It is updated using Bayes' theorem, which combines prior probabilities with the likelihood of the evidence to obtain a new and improved probability. __For example,__ after seeing a positive result in a medical test with a known false positive rate, the posterior probability of having a disease can be calculated based on the prior probability of the disease in the population and the likelihood of the test result given the presence or absence of the disease."
   ]
  },
  {
   "cell_type": "markdown",
   "id": "b632af3f",
   "metadata": {},
   "source": [
    "<font size = 3>__3. What is likelihood probability ? Give an example ?__</font>\n",
    "\n",
    "__Ans:__ Likelihood probability is the probability of observing the data given a specific parameter value. __For example,__ in a coin toss experiment, the likelihood of observing \"heads\" three times in a row given the probability of heads is 0.5 is calculated using the binomial distribution. The likelihood probability is used in Bayesian inference to update the prior probability and obtain the posterior probability."
   ]
  },
  {
   "cell_type": "markdown",
   "id": "b799ca77",
   "metadata": {},
   "source": [
    "<font size = 3>__4. What is Naïve Bayes classifier ? Why is it named so ?__</font>\n",
    "\n",
    "\n",
    "\n",
    "__Ans:__ Naïve Bayes classifier is a probabilistic machine learning algorithm used for classification problems. It assumes that the features are conditionally independent given the class label, hence the name \"Naïve\". It calculates the probability of each class label for a given set of features using Bayes' theorem."
   ]
  },
  {
   "cell_type": "markdown",
   "id": "fdd18384",
   "metadata": {},
   "source": [
    "<font size = 3>__5. What is optimal Bayes classifier ?__</font>\n",
    "\n",
    "__Ans:__ Optimal Bayes classifier is a classification algorithm that uses Bayes' theorem to predict the class of an input based on the maximum posterior probability. It determines the optimal decision boundary that separates the classes with maximum accuracy. The optimal Bayes classifier is the best possible classifier that can be achieved using the available data and knowledge of the problem domain."
   ]
  },
  {
   "cell_type": "markdown",
   "id": "a6c181f2",
   "metadata": {},
   "source": [
    "<font size = 3>__6. Write any two features of Bayesian learning methods ?__</font>\n",
    "\n",
    "__Ans:__ Two features of Bayesian learning methods are:\n",
    "\n",
    "1. Bayesian learning methods can handle small data sets effectively and produce robust predictions.\n",
    "2. Bayesian learning methods provide a way to incorporate prior knowledge about the problem domain into the model, which can lead to more accurate predictions."
   ]
  },
  {
   "cell_type": "markdown",
   "id": "bf7c456d",
   "metadata": {},
   "source": [
    "<font size = 3>__7. Define the concept of consistent learners ?__</font>\n",
    "\n",
    "__Ans:__ Consistent learners are machine learning algorithms that aim to achieve a zero error rate on the training data as the amount of training data approaches infinity. In other words, consistent learners try to find a model that perfectly fits the data given to them. However, this does not always guarantee a good performance on unseen data."
   ]
  },
  {
   "cell_type": "markdown",
   "id": "6e11f20c",
   "metadata": {},
   "source": [
    "<font size = 3>__8. Write any two strengths of Bayes classifier ?__</font>\n",
    "\n",
    "__Ans:__ Two strengths of the Bayes classifier are:\n",
    "\n",
    "1. It can handle a large number of features and can be effective even in high-dimensional spaces.\n",
    "2. It provides probabilistic outputs, which can be useful in decision-making and risk management."
   ]
  },
  {
   "cell_type": "markdown",
   "id": "403f32cc",
   "metadata": {},
   "source": [
    "<font size = 3>__9. Write any two weaknesses of Bayes classifier ?__</font>\n",
    "\n",
    "\n",
    "__Ans:__ Two weaknesses of the Bayes classifier are:\n",
    "\n",
    "1. __Independence assumption:__ The classifier assumes that all the features are independent of each other, which is often not the case in real-world datasets.\n",
    "\n",
    "2. __Data scarcity:__ The performance of the Bayes classifier heavily depends on the availability of sufficient training data, and it may not work well with small datasets or when the number of features is large."
   ]
  },
  {
   "cell_type": "markdown",
   "id": "5328a125",
   "metadata": {},
   "source": [
    "<font size = 3>__10. Explain how Naïve Bayes classifier is used for:__</font><br>\n",
    "`Text classification`<br>\n",
    "`Spam filtering`<br>\n",
    "`Market sentiment analysis`<br>\n",
    "\n",
    "\n",
    "__Ans:__ Naive Bayes classifier is a popular algorithm for text classification, spam filtering, and market sentiment analysis due to its simplicity and accuracy.\n",
    "\n",
    "1. __Text classification:__ In text classification, Naive Bayes classifier is trained on a large dataset of labeled text documents. The algorithm then predicts the class of the new, unlabeled document based on the probability of the words in the document belonging to each class. For example, the algorithm can classify news articles into different categories such as politics, sports, entertainment, etc.\n",
    "\n",
    "2. __Spam filtering:__ Naive Bayes classifier is commonly used for spam filtering in email systems. The algorithm is trained on a dataset of spam and non-spam emails, and then it can classify new incoming emails as either spam or not based on the probability of the words in the email being associated with spam.\n",
    "\n",
    "3. __Market sentiment analysis:__ Naive Bayes classifier can also be used for market sentiment analysis. In this application, the algorithm is trained on a dataset of stock prices and news articles related to a particular stock or industry. The algorithm then predicts the sentiment of the market towards the stock based on the probability of the words in the news articles being associated with positive or negative sentiment. This information can be used to make informed investment decisions."
   ]
  },
  {
   "cell_type": "code",
   "execution_count": null,
   "id": "63586304",
   "metadata": {},
   "outputs": [],
   "source": []
  }
 ],
 "metadata": {
  "kernelspec": {
   "display_name": "Python 3 (ipykernel)",
   "language": "python",
   "name": "python3"
  },
  "language_info": {
   "codemirror_mode": {
    "name": "ipython",
    "version": 3
   },
   "file_extension": ".py",
   "mimetype": "text/x-python",
   "name": "python",
   "nbconvert_exporter": "python",
   "pygments_lexer": "ipython3",
   "version": "3.10.9"
  }
 },
 "nbformat": 4,
 "nbformat_minor": 5
}
