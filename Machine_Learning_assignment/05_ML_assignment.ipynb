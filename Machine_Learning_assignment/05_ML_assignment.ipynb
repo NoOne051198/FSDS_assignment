{
 "cells": [
  {
   "cell_type": "markdown",
   "id": "a8fe6c88",
   "metadata": {},
   "source": [
    "# Assignment - 05 Solution"
   ]
  },
  {
   "cell_type": "markdown",
   "id": "3e04d1fb",
   "metadata": {},
   "source": [
    "<font size = 3>__1. What are the key tasks that machine learning entails? What does data pre-processing imply ?__</font>\n",
    "\n",
    "\n",
    "__Ans:__ The key tasks of machine learning include `data pre-processing`, `feature engineering`, `model training`, `model evaluation`, and `model deployment`.\n",
    "\n",
    "__Data pre-processing__ involves cleaning and transforming raw data to make it usable for machine learning algorithms. This includes dealing with missing values, handling outliers, scaling data, and encoding categorical variables. Pre-processing helps to improve the accuracy of the models and avoids issues like overfitting and underfitting. Feature engineering involves selecting or creating relevant features from the dataset. Model training involves feeding the pre-processed data to machine learning algorithms to learn from it. Model evaluation is done to assess the performance of the models, and model deployment involves integrating the model into a production environment to make predictions on new data."
   ]
  },
  {
   "cell_type": "markdown",
   "id": "bd6ed6ed",
   "metadata": {},
   "source": [
    "<font size = 3>__2. Describe quantitative and qualitative data in depth. Make a distinction between the two ?__</font>\n",
    "\n",
    "\n",
    "__Ans:__ __Quantitative data__ refers to numerical data that can be measured or counted using mathematical or statistical methods. Examples include height, weight, temperature, age, income, and test scores. Quantitative data can be further divided into discrete and continuous data. `Discrete data` can only take certain values, while `continuous data` can take any value within a range.\n",
    "\n",
    "__Qualitative data,__ on the other hand, refers to non-numerical data that describes characteristics or attributes. Examples include gender, nationality, occupation, marital status, and opinion. Qualitative data can be further divided into nominal and ordinal data. `Nominal data` refers to categories that cannot be ranked, while `ordinal data` refers to categories that can be ranked.\n",
    "\n",
    "The main difference between quantitative and qualitative data is that quantitative data can be measured using numerical values, while qualitative data cannot. Quantitative data can also be analyzed using mathematical or statistical methods, while qualitative data requires different analytical methods such as content analysis or discourse analysis."
   ]
  },
  {
   "cell_type": "markdown",
   "id": "c8df6331",
   "metadata": {},
   "source": [
    "<font size = 3>__3. Create a basic data collection that includes some sample records. Have at least one attribute from each of the machine learning data types ?__</font>\n",
    "\n",
    "__Ans:__ To create a basic data collection that includes some sample records with at least one attribute from each of the machine learning data types, you can follow these steps:\n",
    "1. Determine the purpose of your data collection and identify the types of data that are relevant for project.\n",
    "\n",
    "2. Choose a format for your data collection, such as a spreadsheet, database, or text file.\n",
    "\n",
    "3. Create columns for each attribute of your data, including at least one attribute from each of the machine learning data types. For example:\n",
    "\n",
    "- Numeric: age, income, temperature\n",
    "- Categorical: gender, occupation, city\n",
    "- Text: product description, customer review, news article\n",
    "- Date and time: order date, event timestamp, sensor reading timestamp\n",
    "- Boolean: true/false values for various attributes\n",
    "4. Add sample records to your data collection, making sure that each record includes values for all of the attributes you have defined. You can use randomly generated data or real-world examples to create your sample records.\n",
    "\n",
    "5. Check your data for consistency and accuracy, and make any necessary adjustments to ensure that your data is reliable and useful for your machine learning project.\n",
    "\n"
   ]
  },
  {
   "cell_type": "markdown",
   "id": "d756aa6c",
   "metadata": {},
   "source": [
    "<font size = 3>__4. What are the various causes of machine learning data issues? What are the ramifications ?__</font>\n",
    "\n",
    "\n",
    "__Ans:__ There are several causes of machine learning data issues, including:\n",
    "\n",
    "1. __Missing data:__ When data is absent for some attributes in a record or entirely missing from a sample.\n",
    "2. __Outliers:__ Outliers are values that deviate significantly from the rest of the data and may have an adverse impact on the accuracy of machine learning algorithms.\n",
    "3. __Duplicate data:__ When the same records or data points are represented more than once, it could lead to skewed results.\n",
    "4. __Inconsistent data:__ Inconsistent data refers to data that does not follow the same pattern as the rest of the dataset.\n",
    "5. __Biased data:__ When the sample data is not representative of the entire population, it can lead to inaccurate or biased results.\n",
    "The ramifications of machine learning data issues can be severe, including inaccurate or biased predictions, reduced model performance, and negative impacts on business operations. These issues can result in a loss of trust in the model, reduced customer satisfaction, and lost revenue opportunities. In some cases, they can also lead to legal or regulatory issues, particularly in cases where the model's predictions are used for decision-making that affects people's lives. Therefore, it is essential to identify and address data issues before using them to train machine learning models."
   ]
  },
  {
   "cell_type": "markdown",
   "id": "9d88bf95",
   "metadata": {},
   "source": [
    "<font size = 3>__5. Demonstrate various approaches to categorical data exploration with appropriate examples ?__</font>\n",
    "\n",
    "\n",
    "__Ans:__ Exploring categorical data can provide valuable insights into patterns and relationships within the data. Here are some common approaches to exploring categorical data:\n",
    "\n",
    "1. __Frequency distribution:__ A frequency distribution shows the number of times each category appears in the data. For example, a frequency distribution of gender in a survey dataset would show the number of males and females.\n",
    "\n",
    "2. __Bar chart:__ A bar chart is a visual representation of the frequency distribution, with bars representing each category and the height of the bar representing the frequency or count. For example, a bar chart of the frequency distribution of car types in a dataset would show the number of sedans, SUVs, and trucks.\n",
    "\n",
    "3. __Pie chart:__ A pie chart is another way to visually represent the frequency distribution, with slices of a pie representing each category and the size of the slice representing the frequency or count. For example, a pie chart of the frequency distribution of phone brands in a dataset would show the proportion of Apple, Samsung, and other phone brands.\n",
    "\n",
    "4. __Cross-tabulation:__ A cross-tabulation, also known as a contingency table, shows the frequency distribution of two or more categorical variables. For example, a cross-tabulation of the frequency distribution of gender and car types in a dataset would show the number of males and females who own sedans, SUVs, and trucks.\n",
    "\n",
    "5. __Chi-square test:__ A chi-square test is a statistical test used to determine if there is a significant association between two categorical variables. For example, a chi-square test of the association between gender and car types in a dataset would determine if the proportion of males who own sedans is significantly different from the proportion of females who own sedans.\n"
   ]
  },
  {
   "cell_type": "markdown",
   "id": "7e56eda6",
   "metadata": {},
   "source": [
    "<font size = 3>__6. How would the learning activity be affected if certain variables have missing values? Having said that, what can be done about it ?__</font>\n",
    "\n",
    "\n",
    "__Ans:__ If certain variables have missing values, it can significantly affect the learning activity by reducing the amount of information available for analysis. It may lead to biased and inaccurate results and negatively affect the performance of machine learning models.\n",
    "\n",
    "To handle missing values, various techniques can be employed such as:\n",
    "\n",
    "1. __Deletion:__ It involves removing the rows or columns with missing values. This technique can lead to a reduction in the sample size and loss of valuable information.\n",
    "\n",
    "2. __Imputation:__ It involves replacing the missing values with a substitute value. There are various imputation techniques such as mean imputation, median imputation, and regression imputation.\n",
    "\n",
    "3. __Prediction:__ It involves using the available data to predict the missing values. This technique is particularly useful when the missing values are dependent on other variables.\n",
    "\n"
   ]
  },
  {
   "cell_type": "markdown",
   "id": "f020cd1d",
   "metadata": {},
   "source": [
    "<font size = 3>__7. Describe the various methods for dealing with missing data values in depth ?__</font>\n",
    "\n",
    "\n",
    "__Ans:__ Missing data values are common in many real-world datasets and can significantly impact the accuracy of machine learning models. Therefore, it is essential to have strategies to handle missing data. Here are some methods for dealing with missing data:\n",
    "\n",
    "__Deletion:__\n",
    "Deletion is the most straightforward method, and it involves removing the instances or attributes that contain missing values. This approach is simple but can lead to a loss of useful data. There are two types of deletion methods, listwise deletion, which removes all records with missing data, and pairwise deletion, which removes the missing value and uses the remaining data for analysis.\n",
    "\n",
    "__Imputation:__\n",
    "Imputation methods involve filling in the missing values with an estimate. The primary goal of imputation is to retain as much of the useful information in the dataset as possible while reducing the impact of missing values. Some common imputation methods include mean imputation, mode imputation, median imputation, and hot deck imputation.\n",
    "\n",
    "__Regression imputation:__\n",
    "Regression imputation uses a regression model to estimate the missing values based on the relationships between the target variable and the other attributes in the dataset. This method can be very effective when the dataset contains a significant amount of data with missing values.\n",
    "\n",
    "__Multiple imputation:__\n",
    "Multiple imputation involves creating multiple copies of the dataset and filling in the missing values in each copy using different imputation methods. The models are then combined to generate a final imputed dataset. This method can be more accurate than single imputation methods and can help capture the uncertainty associated with imputed values.\n",
    "\n",
    "__Bayesian methods:__\n",
    "Bayesian methods are statistical techniques that use a prior distribution to estimate missing values. This method is effective when there are multiple variables with missing data values, and it helps in preserving the relationships between variables in the dataset.\n"
   ]
  },
  {
   "cell_type": "markdown",
   "id": "9b34c11e",
   "metadata": {},
   "source": [
    "<font size = 3>__8. What are the various data pre-processing techniques? Explain dimensionality reduction and function selection in a few words ?__</font>\n",
    "\n",
    "\n",
    "__Ans:__ Data pre-processing techniques are used to prepare the data for machine learning algorithms. They include cleaning, transforming, and reducing the data.\n",
    "\n",
    "__Dimensionality reduction__ is the process of reducing the number of features or attributes in a dataset while still retaining the important information. This is done to reduce the complexity of the data, improve the accuracy of the algorithm, and speed up the processing time. Example techniques include Principal Component Analysis (PCA), Linear Discriminant Analysis (LDA), and t-distributed Stochastic Neighbor Embedding (t-SNE).\n",
    "\n",
    "__Feature selection,__ on the other hand, is the process of selecting the most relevant and informative features or attributes for the algorithm. This is done to reduce the dimensionality of the data and improve the accuracy of the model. Example techniques include Univariate Selection, Recursive Feature Elimination, and Tree-based methods."
   ]
  },
  {
   "cell_type": "markdown",
   "id": "87ace5a6",
   "metadata": {},
   "source": [
    "<font size = 3>__9.Make brief notes on of the following ?__</font>\n",
    "\n",
    "\n",
    "\n",
    "__What is the IQR? What criteria are used to assess it?__<br>\n",
    "__Ans:__ The IQR (Interquartile Range) is a statistical measure of variability in a dataset. It is defined as the difference between the third quartile (Q3) and the first quartile (Q1) of a dataset. The IQR is useful in detecting outliers and extreme values. It is calculated by subtracting Q1 from Q3. The values that fall outside of 1.5 times the IQR are considered outliers. This is known as the Tukey's rule.\n",
    "\n",
    "__Describe the various components of a box plot in detail? When will the lower whisker surpass the upper whisker in length?__<br>\n",
    "__Ans:__ A box plot is a graphical representation of the five-number summary (minimum, first quartile, median, third quartile, and maximum) of a dataset. The five-number summary is represented as a box with a line in the middle, indicating the median, and whiskers extending from either end to the minimum and maximum values. Outliers are plotted as individual points beyond the whiskers.\n",
    "\n",
    "The length of the lower and upper whiskers is determined by the interquartile range (IQR), which is calculated as the difference between the third quartile and the first quartile. The whiskers usually extend to 1.5 times the IQR beyond the quartiles. If the IQR is larger in the upper quartile than in the lower quartile, then the upper whisker may be longer than the lower whisker. This occurs when the upper half of the data is more spread out than the lower half.\n",
    "\n",
    "__How can box plots be used to identify outliers?__<br>\n",
    "__Ans:__ Box plots can be used to identify outliers by plotting the data on a number line and comparing it to the box plot. Any points that lie outside the whiskers or are far from the box can be considered as potential outliers. A point is considered an outlier if it is below Q1 - 1.5IQR or above Q3 + 1.5IQR. However, it's important to note that not all points outside the whiskers are necessarily outliers, and further investigation may be required."
   ]
  },
  {
   "cell_type": "markdown",
   "id": "a96dbf39",
   "metadata": {},
   "source": [
    "<font size = 3>__10. Make brief notes on any two of the following ?__</font>\n",
    "\n",
    "\n",
    "__Data collected at regular intervals:__<br>\n",
    "Data collected at regular intervals is known as time-series data. It involves recording observations at fixed intervals over time. It can be used to analyze trends, patterns, and behaviors in various fields such as finance, weather, and stock market, among others. Time-series data may have seasonal trends and periodic fluctuations, which can be analyzed using various techniques such as moving averages, exponential smoothing, and ARIMA modeling. Time-series data can also be visualized using line graphs, where time is represented on the x-axis and the variable of interest is represented on the y-axis.\n",
    "\n",
    "\n",
    "__The gap between the quartiles:__<br>\n",
    "The gap between the quartiles refers to the interquartile range (IQR) and is a measure of dispersion for a dataset. It is calculated as the difference between the third quartile (Q3) and the first quartile (Q1) of the dataset. The IQR is useful in detecting outliers, with values outside the range (Q1 - 1.5IQR) to (Q3 + 1.5IQR) being considered outliers. The IQR can also be used as a measure of spread in datasets where the mean is not an appropriate measure of central tendency due to extreme values.\n",
    "\n",
    "__Use a cross-tab:__<br>\n",
    "A cross-tabulation (or crosstab) is a summary table that displays the relationship between two or more variables. It shows the distribution of the data in rows and columns, usually in the form of a matrix. Each cell of the table displays the count or frequency of observations that fall into a particular category for both variables. Crosstabs are useful in exploring the relationship between two categorical variables and can provide insights into how they are related. They can also be used to calculate summary statistics such as percentages and averages for each combination of categories. Crosstabs are commonly used in market research, surveys, and data analysis to identify patterns and trends in the data."
   ]
  },
  {
   "cell_type": "markdown",
   "id": "a66ed9da",
   "metadata": {},
   "source": [
    "<font size = 3>__11. Make a comparison between ?__</font>\n",
    "\n",
    "\n",
    "__Data with nominal and ordinal values:__<br>\n",
    "Nominal and ordinal values are two types of categorical data. The main difference between them is the level of measurement. Nominal data is used to label variables without providing any quantitative value. For instance, the type of car a person owns, or their gender. On the other hand, ordinal data provides a quantitative value, but the values are not evenly spaced and do not have a true zero point. An example of ordinal data is the ranking of a restaurant or a product on a scale from 1 to 5. In summary, nominal data only provides labels while ordinal data has a specific order or ranking.\n",
    "\n",
    "__Histogram and box plot:__<br>\n",
    "Histogram and box plot are two commonly used data visualization techniques in exploratory data analysis.\n",
    "\n",
    "A histogram is a graphical representation of the distribution of a continuous variable. It uses bars to represent the frequency of data in each bin or interval. The height of each bar is proportional to the number of data points in that interval. Histograms are useful for detecting skewness, multimodality, and outliers in the data.\n",
    "\n",
    "A box plot, also known as a box-and-whisker plot, is a graphical representation of the five-number summary of a dataset: minimum, first quartile, median, third quartile, and maximum. It consists of a rectangle (the box) and two whiskers extending from either end of the box. The whiskers represent the range of data, and any points outside the whiskers are considered outliers. Box plots are useful for detecting skewness, outliers, and comparing the distribution of different groups.\n",
    "\n",
    "__The average and median:__<br>\n",
    "Both average and median are measures of central tendency used to describe a dataset. However, the main difference is how they are calculated. The average (also known as mean) is calculated by adding up all the values in the dataset and dividing by the number of observations. On the other hand, the median is the middle value in a dataset when all the observations are arranged in order.\n",
    "\n",
    "The average can be influenced by outliers, which can make it a less reliable measure of central tendency, while the median is less sensitive to outliers and provides a more robust measure. In skewed datasets, the median is a better measure of central tendency than the average."
   ]
  },
  {
   "cell_type": "code",
   "execution_count": null,
   "id": "8eecec16",
   "metadata": {},
   "outputs": [],
   "source": []
  }
 ],
 "metadata": {
  "kernelspec": {
   "display_name": "Python 3 (ipykernel)",
   "language": "python",
   "name": "python3"
  },
  "language_info": {
   "codemirror_mode": {
    "name": "ipython",
    "version": 3
   },
   "file_extension": ".py",
   "mimetype": "text/x-python",
   "name": "python",
   "nbconvert_exporter": "python",
   "pygments_lexer": "ipython3",
   "version": "3.10.9"
  }
 },
 "nbformat": 4,
 "nbformat_minor": 5
}
