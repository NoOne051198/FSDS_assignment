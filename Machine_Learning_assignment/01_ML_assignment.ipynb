{
 "cells": [
  {
   "cell_type": "markdown",
   "id": "6cadd53d",
   "metadata": {},
   "source": [
    "# Assignment - 01 Solution"
   ]
  },
  {
   "cell_type": "markdown",
   "id": "1d0203dc",
   "metadata": {},
   "source": [
    "<font size = 3>__1. What does one mean by the term \"machine learning\" ?__</font>\n",
    "\n",
    "\n",
    "__Ans:__ Machine learning is a type of artificial intelligence (AI) that involves the use of algorithms and statistical models to allow computers to automatically learn and improve from experience without being explicitly programmed. In other words, it is a process by which a machine (computer) can automatically learn from data, identify patterns, and make decisions or predictions based on that learning.\n",
    "\n",
    "Machine learning has many applications across a wide range of industries, including healthcare, finance, marketing, and more. It is used for tasks such as image and speech recognition, natural language processing, fraud detection, recommendation systems, and autonomous driving, among others"
   ]
  },
  {
   "cell_type": "markdown",
   "id": "73332e5c",
   "metadata": {},
   "source": [
    "<font size = 3>__2. Can you think of 4 distinct types of issues where it shines ?__</font>\n",
    "\n",
    "\n",
    "\n",
    "__Ans:__ These following are four distinct types of issues where machine learning shines:\n",
    "\n",
    "1. __Classification problems:__ Machine learning is particularly well-suited for classification problems, where the task is to classify objects into different categories based on a set of features. Examples include spam email detection, sentiment analysis of social media posts, and identifying objects in images.\n",
    "\n",
    "2. __Prediction problems:__ Machine learning is also effective for prediction problems, where the goal is to predict a numerical value or a label based on a set of input variables. Examples include predicting stock prices, weather forecasts, and customer churn in business.\n",
    "\n",
    "3. __Pattern recognition problems:__ Machine learning is excellent at identifying patterns in complex data sets, such as identifying fraud in financial transactions, detecting anomalies in medical imaging, and recognizing speech patterns in natural language processing.\n",
    "\n",
    "4. __Optimization problems:__ Machine learning can also be used to optimize complex systems or processes. For example, it can be used to optimize supply chain management, scheduling, and routing logistics, and to minimize energy usage in buildings.\n"
   ]
  },
  {
   "cell_type": "markdown",
   "id": "5f957528",
   "metadata": {},
   "source": [
    "<font size = 3>__3. What is a labeled training set, and how does it work ?__</font>\n",
    "\n",
    "\n",
    "__Ans:__ A labeled training set is a dataset used to train a machine learning algorithm where each data point is paired with a corresponding label or output. The algorithm learns from these labeled examples and uses this information to make predictions or classifications on new, unlabeled data."
   ]
  },
  {
   "cell_type": "markdown",
   "id": "7fa3327e",
   "metadata": {},
   "source": [
    "<font size = 3>__4. What are the two most important tasks that are supervised ?__</font>\n",
    "\n",
    "__Ans:__ The two most important tasks that are supervised in machine learning are classification and regression."
   ]
  },
  {
   "cell_type": "markdown",
   "id": "8845e0d8",
   "metadata": {},
   "source": [
    "<font size = 3>__5. Can you think of four examples of unsupervised tasks ?__</font>\n",
    "\n",
    "\n",
    "__Ans:__ These following are four examples of unsupervised tasks in machine learning:\n",
    "\n",
    "1. __Clustering:__ Grouping similar data points together based on their similarities or patterns in their features.\n",
    "\n",
    "2. __Dimensionality Reduction:__ Reducing the number of features in a dataset while retaining the essential information.\n",
    "\n",
    "3. __Anomaly Detection:__ Identifying unusual or rare instances in a dataset that differ significantly from the majority of the data points.\n",
    "\n",
    "4. __Association Rule Learning:__ Identifying patterns or relationships between different features in a dataset, such as frequently co-occurring items in a shopping cart."
   ]
  },
  {
   "cell_type": "markdown",
   "id": "91f555b2",
   "metadata": {},
   "source": [
    "<font size = 3>__6. State the machine learning model that would be best to make a robot walk through various unfamiliar terrains ?__</font>\n",
    "\n",
    "__Ans:__ The machine learning model that would be best suited to make a robot walk through various unfamiliar terrains is a `Reinforcement Learning (RL) model`."
   ]
  },
  {
   "cell_type": "markdown",
   "id": "8a1fd0ae",
   "metadata": {},
   "source": [
    "<font size = 3>__7. Which algorithm will you use to divide your customers into different groups ?__</font>\n",
    "\n",
    "\n",
    "__Ans:__ The Best Algorithm to divide Customers into different groups is either `Supervised Learning (if the groups have known labels)` or `Unsupervised Learning (if there are no group labels)`."
   ]
  },
  {
   "cell_type": "markdown",
   "id": "deae8666",
   "metadata": {},
   "source": [
    "<font size = 3>__8. Will you consider the problem of spam detection to be a supervised or unsupervised learning problem ?__</font>\n",
    "\n",
    "\n",
    "__Ans:__ Spam detection is typically considered to be a supervised learning problem, as it involves training a machine learning algorithm on labeled examples of both spam and non-spam (or \"ham\") emails. The algorithm learns to identify patterns in the labeled data and can then make predictions on new, unlabeled emails."
   ]
  },
  {
   "cell_type": "markdown",
   "id": "f49de281",
   "metadata": {},
   "source": [
    "<font size = 3>__9. What is the concept of an online learning system ?__</font>\n",
    "\n",
    "__Ans:__ An online learning system is a type of machine learning system that `learns from data in real-time` as new data becomes available. In an online learning system, the model is updated continuously, with each new data point used to update the model's parameters and improve its predictions. Online learning is particularly useful in applications where the data is constantly changing or evolving, such as in recommendation systems, fraud detection, and online advertising."
   ]
  },
  {
   "cell_type": "markdown",
   "id": "7cb46d73",
   "metadata": {},
   "source": [
    "<font size = 3>__10. What is out-of-core learning, and how does it differ from core learning ?__</font>\n",
    "\n",
    "\n",
    "__Ans:__ Out-of-core learning, also known as \"online learning\" or \"streaming learning\", is a machine learning technique used to train models on data that is too large to fit into memory. In out-of-core learning, the data is processed in small batches or chunks, and the model is updated incrementally as new data becomes available.\n",
    "\n",
    "Core learning, on the other hand, refers to machine learning models that can be trained on all the data at once, assuming that the data can fit into the computer's memory.\n",
    "\n",
    "Out-of-core learning is particularly useful in scenarios where data is generated in real-time or when dealing with extremely large datasets such as those found in genomics, finance, or internet applications."
   ]
  },
  {
   "cell_type": "markdown",
   "id": "d222c1df",
   "metadata": {},
   "source": [
    "<font size = 3>__11. What kind of learning algorithm makes predictions using a similarity measure ?__</font>\n",
    "\n",
    "__Ans:__ The learning algorithm that makes predictions using a similarity measure is called `a nearest neighbor algorithm`. This algorithm uses the similarities or distances between the new data point and the training data points to make predictions or classifications. The algorithm finds the k nearest neighbors to the new data point and takes a weighted average of their labels or outputs to predict the label or output of the new data point."
   ]
  },
  {
   "cell_type": "markdown",
   "id": "2a88391f",
   "metadata": {},
   "source": [
    "<font size = 3>__12. What's the difference between a model parameter and a hyperparameter in a learning algorithm ?__</font>\n",
    "\n",
    "\n",
    "__Ans:__  A `model parameter` is a variable that is learned from the training data and used to make predictions on new data. Examples of model parameters include the weights in a neural network or the coefficients in a linear regression model.\n",
    "\n",
    "A `hyperparameter`, on the other hand, is a setting or configuration that is specified before training and affects how the model is trained. Examples of hyperparameters include the learning rate in gradient descent, the number of hidden layers in a neural network, or the regularization strength in a linear regression model. Unlike model parameters, hyperparameters are set by the user and not learned from the data."
   ]
  },
  {
   "cell_type": "markdown",
   "id": "9781ac1d",
   "metadata": {},
   "source": [
    "<font size = 3>__13. What are the criteria that model-based learning algorithms look for? What is the most popular method they use to achieve success? What method do they use to make predictions ?__</font>\n",
    "\n",
    "\n",
    "__Ans:__ Model-based learning algorithms typically look for a model that accurately captures the underlying patterns or relationships in the training data. The criteria they use to evaluate models include measures of fit, such as the mean squared error or likelihood, and measures of complexity, such as the number of parameters in the model.\n",
    "\n",
    "The most popular method for model-based learning is maximum likelihood estimation, which involves finding the parameter values that maximize the likelihood of the observed data given the model.\n",
    "\n",
    "To make predictions, model-based learning algorithms use the trained model to estimate the probability of the output or target variable given the input or predictor variables. This is typically done using Bayes' rule, which calculates the conditional probability of the output variable given the input variables"
   ]
  },
  {
   "cell_type": "markdown",
   "id": "03b523c5",
   "metadata": {},
   "source": [
    "<font size = 3>__14. Can you name four of the most important Machine Learning challenges ?__</font>\n",
    "\n",
    "__Ans:__ Four of the most important Machine Learning challenges are:\n",
    "\n",
    "1. __Data quality and quantity:__ Ensuring the quality and sufficiency of training data.\n",
    "2. __Overfitting and underfitting:__ Balancing the complexity of the model with the size of the training dataset.\n",
    "3. __Generalization:__ Building a model that can perform well on unseen data.\n",
    "4. __Interpretability:__ Understanding how a model makes predictions and providing explanations for its decisions."
   ]
  },
  {
   "cell_type": "markdown",
   "id": "f0cfa157",
   "metadata": {},
   "source": [
    "<font size = 3>__15. What happens if the model performs well on the training data but fails to generalize the results to new situations? Can you think of three different options ?__</font>\n",
    "\n",
    "__Ans:__ If a model performs well on the training data but fails to generalize to new situations, it is said to be overfitting to the training data. Some possible options to address this issue include:\n",
    "\n",
    "1. __Collect more training data:__ Adding more training examples can help the model capture the underlying patterns in the data and reduce overfitting.\n",
    "2. __Reduce model complexity:__ Simplifying the model by reducing the number of parameters or using regularization techniques can prevent the model from memorizing the training data and improve generalization performance.\n",
    "3. __Use a different model or algorithm:__ Switching to a different model or algorithm that is less prone to overfitting, such as a decision tree with limited depth or a linear regression model, can also help improve generalization."
   ]
  },
  {
   "cell_type": "markdown",
   "id": "a98c0bb7",
   "metadata": {},
   "source": [
    "<font size = 3>__16. What exactly is a test set, and why would you need one ?__</font>\n",
    "\n",
    "__Ans:__ A test set is a portion of the data that is held out from the training data and used to evaluate the performance of a machine learning model. The test set is used to estimate how well the model will perform on new, unseen data."
   ]
  },
  {
   "cell_type": "markdown",
   "id": "c064a28b",
   "metadata": {},
   "source": [
    "<font size = 3>__17. What is a validation set's purpose ?__</font>\n",
    "\n",
    "__Ans:__ The purpose of a validation set is to tune the hyperparameters of a machine learning model and avoid overfitting to the training data. The validation set is a portion of the data that is held out from the training data and used to evaluate different model configurations or hyperparameter settings."
   ]
  },
  {
   "cell_type": "markdown",
   "id": "28fba0a4",
   "metadata": {},
   "source": [
    "<font size = 3>__18. What precisely is the train-dev kit, when will you need it, how do you put it to use ?__</font>\n",
    "\n",
    "__Ans:__ `Cross-validation` is an alternative to train_test_split(). it automatically splits the dataset in k folds and perform the trainning phase in k-1 folds and tests in the remaining fold. It is the tool to compare models without needing a separate validation set. It is preferred over validation set because we can save from breaking of part of the training set to create a validation set, as having more data is valuable regardless.  \n"
   ]
  },
  {
   "cell_type": "markdown",
   "id": "a1ebf5c3",
   "metadata": {},
   "source": [
    "<font size = 3>__19. What could go wrong if you use the test set to tune hyperparameters ?__</font>\n",
    "\n",
    "__Ans:__ If we use the test set to tune hyperparameters, we risk overfitting to the test set and obtaining overly optimistic performance estimates.\n",
    "\n",
    "By using the test set for hyperparameter tuning, we effectively introduce knowledge of the test set into the model selection process, which can bias the model selection and lead to poor generalization performance on new, unseen data. To avoid this issue, we should always use a separate validation set for hyperparameter tuning and reserve the test set for the final evaluation of the selected model."
   ]
  },
  {
   "cell_type": "code",
   "execution_count": null,
   "id": "d94e79c4",
   "metadata": {},
   "outputs": [],
   "source": []
  }
 ],
 "metadata": {
  "kernelspec": {
   "display_name": "Python 3 (ipykernel)",
   "language": "python",
   "name": "python3"
  },
  "language_info": {
   "codemirror_mode": {
    "name": "ipython",
    "version": 3
   },
   "file_extension": ".py",
   "mimetype": "text/x-python",
   "name": "python",
   "nbconvert_exporter": "python",
   "pygments_lexer": "ipython3",
   "version": "3.10.9"
  }
 },
 "nbformat": 4,
 "nbformat_minor": 5
}
