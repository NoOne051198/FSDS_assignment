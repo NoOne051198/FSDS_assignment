{
 "cells": [
  {
   "cell_type": "markdown",
   "id": "354338f9",
   "metadata": {},
   "source": [
    "# Assignment - 10 Solution "
   ]
  },
  {
   "cell_type": "markdown",
   "id": "15971461",
   "metadata": {},
   "source": [
    "<font size = 3>__1. Define the Bayesian interpretation of probability.__</font>\n",
    "\n",
    "__Ans:__ The Bayesian interpretation of probability views probability as a measure of the degree of belief or confidence in a hypothesis or event, given the available evidence or data. It involves updating one's prior beliefs using new information to obtain a posterior probability distribution that reflects the updated belief or confidence level."
   ]
  },
  {
   "cell_type": "markdown",
   "id": "862593d8",
   "metadata": {},
   "source": [
    "<font size = 3>__2. Define probability of a union of two events with equation.__</font>\n",
    "\n",
    "__Ans:__ The probability of the union of two events A and B is given by the equation `P(A U B) = P(A) + P(B) - P(A ∩ B)`, where P(A) and P(B) are the probabilities of events A and B, respectively, and P(A ∩ B) is the probability of their intersection."
   ]
  },
  {
   "cell_type": "markdown",
   "id": "f58f80a0",
   "metadata": {},
   "source": [
    "<font size = 3>__3. What is joint probability? What is its formula?__</font>\n",
    "\n",
    "__Ans:__ Joint probability is the probability of two or more events occurring simultaneously. It is the probability of the intersection of the events. The formula for joint probability is `P(A and B) = P(A) * P(B|A)`, where P(A) is the probability of event A, and P(B|A) is the conditional probability of event B given that event A has occurred."
   ]
  },
  {
   "cell_type": "markdown",
   "id": "34937f21",
   "metadata": {},
   "source": [
    "<font size = 3>__4. What is chain rule of probability?__</font>\n",
    "\n",
    "__Ans:__ The chain rule of probability is a way of calculating the probability of the joint occurrence of multiple events by breaking it down into conditional probabilities. It states that the joint probability of n events can be expressed as the product of the conditional probabilities of each event given the previous events. The formula is:\n",
    "\n",
    "`P(A1, A2, ..., An) = P(A1) * P(A2|A1) * P(A3|A1,A2) * ... * P(An|A1,A2,...,An-1)`"
   ]
  },
  {
   "cell_type": "markdown",
   "id": "e8614e90",
   "metadata": {},
   "source": [
    "<font size = 3>__5. What is conditional probability means? What is the formula of it?__</font>\n",
    "\n",
    "\n",
    "__Ans:__ Conditional probability is the likelihood of an event occurring given that another event has occurred. It is calculated by dividing the joint probability of the two events by the probability of the given event. The formula for conditional probability is:\n",
    "\n",
    "`P(A|B) = P(A and B) / P(B)`\n",
    "\n",
    "where P(A|B) represents the conditional probability of event A given that event B has occurred, P(A and B) represents the joint probability of both A and B occurring, and P(B) represents the probability of event B occurring."
   ]
  },
  {
   "cell_type": "markdown",
   "id": "788aa279",
   "metadata": {},
   "source": [
    "<font size = 3>__6. What are continuous random variables?__</font>\n",
    "\n",
    "\n",
    "__Ans:__ Continuous random variables are variables that can take any value within a specified range, typically including decimal values.  The probabilities associated with continuous random variables are typically represented by probability density functions. the probabilities of a specific range of values can be calculated by integrating the probability density function over that range."
   ]
  },
  {
   "cell_type": "markdown",
   "id": "fae585cb",
   "metadata": {},
   "source": [
    "<font size = 3>__7. What are Bernoulli distributions? What is the formula of it?__</font>\n",
    "\n",
    "__Ans:__ A Bernoulli distribution is a probability distribution of a random variable that can take only two possible values, usually 0 or 1. It represents a single experiment with a binary outcome, such as a coin toss or a yes/no question. The formula for the Bernoulli distribution is `P(X=x) = p^x(1-p)^(1-x)`, where x is either 0 or 1, and p is the probability of success."
   ]
  },
  {
   "cell_type": "markdown",
   "id": "43479032",
   "metadata": {},
   "source": [
    "<font size = 3>__8. What is binomial distribution? What is the formula?__</font>\n",
    "\n",
    "__Ans:__ Binomial distribution is a probability distribution that describes the number of successes in a fixed number of independent trials with two possible outcomes, typically labeled as success and failure. The formula for the probability mass function of binomial distribution is:\n",
    "\n",
    "`P(X=k) = (n Combination k) * p^k * (1-p)^(n-k)`\n",
    "\n",
    "where:\n",
    "\n",
    "X is the number of successes in n trials\n",
    "k is the number of successes\n",
    "n is the number of trials\n",
    "p is the probability of success in a single trial\n",
    "(n Combination k) is the combination operation"
   ]
  },
  {
   "cell_type": "markdown",
   "id": "35129f5d",
   "metadata": {},
   "source": [
    "<font size = 3>__9. What is Poisson distribution? What is the formula?__</font>\n",
    "\n",
    "__Ans:__ Poisson distribution is a probability distribution that is used to model the number of times an event occurs in a fixed interval of time or space, given the average rate of occurrence. It is characterized by a single parameter λ, which represents the average rate of occurrence. The formula for Poisson distribution is:\n",
    "\n",
    "`P(X = k) = (e^(-λ) * λ^k) / k!`\n",
    "\n",
    "Where X is the number of occurrences, k is the number of successes, and e is Euler's number (approximately 2.71828)."
   ]
  },
  {
   "cell_type": "markdown",
   "id": "728920d0",
   "metadata": {},
   "source": [
    "<font size = 3>__10. Define covariance ?__</font>\n",
    "\n",
    "__Ans:__ Covariance is a statistical measure that determines the relationship between two variables. It measures how much two variables move together, indicating the direction of the linear relationship between them. A positive covariance suggests a direct relationship, while a negative covariance indicates an inverse relationship. The formula for covariance is: `Cov(X,Y) = E[(X - E[X])(Y - E[Y])]`"
   ]
  },
  {
   "cell_type": "markdown",
   "id": "52e03055",
   "metadata": {},
   "source": [
    "<font size = 3>__11. Define correlation ?__</font>\n",
    "\n",
    "__Ans:__ Correlation is a statistical measure that describes the relationship between two variables. It indicates the degree to which the variables tend to change together, either positively (when they move in the same direction) or negatively (when they move in opposite directions). Correlation is usually represented by a correlation coefficient, which ranges from -1 to 1, with a value of 0 indicating no correlation, 1 indicating perfect positive correlation, and -1 indicating perfect negative correlation."
   ]
  },
  {
   "cell_type": "markdown",
   "id": "be0c3b35",
   "metadata": {},
   "source": [
    "<font size = 3>__12. Define sampling with replacement. Give example.__</font>\n",
    "\n",
    "\n",
    "__Ans:__ Sampling with replacement is a statistical method where a sample is selected from a population, and after each selection, the selected individual is returned to the population. This means that each individual in the population has the same chance of being selected for each draw. An __example__ of this could be drawing a card from a deck, recording the value, and then replacing the card back into the deck before drawing again."
   ]
  },
  {
   "cell_type": "markdown",
   "id": "4c7d2d2f",
   "metadata": {},
   "source": [
    "<font size = 3>__13. What is sampling without replacement? Give example.__</font>\n",
    "\n",
    "__Ans:__ Sampling without replacement is a method of selecting items from a population where each member of the population can only be chosen once. For example, selecting five cards from a deck of cards without putting any of the cards back after they are chosen. This method ensures that each selected item is unique and the sample size is smaller than the population size."
   ]
  },
  {
   "cell_type": "markdown",
   "id": "237c1e20",
   "metadata": {},
   "source": [
    "<font size = 3>__14. What is hypothesis? Give example.__</font>\n",
    "\n",
    "\n",
    "__Ans:__ A hypothesis is an assumption or proposition that is made to explain a phenomenon. In scientific research, it is a testable statement or an explanation of an observed phenomenon. For example, a hypothesis could be that a new drug will reduce the symptoms of a particular disease in humans. This hypothesis can then be tested by conducting experiments on a group of patients with the disease, where one group is given the new drug and another group is given a placebo, and the results are compared to see if the drug has any effect on the symptoms."
   ]
  },
  {
   "cell_type": "code",
   "execution_count": null,
   "id": "c20474b2",
   "metadata": {},
   "outputs": [],
   "source": []
  }
 ],
 "metadata": {
  "kernelspec": {
   "display_name": "Python 3 (ipykernel)",
   "language": "python",
   "name": "python3"
  },
  "language_info": {
   "codemirror_mode": {
    "name": "ipython",
    "version": 3
   },
   "file_extension": ".py",
   "mimetype": "text/x-python",
   "name": "python",
   "nbconvert_exporter": "python",
   "pygments_lexer": "ipython3",
   "version": "3.10.9"
  }
 },
 "nbformat": 4,
 "nbformat_minor": 5
}
