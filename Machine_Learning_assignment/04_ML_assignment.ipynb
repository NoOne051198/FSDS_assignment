{
 "cells": [
  {
   "cell_type": "markdown",
   "id": "12de8026",
   "metadata": {},
   "source": [
    "# Assignment - 04 Solution"
   ]
  },
  {
   "cell_type": "markdown",
   "id": "731659aa",
   "metadata": {},
   "source": [
    "<font size = 3>__1. What are the key tasks involved in getting ready to work with machine learning modeling ?__</font>\n",
    "\n",
    "\n",
    "__Ans:__ There are some key tasks involved in getting ready to work with machine learning modeling:\n",
    "\n",
    "1. __Data collection and preparation:__ Collecting relevant data and preparing it for modeling is crucial. This involves cleaning and pre-processing the data to ensure that it is in the appropriate format for the model to work with.\n",
    "\n",
    "2. __Feature engineering:__ Feature engineering involves selecting and creating features that are most relevant to the problem at hand. This can involve transforming the data into a more meaningful format or combining different features to create new ones.\n",
    "\n",
    "3. __Choosing a model:__ The choice of model depends on the problem at hand. Different models have different strengths and weaknesses, and choosing the right one is important.\n",
    "\n",
    "4. __Training the model:__ Once a model is chosen, it needs to be trained on the available data. This involves feeding the data into the model and adjusting the model parameters to optimize performance.\n",
    "\n",
    "5. __Evaluation:__ After training, the model needs to be evaluated to determine its accuracy and generalization performance. This can involve using a validation set or cross-validation to assess performance on new data.\n",
    "\n",
    "6. __Deployment:__ Once a model has been trained and evaluated, it needs to be deployed in a production environment. This involves integrating the model into an application or system and ensuring that it performs as expected."
   ]
  },
  {
   "cell_type": "markdown",
   "id": "9d610fd6",
   "metadata": {},
   "source": [
    "<font size = 3>__2. What are the different forms of data used in machine learning ? Give a specific example for each of them ?__</font>\n",
    "\n",
    "__Ans:__ There are several types of data used in machine learning, including:\n",
    "\n",
    "1. __Numerical Data:__ This includes continuous data such as height, weight, temperature, and discrete data such as age and number of children. __eg:__ numerical data can be used in a predictive model to forecast sales figures for a company.\n",
    "\n",
    "2. __Categorical Data:__ This type of data represents categories and can be nominal or ordinal. Examples include gender, race, and education level. __eg:__ Categorical data can be used in a classification model to predict the likelihood of a customer churning from a subscription service.\n",
    "\n",
    "3. __Text Data:__ This includes data in the form of text, such as tweets, emails, and product reviews.  __eg:__ Text data can be used in natural language processing to classify customer feedback as positive or negative.\n",
    "\n",
    "4. __Image Data:__ This is data in the form of images or pictures and can be used in applications such as object recognition, facial recognition, and image classification. __eg:__ Image data can be used in object recognition to classify images of animals.\n",
    "\n",
    "5. __Audio Data:__ This type of data is used in applications such as speech recognition and music classification.  __eg:__ Audio data can be used in speech recognition to convert speech to text.\n"
   ]
  },
  {
   "cell_type": "markdown",
   "id": "1fb2fe4d",
   "metadata": {},
   "source": [
    "<font size = 3>__3. Distinguish between :__</font><br>\n",
    "`Numeric vs. categorical attributes`<br>\n",
    "`Feature selection vs. dimensionality reduction`\n",
    "\n",
    "\n",
    "__Numeric vs. categorical attributes:__\n",
    "Numeric attributes are numerical variables that can take on continuous or discrete values. They can be measured using mathematical operations and are typically used for regression or clustering tasks. On the other hand, categorical attributes represent non-numerical variables that fall into distinct categories or levels. They cannot be mathematically operated on and are typically used for classification tasks. For example, a numeric attribute could be a person's age, while a categorical attribute could be their gender.\n",
    "\n",
    "\n",
    "__Feature selection vs. dimensionality reduction__\n",
    "Feature selection and dimensionality reduction are techniques used to reduce the number of features or variables in a dataset. Feature selection involves selecting a subset of the original features that are most relevant to the problem at hand. It aims to improve model performance by reducing noise and improving interpretability. In contrast, dimensionality reduction involves transforming the original features into a lower-dimensional space while preserving the most important information. It aims to reduce computational complexity and alleviate the curse of dimensionality."
   ]
  },
  {
   "cell_type": "markdown",
   "id": "8c583619",
   "metadata": {},
   "source": [
    "<font size = 3>__4. Make quick notes on any two of the following ?__</font><br>\n",
    "`The histogram`<br>\n",
    "`Use a scatter plot`<br>\n",
    "`PCA (Personal Computer Aid)`\n",
    "\n",
    "\n",
    "__The histogram:__\n",
    "A histogram is a graphical representation of the distribution of a dataset. It consists of a set of rectangles, where each rectangle represents a bin or range of values, and the height of each rectangle represents the number of data points that fall within that bin. Histograms are commonly used to visualize the shape of a distribution, identify outliers, and examine the overall spread and central tendency of a dataset.\n",
    "\n",
    "__Use a scatter plot:__\n",
    "A scatter plot is a type of data visualization used to display two variables for a set of data points. The data points are represented on a Cartesian coordinate plane, where one variable is shown on the x-axis and the other variable is shown on the y-axis. Scatter plots are useful for identifying patterns or relationships between the two variables, such as whether they are positively or negatively correlated. Additionally, scatter plots can be used to identify outliers or clusters within the data.\n",
    "\n",
    "\n",
    "__PCA (Personal Computer Aid):__\n",
    "PCA stands for Principal Component Analysis. It is a popular unsupervised machine learning technique used for dimensionality reduction and feature extraction. It transforms high-dimensional data into a lower-dimensional space, while retaining as much variance in the data as possible. In other words, it identifies the most important features of the data and removes the redundant ones. PCA is used in various applications, including image and speech recognition, finance, and bioinformatics. It can also be used for data visualization and exploratory analysis."
   ]
  },
  {
   "cell_type": "markdown",
   "id": "96381faa",
   "metadata": {},
   "source": [
    "<font size = 3>__5. Why is it necessary to investigate data? Is there a discrepancy in how qualitative and quantitative data are explored ?__</font>\n",
    "\n",
    "\n",
    "__Ans:__ It is essential to investigate data to gain insights and understanding into the underlying patterns, relationships, and structures. Data exploration helps identify potential issues and biases and enables the selection of appropriate modeling techniques. There may be differences in how qualitative and quantitative data are explored. Qualitative data may involve examining themes and patterns through narrative analysis, while quantitative data may involve examining distributions and correlations through statistical analysis. However, both types of data can benefit from visualization techniques to aid in exploration and understanding."
   ]
  },
  {
   "cell_type": "markdown",
   "id": "85d46148",
   "metadata": {},
   "source": [
    "<font size = 3>__6. What are the various histogram shapes? What exactly are ‘bins' ?__</font>\n",
    "\n",
    "\n",
    "__Ans:__ Histograms are a graphical representation of the distribution of data. The shapes of histograms can vary, and some common shapes include:\n",
    "\n",
    "1. __Bell-shaped:__ A symmetrical curve that has a single peak in the center.\n",
    "2. __Skewed-left:__ A curve that has a tail on the left side and a peak on the right side.\n",
    "3. __Skewed-right:__ A curve that has a tail on the right side and a peak on the left side.\n",
    "4. __Bimodal:__ A curve that has two peaks.<br>\n",
    "`Bins` are the intervals into which the data is divided for the purpose of creating the histogram. The width of each bin determines the range of values that will be grouped together and represented by a single bar in the histogram. Choosing the appropriate number and width of bins is important in order to accurately represent the distribution of the data."
   ]
  },
  {
   "cell_type": "markdown",
   "id": "c1d8d3c2",
   "metadata": {},
   "source": [
    "<font size = 3>__7. How do we deal with data outliers ?__</font>\n",
    "\n",
    "__Ans:__ Outliers are data points that are significantly different from other data points in a dataset. They can occur due to various reasons such as measurement errors, data entry errors, or true anomalies in the data. Outliers can have a significant impact on the analysis of a dataset, and therefore, it is important to deal with them appropriately.\n",
    "\n",
    "One approach to dealing with outliers is to `remove them from the dataset`. This approach is suitable when the outliers are clearly due to errors in the data. However, when the outliers are genuine, removing them may result in a loss of valuable information.\n",
    "\n",
    "Another approach to dealing with outliers is to `transform the data using appropriate statistical methods`. For example, one can use the log transform or the square root transform to reduce the influence of outliers. Alternatively, one can use robust statistical methods that are less sensitive to outliers.\n",
    "\n",
    "Lastly, one can also `identify and analyze the outliers to gain insights into the data`. Outliers can be indicative of unusual or interesting phenomena in the data, and exploring them can help uncover valuable insights and patterns."
   ]
  },
  {
   "cell_type": "markdown",
   "id": "c0e427be",
   "metadata": {},
   "source": [
    "<font size = 3>__8. What are the various central inclination measures? Why does mean vary too much from median in certain data sets ?__</font>\n",
    "\n",
    "__Ans:__ The various central inclination measures are mean, median, and mode. `Mean` is the sum of all data points divided by the number of data points, while `median` is the middle value in a sorted list of data, and `mode` is the value that appears most frequently in the data. Mean varies too much from median in certain data sets when there are outliers or extreme values present. These outliers have a significant impact on the mean, while they have little or no impact on the median.\n",
    "\n",
    "\n"
   ]
  },
  {
   "cell_type": "markdown",
   "id": "0affa89e",
   "metadata": {},
   "source": [
    "<font size = 3>__9. Describe how a scatter plot can be used to investigate bivariate relationships. Is it possible to find outliers using a scatter plot ?__</font>\n",
    "\n",
    "__Ans:__ A scatter plot is a graph that uses dots to represent values for two different variables. It can be used to investigate the relationship between two variables and to identify patterns or trends in the data. A scatter plot can also help to identify outliers in the data, as these will appear as points that are far away from the other points in the plot.\n",
    "\n",
    "To investigate bivariate relationships using a scatter plot, we can plot the two variables on the x-axis and y-axis, respectively. The resulting plot will show how the two variables are related, and we can look for patterns such as positive or negative correlation, or no correlation at all. We can also use the scatter plot to look for any outliers in the data that might indicate errors or unusual cases."
   ]
  },
  {
   "cell_type": "markdown",
   "id": "9f152764",
   "metadata": {},
   "source": [
    "<font size = 3>__10. Describe how cross-tabs can be used to figure out how two variables are related ?__</font>\n",
    "\n",
    "\n",
    "__Ans:__ Cross-tabs, also known as contingency tables, are a statistical tool used to determine the relationship between two categorical variables. They organize the data into a table format, with one variable represented along the rows and the other variable along the columns. The cells of the table show the frequency or count of occurrences of the particular combination of values for the two variables.\n",
    "\n",
    "Cross-tabs can be used to identify any patterns or trends in the data and determine if there is a relationship between the two variables. For example, a marketer might use a cross-tab to see if there is a relationship between the age of a customer and the products they purchase. By examining the table, the marketer can see if there are any age groups that tend to purchase certain products more frequently than others.\n",
    "\n"
   ]
  },
  {
   "cell_type": "code",
   "execution_count": null,
   "id": "9c176696",
   "metadata": {},
   "outputs": [],
   "source": []
  }
 ],
 "metadata": {
  "kernelspec": {
   "display_name": "Python 3 (ipykernel)",
   "language": "python",
   "name": "python3"
  },
  "language_info": {
   "codemirror_mode": {
    "name": "ipython",
    "version": 3
   },
   "file_extension": ".py",
   "mimetype": "text/x-python",
   "name": "python",
   "nbconvert_exporter": "python",
   "pygments_lexer": "ipython3",
   "version": "3.10.9"
  }
 },
 "nbformat": 4,
 "nbformat_minor": 5
}
