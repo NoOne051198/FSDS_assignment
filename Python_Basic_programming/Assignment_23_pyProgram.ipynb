{
 "cells": [
  {
   "cell_type": "markdown",
   "id": "4bdf215a",
   "metadata": {},
   "source": [
    "# Assignment - 23 Solution "
   ]
  },
  {
   "cell_type": "markdown",
   "id": "5d427d39",
   "metadata": {},
   "source": [
    "<font size=\"3\">__1.Create a function that takes a number as an argument and returns True or False depending on whether the number is symmetrical or not. A number is symmetrical when it is the same as its reverse.__</font><br>\n",
    "__Examples:<br>\n",
    "is_symmetrical(7227) ➞ True<br>\n",
    "is_symmetrical(12567) ➞ False<br>\n",
    "is_symmetrical(44444444) ➞ True<br>\n",
    "is_symmetrical(9939) ➞ False<br>\n",
    "is_symmetrical(1112111) ➞ True__"
   ]
  },
  {
   "cell_type": "code",
   "execution_count": 1,
   "id": "f148c770",
   "metadata": {},
   "outputs": [
    {
     "name": "stdout",
     "output_type": "stream",
     "text": [
      "True\n",
      "False\n",
      "True\n",
      "False\n",
      "True\n"
     ]
    }
   ],
   "source": [
    "def is_symmetrical(num):\n",
    "    num_str = str(num)\n",
    "    return num_str == num_str[::-1]\n",
    "\n",
    "\n",
    "print(is_symmetrical(7227))  # True\n",
    "\n",
    "print(is_symmetrical(12567))  # False\n",
    "\n",
    "print(is_symmetrical(44444444))  # True\n",
    "\n",
    "print(is_symmetrical(9939))  # False\n",
    "\n",
    "print(is_symmetrical(1112111))  # True\n",
    "\n"
   ]
  },
  {
   "cell_type": "markdown",
   "id": "599b39d5",
   "metadata": {},
   "source": [
    "<font size=\"3\">__2.Given a string of numbers separated by a comma and space, return the product of the numbers.__</font><br>\n",
    "__Examples:<br>\n",
    "multiply_nums(\"2, 3\") ➞ 6<br>\n",
    "multiply_nums(\"1, 2, 3, 4\") ➞ 24<br>\n",
    "multiply_nums(\"54, 75, 453, 0\") ➞ 0<br>\n",
    "multiply_nums(\"10, -2\") ➞ -20__"
   ]
  },
  {
   "cell_type": "code",
   "execution_count": 3,
   "id": "1af2a3ea",
   "metadata": {},
   "outputs": [
    {
     "name": "stdout",
     "output_type": "stream",
     "text": [
      "6\n",
      "24\n",
      "0\n",
      "-20\n"
     ]
    }
   ],
   "source": [
    "def multiply_nums(nums):\n",
    "    nums_list = [int(x) for x in nums.split(\", \")]\n",
    "    result = 1\n",
    "    for num in nums_list:\n",
    "        result *= num\n",
    "    return result\n",
    "\n",
    "\n",
    "\n",
    "print(multiply_nums(\"2, 3\"))  # 6 \n",
    "\n",
    "print(multiply_nums(\"1, 2, 3, 4\"))  # 24\n",
    "\n",
    "print(multiply_nums(\"54, 75, 453, 0\"))  # 0\n",
    "\n",
    "print(multiply_nums(\"10, -2\"))  # -20\n",
    "\n"
   ]
  },
  {
   "cell_type": "markdown",
   "id": "d522e5fe",
   "metadata": {},
   "source": [
    "<font size=\"3\">__3.Create a function that squares every digit of a number.__</font><br>\n",
    "__Examples:<br>\n",
    "square_digits(9119) ➞ 811181<br>\n",
    "square_digits(2483) ➞ 416649<br>\n",
    "square_digits(3212) ➞ 9414__\n",
    "\n",
    "__Notes:<br>\n",
    "The function receives an integer and must return an integer.__"
   ]
  },
  {
   "cell_type": "code",
   "execution_count": 4,
   "id": "047f13ae",
   "metadata": {},
   "outputs": [
    {
     "name": "stdout",
     "output_type": "stream",
     "text": [
      "811181\n",
      "416649\n",
      "9414\n"
     ]
    }
   ],
   "source": [
    "def square_digits(num):\n",
    "    # Convert integer to string\n",
    "    num_str = str(num)\n",
    "    # Iterate through each digit, square it, and add to result string\n",
    "    result_str = ''\n",
    "    for digit in num_str:\n",
    "        square = int(digit) ** 2\n",
    "        result_str += str(square)\n",
    "    # Convert result string to integer and return\n",
    "    return int(result_str)\n",
    "\n",
    "\n",
    "\n",
    "print(square_digits(9119)) # Output: 811181\n",
    "print(square_digits(2483)) # Output: 416649\n",
    "print(square_digits(3212)) # Output: 9414\n"
   ]
  },
  {
   "cell_type": "markdown",
   "id": "4299ff2c",
   "metadata": {},
   "source": [
    "<font size=\"3\">__4.Create a function that sorts a list and removes all duplicate items from it.__</font><br>\n",
    "__Examples:<br>\n",
    "setify([1, 3, 3, 5, 5]) ➞ [1, 3, 5]<br>\n",
    "setify([4, 4, 4, 4]) ➞ [4]<br>\n",
    "setify([5, 7, 8, 9, 10, 15]) ➞ [5, 7, 8, 9, 10, 15]<br>\n",
    "setify([3, 3, 3, 2, 1]) ➞ [1, 2, 3]__<br>"
   ]
  },
  {
   "cell_type": "code",
   "execution_count": 6,
   "id": "21ca19fc",
   "metadata": {},
   "outputs": [
    {
     "name": "stdout",
     "output_type": "stream",
     "text": [
      "[1, 3, 5]\n",
      "[4]\n",
      "[5, 7, 8, 9, 10, 15]\n",
      "[1, 2, 3]\n"
     ]
    }
   ],
   "source": [
    "def setify(lst):\n",
    "    sorted_lst = sorted(lst)\n",
    "    return list(set(sorted_lst))\n",
    "\n",
    "\n",
    "print(setify([1, 3, 3, 5, 5]))  # Output: [1, 3, 5]\n",
    "print(setify([4, 4, 4, 4]))  # Output: [4]\n",
    "print(setify([5, 7, 8, 9, 10, 15]))  # Output: [5, 7, 8, 9, 10, 15]\n",
    "print(setify([3, 3, 3, 2, 1]))  # Output: [1, 2, 3]\n"
   ]
  },
  {
   "cell_type": "markdown",
   "id": "0ab8ed40",
   "metadata": {},
   "source": [
    "<font size=\"3\">__5.Create a function that returns the mean of all digits.__</font><br>\n",
    "__Examples:<br>\n",
    "mean(42) ➞ 3<br>\n",
    "mean(12345) ➞ 3<br>\n",
    "mean(666) ➞ 6__\n",
    "\n",
    "__Notes:<br>\n",
    "1.The mean of all digits is the sum of digits / how many digits there are (e.g. mean of digits in 512 is (5+1+2)/3(number of digits) = 8/3=2).<br>\n",
    "2.The mean will always be an integer.__"
   ]
  },
  {
   "cell_type": "code",
   "execution_count": 7,
   "id": "d827c373",
   "metadata": {},
   "outputs": [
    {
     "name": "stdout",
     "output_type": "stream",
     "text": [
      "3\n",
      "3\n",
      "6\n"
     ]
    }
   ],
   "source": [
    "def mean(num):\n",
    "    # Convert the number to a string\n",
    "    num_str = str(num)\n",
    "    # Initialize the sum to 0\n",
    "    num_sum = 0\n",
    "    # Iterate through each character in the string\n",
    "    for char in num_str:\n",
    "        # Convert the character to an integer and add it to the sum\n",
    "        num_sum += int(char)\n",
    "    # Calculate the mean by dividing the sum by the length of the string\n",
    "    mean = num_sum / len(num_str)\n",
    "    # Return the mean as an integer\n",
    "    return int(mean)\n",
    "\n",
    "\n",
    "\n",
    "print(mean(42))  # Output: 3\n",
    "print(mean(12345))  # Output: 3\n",
    "print(mean(666))  # Output: 6\n"
   ]
  },
  {
   "cell_type": "code",
   "execution_count": null,
   "id": "803d4e2d",
   "metadata": {},
   "outputs": [],
   "source": []
  }
 ],
 "metadata": {
  "kernelspec": {
   "display_name": "Python 3 (ipykernel)",
   "language": "python",
   "name": "python3"
  },
  "language_info": {
   "codemirror_mode": {
    "name": "ipython",
    "version": 3
   },
   "file_extension": ".py",
   "mimetype": "text/x-python",
   "name": "python",
   "nbconvert_exporter": "python",
   "pygments_lexer": "ipython3",
   "version": "3.10.9"
  }
 },
 "nbformat": 4,
 "nbformat_minor": 5
}
