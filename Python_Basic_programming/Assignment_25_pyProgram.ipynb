{
 "cells": [
  {
   "cell_type": "markdown",
   "id": "495dc256",
   "metadata": {},
   "source": [
    "# Assignment - 25 Solution "
   ]
  },
  {
   "cell_type": "markdown",
   "id": "72239b32",
   "metadata": {},
   "source": [
    "<font size=\"3\">__1.Create a function that takes three integer arguments (a, b, c) and returns the amount of integers which are of equal value.__</font><br>\n",
    "__Examples:<br>\n",
    "equal(3, 4, 3) ➞ 2<br>\n",
    "equal(1, 1, 1) ➞ 3<br>\n",
    "equal(3, 4, 1) ➞ 0__\n",
    "\n",
    "__Notes:<br>\n",
    "Your function must return 0, 2 or 3.__"
   ]
  },
  {
   "cell_type": "code",
   "execution_count": 1,
   "id": "0e8505ce",
   "metadata": {},
   "outputs": [
    {
     "name": "stdout",
     "output_type": "stream",
     "text": [
      "2\n",
      "3\n",
      "0\n"
     ]
    }
   ],
   "source": [
    "def equal(a, b, c):\n",
    "    if a == b == c:\n",
    "        return 3\n",
    "    elif a == b or b == c or c == a:\n",
    "        return 2\n",
    "    else:\n",
    "        return 0\n",
    "\n",
    "    \n",
    "print(equal(3, 4, 3))  # Output: 2)\n",
    "print(equal(1, 1, 1))  # Output: 3)\n",
    "print(equal(3, 4, 1))  # Output: 0)"
   ]
  },
  {
   "cell_type": "markdown",
   "id": "52184e2f",
   "metadata": {},
   "source": [
    "<font size=\"3\">__2.Write a function that converts a dictionary into a list of keys-values tuples.__</font><br>\n",
    "__Examples:<br>\n",
    "dict_to_list({ \"D\": 1, \"B\": 2, \"C\": 3 }) ➞ [(\"B\", 2), (\"C\", 3), (\"D\", 1)] <br>\n",
    "dict_to_list({ \"likes\": 2, \"dislikes\": 3, \"followers\": 10 }) ➞ [(\"dislikes\", 3), (\"followers\", 10), (\"likes\", 2)]__\n",
    "\n",
    "__Notes:<br>\n",
    "Return the elements in the list in alphabetical order.__"
   ]
  },
  {
   "cell_type": "code",
   "execution_count": 3,
   "id": "916ebf74",
   "metadata": {},
   "outputs": [
    {
     "name": "stdout",
     "output_type": "stream",
     "text": [
      "[('B', 2), ('C', 3), ('D', 1)]\n",
      "[('dislikes', 3), ('followers', 10), ('likes', 2)]\n"
     ]
    }
   ],
   "source": [
    "def dict_to_list(d):\n",
    "    return sorted(d.items())\n",
    "\n",
    "\n",
    "print(dict_to_list({ \"D\": 1, \"B\": 2, \"C\": 3 }))  # Output: [('B', 2), ('C', 3), ('D', 1)]\n",
    "\n",
    "print(dict_to_list({ \"likes\": 2, \"dislikes\": 3, \"followers\": 10 }))  # Output: [('dislikes', 3), ('followers', 10), ('likes', 2)]\n",
    "\n"
   ]
  },
  {
   "cell_type": "markdown",
   "id": "3535aace",
   "metadata": {},
   "source": [
    "<font size=\"3\">__3.Write a function that creates a dictionary with each (key, value) pair being the (lower case, upper case) versions of a letter, respectively.__</font><br>\n",
    "__Examples:<br>\n",
    "mapping([\"p\", \"s\"]) ➞ { \"p\": \"P\", \"s\": \"S\" }<br>\n",
    "mapping([\"a\", \"b\", \"c\"]) ➞ { \"a\": \"A\", \"b\": \"B\", \"c\": \"C\" }<br>\n",
    "mapping([\"a\", \"v\", \"y\", \"z\"]) ➞ { \"a\": \"A\", \"v\": \"V\", \"y\": \"Y\", \"z\": \"Z\" }__\n",
    "\n",
    "__Notes:<br>\n",
    "All of the letters in the input list will always be lowercase.__"
   ]
  },
  {
   "cell_type": "code",
   "execution_count": 4,
   "id": "3de023e0",
   "metadata": {},
   "outputs": [
    {
     "name": "stdout",
     "output_type": "stream",
     "text": [
      "{'p': 'P', 's': 'S'}\n",
      "{'a': 'A', 'b': 'B', 'c': 'C'}\n",
      "{'a': 'A', 'v': 'V', 'y': 'Y', 'z': 'Z'}\n"
     ]
    }
   ],
   "source": [
    "def mapping(letters):\n",
    "    return {letter: letter.upper() for letter in letters}\n",
    "\n",
    "\n",
    "\n",
    "print(mapping([\"p\", \"s\"]))  # Output: {'p': 'P', 's': 'S'}\n",
    "\n",
    "print(mapping([\"a\", \"b\", \"c\"]))  # Output: {'a': 'A', 'b': 'B', 'c': 'C'}\n",
    "\n",
    "print(mapping([\"a\", \"v\", \"y\", \"z\"]))  # Output: {'a': 'A', 'v': 'V', 'y': 'Y', 'z': 'Z'}\n",
    "\n"
   ]
  },
  {
   "cell_type": "markdown",
   "id": "844a7b65",
   "metadata": {},
   "source": [
    "<font size=\"3\">__4.Write a function, that replaces all vowels in a string with a specified vowel.__</font><br>\n",
    "__Examples:<br>\n",
    "vow_replace(\"apples and bananas\", \"u\") ➞ \"upplus und bununus\"<br>\n",
    "vow_replace(\"cheese casserole\", \"o\") ➞ \"chooso cossorolo\"<br>\n",
    "vow_replace(\"stuffed jalapeno poppers\", \"e\") ➞ \"steffed jelepene peppers\"__\n",
    "\n",
    "__Notes:<br>\n",
    "All words will be lowercase. Y is not considered a vowel.__"
   ]
  },
  {
   "cell_type": "code",
   "execution_count": 5,
   "id": "2b96ba77",
   "metadata": {},
   "outputs": [
    {
     "name": "stdout",
     "output_type": "stream",
     "text": [
      "upplus und bununus\n",
      "chooso cossorolo\n",
      "steffed jelepene peppers\n"
     ]
    }
   ],
   "source": [
    "def vow_replace(word, vowel):\n",
    "    vowels = \"aeiou\"\n",
    "    new_word = \"\"\n",
    "    for letter in word:\n",
    "        if letter in vowels:\n",
    "            new_word += vowel\n",
    "        else:\n",
    "            new_word += letter\n",
    "    return new_word\n",
    "\n",
    "\n",
    "print(vow_replace(\"apples and bananas\", \"u\"))  # Output: \"upplus und bununus\"\n",
    "print(vow_replace(\"cheese casserole\", \"o\"))  # Output: \"chooso cossorolo\"\n",
    "print(vow_replace(\"stuffed jalapeno poppers\", \"e\"))  # Output: \"steffed jelepene peppers)\" # Output:"
   ]
  },
  {
   "cell_type": "markdown",
   "id": "452ef920",
   "metadata": {},
   "source": [
    "<font size=\"3\">__5.Create a function that takes a string as input and capitalizes a letter if its ASCII code is even and returns its lower case version if its ASCII code is odd.__</font><br>\n",
    "__Examples:<br>\n",
    "ascii_capitalize(\"to be or not to be!\") ➞ \"To Be oR NoT To Be!\"<br>\n",
    "ascii_capitalize(\"THE LITTLE MERMAID\") ➞ \"THe LiTTLe meRmaiD\"<br>\n",
    "ascii_capitalize(\"Oh what a beautiful morning.\") ➞ \"oH wHaT a BeauTiFuL moRNiNg.\"__"
   ]
  },
  {
   "cell_type": "code",
   "execution_count": 6,
   "id": "f149d5eb",
   "metadata": {},
   "outputs": [
    {
     "name": "stdout",
     "output_type": "stream",
     "text": [
      "To Be oR NoT To Be!\n",
      "THe LiTTLe meRmaiD\n",
      "oH wHaT a BeauTiFuL moRNiNg.\n"
     ]
    }
   ],
   "source": [
    "def ascii_capitalize(txt):\n",
    "    return \"\".join([c.lower() if ord(c)%2 else c.upper() for c in txt])\n",
    "\n",
    "print(ascii_capitalize(\"to be or not to be!\")) # Output: \"To Be oR NoT To Be!\"\n",
    "print(ascii_capitalize(\"THE LITTLE MERMAID\")) # Output: \"THe LiTTLe meRmaiD\"\n",
    "print(ascii_capitalize(\"Oh what a beautiful morning.\")) # Output: \"oH wHaT a BeauTiFuL moRNiNg.\"\n"
   ]
  },
  {
   "cell_type": "code",
   "execution_count": null,
   "id": "d032ff6d",
   "metadata": {},
   "outputs": [],
   "source": []
  }
 ],
 "metadata": {
  "kernelspec": {
   "display_name": "Python 3 (ipykernel)",
   "language": "python",
   "name": "python3"
  },
  "language_info": {
   "codemirror_mode": {
    "name": "ipython",
    "version": 3
   },
   "file_extension": ".py",
   "mimetype": "text/x-python",
   "name": "python",
   "nbconvert_exporter": "python",
   "pygments_lexer": "ipython3",
   "version": "3.10.9"
  }
 },
 "nbformat": 4,
 "nbformat_minor": 5
}
