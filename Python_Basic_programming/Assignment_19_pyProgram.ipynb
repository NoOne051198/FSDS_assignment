{
 "cells": [
  {
   "cell_type": "markdown",
   "id": "0059716a",
   "metadata": {},
   "source": [
    "# Assignment - 19 Solution "
   ]
  },
  {
   "cell_type": "markdown",
   "id": "9fd1f522",
   "metadata": {},
   "source": [
    "<font size=\"3\">__1.Create a function that takes a string and returns a string in which each character is repeated once.__</font><br>\n",
    "__Examples:<br>\n",
    "double_char(\"String\") ➞ \"SSttrriinngg\"<br>\n",
    "double_char(\"Hello World!\") ➞ \"HHeelllloo WWoorrlldd!!\"<br>\n",
    "doublechar(\"1234!_\") ➞ \"11223344!!\\_\\_\"__"
   ]
  },
  {
   "cell_type": "code",
   "execution_count": 1,
   "id": "12748ce6",
   "metadata": {},
   "outputs": [
    {
     "name": "stdout",
     "output_type": "stream",
     "text": [
      "SSttrriinngg\n",
      "HHeelllloo  WWoorrlldd!!\n",
      "11223344!!__\n"
     ]
    }
   ],
   "source": [
    "def double_char(txt):\n",
    "    return ''.join(char*2 for char in txt)\n",
    "\n",
    "\n",
    "print(double_char(\"String\"))   # \"SSttrriinngg\"\n",
    "print(double_char(\"Hello World!\"))   # \"HHeelllloo WWoorrlldd!!\"\n",
    "print(double_char(\"1234!_\"))   # \"11223344!!__\"\n"
   ]
  },
  {
   "cell_type": "markdown",
   "id": "5a1a40db",
   "metadata": {},
   "source": [
    "<font size=\"3\">__2.Create a function that reverses a boolean value and returns the string \"boolean expected\" if another variable type is given.__</font><br>\n",
    "__Examples:<br>\n",
    "reverse(True) ➞ False<br>\n",
    "reverse(False) ➞ True<br>\n",
    "reverse(0) ➞ \"boolean expected\"<br>\n",
    "reverse(None) ➞ \"boolean expected\"__"
   ]
  },
  {
   "cell_type": "code",
   "execution_count": 3,
   "id": "6f3eb38a",
   "metadata": {},
   "outputs": [
    {
     "name": "stdout",
     "output_type": "stream",
     "text": [
      "False\n",
      "True\n",
      "boolean expected\n",
      "boolean expected\n"
     ]
    }
   ],
   "source": [
    "def reverse(arg):\n",
    "    if type(arg) == bool:\n",
    "        return not arg\n",
    "    else:\n",
    "        return \"boolean expected\"\n",
    "\n",
    "    \n",
    "print(reverse(True)) # False\n",
    "print(reverse(False)) # True\n",
    "print(reverse(0))  # Boolean expected\n",
    "print(reverse(None))  #Boolean expected\n"
   ]
  },
  {
   "cell_type": "markdown",
   "id": "ec1f4eff",
   "metadata": {},
   "source": [
    "<font size=\"3\">__3. Create a function that returns the thickness (in meters) of a piece of paper after folding it n number of times. The paper starts off with a thickness of 0.5mm.__</font><br>\n",
    "__Examples:<br>\n",
    "num_layers(1) ➞ \"0.001m\" # Paper folded once is 1mm (equal to 0.001m) <br>\n",
    "num_layers(4) ➞ \"0.008m\" # Paper folded 4 times is 8mm (equal to 0.008m) <br>\n",
    "num_layers(21) ➞ \"1048.576m\" # Paper folded 21 times is 1048576mm (equal to 1048.576m)__"
   ]
  },
  {
   "cell_type": "code",
   "execution_count": 7,
   "id": "38cca7cd",
   "metadata": {},
   "outputs": [
    {
     "name": "stdout",
     "output_type": "stream",
     "text": [
      "0.001m\n",
      "0.008m\n",
      "1048.576m\n"
     ]
    }
   ],
   "source": [
    "def paper_thickness(n):\n",
    "    thickness_mm = 0.5 * 2**n\n",
    "    thickness_m = thickness_mm / 1000\n",
    "    return \"{:.3f}m\".format(thickness_m)\n",
    "\n",
    "\n",
    "\n",
    "print(paper_thickness(1)) # 0.001m\n",
    "\n",
    "print(paper_thickness(4)) # 0.008m\n",
    "\n",
    "print(paper_thickness(21)) # 1048.576m\n",
    "\n"
   ]
  },
  {
   "cell_type": "markdown",
   "id": "bbde01e0",
   "metadata": {},
   "source": [
    "<font size=\"3\">__4.Create a function that takes a single string as argument and returns an ordered list containing the indices of all capital letters in the string.__</font><br>\n",
    "__Examples:<br>\n",
    "index_of_caps(\"eDaBiT\") ➞ [1, 3, 5]<br>\n",
    "index_of_caps(\"eQuINoX\") ➞ [1, 3, 4, 6]<br>\n",
    "index_of_caps(\"determine\") ➞ []<br>\n",
    "index_of_caps(\"STRIKE\") ➞ [0, 1, 2, 3, 4, 5]<br>\n",
    "index_of_caps(\"sUn\") ➞ [1]__"
   ]
  },
  {
   "cell_type": "code",
   "execution_count": 8,
   "id": "d692d768",
   "metadata": {},
   "outputs": [
    {
     "name": "stdout",
     "output_type": "stream",
     "text": [
      "[1, 3, 5]\n",
      "[1, 3, 4, 6]\n",
      "[]\n",
      "[0, 1, 2, 3, 4, 5]\n",
      "[1]\n"
     ]
    }
   ],
   "source": [
    "def index_of_caps(word):\n",
    "    result = []\n",
    "    for index, letter in enumerate(word):\n",
    "        if letter.isupper():\n",
    "            result.append(index)\n",
    "    return result\n",
    "\n",
    "\n",
    "\n",
    "print(index_of_caps(\"eDaBiT\"))  # [1, 3, 5]\n",
    "print(index_of_caps(\"eQuINoX\"))  # [1, 3, 4, 6]\n",
    "print(index_of_caps(\"determine\")) # []\n",
    "print(index_of_caps(\"STRIKE\")) # [0, 1, 2, 3, 4, 5]\n",
    "print(index_of_caps(\"sUn\"))   # [1]\n"
   ]
  },
  {
   "cell_type": "markdown",
   "id": "c55987ae",
   "metadata": {},
   "source": [
    "<font size=\"3\">__5.Using list comprehensions, create a function that finds all even numbers from 1 to the given number.__</font><br>\n",
    "__Examples:<br>\n",
    "find_even_nums(8) ➞ [2, 4, 6, 8]<br>\n",
    "find_even_nums(4) ➞ [2, 4]<br>\n",
    "find_even_nums(2) ➞ [2]__"
   ]
  },
  {
   "cell_type": "code",
   "execution_count": 9,
   "id": "b8eeb6fb",
   "metadata": {},
   "outputs": [
    {
     "name": "stdout",
     "output_type": "stream",
     "text": [
      "[2, 4, 6, 8]\n",
      "[2, 4]\n",
      "[2]\n"
     ]
    }
   ],
   "source": [
    "def find_even_nums(n):\n",
    "    return [i for i in range(1, n+1) if i%2 == 0]\n",
    "\n",
    "print(find_even_nums(8)) # [2, 4, 6, 8]\n",
    "print(find_even_nums(4)) # [2, 4]\n",
    "print(find_even_nums(2)) # [2]"
   ]
  },
  {
   "cell_type": "code",
   "execution_count": null,
   "id": "9f9c978e",
   "metadata": {},
   "outputs": [],
   "source": []
  }
 ],
 "metadata": {
  "kernelspec": {
   "display_name": "Python 3 (ipykernel)",
   "language": "python",
   "name": "python3"
  },
  "language_info": {
   "codemirror_mode": {
    "name": "ipython",
    "version": 3
   },
   "file_extension": ".py",
   "mimetype": "text/x-python",
   "name": "python",
   "nbconvert_exporter": "python",
   "pygments_lexer": "ipython3",
   "version": "3.10.9"
  }
 },
 "nbformat": 4,
 "nbformat_minor": 5
}
