{
 "cells": [
  {
   "cell_type": "markdown",
   "id": "4cf59910",
   "metadata": {},
   "source": [
    "# Assignment - 16 Solution "
   ]
  },
  {
   "cell_type": "markdown",
   "id": "7429bf1b",
   "metadata": {},
   "source": [
    "<font size=\"3\">__1.Write a function that stutters a word as if someone is struggling to read it. The first two letters are repeated twice with an ellipsis ... and space after each, and then the word is pronounced with a question mark ?__</font><br>\n",
    "`Examples: stutter(\"incredible\") ➞ \"in... in... incredible?\"`<br>\n",
    "`stutter(\"enthusiastic\") ➞ \"en... en... enthusiastic?\"`<br>\n",
    "`stutter(\"outstanding\") ➞ \"ou... ou... outstanding?\"`<br>\n",
    "\n",
    "`Hint :- Assume all input is in lower case and at least two characters long.<br>`"
   ]
  },
  {
   "cell_type": "code",
   "execution_count": 2,
   "id": "6c22bffd",
   "metadata": {},
   "outputs": [
    {
     "name": "stdout",
     "output_type": "stream",
     "text": [
      "in... in... incredible?\n",
      "en... en... enthusiastic?\n",
      "ou... ou... outstanding?\n"
     ]
    }
   ],
   "source": [
    "def stutter(word):\n",
    "    return word[:2] + \"... \" + word[:2] + \"... \" + word + \"?\"\n",
    "\n",
    "\n",
    "print(stutter(\"incredible\"))  # \"in... in... incredible?\"\n",
    "print(stutter(\"enthusiastic\"))  # \"en... en... enthusiastic?\"\n",
    "print(stutter(\"outstanding\"))  # \"ou... ou... outstanding?\"\n"
   ]
  },
  {
   "cell_type": "markdown",
   "id": "a937c366",
   "metadata": {},
   "source": [
    "<font size=\"3\">__2..Create a function that takes an angle in radians and returns the corresponding angle in degrees rounded to one decimal place ?__</font><br>\n",
    "`Examples: radians_to_degrees(1) ➞ 57.3`<br>\n",
    "`radians_to_degrees(20) ➞ 1145.9`<br>\n",
    "`radians_to_degrees(50) ➞ 2864.8`<br>"
   ]
  },
  {
   "cell_type": "code",
   "execution_count": 5,
   "id": "3c1e2a66",
   "metadata": {},
   "outputs": [
    {
     "name": "stdout",
     "output_type": "stream",
     "text": [
      "57.3\n",
      "1145.9\n",
      "2864.8\n"
     ]
    }
   ],
   "source": [
    "import math\n",
    "\n",
    "def radians_to_degrees(rad):\n",
    "    return round(rad * 180 / math.pi, 1)\n",
    "\n",
    "print(radians_to_degrees(1))\n",
    "print(radians_to_degrees(20))\n",
    "print(radians_to_degrees(50))"
   ]
  },
  {
   "cell_type": "markdown",
   "id": "de4455fe",
   "metadata": {},
   "source": [
    "<font size=\"3\">__3.In this challenge, establish if a given integer num is a Curzon number. If 1 plus 2 elevated to num is exactly divisible by 1 plus 2 multiplied by num, then num is a Curzon number. Given a non-negative integer num, implement a function that returns True if num is a Curzon number, or False otherwise.__</font><br>\n",
    "`Examples: is_curzon(5) ➞ True # 2 ** 5 + 1 = 33 # 2 * 5 + 1 = 11 # 33 is a multiple of 11` <br>\n",
    "`is_curzon(10) ➞ False # 2 ** 10 + 1 = 1025 # 2 * 10 + 1 = 21 # 1025 is not a multiple of 21`<br>\n",
    "`is_curzon(14) ➞ True # 2 ** 14 + 1 = 16385 # 2 * 14 + 1 = 29 # 16385 is a multiple of 29`<br>"
   ]
  },
  {
   "cell_type": "code",
   "execution_count": 6,
   "id": "11ecf31a",
   "metadata": {},
   "outputs": [
    {
     "name": "stdout",
     "output_type": "stream",
     "text": [
      "True\n",
      "False\n",
      "True\n"
     ]
    }
   ],
   "source": [
    "def is_curzon(num):\n",
    "    if (2**num + 1) % (2*num + 1) == 0:\n",
    "        return True\n",
    "    else:\n",
    "        return False\n",
    "\n",
    "    \n",
    "print(is_curzon(5)) # Output: True\n",
    "print(is_curzon(10)) # Output: False\n",
    "print(is_curzon(14)) # Output: True\n"
   ]
  },
  {
   "cell_type": "markdown",
   "id": "35341506",
   "metadata": {},
   "source": [
    "<font size=\"3\">__4.Given the side length x find the area of a hexagon ?__</font><br>\n",
    "`Examples: area_of_hexagon(1) ➞ 2.6`<br>\n",
    "`area_of_hexagon(2) ➞ 10.4`<br>\n",
    "`area_of_hexagon(3) ➞ 23.4`<br>"
   ]
  },
  {
   "cell_type": "code",
   "execution_count": 7,
   "id": "5fe23827",
   "metadata": {},
   "outputs": [
    {
     "name": "stdout",
     "output_type": "stream",
     "text": [
      "2.6\n",
      "10.4\n",
      "23.4\n"
     ]
    }
   ],
   "source": [
    "import math\n",
    "\n",
    "def area_of_hexagon(x):\n",
    "    area = (3*math.sqrt(3)*(x**2))/2\n",
    "    return round(area, 1)\n",
    "\n",
    "\n",
    "print(area_of_hexagon(1))\n",
    "print(area_of_hexagon(2))\n",
    "print(area_of_hexagon(3))\n",
    "\n"
   ]
  },
  {
   "cell_type": "markdown",
   "id": "b6bc75d3",
   "metadata": {},
   "source": [
    "<font size=\"3\">__5.Create a function that returns a base-2 (binary) representation of a base-10 (decimal) string number. To convert is simple:__</font><br>\n",
    "__((2) means base-2 and (10) means base-10)__<br>\n",
    "__010101001(2) = 1 + 8 + 32 + 128.__<br>\n",
    "__Going from right to left, the value of the most right bit is 1, now from that every bit to the left will be x2 the value, value of an 8 bit binary numbers are (256, 128, 64, 32, 16, 8, 4, 2, 1).__<br>\n",
    "`Examples:`<br>\n",
    "`binary(1) ➞ \"1\" # 1* 1 = 1`<br>\n",
    "`binary(5) ➞ \"101\" # 1 1 + 1 4 = 5`<br>\n",
    "`binary(10) ➞ \"1010\" # 1 2 + 1 8 = 10`<br>"
   ]
  },
  {
   "cell_type": "code",
   "execution_count": 8,
   "id": "562c2186",
   "metadata": {},
   "outputs": [
    {
     "name": "stdout",
     "output_type": "stream",
     "text": [
      "1\n",
      "101\n",
      "1010\n"
     ]
    }
   ],
   "source": [
    "def binary(decimal):\n",
    "    if decimal == 0:\n",
    "        return '0'\n",
    "    binary_digits = []\n",
    "    while decimal > 0:\n",
    "        binary_digits.append(str(decimal % 2))\n",
    "        decimal //= 2\n",
    "    return ''.join(binary_digits[::-1])\n",
    "\n",
    "print(binary(1))\n",
    "print(binary(5))\n",
    "print(binary(10))"
   ]
  },
  {
   "cell_type": "code",
   "execution_count": null,
   "id": "14d458a3",
   "metadata": {},
   "outputs": [],
   "source": []
  }
 ],
 "metadata": {
  "kernelspec": {
   "display_name": "Python 3 (ipykernel)",
   "language": "python",
   "name": "python3"
  },
  "language_info": {
   "codemirror_mode": {
    "name": "ipython",
    "version": 3
   },
   "file_extension": ".py",
   "mimetype": "text/x-python",
   "name": "python",
   "nbconvert_exporter": "python",
   "pygments_lexer": "ipython3",
   "version": "3.10.9"
  }
 },
 "nbformat": 4,
 "nbformat_minor": 5
}
