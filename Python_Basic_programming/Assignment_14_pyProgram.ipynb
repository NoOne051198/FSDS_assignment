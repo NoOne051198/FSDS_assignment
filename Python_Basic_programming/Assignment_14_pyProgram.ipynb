{
 "cells": [
  {
   "cell_type": "markdown",
   "id": "7dcf411d",
   "metadata": {},
   "source": [
    "# Assignmnt - 14 Solution "
   ]
  },
  {
   "cell_type": "markdown",
   "id": "735609e2",
   "metadata": {},
   "source": [
    "<font size=\"3\">__1.Define a class with a generator which can iterate the numbers, which are divisible by 7, between a given range 0 and n. ?__</font>"
   ]
  },
  {
   "cell_type": "code",
   "execution_count": 1,
   "id": "e37cafba",
   "metadata": {},
   "outputs": [
    {
     "name": "stdout",
     "output_type": "stream",
     "text": [
      "0\n",
      "7\n",
      "14\n",
      "21\n",
      "28\n",
      "35\n",
      "42\n",
      "49\n"
     ]
    }
   ],
   "source": [
    "class DivisibleBySeven:\n",
    "    def __init__(self, n):\n",
    "        self.n = n\n",
    "    \n",
    "    def divisible_by_seven(self):\n",
    "        for i in range(self.n+1):\n",
    "            if i % 7 == 0:\n",
    "                yield i\n",
    "\n",
    "                \n",
    "div_by_seven = DivisibleBySeven(50)\n",
    "for num in div_by_seven.divisible_by_seven():\n",
    "    print(num)\n"
   ]
  },
  {
   "cell_type": "markdown",
   "id": "1c9b64ae",
   "metadata": {},
   "source": [
    "<font size=\"3\">__2. Write a program to compute the frequency of the words from the input. The output should output after sorting the key alphanumerically.__</font><br>\n",
    "__Suppose the following input is supplied to the program:__<br>\n",
    "__New to Python or choosing between Python 2 and Python 3? Read Python 2 or Python 3.__<br>\n",
    "__Then, the output should be:__<br>\n",
    "__2:2 3.:1 3?:1 New:1 Python:5 Read:1 and:1 between:1 choosing:1 or:2 to:1__<br>"
   ]
  },
  {
   "cell_type": "code",
   "execution_count": 2,
   "id": "6c075d97",
   "metadata": {},
   "outputs": [
    {
     "name": "stdout",
     "output_type": "stream",
     "text": [
      "2:2\n",
      "3.:1\n",
      "3?:1\n",
      "New:1\n",
      "Python:5\n",
      "Read:1\n",
      "and:1\n",
      "between:1\n",
      "choosing:1\n",
      "or:2\n",
      "to:1\n"
     ]
    }
   ],
   "source": [
    "string = \"New to Python or choosing between Python 2 and Python 3? Read Python 2 or Python 3.\"\n",
    "\n",
    "# Split the string into a list of words\n",
    "words = string.split()\n",
    "\n",
    "# Create an empty dictionary to store the word frequency\n",
    "freq = {}\n",
    "\n",
    "# Iterate through the list of words and update the dictionary\n",
    "for word in words:\n",
    "    if word in freq:\n",
    "        freq[word] += 1\n",
    "    else:\n",
    "        freq[word] = 1\n",
    "\n",
    "# Sort the dictionary by keys and print the output\n",
    "for key in sorted(freq.keys()):\n",
    "    print(key + \":\" + str(freq[key]))\n"
   ]
  },
  {
   "cell_type": "markdown",
   "id": "08d2d325",
   "metadata": {},
   "source": [
    "<font size=\"3\">__3. Define a class Person and its two child classes: Male and Female. All classes have a method \"getGender\" which can print \"Male\" for Male class and \"Female\" for Female class. ?__</font>"
   ]
  },
  {
   "cell_type": "code",
   "execution_count": 3,
   "id": "7bef20fe",
   "metadata": {},
   "outputs": [
    {
     "name": "stdout",
     "output_type": "stream",
     "text": [
      "Male\n",
      "Female\n"
     ]
    }
   ],
   "source": [
    "class Person:\n",
    "    def __init__(self, name):\n",
    "        self.name = name\n",
    "    \n",
    "    def getGender(self):\n",
    "        pass\n",
    "\n",
    "class Male(Person):\n",
    "    def getGender(self):\n",
    "        print(\"Male\")\n",
    "\n",
    "class Female(Person):\n",
    "    def getGender(self):\n",
    "        print(\"Female\")\n",
    "\n",
    "        \n",
    "        \n",
    "        \n",
    "        \n",
    "person1 = Male(\"John\")\n",
    "person1.getGender()  # Output: \"Male\"\n",
    "\n",
    "person2 = Female(\"Jane\")\n",
    "person2.getGender()  # Output: \"Female\"\n"
   ]
  },
  {
   "cell_type": "markdown",
   "id": "c6a423f1",
   "metadata": {},
   "source": [
    "<font size=\"3\">__4. Please write a program to generate all sentences where subject is in [\"I\", \"You\"] and verb is in [\"Play\", \"Love\"] and the object is in [\"Hockey\",\"Football\"] ?__</font>"
   ]
  },
  {
   "cell_type": "code",
   "execution_count": 4,
   "id": "31a462df",
   "metadata": {},
   "outputs": [
    {
     "name": "stdout",
     "output_type": "stream",
     "text": [
      "I Play Hockey.\n",
      "I Play Football.\n",
      "I Love Hockey.\n",
      "I Love Football.\n",
      "You Play Hockey.\n",
      "You Play Football.\n",
      "You Love Hockey.\n",
      "You Love Football.\n"
     ]
    }
   ],
   "source": [
    "subjects = [\"I\", \"You\"]\n",
    "verbs = [\"Play\", \"Love\"]\n",
    "objects = [\"Hockey\", \"Football\"]\n",
    "\n",
    "for subject in subjects:\n",
    "    for verb in verbs:\n",
    "        for obj in objects:\n",
    "            sentence = f\"{subject} {verb} {obj}.\"\n",
    "            print(sentence)\n"
   ]
  },
  {
   "cell_type": "markdown",
   "id": "c1d353df",
   "metadata": {},
   "source": [
    "<font size=\"3\">__5. Please write a program to compress and decompress the string 'hello world!hello world!hello world!hello world!' ?__</font>"
   ]
  },
  {
   "cell_type": "code",
   "execution_count": 5,
   "id": "9c571a02",
   "metadata": {},
   "outputs": [
    {
     "name": "stdout",
     "output_type": "stream",
     "text": [
      "Compressed string: b'x\\x9c\\xcbH\\xcd\\xc9\\xc9W(\\xcf/\\xcaIQ\\xcc \\x82\\r\\x00\\xbd[\\x11\\xf5'\n",
      "Decompressed string: hello world!hello world!hello world!hello world!\n"
     ]
    }
   ],
   "source": [
    "import zlib\n",
    "\n",
    "# Compress the string\n",
    "original_string = \"hello world!hello world!hello world!hello world!\"\n",
    "compressed_string = zlib.compress(original_string.encode())\n",
    "\n",
    "print(f\"Compressed string: {compressed_string}\")\n",
    "\n",
    "# Decompress the string\n",
    "decompressed_string = zlib.decompress(compressed_string).decode()\n",
    "\n",
    "print(f\"Decompressed string: {decompressed_string}\")\n"
   ]
  },
  {
   "cell_type": "markdown",
   "id": "f238cec1",
   "metadata": {},
   "source": [
    "<font size=\"3\">__6.Please write a binary search function which searches an item in a sorted list. The function should return the index of element to be searched in the list ?__</font>"
   ]
  },
  {
   "cell_type": "code",
   "execution_count": 7,
   "id": "e33af1f7",
   "metadata": {},
   "outputs": [
    {
     "name": "stdout",
     "output_type": "stream",
     "text": [
      "Element is present at index 3\n"
     ]
    }
   ],
   "source": [
    "def binary_search(arr, x):\n",
    "    low = 0\n",
    "    high = len(arr) - 1\n",
    "    mid = 0\n",
    " \n",
    "    while low <= high:\n",
    "        mid = (high + low) // 2\n",
    " \n",
    "        if arr[mid] < x:\n",
    "            low = mid + 1\n",
    " \n",
    "        elif arr[mid] > x:\n",
    "            high = mid - 1\n",
    " \n",
    "        else:\n",
    "            return mid\n",
    "    return -1\n",
    "\n",
    "arr = [2, 3, 4, 10, 40]\n",
    "x = 10\n",
    "result = binary_search(arr, x)\n",
    "\n",
    "\n",
    "if result != -1:\n",
    "    print(f\"Element is present at index {result}\")\n",
    "else:\n",
    "    print(\"Element is not present in array\")\n"
   ]
  },
  {
   "cell_type": "code",
   "execution_count": null,
   "id": "417f19dc",
   "metadata": {},
   "outputs": [],
   "source": []
  },
  {
   "cell_type": "code",
   "execution_count": null,
   "id": "aabbcdba",
   "metadata": {},
   "outputs": [],
   "source": []
  }
 ],
 "metadata": {
  "kernelspec": {
   "display_name": "Python 3 (ipykernel)",
   "language": "python",
   "name": "python3"
  },
  "language_info": {
   "codemirror_mode": {
    "name": "ipython",
    "version": 3
   },
   "file_extension": ".py",
   "mimetype": "text/x-python",
   "name": "python",
   "nbconvert_exporter": "python",
   "pygments_lexer": "ipython3",
   "version": "3.10.9"
  }
 },
 "nbformat": 4,
 "nbformat_minor": 5
}
