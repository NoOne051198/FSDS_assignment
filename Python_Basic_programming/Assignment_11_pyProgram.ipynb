{
 "cells": [
  {
   "cell_type": "markdown",
   "id": "6ababc34",
   "metadata": {},
   "source": [
    "# Assignment - 11 Solution "
   ]
  },
  {
   "cell_type": "markdown",
   "id": "060601c1",
   "metadata": {},
   "source": [
    "<font size=\"3\">__1. Write a Python program to find words which are greater than given length k ?__ </font>"
   ]
  },
  {
   "cell_type": "code",
   "execution_count": 1,
   "id": "bc3b5ecb",
   "metadata": {},
   "outputs": [
    {
     "name": "stdout",
     "output_type": "stream",
     "text": [
      "Long words in this list are :  ['dragonfruit', 'elderberry']\n"
     ]
    }
   ],
   "source": [
    "def find_long_words(lst, k):\n",
    "    \"\"\"\n",
    "    This function finds all words in a list that are greater than a given length.\n",
    "    \"\"\"\n",
    "    long_words = []\n",
    "    for word in lst:\n",
    "        if len(word) > k:\n",
    "            long_words.append(word)\n",
    "    return long_words\n",
    "\n",
    "# Test the function with an example\n",
    "my_list = [\"apple\", \"banana\", \"cherry\", \"dragonfruit\", \"elderberry\"]\n",
    "long_words = find_long_words(my_list, 6)\n",
    "print(\"Long words in this list are : \",long_words)  # Output: [\"dragonfruit\", \"elderberry\"]\n"
   ]
  },
  {
   "cell_type": "markdown",
   "id": "e09ed790",
   "metadata": {},
   "source": [
    "<font size=\"3\">__2. Write a Python program for removing i-th character from a string ?__ </font>"
   ]
  },
  {
   "cell_type": "code",
   "execution_count": 2,
   "id": "73c7485a",
   "metadata": {},
   "outputs": [
    {
     "name": "stdout",
     "output_type": "stream",
     "text": [
      "After removing the i-th character, string will be :  Hello, orld!\n"
     ]
    }
   ],
   "source": [
    "def remove_character(s, i):\n",
    "    \"\"\"\n",
    "    This function removes the i-th character from a string.\n",
    "    \"\"\"\n",
    "    new_string = s[:i] + s[i+1:]\n",
    "    return new_string\n",
    "\n",
    "# Test the function with an example\n",
    "my_string = \"Hello, World!\"\n",
    "new_string = remove_character(my_string, 7)\n",
    "print(\"After removing the i-th character, string will be : \",new_string)  # Output: \"Hello, orld!\"\n"
   ]
  },
  {
   "cell_type": "markdown",
   "id": "f2971f6f",
   "metadata": {},
   "source": [
    "<font size=\"3\">__3. Write a Python program to split and join a string ?__ </font>"
   ]
  },
  {
   "cell_type": "code",
   "execution_count": 3,
   "id": "6d670ed1",
   "metadata": {},
   "outputs": [
    {
     "name": "stdout",
     "output_type": "stream",
     "text": [
      "Hello, world! This is a test.\n"
     ]
    }
   ],
   "source": [
    "def split_and_join(s):\n",
    "    \"\"\"\n",
    "    This function splits a string into a list of words and then joins the list back into a string.\n",
    "    \"\"\"\n",
    "    # Split the string into a list of words\n",
    "    words = s.split()\n",
    "\n",
    "    # Join the list back into a string\n",
    "    new_string = \" \".join(words)\n",
    "\n",
    "    return new_string\n",
    "\n",
    "# Test the function with an example\n",
    "my_string = \"Hello, world! This is a test.\"\n",
    "new_string = split_and_join(my_string)\n",
    "print(new_string)  # Output: \"Hello, world! This is a test.\"\n"
   ]
  },
  {
   "cell_type": "markdown",
   "id": "45e4a766",
   "metadata": {},
   "source": [
    "<font size=\"3\">__4. Write a Python to check if a given string is binary string or not ?__ </font>"
   ]
  },
  {
   "cell_type": "code",
   "execution_count": 4,
   "id": "873e1c98",
   "metadata": {},
   "outputs": [
    {
     "name": "stdout",
     "output_type": "stream",
     "text": [
      "True\n",
      "False\n"
     ]
    }
   ],
   "source": [
    "def is_binary_string(s):\n",
    "    \"\"\"\n",
    "    This function checks if a given string is a binary string or not.\n",
    "    \"\"\"\n",
    "    # Loop through each character in the string\n",
    "    for char in s:\n",
    "        # Check if the character is not 0 or 1\n",
    "        if char != '0' and char != '1':\n",
    "            return False\n",
    "    \n",
    "    return True\n",
    "\n",
    "# Test the function with examples\n",
    "string1 = \"1010101010\"\n",
    "string2 = \"1011012\"\n",
    "print(is_binary_string(string1))  # Output: True\n",
    "print(is_binary_string(string2))  # Output: False\n"
   ]
  },
  {
   "cell_type": "markdown",
   "id": "94475ee6",
   "metadata": {},
   "source": [
    "<font size=\"3\">__5. Write a Python program to find uncommon words from two Strings ?__ </font>"
   ]
  },
  {
   "cell_type": "code",
   "execution_count": 5,
   "id": "ee7ed7eb",
   "metadata": {},
   "outputs": [
    {
     "name": "stdout",
     "output_type": "stream",
     "text": [
      "uncommon words from two strings are :  {'how', 'you', 'world', 'good', 'morning', 'are'}\n"
     ]
    }
   ],
   "source": [
    "def uncommon_words(string1, string2):\n",
    "    \"\"\"\n",
    "    This function finds the uncommon words from two strings.\n",
    "    \"\"\"\n",
    "    # Split the strings into lists of words\n",
    "    words1 = string1.split()\n",
    "    words2 = string2.split()\n",
    "\n",
    "    # Create sets of the words in each string\n",
    "    set1 = set(words1)\n",
    "    set2 = set(words2)\n",
    "\n",
    "    # Find the uncommon words using set operations\n",
    "    uncommon = set1.symmetric_difference(set2)\n",
    "\n",
    "    return uncommon\n",
    "\n",
    "# Test the function with examples\n",
    "string1 = \"hello world how are you\"\n",
    "string2 = \"hello good morning\"\n",
    "result = uncommon_words(string1, string2)\n",
    "print(\"uncommon words from two strings are : \",result)  # Output: {'are', 'world', 'you', 'good', 'morning'}\n"
   ]
  },
  {
   "cell_type": "markdown",
   "id": "68513f95",
   "metadata": {},
   "source": [
    "<font size=\"3\">__6. Write a Python to find all duplicate characters in string ?__ </font>"
   ]
  },
  {
   "cell_type": "code",
   "execution_count": 6,
   "id": "bee6259e",
   "metadata": {},
   "outputs": [
    {
     "name": "stdout",
     "output_type": "stream",
     "text": [
      "All the duplicate characters in a string :  ['o', 'l']\n"
     ]
    }
   ],
   "source": [
    "def find_duplicate_chars(string):\n",
    "    \"\"\"\n",
    "    This function finds all the duplicate characters in a string.\n",
    "    \"\"\"\n",
    "    # Create an empty set and an empty list\n",
    "    seen_chars = set()\n",
    "    duplicate_chars = []\n",
    "\n",
    "    # Iterate through each character in the string\n",
    "    for char in string:\n",
    "        # If the character is already in the set, it's a duplicate\n",
    "        if char in seen_chars:\n",
    "            duplicate_chars.append(char)\n",
    "        # If the character is not in the set, add it to the set\n",
    "        else:\n",
    "            seen_chars.add(char)\n",
    "\n",
    "    return list(set(duplicate_chars))\n",
    "\n",
    "# Test the function with an example\n",
    "string = \"hello world\"\n",
    "result = find_duplicate_chars(string)\n",
    "print(\"All the duplicate characters in a string : \",result)  # Output: ['l', 'o']\n"
   ]
  },
  {
   "cell_type": "markdown",
   "id": "c60c4960",
   "metadata": {},
   "source": [
    "<font size=\"3\">__7. Write a Python Program to check if a string contains any special character?__ </font>"
   ]
  },
  {
   "cell_type": "code",
   "execution_count": 10,
   "id": "ee954f6c",
   "metadata": {},
   "outputs": [
    {
     "name": "stdout",
     "output_type": "stream",
     "text": [
      "Special characters in string :  True\n"
     ]
    }
   ],
   "source": [
    "import re\n",
    "\n",
    "def contains_special_chars(string):\n",
    "    \"\"\"\n",
    "    This function checks if a string contains any special characters.\n",
    "    \"\"\"\n",
    "    # Define a regular expression pattern for special characters\n",
    "    pattern = r'[!@#$%^&*(),.?\":{}|<>]'\n",
    "\n",
    "    # Use the re module to search for the pattern in the string\n",
    "    match = re.search(pattern, string)\n",
    "\n",
    "    # If the match is found, return True; otherwise, return False\n",
    "    if match:\n",
    "        return True\n",
    "    else:\n",
    "        return False\n",
    "\n",
    "# Test the function with an example\n",
    "string = \"Hello, world!\"\n",
    "result = contains_special_chars(string)\n",
    "print(\"Special characters in string : \",result)  # Output: True\n"
   ]
  },
  {
   "cell_type": "code",
   "execution_count": null,
   "id": "3f5ffa3f",
   "metadata": {},
   "outputs": [],
   "source": []
  }
 ],
 "metadata": {
  "kernelspec": {
   "display_name": "Python 3 (ipykernel)",
   "language": "python",
   "name": "python3"
  },
  "language_info": {
   "codemirror_mode": {
    "name": "ipython",
    "version": 3
   },
   "file_extension": ".py",
   "mimetype": "text/x-python",
   "name": "python",
   "nbconvert_exporter": "python",
   "pygments_lexer": "ipython3",
   "version": "3.10.9"
  }
 },
 "nbformat": 4,
 "nbformat_minor": 5
}
