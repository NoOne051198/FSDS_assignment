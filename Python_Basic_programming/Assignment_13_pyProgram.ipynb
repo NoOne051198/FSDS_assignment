{
 "cells": [
  {
   "cell_type": "markdown",
   "id": "1a51136c",
   "metadata": {},
   "source": [
    "# Assignment - 13 Solution "
   ]
  },
  {
   "cell_type": "markdown",
   "id": "3ce4eac5",
   "metadata": {},
   "source": [
    "<font size=\"3\">__1. Write a program that calculates and prints the value according to the given formula:__</font><br>\n",
    "__Q = Square root of [(2 * C * D)/H]__<br>\n",
    "__Following are the fixed values of C and H:__<br>\n",
    "__C is 50. H is 30.__<br>\n",
    "__D is the variable whose values should be input to your program in a comma-separated sequence.__<br>\n",
    "__Example: Let us assume the following comma separated input sequence is given to the program:100,150,180__<br>\n",
    "__The output of the program should be: 18,22,24__<br>"
   ]
  },
  {
   "cell_type": "code",
   "execution_count": 1,
   "id": "2cf2a7a8",
   "metadata": {},
   "outputs": [
    {
     "name": "stdout",
     "output_type": "stream",
     "text": [
      "Enter comma-separated values for D: 100,150,180\n",
      "18,22,24\n"
     ]
    }
   ],
   "source": [
    "import math\n",
    "\n",
    "C = 50\n",
    "H = 30\n",
    "\n",
    "input_str = input(\"Enter comma-separated values for D: \")\n",
    "D = input_str.split(\",\")\n",
    "\n",
    "result_list = []\n",
    "\n",
    "for d in D:\n",
    "    Q = math.sqrt((2 * C * int(d)) / H)\n",
    "    result_list.append(round(Q))\n",
    "\n",
    "print(\",\".join(str(i) for i in result_list))\n"
   ]
  },
  {
   "cell_type": "markdown",
   "id": "5a21fe14",
   "metadata": {},
   "source": [
    "<font size=\"3\">__2.Write a program which takes 2 digits, X,Y as input and generates a 2-dimensional array. The element value in the i-th row and j-th column of the array should be i*j.__</font><br>\n",
    "__Note: i=0,1.., X-1; j=0,1,¡Y-1.__<br>\n",
    "__Example: Suppose the following inputs are given to the program: 3,5__<br>\n",
    "__Then, the output of the program should be:[[0, 0, 0, 0, 0], [0, 1, 2, 3, 4], [0, 2, 4, 6, 8]]__<br>"
   ]
  },
  {
   "cell_type": "code",
   "execution_count": 6,
   "id": "71f76e84",
   "metadata": {},
   "outputs": [
    {
     "name": "stdout",
     "output_type": "stream",
     "text": [
      "3 5\n",
      "0 0 0 0 0 \n",
      "0 1 2 3 4 \n",
      "0 2 4 6 8 \n"
     ]
    }
   ],
   "source": [
    "X, Y = map(int, input().split()) # Enter values with space eg: 3 5\n",
    "\n",
    "# create a 2-dimensional array\n",
    "arr = [[0 for j in range(Y)] for i in range(X)]\n",
    "\n",
    "# fill the array with the products of i and j\n",
    "for i in range(X):\n",
    "    for j in range(Y):\n",
    "        arr[i][j] = i * j\n",
    "\n",
    "# print the array\n",
    "for i in range(X):\n",
    "    for j in range(Y):\n",
    "        print(arr[i][j], end=' ')\n",
    "    print()\n"
   ]
  },
  {
   "cell_type": "markdown",
   "id": "1b271262",
   "metadata": {},
   "source": [
    "<font size=\"3\">__3.Write a program that accepts a comma separated sequence of words as input and prints the words in a comma-separated sequence after sorting them alphabetically ?__</font><br>\n",
    "__Suppose the following input is supplied to the program: without,hello,bag,world__<br>\n",
    "__Then, the output should be: bag,hello,without,world__<br>"
   ]
  },
  {
   "cell_type": "code",
   "execution_count": 7,
   "id": "adfd77b0",
   "metadata": {},
   "outputs": [
    {
     "name": "stdout",
     "output_type": "stream",
     "text": [
      "Enter a comma-separated sequence of words: without,hello,bag,world\n",
      "bag,hello,without,world\n"
     ]
    }
   ],
   "source": [
    "input_str = input(\"Enter a comma-separated sequence of words: \")\n",
    "words = input_str.split(\",\")\n",
    "sorted_words = sorted(words)\n",
    "output_str = \",\".join(sorted_words)\n",
    "print(output_str)\n"
   ]
  },
  {
   "cell_type": "markdown",
   "id": "ffe0c893",
   "metadata": {},
   "source": [
    "<font size=\"3\">__4.Write a program that accepts a sequence of whitespace separated words as input and prints the words after removing all duplicate words and sorting them alphanumerically.__</font><br>\n",
    "__Suppose the following input is supplied to the program: hello world and practice makes perfect and hello world again__<br>\n",
    "__Then, the output should be: again and hello makes perfect practice world__<br>"
   ]
  },
  {
   "cell_type": "code",
   "execution_count": 9,
   "id": "8d7ea8fc",
   "metadata": {},
   "outputs": [
    {
     "name": "stdout",
     "output_type": "stream",
     "text": [
      "Enter a sequence of whitespace separated words: hello world and practice makes perfect and hello world again\n",
      "again and hello makes perfect practice world\n"
     ]
    }
   ],
   "source": [
    "input_str = input(\"Enter a sequence of whitespace separated words: \")\n",
    "words = input_str.split()\n",
    "unique_words = sorted(set(words))\n",
    "output_str = \" \".join(unique_words)\n",
    "print(output_str)\n"
   ]
  },
  {
   "cell_type": "markdown",
   "id": "5aa2813f",
   "metadata": {},
   "source": [
    "<font size=\"3\">__5.Write a program that accepts a sentence and calculate the number of letters and digits.__</font><br>\n",
    "__Suppose the following input is supplied to the program: hello world! 123__<br>\n",
    "__Then, the output should be:__<br>\n",
    "__LETTERS 10__<br>\n",
    "__DIGITS 3__<br>"
   ]
  },
  {
   "cell_type": "code",
   "execution_count": 10,
   "id": "3fd0741a",
   "metadata": {},
   "outputs": [
    {
     "name": "stdout",
     "output_type": "stream",
     "text": [
      "Enter a sentence: hello world! 123\n",
      "LETTERS 10\n",
      "DIGITS 3\n"
     ]
    }
   ],
   "source": [
    "sentence = input(\"Enter a sentence: \")\n",
    "\n",
    "letters = 0\n",
    "digits = 0\n",
    "\n",
    "for char in sentence:\n",
    "    if char.isalpha():\n",
    "        letters += 1\n",
    "    elif char.isdigit():\n",
    "        digits += 1\n",
    "\n",
    "print(\"LETTERS\", letters)\n",
    "print(\"DIGITS\", digits)\n"
   ]
  },
  {
   "cell_type": "markdown",
   "id": "b4a1e271",
   "metadata": {},
   "source": [
    "<font size=\"3\">__6. A website requires the users to input username and password to register. Write a program to check the validity of password input by users.__</font><br>\n",
    "__Following are the criteria for checking the password:__<br>\n",
    "\n",
    "__At least 1 letter between [a-z]__<br>\n",
    "__At least 1 number between [0-9]__<br>\n",
    "__At least 1 letter between [A-Z]__<br>\n",
    "__At least 1 character from [$#@]__<br>\n",
    "__Minimum length of transaction password: 6__<br>\n",
    "__Maximum length of transaction password: 12__<br>\n",
    "__Your program should accept a sequence of comma separated passwords and will check them according to the above criteria.__<br>\n",
    "__Passwords that match the criteria are to be printed, each separated by a comma.__<br>\n",
    "\n",
    "__Example:__<br>\n",
    "__If the following passwords are given as input to the program: ABd1234@1,a F1#,2w3E*,2We3345__<br>\n",
    "__Then, the output of the program should be:ABd1234@1__<br>"
   ]
  },
  {
   "cell_type": "code",
   "execution_count": 13,
   "id": "a47d6e9b",
   "metadata": {},
   "outputs": [
    {
     "name": "stdout",
     "output_type": "stream",
     "text": [
      "ABd1234@1\n"
     ]
    }
   ],
   "source": [
    "import re\n",
    "\n",
    "def is_valid_password(password):\n",
    "    # check length of password\n",
    "    if len(password) < 6 or len(password) > 12:\n",
    "        return False\n",
    "    \n",
    "    # check if password contains at least 1 lowercase letter\n",
    "    if not re.search(\"[a-z]\", password):\n",
    "        return False\n",
    "    \n",
    "    # check if password contains at least 1 uppercase letter\n",
    "    if not re.search(\"[A-Z]\", password):\n",
    "        return False\n",
    "    \n",
    "    # check if password contains at least 1 digit\n",
    "    if not re.search(\"[0-9]\", password):\n",
    "        return False\n",
    "    \n",
    "    # check if password contains at least 1 special character\n",
    "    if not re.search(\"[$#@]\", password):\n",
    "        return False\n",
    "    \n",
    "    # if all conditions are met, return True\n",
    "    return True\n",
    "\n",
    "# test the function with sample passwords\n",
    "passwords = \"ABd1234@1,a F1#,2w3E*,2We3345\"\n",
    "valid_passwords = []\n",
    "for password in passwords.split(\",\"):\n",
    "    if is_valid_password(password):\n",
    "        valid_passwords.append(password)\n",
    "\n",
    "print(\",\".join(valid_passwords))\n"
   ]
  },
  {
   "cell_type": "code",
   "execution_count": null,
   "id": "4948a7e8",
   "metadata": {},
   "outputs": [],
   "source": []
  }
 ],
 "metadata": {
  "kernelspec": {
   "display_name": "Python 3 (ipykernel)",
   "language": "python",
   "name": "python3"
  },
  "language_info": {
   "codemirror_mode": {
    "name": "ipython",
    "version": 3
   },
   "file_extension": ".py",
   "mimetype": "text/x-python",
   "name": "python",
   "nbconvert_exporter": "python",
   "pygments_lexer": "ipython3",
   "version": "3.10.9"
  }
 },
 "nbformat": 4,
 "nbformat_minor": 5
}
