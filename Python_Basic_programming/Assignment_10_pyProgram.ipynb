{
 "cells": [
  {
   "cell_type": "markdown",
   "id": "bd513178",
   "metadata": {},
   "source": [
    "# Assignment - 10 Solution "
   ]
  },
  {
   "cell_type": "markdown",
   "id": "89156f81",
   "metadata": {},
   "source": [
    "<font size=\"3\">__1. Write a Python program to find sum of elements in list?__ </font><br>"
   ]
  },
  {
   "cell_type": "code",
   "execution_count": 2,
   "id": "3ae0ecb3",
   "metadata": {},
   "outputs": [
    {
     "name": "stdout",
     "output_type": "stream",
     "text": [
      "Sum of the list is :  15\n",
      "Sum of the list is :  150\n"
     ]
    }
   ],
   "source": [
    "def sum_list(lst):\n",
    "    \"\"\"\n",
    "    This function finds the sum of elements in a list.\n",
    "    \"\"\"\n",
    "    # Initialize the sum to zero\n",
    "    total = 0\n",
    "    \n",
    "    # Iterate over the list and add each element to the sum\n",
    "    for num in lst:\n",
    "        total += num\n",
    "    \n",
    "    return total\n",
    "\n",
    "# Test the function with some examples\n",
    "my_list = [1, 2, 3, 4, 5]\n",
    "print(\"Sum of the list is : \",sum_list(my_list))  # Output: 15\n",
    "\n",
    "another_list = [10, 20, 30, 40, 50]\n",
    "print(\"Sum of the list is : \",sum_list(another_list))  # Output: 150\n"
   ]
  },
  {
   "cell_type": "markdown",
   "id": "f2785e46",
   "metadata": {},
   "source": [
    "<font size=\"3\">__2. Write a Python program to Multiply all numbers in the list?__ </font><br>"
   ]
  },
  {
   "cell_type": "code",
   "execution_count": 3,
   "id": "e2e53b7d",
   "metadata": {},
   "outputs": [
    {
     "name": "stdout",
     "output_type": "stream",
     "text": [
      "Multiply of all numbers in list is :  120\n",
      "Multiply of all numbers in list is :  12000000\n"
     ]
    }
   ],
   "source": [
    "def multiply_list(lst):\n",
    "    \"\"\"\n",
    "    This function multiplies all numbers in a list.\n",
    "    \"\"\"\n",
    "    # Initialize the product to 1\n",
    "    product = 1\n",
    "    \n",
    "    # Iterate over the list and multiply each element to the product\n",
    "    for num in lst:\n",
    "        product *= num\n",
    "    \n",
    "    return product\n",
    "\n",
    "# Test the function with some examples\n",
    "my_list = [1, 2, 3, 4, 5]\n",
    "print(\"Multiply of all numbers in list is : \",multiply_list(my_list))  # Output: 120\n",
    "\n",
    "another_list = [10, 20, 30, 40, 50]\n",
    "print(\"Multiply of all numbers in list is : \",multiply_list(another_list))  # Output: 12000000\n"
   ]
  },
  {
   "cell_type": "markdown",
   "id": "48078144",
   "metadata": {},
   "source": [
    "<font size=\"3\">__3. Write a Python program to find smallest number in a list?__ </font><br>"
   ]
  },
  {
   "cell_type": "code",
   "execution_count": 4,
   "id": "9665b38f",
   "metadata": {},
   "outputs": [
    {
     "name": "stdout",
     "output_type": "stream",
     "text": [
      "Smallest number in the list is :  2\n",
      "Smallest number in the list is :  5\n"
     ]
    }
   ],
   "source": [
    "def find_smallest(lst):\n",
    "    \"\"\"\n",
    "    This function finds the smallest number in a list.\n",
    "    \"\"\"\n",
    "    # Initialize the smallest number to the first element of the list\n",
    "    smallest = lst[0]\n",
    "    \n",
    "    # Iterate over the list and update the smallest number if a smaller number is found\n",
    "    for num in lst:\n",
    "        if num < smallest:\n",
    "            smallest = num\n",
    "    \n",
    "    return smallest\n",
    "\n",
    "# Test the function with some examples\n",
    "my_list = [5, 3, 9, 2, 8]\n",
    "print(\"Smallest number in the list is : \",find_smallest(my_list))  # Output: 2\n",
    "\n",
    "another_list = [10, 20, 30, 40, 5]\n",
    "print(\"Smallest number in the list is : \",find_smallest(another_list))  # Output: 5\n"
   ]
  },
  {
   "cell_type": "markdown",
   "id": "1566ee25",
   "metadata": {},
   "source": [
    "<font size=\"3\">__4. Write a Python program to find largest number in a list?__ </font><br>"
   ]
  },
  {
   "cell_type": "code",
   "execution_count": 5,
   "id": "1ac4c120",
   "metadata": {},
   "outputs": [
    {
     "name": "stdout",
     "output_type": "stream",
     "text": [
      "Largest number in the list is :  9\n",
      "Largest number in the list is :  40\n"
     ]
    }
   ],
   "source": [
    "def find_largest(lst):\n",
    "    \"\"\"\n",
    "    This function finds the largest number in a list.\n",
    "    \"\"\"\n",
    "    # Initialize the largest number to the first element of the list\n",
    "    largest = lst[0]\n",
    "    \n",
    "    # Iterate over the list and update the largest number if a larger number is found\n",
    "    for num in lst:\n",
    "        if num > largest:\n",
    "            largest = num\n",
    "    \n",
    "    return largest\n",
    "\n",
    "# Test the function with some examples\n",
    "my_list = [5, 3, 9, 2, 8]\n",
    "print(\"Largest number in the list is : \",find_largest(my_list))  # Output: 9\n",
    "\n",
    "another_list = [10, 20, 30, 40, 5]\n",
    "print(\"Largest number in the list is : \",find_largest(another_list))  # Output: 40\n"
   ]
  },
  {
   "cell_type": "markdown",
   "id": "5435bd9a",
   "metadata": {},
   "source": [
    "<font size=\"3\">__5. Write a Python program to find second largest number in a list?__ </font><br>"
   ]
  },
  {
   "cell_type": "code",
   "execution_count": 6,
   "id": "8c58328b",
   "metadata": {},
   "outputs": [
    {
     "name": "stdout",
     "output_type": "stream",
     "text": [
      "Second Largest number in the list is :  8\n",
      "Second Largest number in the list is :  30\n"
     ]
    }
   ],
   "source": [
    "def find_second_largest(lst):\n",
    "    \"\"\"\n",
    "    This function finds the second largest number in a list.\n",
    "    \"\"\"\n",
    "    # Initialize the largest and second largest numbers to the first element of the list\n",
    "    largest = lst[0]\n",
    "    second_largest = lst[0]\n",
    "    \n",
    "    # Iterate over the list and update the largest and second largest numbers accordingly\n",
    "    for num in lst:\n",
    "        if num > largest:\n",
    "            second_largest = largest\n",
    "            largest = num\n",
    "        elif num > second_largest and num != largest:\n",
    "            second_largest = num\n",
    "    \n",
    "    return second_largest\n",
    "\n",
    "# Test the function with some examples\n",
    "my_list = [5, 3, 9, 2, 8]\n",
    "print(\"Second Largest number in the list is : \",find_second_largest(my_list))  # Output: 8\n",
    "\n",
    "another_list = [10, 20, 30, 40, 5]\n",
    "print(\"Second Largest number in the list is : \",find_second_largest(another_list))  # Output: 30\n"
   ]
  },
  {
   "cell_type": "markdown",
   "id": "62851999",
   "metadata": {},
   "source": [
    "<font size=\"3\">__6. Write a Python program to find N largest elements from a list?__ </font><br>"
   ]
  },
  {
   "cell_type": "code",
   "execution_count": 8,
   "id": "cc7f4dbc",
   "metadata": {},
   "outputs": [
    {
     "name": "stdout",
     "output_type": "stream",
     "text": [
      "N Largest number in the list is :  [9, 8, 5]\n",
      "N Largest number in the list is :  [40, 30]\n"
     ]
    }
   ],
   "source": [
    "def find_n_largest(lst, n):\n",
    "    \"\"\"\n",
    "    This function finds the N largest elements from a list.\n",
    "    \"\"\"\n",
    "    # Sort the list in descending order\n",
    "    sorted_lst = sorted(lst, reverse=True)\n",
    "    \n",
    "    # Return the first N elements of the sorted list\n",
    "    return sorted_lst[:n]\n",
    "\n",
    "# Test the function with some examples\n",
    "my_list = [5, 3, 9, 2, 8]\n",
    "print(\"N Largest number in the list is : \",find_n_largest(my_list, 3))  # Output: [9, 8, 5]\n",
    "\n",
    "another_list = [10, 20, 30, 40, 5]\n",
    "print(\"N Largest number in the list is : \",find_n_largest(another_list, 2))  # Output: [40, 30]\n"
   ]
  },
  {
   "cell_type": "markdown",
   "id": "ed0db4af",
   "metadata": {},
   "source": [
    "<font size=\"3\">__7. Write a Python program to print even numbers in a list?__ </font><br>"
   ]
  },
  {
   "cell_type": "code",
   "execution_count": 10,
   "id": "798d6e09",
   "metadata": {},
   "outputs": [
    {
     "name": "stdout",
     "output_type": "stream",
     "text": [
      "Even numbers in the list are: \n",
      "2\n",
      "8\n"
     ]
    }
   ],
   "source": [
    "def print_even_numbers(lst):\n",
    "    \"\"\"\n",
    "    This function prints all the even numbers in a list.\n",
    "    \"\"\"\n",
    "    print(\"Even numbers in the list are: \")\n",
    "    for num in lst:\n",
    "        if num % 2 == 0:\n",
    "            print(num)\n",
    "\n",
    "# Test the function with an example\n",
    "my_list = [5, 3, 9, 2, 8]\n",
    "print_even_numbers(my_list)  # Output: 2 8\n"
   ]
  },
  {
   "cell_type": "markdown",
   "id": "41fa2942",
   "metadata": {},
   "source": [
    "<font size=\"3\">__8. Write a Python program to print odd numbers in a List?__ </font><br>"
   ]
  },
  {
   "cell_type": "code",
   "execution_count": 11,
   "id": "8071f64c",
   "metadata": {},
   "outputs": [
    {
     "name": "stdout",
     "output_type": "stream",
     "text": [
      "Odd numbers in the list are: \n",
      "5\n",
      "3\n",
      "9\n"
     ]
    }
   ],
   "source": [
    "def print_odd_numbers(lst):\n",
    "    \"\"\"\n",
    "    This function prints all the odd numbers in a list.\n",
    "    \"\"\"\n",
    "    print(\"Odd numbers in the list are: \")\n",
    "    for num in lst:\n",
    "        if num % 2 != 0:\n",
    "            print(num)\n",
    "\n",
    "# Test the function with an example\n",
    "my_list = [5, 3, 9, 2, 8]\n",
    "print_odd_numbers(my_list)  # Output: 5 3 9\n"
   ]
  },
  {
   "cell_type": "markdown",
   "id": "953e70c0",
   "metadata": {},
   "source": [
    "<font size=\"3\">__9. Write a Python program to Remove empty List from List?__ </font><br>"
   ]
  },
  {
   "cell_type": "code",
   "execution_count": 12,
   "id": "56a476b0",
   "metadata": {},
   "outputs": [
    {
     "name": "stdout",
     "output_type": "stream",
     "text": [
      "[5, 9, 2, 8]\n"
     ]
    }
   ],
   "source": [
    "def remove_empty_lists(lst):\n",
    "    \"\"\"\n",
    "    This function removes all the empty lists from a list.\n",
    "    \"\"\"\n",
    "    return [x for x in lst if x]\n",
    "\n",
    "# Test the function with an example\n",
    "my_list = [5, [], 9, [], 2, [], 8]\n",
    "print(remove_empty_lists(my_list))  # Output: [5, 9, 2, 8]\n"
   ]
  },
  {
   "cell_type": "markdown",
   "id": "8e9fbb0f",
   "metadata": {},
   "source": [
    "<font size=\"3\">__10. Write a Python program to Cloning or Copying a list?__ </font><br>"
   ]
  },
  {
   "cell_type": "code",
   "execution_count": 14,
   "id": "d3f5fd42",
   "metadata": {},
   "outputs": [
    {
     "name": "stdout",
     "output_type": "stream",
     "text": [
      "Clone list is :  [5, 3, 9, 2, 8]\n"
     ]
    }
   ],
   "source": [
    "def clone_list(lst):\n",
    "    \"\"\"\n",
    "    This function creates a clone of a list.\n",
    "    \"\"\"\n",
    "    return lst.copy()\n",
    "\n",
    "# Test the function with an example\n",
    "my_list = [5, 3, 9, 2, 8]\n",
    "clone_of_my_list = clone_list(my_list)\n",
    "print(\"Clone list is : \",clone_of_my_list)  # Output: [5, 3, 9, 2, 8]\n"
   ]
  },
  {
   "cell_type": "markdown",
   "id": "55e1f006",
   "metadata": {},
   "source": [
    "<font size=\"3\">__11. Write a Python program to Count occurrences of an element in a list?__ </font><br>"
   ]
  },
  {
   "cell_type": "code",
   "execution_count": 15,
   "id": "34e70b1b",
   "metadata": {},
   "outputs": [
    {
     "name": "stdout",
     "output_type": "stream",
     "text": [
      "Occurrence of element in list is :  3\n"
     ]
    }
   ],
   "source": [
    "def count_occurrences(lst, element):\n",
    "    \"\"\"\n",
    "    This function counts the number of occurrences of an element in a list.\n",
    "    \"\"\"\n",
    "    count = 0\n",
    "    for i in lst:\n",
    "        if i == element:\n",
    "            count += 1\n",
    "    return count\n",
    "\n",
    "# Test the function with an example\n",
    "my_list = [5, 3, 9, 2, 8, 5, 4, 5]\n",
    "print(\"Occurrence of element in list is : \",count_occurrences(my_list, 5))  # Output: 3\n"
   ]
  },
  {
   "cell_type": "code",
   "execution_count": null,
   "id": "4bd6f4e2",
   "metadata": {},
   "outputs": [],
   "source": []
  }
 ],
 "metadata": {
  "kernelspec": {
   "display_name": "Python 3 (ipykernel)",
   "language": "python",
   "name": "python3"
  },
  "language_info": {
   "codemirror_mode": {
    "name": "ipython",
    "version": 3
   },
   "file_extension": ".py",
   "mimetype": "text/x-python",
   "name": "python",
   "nbconvert_exporter": "python",
   "pygments_lexer": "ipython3",
   "version": "3.10.9"
  }
 },
 "nbformat": 4,
 "nbformat_minor": 5
}
