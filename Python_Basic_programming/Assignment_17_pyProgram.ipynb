{
 "cells": [
  {
   "cell_type": "markdown",
   "id": "3f5cd0b3",
   "metadata": {},
   "source": [
    "# Assignment - 17 Solution "
   ]
  },
  {
   "cell_type": "markdown",
   "id": "296ec0a7",
   "metadata": {},
   "source": [
    "<font size=\"3\">__1.Create a function that takes three arguments a, b, c and returns the sum of the numbers that are evenly divided by c from the range a, b inclusive ?__</font><br>\n",
    "__Examples:<br>\n",
    "evenly_divisible(1, 10, 20) ➞ 0 # No number between 1 and 10 can be evenly divided by 20. <br>\n",
    "evenly_divisible(1, 10, 2) ➞ 30 # 2 + 4 + 6 + 8 + 10 = 30 <br>\n",
    "evenly_divisible(1, 10, 3) ➞ 18 # 3 + 6 + 9 = 18__"
   ]
  },
  {
   "cell_type": "code",
   "execution_count": 1,
   "id": "696e4734",
   "metadata": {},
   "outputs": [
    {
     "name": "stdout",
     "output_type": "stream",
     "text": [
      "0\n",
      "30\n",
      "18\n"
     ]
    }
   ],
   "source": [
    "def evenly_divisible(a, b, c):\n",
    "    # Initializing the sum to 0\n",
    "    sum = 0\n",
    "    # Looping through the range a to b\n",
    "    for i in range(a, b+1):\n",
    "        # Checking if the current number is evenly divisible by c\n",
    "        if i % c == 0:\n",
    "            # If yes, add it to the sum\n",
    "            sum += i\n",
    "    # Returning the sum\n",
    "    return sum\n",
    "\n",
    "\n",
    "print(evenly_divisible(1, 10, 20)) # 0\n",
    "print(evenly_divisible(1, 10, 2)) # 30\n",
    "print(evenly_divisible(1, 10, 3)) # 18\n"
   ]
  },
  {
   "cell_type": "markdown",
   "id": "81a682a4",
   "metadata": {},
   "source": [
    "<font size=\"3\">__2.Create a function that returns True if a given inequality expression is correct and False otherwise ?__</font><br>\n",
    "__Examples:<br>\n",
    "correct_signs(\"3 < 7 < 11\") ➞ True<br>\n",
    "correct_signs(\"13 > 44 > 33 > 1\") ➞ False<br>\n",
    "correct_signs(\"1 < 2 < 6 < 9 > 3\") ➞ True__"
   ]
  },
  {
   "cell_type": "code",
   "execution_count": 3,
   "id": "63e72ab5",
   "metadata": {},
   "outputs": [
    {
     "name": "stdout",
     "output_type": "stream",
     "text": [
      "True\n",
      "False\n",
      "True\n"
     ]
    }
   ],
   "source": [
    "def correct_signs(txt):\n",
    "    nums = [int(n) if n.isdigit() else n for n in txt.split()]\n",
    "    for i in range(1, len(nums), 2):\n",
    "        if nums[i] == '<' and nums[i-1] >= nums[i+1]:\n",
    "            return False\n",
    "        elif nums[i] == '>' and nums[i-1] <= nums[i+1]:\n",
    "            return False\n",
    "    return True\n",
    "\n",
    "\n",
    "print(correct_signs(\"3 < 7 < 11\"))\n",
    "print(correct_signs(\"13 > 44 > 33 > 1\"))\n",
    "print(correct_signs(\"1 < 2 < 6 < 9 > 3\"))"
   ]
  },
  {
   "cell_type": "markdown",
   "id": "44c945ab",
   "metadata": {},
   "source": [
    "<font size=\"3\">__3.Create a function that replaces all the vowels in a string with a specified character ?__</font><br>\n",
    "__Examples:<br>\n",
    "replace_vowels(\"the aardvark\", \"#\") ➞ \"th# ##rdv#rk\"<br>\n",
    "replace_vowels(\"minnie mouse\", \"?\") ➞ \"m?nn?? m??s?\"<br>\n",
    "replace_vowels(\"shakespeare\", \"*\") ➞ \"sh*k*sp**r*\"__"
   ]
  },
  {
   "cell_type": "code",
   "execution_count": 7,
   "id": "45c15800",
   "metadata": {},
   "outputs": [
    {
     "name": "stdout",
     "output_type": "stream",
     "text": [
      "th# ##rdv#rk\n",
      "m?nn?? m??s?\n",
      "sh*k*sp**r*\n"
     ]
    }
   ],
   "source": [
    "def replace_vowels(string, char):\n",
    "    vowels = 'aeiouAEIOU'\n",
    "    for vowel in vowels:\n",
    "        string = string.replace(vowel, char)\n",
    "    return string\n",
    "\n",
    "\n",
    "print(replace_vowels(\"the aardvark\", \"#\"))\n",
    "# Output: \"th# ##rdv#rk\"\n",
    "\n",
    "print(replace_vowels(\"minnie mouse\", \"?\"))\n",
    "# Output: \"m?nn?? m??s?\"\n",
    "\n",
    "print(replace_vowels(\"shakespeare\", \"*\"))\n",
    "# Output: \"shksp**r\"\n"
   ]
  },
  {
   "cell_type": "markdown",
   "id": "160aad68",
   "metadata": {},
   "source": [
    "<font size=\"3\">__4.Write a function that calculates the factorial of a number recursively ?__</font><br>\n",
    "__Examples:<br>\n",
    "factorial(5) ➞ 120<br>\n",
    "factorial(3) ➞ 6<br>\n",
    "factorial(1) ➞ 1<br>\n",
    "factorial(0) ➞ 1__"
   ]
  },
  {
   "cell_type": "code",
   "execution_count": 8,
   "id": "3532e975",
   "metadata": {},
   "outputs": [
    {
     "name": "stdout",
     "output_type": "stream",
     "text": [
      "120\n",
      "6\n",
      "1\n",
      "1\n"
     ]
    }
   ],
   "source": [
    "def factorial(n):\n",
    "    if n == 0:\n",
    "        return 1\n",
    "    else:\n",
    "        return n * factorial(n-1)\n",
    "\n",
    "print(factorial(5))\n",
    "print(factorial(3))\n",
    "print(factorial(1))\n",
    "print(factorial(0))"
   ]
  },
  {
   "cell_type": "markdown",
   "id": "c202aff8",
   "metadata": {},
   "source": [
    "<font size=\"3\">__5.Hamming distance is the number of characters that differ between two strings ?__</font><br>\n",
    "\n",
    "__To illustrate:<br>\n",
    "String1: \"abcbba\"<br>\n",
    "String2: \"abcbda\"<br>\n",
    "Hamming Distance: 1 - \"b\" vs. \"d\" is the only difference.<br>\n",
    "Create a function that computes the hamming distance between two strings.__<br>\n",
    "\n",
    "__Examples:<br>\n",
    "hamming_distance(\"abcde\", \"bcdef\") ➞ 5<br>\n",
    "hamming_distance(\"abcde\", \"abcde\") ➞ 0<br>\n",
    "hamming_distance(\"strong\", \"strung\") ➞ 1__<br>"
   ]
  },
  {
   "cell_type": "code",
   "execution_count": 9,
   "id": "7ad31c83",
   "metadata": {},
   "outputs": [
    {
     "name": "stdout",
     "output_type": "stream",
     "text": [
      "5\n",
      "0\n",
      "1\n"
     ]
    }
   ],
   "source": [
    "def hamming_distance(txt1, txt2):\n",
    "    if len(txt1) != len(txt2):\n",
    "        return None\n",
    "    else:\n",
    "        return sum([1 for i in range(len(txt1)) if txt1[i] != txt2[i]])\n",
    "\n",
    "    \n",
    "print(hamming_distance(\"abcde\", \"bcdef\"))\n",
    "print(hamming_distance(\"abcde\", \"abcde\")) \n",
    "print(hamming_distance(\"strong\", \"strung\")) "
   ]
  },
  {
   "cell_type": "code",
   "execution_count": null,
   "id": "d5446346",
   "metadata": {},
   "outputs": [],
   "source": []
  }
 ],
 "metadata": {
  "kernelspec": {
   "display_name": "Python 3 (ipykernel)",
   "language": "python",
   "name": "python3"
  },
  "language_info": {
   "codemirror_mode": {
    "name": "ipython",
    "version": 3
   },
   "file_extension": ".py",
   "mimetype": "text/x-python",
   "name": "python",
   "nbconvert_exporter": "python",
   "pygments_lexer": "ipython3",
   "version": "3.10.9"
  }
 },
 "nbformat": 4,
 "nbformat_minor": 5
}
