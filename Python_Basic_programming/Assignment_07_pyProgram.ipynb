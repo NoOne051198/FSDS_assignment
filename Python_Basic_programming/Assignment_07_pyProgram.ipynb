{
 "cells": [
  {
   "cell_type": "markdown",
   "id": "424ea769",
   "metadata": {},
   "source": [
    "# Assignment - 07 Solution"
   ]
  },
  {
   "cell_type": "markdown",
   "id": "28b01fc6",
   "metadata": {},
   "source": [
    "<font size=\"3\">__1. Write a Python Program to find sum of Array ?__ </font><br>"
   ]
  },
  {
   "cell_type": "code",
   "execution_count": 5,
   "id": "73dd615b",
   "metadata": {},
   "outputs": [
    {
     "name": "stdout",
     "output_type": "stream",
     "text": [
      "Sum of the Array is 28\n",
      "Sum of the Array is 36\n"
     ]
    }
   ],
   "source": [
    "# find sum of array\n",
    "def sum_array(arr):\n",
    "    result = 0\n",
    "    for i in arr:\n",
    "        result = result + i\n",
    "    print(f\"Sum of the Array is {result}\")\n",
    "\n",
    "a = [1,2,3,4,5,6,7]\n",
    "b = (1,3,5,7,9,11)\n",
    "sum_array(a)\n",
    "sum_array(b)  "
   ]
  },
  {
   "cell_type": "markdown",
   "id": "f40e8f0e",
   "metadata": {},
   "source": [
    "<font size=\"3\">__2. Write a Python Program to find Largest element in an Array ?__ </font><br>"
   ]
  },
  {
   "cell_type": "code",
   "execution_count": 4,
   "id": "4e34dd21",
   "metadata": {},
   "outputs": [
    {
     "name": "stdout",
     "output_type": "stream",
     "text": [
      "Largest Element in the Array is  7\n",
      "Largest Element in the Array is  11\n"
     ]
    }
   ],
   "source": [
    "# Largest element of array\n",
    "def max_element(arr):\n",
    "    max_ele = max(arr)\n",
    "    print(f\"Largest Element in the Array is  {max_ele}\")\n",
    "\n",
    "a = [1,2,3,4,5,6,7]\n",
    "b = (1,3,5,7,9,11)\n",
    "max_element(a)\n",
    "max_element(b) "
   ]
  },
  {
   "cell_type": "markdown",
   "id": "79895be9",
   "metadata": {},
   "source": [
    "<font size=\"3\">__3. Write a Python Program for array rotation ?__ </font><br>"
   ]
  },
  {
   "cell_type": "code",
   "execution_count": 6,
   "id": "3e996096",
   "metadata": {},
   "outputs": [
    {
     "name": "stdout",
     "output_type": "stream",
     "text": [
      "Entered Array is : [1, 2, 3, 4, 5, 6, 7]\n",
      " Rotation of the Array is : [7, 6, 5, 4, 3, 2, 1] \n",
      "Entered Array is : (1, 3, 5, 7, 9, 11)\n",
      " Rotation of the Array is : (11, 9, 7, 5, 3, 1) \n"
     ]
    }
   ],
   "source": [
    "# array rotation\n",
    "def array_rotation(arr):\n",
    "    arr_ro = arr[::-1]\n",
    "    print(f\"Entered Array is : {arr}\\n Rotation of the Array is : {arr_ro} \")\n",
    "\n",
    "a = [1,2,3,4,5,6,7]\n",
    "b = (1,3,5,7,9,11)\n",
    "array_rotation(a)\n",
    "array_rotation(b)"
   ]
  },
  {
   "cell_type": "markdown",
   "id": "c147ded0",
   "metadata": {},
   "source": [
    "<font size=\"3\">__4. Write a Python Program to Split the array and add the first part to the end ?__ </font><br>"
   ]
  },
  {
   "cell_type": "code",
   "execution_count": 13,
   "id": "6b751278",
   "metadata": {},
   "outputs": [
    {
     "name": "stdout",
     "output_type": "stream",
     "text": [
      "Enter the position, you wan't to split :3\n"
     ]
    },
    {
     "data": {
      "text/plain": [
       "[4, 5, 6, 7, 1, 2, 3]"
      ]
     },
     "execution_count": 13,
     "metadata": {},
     "output_type": "execute_result"
    }
   ],
   "source": [
    "def split_first_2_end(arr,n,k):\n",
    "    b = arr[:k]\n",
    "    return (arr[k::] + b[::])\n",
    "   \n",
    "    \n",
    "a = [1,2,3,4,5,6,7]\n",
    "n = len(a)\n",
    "position = int(input(\"Enter the position, you wan't to split :\"))\n",
    "\n",
    "split_first_2_end(a,n,position)\n"
   ]
  },
  {
   "cell_type": "markdown",
   "id": "5558ea36",
   "metadata": {},
   "source": [
    "<font size=\"3\">__5. Write a Python Program to check if given array is Monotonic ?__ </font><br>"
   ]
  },
  {
   "cell_type": "code",
   "execution_count": 14,
   "id": "02e00a47",
   "metadata": {},
   "outputs": [
    {
     "name": "stdout",
     "output_type": "stream",
     "text": [
      "Array [1, 2, 3, 4, 5, 6, 7] is Monotonic\n"
     ]
    }
   ],
   "source": [
    "def check_monotonic(arr):\n",
    "    \n",
    "    if(all(arr[i]<=arr[i+1] for i in range(len(arr)-1)) or all(arr[i]>=arr[i+1] for i in range(len(arr)-1))):\n",
    "        print(f'Array {arr} is Monotonic')\n",
    "    else:\n",
    "        print(f'Array {arr} is Not Monotonic')\n",
    "a = [1,2,3,4,5,6,7]\n",
    "check_monotonic(a)\n"
   ]
  },
  {
   "cell_type": "code",
   "execution_count": null,
   "id": "d53b9843",
   "metadata": {},
   "outputs": [],
   "source": []
  }
 ],
 "metadata": {
  "kernelspec": {
   "display_name": "Python 3 (ipykernel)",
   "language": "python",
   "name": "python3"
  },
  "language_info": {
   "codemirror_mode": {
    "name": "ipython",
    "version": 3
   },
   "file_extension": ".py",
   "mimetype": "text/x-python",
   "name": "python",
   "nbconvert_exporter": "python",
   "pygments_lexer": "ipython3",
   "version": "3.10.9"
  }
 },
 "nbformat": 4,
 "nbformat_minor": 5
}
