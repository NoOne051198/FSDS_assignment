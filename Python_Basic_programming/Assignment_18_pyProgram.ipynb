{
 "cells": [
  {
   "cell_type": "markdown",
   "id": "83eb2679",
   "metadata": {},
   "source": [
    "# Assignment - 18 Solution "
   ]
  },
  {
   "cell_type": "markdown",
   "id": "b296824c",
   "metadata": {},
   "source": [
    "<font size=\"3\">__1.Create a function that takes a list of non-negative integers and strings and return a new list without the strings ?__</font><br>\n",
    "__Examples:<br>\n",
    "filter_list([1, 2, \"a\", \"b\"]) ➞ [1, 2]<br>\n",
    "filter_list([1, \"a\", \"b\", 0, 15]) ➞ [1, 0, 15]<br>\n",
    "filter_list([1, 2, \"aasf\", \"1\", \"123\", 123]) ➞ [1, 2, 123]__"
   ]
  },
  {
   "cell_type": "code",
   "execution_count": 1,
   "id": "907c5034",
   "metadata": {},
   "outputs": [
    {
     "name": "stdout",
     "output_type": "stream",
     "text": [
      "[1, 2]\n",
      "[1, 0, 15]\n",
      "[1, 2, 123]\n"
     ]
    }
   ],
   "source": [
    "def filter_list(lst):\n",
    "    return [i for i in lst if isinstance(i, int)]\n",
    "\n",
    "print(filter_list([1, 2, \"a\", \"b\"]))\n",
    "print(filter_list([1, \"a\", \"b\", 0, 15]))\n",
    "print(filter_list([1, 2, \"aasf\", \"1\", \"123\", 123]))"
   ]
  },
  {
   "cell_type": "markdown",
   "id": "d791d7dd",
   "metadata": {},
   "source": [
    "<font size=\"3\">__2. The \"Reverser\" takes a string as input and returns that string in reverse order, with the opposite case ?__</font><br>\n",
    "__Examples:<br>\n",
    "reverse(\"Hello World\") ➞ \"DLROw OLLEh\"<br>\n",
    "reverse(\"ReVeRsE\") ➞ \"eSrEvEr\"<br>\n",
    "reverse(\"Radar\") ➞ \"RADAr\"__"
   ]
  },
  {
   "cell_type": "code",
   "execution_count": 2,
   "id": "11fa6f83",
   "metadata": {},
   "outputs": [
    {
     "name": "stdout",
     "output_type": "stream",
     "text": [
      "DLROw OLLEh\n",
      "eSrEvEr\n",
      "eSrEvEr\n"
     ]
    }
   ],
   "source": [
    "def reverse(txt):\n",
    "    reversed_txt = txt[::-1]\n",
    "    reversed_case_txt = \"\"\n",
    "    for char in reversed_txt:\n",
    "        if char.islower():\n",
    "            reversed_case_txt += char.upper()\n",
    "        elif char.isupper():\n",
    "            reversed_case_txt += char.lower()\n",
    "        else:\n",
    "            reversed_case_txt += char\n",
    "    return reversed_case_txt\n",
    "\n",
    "\n",
    "print(reverse(\"Hello World\"))\n",
    "print(reverse(\"ReVeRsE\"))\n",
    "print(reverse(\"ReVeRsE\"))"
   ]
  },
  {
   "cell_type": "markdown",
   "id": "ab00e697",
   "metadata": {},
   "source": [
    "<font size=\"3\">__3.You can assign variables from lists like this:__</font><br>\n",
    "__lst = [1, 2, 3, 4, 5, 6] first = lst[0] middle = lst[1:-1] last = lst[-1] <br>\n",
    "print(first) ➞ outputs 1 print(middle) ➞ outputs [2, 3, 4, 5] print(last) ➞ outputs 6<br>\n",
    "With Python 3, you can assign variables from lists in a much more succinct way. Create variables first, middle and last from the given list using destructuring assignment<br>\n",
    "(check the Resources tab for some examples), where:<br>\n",
    "first ➞ 1 middle ➞ [2, 3, 4, 5] last ➞ 6<br>\n",
    "Your task is to unpack the list writeyourcodehere into three variables, being first, middle, and last, with middle being everything in between the first and last element. Then print all three variables.__<br>"
   ]
  },
  {
   "cell_type": "code",
   "execution_count": 3,
   "id": "af6ad86b",
   "metadata": {},
   "outputs": [
    {
     "name": "stdout",
     "output_type": "stream",
     "text": [
      "first ➞ 1\n",
      "middle ➞ [2, 3, 4, 5]\n",
      "last ➞ 6\n"
     ]
    }
   ],
   "source": [
    "first, *middle, last = [1,2,3,4,5,6]\n",
    "print(f'first ➞ {first}')\n",
    "print(f'middle ➞ {middle}')\n",
    "print(f'last ➞ {last}')\n"
   ]
  },
  {
   "cell_type": "markdown",
   "id": "d7354641",
   "metadata": {},
   "source": [
    "<font size=\"3\">__4.Write a function that calculates the factorial of a number recursively.__</font><br>\n",
    "__Examples:<br>\n",
    "factorial(5) ➞ 120<br>\n",
    "factorial(3) ➞ 6<br>\n",
    "factorial(1) ➞ 1<br>\n",
    "factorial(0) ➞ 1__"
   ]
  },
  {
   "cell_type": "code",
   "execution_count": 5,
   "id": "125494bb",
   "metadata": {},
   "outputs": [
    {
     "name": "stdout",
     "output_type": "stream",
     "text": [
      "factorial(5) ➞  120\n",
      "factorial(3) ➞  6\n",
      "factorial(1) ➞  1\n",
      "factorial(0) ➞  1\n"
     ]
    }
   ],
   "source": [
    "def factorial(n):\n",
    "    if n == 0:\n",
    "        return 1\n",
    "    else:\n",
    "        return n * factorial(n-1)\n",
    "print('factorial(5) ➞ ',factorial(5))\n",
    "print('factorial(3) ➞ ',factorial(3))\n",
    "print('factorial(1) ➞ ',factorial(1))\n",
    "print('factorial(0) ➞ ',factorial(0))"
   ]
  },
  {
   "cell_type": "markdown",
   "id": "f8b7c2c2",
   "metadata": {},
   "source": [
    "<font size=\"3\">__5.Write a function that moves all elements of one type to the end of the list.__</font><br>\n",
    "__Examples:<br>\n",
    "move_to_end([1, 3, 2, 4, 4, 1], 1) ➞ [3, 2, 4, 4, 1, 1]__<br>\n",
    "\n",
    "__Move all the 1s to the end of the array.<br>\n",
    "move_to_end([7, 8, 9, 1, 2, 3, 4], 9) ➞ [7, 8, 1, 2, 3, 4, 9]<br>\n",
    "move_to_end([\"a\", \"a\", \"a\", \"b\"], \"a\") ➞ [\"b\", \"a\", \"a\", \"a\"]__"
   ]
  },
  {
   "cell_type": "code",
   "execution_count": 6,
   "id": "eb4655c8",
   "metadata": {},
   "outputs": [
    {
     "name": "stdout",
     "output_type": "stream",
     "text": [
      "[3, 2, 4, 4, 1, 1]\n",
      "[7, 8, 1, 2, 3, 4, 9]\n",
      "['b', 'a', 'a', 'a']\n"
     ]
    }
   ],
   "source": [
    "def move_to_end(lst, elem):\n",
    "    count_elem = lst.count(elem)  # Count number of occurrences of element in the list\n",
    "    lst = [x for x in lst if x != elem]  # Remove all occurrences of element from the list\n",
    "    lst.extend([elem] * count_elem)  # Add element to the end of the list count_elem times\n",
    "    return lst\n",
    "\n",
    "\n",
    "print(move_to_end([1, 3, 2, 4, 4, 1], 1))  # Output: [3, 2, 4, 4, 1, 1]\n",
    "print(move_to_end([7, 8, 9, 1, 2, 3, 4], 9))  # Output: [7, 8, 1, 2, 3, 4, 9]\n",
    "print(move_to_end([\"a\", \"a\", \"a\", \"b\"], \"a\"))  # Output: [\"b\", \"a\", \"a\", \"a\"]"
   ]
  },
  {
   "cell_type": "code",
   "execution_count": null,
   "id": "69a80749",
   "metadata": {},
   "outputs": [],
   "source": []
  }
 ],
 "metadata": {
  "kernelspec": {
   "display_name": "Python 3 (ipykernel)",
   "language": "python",
   "name": "python3"
  },
  "language_info": {
   "codemirror_mode": {
    "name": "ipython",
    "version": 3
   },
   "file_extension": ".py",
   "mimetype": "text/x-python",
   "name": "python",
   "nbconvert_exporter": "python",
   "pygments_lexer": "ipython3",
   "version": "3.10.9"
  }
 },
 "nbformat": 4,
 "nbformat_minor": 5
}
