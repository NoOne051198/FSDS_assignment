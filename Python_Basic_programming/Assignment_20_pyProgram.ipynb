{
 "cells": [
  {
   "cell_type": "markdown",
   "id": "a67b3b90",
   "metadata": {},
   "source": [
    "# Assignment - 20 Solution "
   ]
  },
  {
   "cell_type": "markdown",
   "id": "286fb459",
   "metadata": {},
   "source": [
    "<font size=\"3\">__1.Create a function that takes a list of strings and integers, and filters out the list so that it returns a list of integers only.__</font><br>\n",
    "__Examples:<br>\n",
    "filter_list([1, 2, 3, \"a\", \"b\", 4]) ➞ [1, 2, 3, 4]<br>\n",
    "filter_list([\"A\", 0, \"Edabit\", 1729, \"Python\", \"1729\"]) ➞ [0, 1729]<br>\n",
    "filter_list([\"Nothing\", \"here\"]) ➞ []__"
   ]
  },
  {
   "cell_type": "code",
   "execution_count": 1,
   "id": "0e376f65",
   "metadata": {},
   "outputs": [
    {
     "name": "stdout",
     "output_type": "stream",
     "text": [
      "[1, 2, 3, 4]\n",
      "[0, 1729]\n",
      "[]\n"
     ]
    }
   ],
   "source": [
    "def filter_list(lst):\n",
    "    return [x for x in lst if type(x) == int]\n",
    "\n",
    "\n",
    "print(filter_list([1, 2, 3, \"a\", \"b\", 4])) # [1, 2, 3, 4]\n",
    "print(filter_list([\"A\", 0, \"Edabit\", 1729, \"Python\", \"1729\"])) # [0, 1729]\n",
    "print(filter_list([\"Nothing\", \"here\"])) # []"
   ]
  },
  {
   "cell_type": "markdown",
   "id": "45cb0231",
   "metadata": {},
   "source": [
    "<font size=\"3\">__2.Given a list of numbers, create a function which returns the list but with each element's index in the list added to itself. This means you add 0 to the number at index 0, add 1 to the number at index 1, etc...__</font><br>\n",
    "__Examples:<br>\n",
    "add_indexes([0, 0, 0, 0, 0]) ➞ [0, 1, 2, 3, 4]<br>\n",
    "add_indexes([1, 2, 3, 4, 5]) ➞ [1, 3, 5, 7, 9]<br>\n",
    "add_indexes([5, 4, 3, 2, 1]) ➞ [5, 5, 5, 5, 5]__"
   ]
  },
  {
   "cell_type": "code",
   "execution_count": 2,
   "id": "ad84c872",
   "metadata": {},
   "outputs": [
    {
     "name": "stdout",
     "output_type": "stream",
     "text": [
      "[0, 1, 2, 3, 4]\n",
      "[1, 3, 5, 7, 9]\n",
      "[5, 5, 5, 5, 5]\n"
     ]
    }
   ],
   "source": [
    "def add_indexes(lst):\n",
    "    return [i + lst[i] for i in range(len(lst))]\n",
    "\n",
    "\n",
    "# Example usage\n",
    "print(add_indexes([0, 0, 0, 0, 0])) # [0, 1, 2, 3, 4]\n",
    "\n",
    "print(add_indexes([1, 2, 3, 4, 5])) # [1, 3, 5, 7, 9]\n",
    "\n",
    "print(add_indexes([5, 4, 3, 2, 1])) # [5, 5, 5, 5, 5]\n",
    "\n"
   ]
  },
  {
   "cell_type": "markdown",
   "id": "efac6112",
   "metadata": {},
   "source": [
    "<font size=\"3\">__3.Create a function that takes the height and radius of a cone as arguments and returns the volume of the cone rounded to the nearest hundredth. See the resources tab for the formula.__</font><br>\n",
    "__Examples:<br>\n",
    "cone_volume(3, 2) ➞ 12.57<br>\n",
    "cone_volume(15, 6) ➞ 565.49<br>\n",
    "cone_volume(18, 0) ➞ 0__"
   ]
  },
  {
   "cell_type": "code",
   "execution_count": 3,
   "id": "d409ce1d",
   "metadata": {},
   "outputs": [
    {
     "name": "stdout",
     "output_type": "stream",
     "text": [
      "12.57\n",
      "565.49\n",
      "0\n"
     ]
    }
   ],
   "source": [
    "import math\n",
    "\n",
    "def cone_volume(h, r):\n",
    "    if r == 0:\n",
    "        return 0\n",
    "    else:\n",
    "        volume = (1/3) * math.pi * r**2 * h\n",
    "        return round(volume, 2)\n",
    "\n",
    "print(cone_volume(3, 2))  # 12.57\n",
    "print(cone_volume(15, 6))  # 565.49\n",
    "print(cone_volume(18, 0))  # 0"
   ]
  },
  {
   "cell_type": "markdown",
   "id": "1fc844be",
   "metadata": {},
   "source": [
    "<font size=\"3\">__4.This Triangular Number Sequence is generated from a pattern of dots that form a triangle.<br>\n",
    "The first 5 numbers of the sequence, or dots, are: 1, 3, 6, 10, 15<br>\n",
    "This means that the first triangle has just one dot, the second one has three dots, the third one has 6 dots and so on. <br>Write a function that gives the number of dots with its corresponding triangle number of the sequence.__</font><br>\n",
    "\n",
    "__Examples:<br>\n",
    "triangle(1) ➞ 1<br>\n",
    "triangle(6) ➞ 21<br>\n",
    "triangle(215) ➞ 23220__"
   ]
  },
  {
   "cell_type": "code",
   "execution_count": 4,
   "id": "d58dc050",
   "metadata": {},
   "outputs": [
    {
     "name": "stdout",
     "output_type": "stream",
     "text": [
      "1\n",
      "21\n",
      "23220\n"
     ]
    }
   ],
   "source": [
    "def triangle(n):\n",
    "    return int((n * (n + 1)) / 2)\n",
    "\n",
    "\n",
    "def triangle_dots(n):\n",
    "    return triangle(n)\n",
    "\n",
    "print(triangle(1)) # 1\n",
    "print(triangle(6)) # 21\n",
    "print(triangle(215)) # 23220"
   ]
  },
  {
   "cell_type": "markdown",
   "id": "8e855215",
   "metadata": {},
   "source": [
    "<font size=\"3\">__5.Create a function that takes a list of numbers between 1 and 10 (excluding one number) and returns the missing number.__</font><br>\n",
    "__Examples:<br>\n",
    "missing_num([1, 2, 3, 4, 6, 7, 8, 9, 10]) ➞ 5<br>\n",
    "missing_num([7, 2, 3, 6, 5, 9, 1, 4, 8]) ➞ 10<br>\n",
    "missing_num([10, 5, 1, 2, 4, 6, 8, 3, 9]) ➞ 7__"
   ]
  },
  {
   "cell_type": "code",
   "execution_count": 5,
   "id": "305aafcb",
   "metadata": {},
   "outputs": [
    {
     "name": "stdout",
     "output_type": "stream",
     "text": [
      "5\n",
      "10\n",
      "7\n"
     ]
    }
   ],
   "source": [
    "def missing_num(lst):\n",
    "    return 55 - sum(lst)\n",
    "\n",
    "\n",
    "print(missing_num([1, 2, 3, 4, 6, 7, 8, 9, 10])) # Output: 5\n",
    "print(missing_num([7, 2, 3, 6, 5, 9, 1, 4, 8])) # Output: 10\n",
    "print(missing_num([10, 5, 1, 2, 4, 6, 8, 3, 9])) # Output: 7\n"
   ]
  },
  {
   "cell_type": "code",
   "execution_count": null,
   "id": "e8b9186d",
   "metadata": {},
   "outputs": [],
   "source": []
  }
 ],
 "metadata": {
  "kernelspec": {
   "display_name": "Python 3 (ipykernel)",
   "language": "python",
   "name": "python3"
  },
  "language_info": {
   "codemirror_mode": {
    "name": "ipython",
    "version": 3
   },
   "file_extension": ".py",
   "mimetype": "text/x-python",
   "name": "python",
   "nbconvert_exporter": "python",
   "pygments_lexer": "ipython3",
   "version": "3.10.9"
  }
 },
 "nbformat": 4,
 "nbformat_minor": 5
}
