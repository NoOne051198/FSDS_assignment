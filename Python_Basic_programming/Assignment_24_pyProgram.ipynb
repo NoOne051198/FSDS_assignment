{
 "cells": [
  {
   "cell_type": "markdown",
   "id": "25b306d0",
   "metadata": {},
   "source": [
    "# Assignment - 24 Solution "
   ]
  },
  {
   "cell_type": "markdown",
   "id": "3c62135f",
   "metadata": {},
   "source": [
    "<font size=\"3\">__1.Create a function that takes an integer and returns a list from 1 to the given number, where:__</font><br>\n",
    "1. __If the number can be divided evenly by 4, amplify it by 10 (i.e. return 10 times the number).__\n",
    "2. __If the number cannot be divided evenly by 4, simply return the number.__\n",
    "\n",
    "__Examples:<br>\n",
    "amplify(4) ➞ [1, 2, 3, 40]<br>\n",
    "amplify(3) ➞ [1, 2, 3]<br>\n",
    "amplify(25) ➞ [1, 2, 3, 40, 5, 6, 7, 80, 9, 10, 11, 120, 13, 14, 15, 160, 17, 18, 19, 200, 21, 22, 23, 240, 25]__\n",
    "\n",
    "__Notes:<br>\n",
    "1.The given integer will always be equal to or greater than 1.<br>\n",
    "2.Include the number (see example above).<br>\n",
    "3.To perform this problem with its intended purpose, try doing it with list__"
   ]
  },
  {
   "cell_type": "code",
   "execution_count": 1,
   "id": "d11ee9ae",
   "metadata": {},
   "outputs": [
    {
     "name": "stdout",
     "output_type": "stream",
     "text": [
      "[1, 2, 3, 40]\n",
      "[1, 2, 3]\n",
      "[1, 2, 3, 40, 5, 6, 7, 80, 9, 10, 11, 120, 13, 14, 15, 160, 17, 18, 19, 200, 21, 22, 23, 240, 25]\n"
     ]
    }
   ],
   "source": [
    "def amplify(num):\n",
    "    return [n*10 if n%4==0 else n for n in range(1, num+1)]\n",
    "\n",
    "\n",
    "print(amplify(4))  # [1, 2, 3, 40]\n",
    "\n",
    "print(amplify(3))  # [1, 2, 3]\n",
    "\n",
    "print(amplify(25))  # [1, 2, 3, 40, 5, 6, 7, 80, 9, 10, 11, 120, 13, 14, 15, 160, 17, 18, 19, 200, 21, 22, 23, 240, 25]\n",
    "\n"
   ]
  },
  {
   "cell_type": "markdown",
   "id": "7002012b",
   "metadata": {},
   "source": [
    "<font size=\"3\">__2.Create a function that takes a list of numbers and return the number that's unique.__</font><br>\n",
    "__Examples:<br>\n",
    "unique([3, 3, 3, 7, 3, 3]) ➞ 7<br>\n",
    "unique([0, 0, 0.77, 0, 0]) ➞ 0.77<br>\n",
    "unique([0, 1, 1, 1, 1, 1, 1, 1]) ➞ 0__\n",
    "\n",
    "__Notes:<br>\n",
    "Test cases will always have exactly one unique number while all others are the same.__"
   ]
  },
  {
   "cell_type": "code",
   "execution_count": 2,
   "id": "759ec09f",
   "metadata": {},
   "outputs": [
    {
     "name": "stdout",
     "output_type": "stream",
     "text": [
      "7\n",
      "0.77\n",
      "0\n"
     ]
    }
   ],
   "source": [
    "def unique(lst):\n",
    "    \"\"\"\n",
    "    This function takes a list of numbers and returns the number that's unique.\n",
    "    \"\"\"\n",
    "    for num in lst:\n",
    "        if lst.count(num) == 1:\n",
    "            return num\n",
    "\n",
    "        \n",
    "        \n",
    "print(unique([3, 3, 3, 7, 3, 3]))  # 7\n",
    "\n",
    "print(unique([0, 0, 0.77, 0, 0]))  # 0.77\n",
    "\n",
    "print(unique([0, 1, 1, 1, 1, 1, 1, 1]))  # 0\n",
    "\n"
   ]
  },
  {
   "cell_type": "markdown",
   "id": "76680390",
   "metadata": {},
   "source": [
    "<font size=\"3\">__3.Your task is to create a Circle constructor that creates a circle with a radius provided by an argument. The circles constructed must have two getters getArea() (PIr^2) and getPerimeter() (2PI*r) which give both respective areas and perimeter (circumference). For help with this class, I have provided you with a Rectangle constructor which you can use as a base example ?__</font><br>\n",
    "__Examples:__\n",
    "```python\n",
    "circy = Circle(11)\n",
    "circy.getArea()\n",
    "#Should return 380.132711084365 circy = Circle(4.44)\n",
    "circy.getPerimeter()\n",
    "#Should return 27.897342763877365\n",
    "```\n",
    "__Notes:<br>\n",
    "Round results up to the nearest integer.__"
   ]
  },
  {
   "cell_type": "code",
   "execution_count": 4,
   "id": "813b3f62",
   "metadata": {},
   "outputs": [],
   "source": [
    "import math\n",
    "\n",
    "class Circle:\n",
    "    def __init__(self, radius):\n",
    "        self.radius = radius\n",
    "\n",
    "    def getArea(self):\n",
    "        return math.ceil(math.pi * self.radius ** 2)\n",
    "\n",
    "    def getPerimeter(self):\n",
    "        return math.ceil(2 * math.pi * self.radius)\n"
   ]
  },
  {
   "cell_type": "code",
   "execution_count": 6,
   "id": "f6014d9a",
   "metadata": {},
   "outputs": [
    {
     "name": "stdout",
     "output_type": "stream",
     "text": [
      "Area of the circle is :  381\n",
      "Perimeter of the circle is :  70\n",
      "Area of the circle is :  62\n",
      "Perimeter of the circle is :  28\n"
     ]
    }
   ],
   "source": [
    "# Create a circle with radius 11\n",
    "circy = Circle(11)\n",
    "\n",
    "# Get the area of circy\n",
    "area = circy.getArea()\n",
    "print(\"Area of the circle is : \",area)  # Output: 380\n",
    "\n",
    "# Get the perimeter of circy\n",
    "perimeter = circy.getPerimeter()\n",
    "print(\"Perimeter of the circle is : \",perimeter)  # Output: 35\n",
    "\n",
    "# Create another circle with radius 4.44\n",
    "circy2 = Circle(4.44)\n",
    "\n",
    "# Get the area of circy2\n",
    "area2 = circy2.getArea()\n",
    "print(\"Area of the circle is : \",area2)  # Output: 62\n",
    "\n",
    "# Get the perimeter of circy2\n",
    "perimeter2 = circy2.getPerimeter()\n",
    "print(\"Perimeter of the circle is : \",perimeter2)  # Output: 28\n"
   ]
  },
  {
   "cell_type": "markdown",
   "id": "865ff198",
   "metadata": {},
   "source": [
    "<font size=\"3\">__4.Create a function that takes a list of strings and return a list, sorted from shortest to longest.__</font><br>\n",
    "__Examples:<br>\n",
    "sort_by_length([\"Google\", \"Apple\", \"Microsoft\"])   ➞ [\"Apple\", \"Google\", \"Microsoft\"]<br>\n",
    "sort_by_length([\"Leonardo\", \"Michelangelo\", \"Raphael\", \"Donatello\"]) ➞ [\"Raphael\", \"Leonardo\", \"Donatello\",\"Michelangelo\"]<br>\n",
    "sort_by_length([\"Turing\", \"Einstein\", \"Jung\"]  ➞ [\"Jung\", \"Turing\", \"Einstein\"]__\n",
    "\n",
    "__Notes:<br>\n",
    "All test cases contain lists with strings of different lengths, so you won't have to deal with multiple strings of the same length.__"
   ]
  },
  {
   "cell_type": "code",
   "execution_count": 7,
   "id": "00ba0d3f",
   "metadata": {},
   "outputs": [
    {
     "name": "stdout",
     "output_type": "stream",
     "text": [
      "['Apple', 'Google', 'Microsoft']\n",
      "['Raphael', 'Leonardo', 'Donatello', 'Michelangelo']\n",
      "['Jung', 'Turing', 'Einstein']\n"
     ]
    }
   ],
   "source": [
    "def sort_by_length(lst):\n",
    "    return sorted(lst, key=len)\n",
    "\n",
    "\n",
    "print(sort_by_length([\"Google\", \"Apple\", \"Microsoft\"]))\n",
    "                                                    # Output:  [\"Apple\", \"Google\", \"Microsoft\"]\n",
    "print(sort_by_length([\"Leonardo\", \"Michelangelo\", \"Raphael\", \"Donatello\"]))\n",
    "                                                    # Output:  [\"Raphael\", \"Leonardo\", \"Donatello\",\"Michelangelo\"]\n",
    "print(sort_by_length([\"Turing\", \"Einstein\", \"Jung\"]))\n",
    "                                                    # Output:  [\"Jung\", \"Turing\", \"Einstein\"]"
   ]
  },
  {
   "cell_type": "markdown",
   "id": "2d9c9f1f",
   "metadata": {},
   "source": [
    "<font size=\"3\">__5.Create a function that validates whether three given integers form a Pythagorean triplet. The sum of the squares of the two smallest integers must equal the square of the largest number to be validated.__</font><br>\n",
    "__Examples:<br>\n",
    "is_triplet(3, 4, 5) ➞ True # 3² + 4² = 25 # 5² = 25 <br>\n",
    "is_triplet(13, 5, 12) ➞ True # 5² + 12² = 169 # 13² = 169<br> \n",
    "is_triplet(1, 2, 3) ➞ False # 1² + 2² = 5 # 3² = 9__\n",
    "\n",
    "__Notes: Numbers may not be given in a sorted order.__"
   ]
  },
  {
   "cell_type": "code",
   "execution_count": 8,
   "id": "db07ad43",
   "metadata": {},
   "outputs": [
    {
     "name": "stdout",
     "output_type": "stream",
     "text": [
      "True\n",
      "True\n",
      "False\n"
     ]
    }
   ],
   "source": [
    "def is_triplet(a, b, c):\n",
    "    nums = [a, b, c]\n",
    "    nums.sort()\n",
    "    return nums[0]**2 + nums[1]**2 == nums[2]**2\n",
    "\n",
    "\n",
    "print(is_triplet(3, 4, 5))  # Output:  True, 3² + 4² = 25 # 5² = 25\n",
    "print(is_triplet(13, 5, 12))  # Output:  True, 5² + 12² = 169 # 13² = 169\n",
    "print(is_triplet(1, 2, 3))  # Output:  False, 1² + 2² = 5 # 3² = 9"
   ]
  },
  {
   "cell_type": "code",
   "execution_count": null,
   "id": "ee94ca7d",
   "metadata": {},
   "outputs": [],
   "source": []
  }
 ],
 "metadata": {
  "kernelspec": {
   "display_name": "Python 3 (ipykernel)",
   "language": "python",
   "name": "python3"
  },
  "language_info": {
   "codemirror_mode": {
    "name": "ipython",
    "version": 3
   },
   "file_extension": ".py",
   "mimetype": "text/x-python",
   "name": "python",
   "nbconvert_exporter": "python",
   "pygments_lexer": "ipython3",
   "version": "3.10.9"
  }
 },
 "nbformat": 4,
 "nbformat_minor": 5
}
