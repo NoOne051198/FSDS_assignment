{
 "cells": [
  {
   "cell_type": "markdown",
   "id": "cdcd13ee",
   "metadata": {},
   "source": [
    "# Assignment - 09 Solution "
   ]
  },
  {
   "cell_type": "markdown",
   "id": "c73450fb",
   "metadata": {},
   "source": [
    "<font size = 3>__1. Write a Python program to check if the given number is a Disarium Number?__</font>"
   ]
  },
  {
   "cell_type": "code",
   "execution_count": 6,
   "id": "edc7a002",
   "metadata": {},
   "outputs": [
    {
     "name": "stdout",
     "output_type": "stream",
     "text": [
      "True\n",
      "True\n",
      "True\n",
      "False\n"
     ]
    }
   ],
   "source": [
    "def is_disarium(n):\n",
    "    \"\"\"\n",
    "    This function checks if a given number is a Disarium Number or not.\n",
    "    \"\"\"\n",
    "    # Find the number of digits in n\n",
    "    num_digits = len(str(n))\n",
    "    \n",
    "    # Initialize the sum of powers of digits to 0\n",
    "    sum_powers = 0\n",
    "    power_digit = 1\n",
    "    \n",
    "    # Iterate over the digits of n\n",
    "    for digit in str(n):\n",
    "        # Convert the digit to an integer\n",
    "        digit_int = int(digit)\n",
    "        \n",
    "        # Add the power of digit to the sum\n",
    "        sum_powers += digit_int ** power_digit\n",
    "        \n",
    "        # Increment the power of digits\n",
    "        power_digit += 1\n",
    "    \n",
    "    # Check if the sum of powers is equal to the given number\n",
    "    if sum_powers == n:\n",
    "        return True\n",
    "    else:\n",
    "        return False\n",
    "\n",
    "# Test the function with some examples\n",
    "print(is_disarium(135))   # True\n",
    "print(is_disarium(175))   # True\n",
    "print(is_disarium(518))   # True\n",
    "print(is_disarium(466))   # False\n"
   ]
  },
  {
   "cell_type": "markdown",
   "id": "239e6de3",
   "metadata": {},
   "source": [
    "<font size = 3>__2. Write a Python program to print all disarium numbers between 1 to 100?__</font>"
   ]
  },
  {
   "cell_type": "code",
   "execution_count": 7,
   "id": "a33e38a4",
   "metadata": {},
   "outputs": [
    {
     "name": "stdout",
     "output_type": "stream",
     "text": [
      "1\n",
      "2\n",
      "3\n",
      "4\n",
      "5\n",
      "6\n",
      "7\n",
      "8\n",
      "9\n",
      "89\n"
     ]
    }
   ],
   "source": [
    "def is_disarium(n):\n",
    "    \"\"\"\n",
    "    This function checks if a given number is a Disarium Number or not.\n",
    "    \"\"\"\n",
    "    # Find the number of digits in n\n",
    "    num_digits = len(str(n))\n",
    "    \n",
    "    # Initialize the sum of powers of digits to 0\n",
    "    sum_powers = 0\n",
    "    power_digit = 1\n",
    "    \n",
    "    # Iterate over the digits of n\n",
    "    for digit in str(n):\n",
    "        # Convert the digit to an integer\n",
    "        digit_int = int(digit)\n",
    "        \n",
    "        # Add the power of digit to the sum\n",
    "        sum_powers += digit_int ** power_digit\n",
    "        \n",
    "        # Increment the power of digits\n",
    "        power_digit += 1\n",
    "    \n",
    "    # Check if the sum of powers is equal to the given number\n",
    "    if sum_powers == n:\n",
    "        return True\n",
    "    else:\n",
    "        return False\n",
    "\n",
    "# Print all Disarium numbers between 1 and 100\n",
    "for i in range(1, 101):\n",
    "    if is_disarium(i):\n",
    "        print(i)\n"
   ]
  },
  {
   "cell_type": "markdown",
   "id": "f672b950",
   "metadata": {},
   "source": [
    "<font size = 3>__3. Write a Python program to check if the given number is Happy Number?__</font>"
   ]
  },
  {
   "cell_type": "code",
   "execution_count": 8,
   "id": "a4421692",
   "metadata": {},
   "outputs": [
    {
     "name": "stdout",
     "output_type": "stream",
     "text": [
      "True\n",
      "True\n",
      "False\n"
     ]
    }
   ],
   "source": [
    "def is_happy(n):\n",
    "    \"\"\"\n",
    "    This function checks if a given number is a Happy Number or not.\n",
    "    \"\"\"\n",
    "    # Initialize a set to keep track of seen numbers\n",
    "    seen = set()\n",
    "    \n",
    "    # Loop until the number becomes 1 (a happy number)\n",
    "    while n != 1:\n",
    "        # If the number has been seen before, then it is not a happy number\n",
    "        if n in seen:\n",
    "            return False\n",
    "        \n",
    "        # Add the number to the set of seen numbers\n",
    "        seen.add(n)\n",
    "        \n",
    "        # Calculate the sum of squares of digits of n\n",
    "        sum_squares = 0\n",
    "        for digit in str(n):\n",
    "            sum_squares += int(digit) ** 2\n",
    "        \n",
    "        # Set n to the sum of squares of digits\n",
    "        n = sum_squares\n",
    "    \n",
    "    # The number is 1 (a happy number)\n",
    "    return True\n",
    "\n",
    "# Test the function with some examples\n",
    "print(is_happy(19))   # True\n",
    "print(is_happy(7))    # True\n",
    "print(is_happy(4))    # False\n"
   ]
  },
  {
   "cell_type": "markdown",
   "id": "49350d3b",
   "metadata": {},
   "source": [
    "<font size = 3>__4. Write a Python program to print all happy numbers between 1 and 100?__</font>"
   ]
  },
  {
   "cell_type": "code",
   "execution_count": 9,
   "id": "b972b7bf",
   "metadata": {},
   "outputs": [
    {
     "name": "stdout",
     "output_type": "stream",
     "text": [
      "1\n",
      "7\n",
      "10\n",
      "13\n",
      "19\n",
      "23\n",
      "28\n",
      "31\n",
      "32\n",
      "44\n",
      "49\n",
      "68\n",
      "70\n",
      "79\n",
      "82\n",
      "86\n",
      "91\n",
      "94\n",
      "97\n",
      "100\n"
     ]
    }
   ],
   "source": [
    "def is_happy(n):\n",
    "    \"\"\"\n",
    "    This function checks if a given number is a Happy Number or not.\n",
    "    \"\"\"\n",
    "    # Initialize a set to keep track of seen numbers\n",
    "    seen = set()\n",
    "    \n",
    "    # Loop until the number becomes 1 (a happy number)\n",
    "    while n != 1:\n",
    "        # If the number has been seen before, then it is not a happy number\n",
    "        if n in seen:\n",
    "            return False\n",
    "        \n",
    "        # Add the number to the set of seen numbers\n",
    "        seen.add(n)\n",
    "        \n",
    "        # Calculate the sum of squares of digits of n\n",
    "        sum_squares = 0\n",
    "        for digit in str(n):\n",
    "            sum_squares += int(digit) ** 2\n",
    "        \n",
    "        # Set n to the sum of squares of digits\n",
    "        n = sum_squares\n",
    "    \n",
    "    # The number is 1 (a happy number)\n",
    "    return True\n",
    "\n",
    "# Print all Happy Numbers between 1 and 100\n",
    "for i in range(1, 101):\n",
    "    if is_happy(i):\n",
    "        print(i)\n"
   ]
  },
  {
   "cell_type": "markdown",
   "id": "3d8b729f",
   "metadata": {},
   "source": [
    "<font size = 3>__5. Write a Python program to determine whether the given number is a Harshad Number?__</font>"
   ]
  },
  {
   "cell_type": "code",
   "execution_count": 10,
   "id": "bf63f188",
   "metadata": {},
   "outputs": [
    {
     "name": "stdout",
     "output_type": "stream",
     "text": [
      "True\n",
      "False\n",
      "False\n"
     ]
    }
   ],
   "source": [
    "def is_harshad(n):\n",
    "    \"\"\"\n",
    "    This function checks if a given number is a Harshad Number or not.\n",
    "    \"\"\"\n",
    "    # Calculate the sum of digits of n\n",
    "    sum_digits = sum(int(digit) for digit in str(n))\n",
    "    \n",
    "    # Check if n is divisible by the sum of its digits\n",
    "    return n % sum_digits == 0\n",
    "\n",
    "# Test the function with some examples\n",
    "print(is_harshad(18))   # True\n",
    "print(is_harshad(19))   # False\n",
    "print(is_harshad(202))  # False\n"
   ]
  },
  {
   "cell_type": "markdown",
   "id": "10305b0b",
   "metadata": {},
   "source": [
    "<font size = 3>__6. Write a Python program to print all pronic numbers between 1 and 100?__</font>"
   ]
  },
  {
   "cell_type": "code",
   "execution_count": 11,
   "id": "07f20e5d",
   "metadata": {},
   "outputs": [
    {
     "name": "stdout",
     "output_type": "stream",
     "text": [
      "2\n",
      "6\n",
      "12\n",
      "20\n",
      "30\n",
      "42\n",
      "56\n",
      "72\n",
      "90\n"
     ]
    }
   ],
   "source": [
    "def is_pronic(n):\n",
    "    \"\"\"\n",
    "    This function checks if a given number is a pronic number or not.\n",
    "    \"\"\"\n",
    "    # Find the square root of n\n",
    "    sqrt_n = int(n ** 0.5)\n",
    "    \n",
    "    # Check if n is a product of two consecutive integers\n",
    "    return n == sqrt_n * (sqrt_n + 1)\n",
    "\n",
    "# Print all pronic numbers between 1 and 100\n",
    "for i in range(1, 101):\n",
    "    if is_pronic(i):\n",
    "        print(i)\n"
   ]
  },
  {
   "cell_type": "code",
   "execution_count": null,
   "id": "73e5fbde",
   "metadata": {},
   "outputs": [],
   "source": []
  }
 ],
 "metadata": {
  "kernelspec": {
   "display_name": "Python 3 (ipykernel)",
   "language": "python",
   "name": "python3"
  },
  "language_info": {
   "codemirror_mode": {
    "name": "ipython",
    "version": 3
   },
   "file_extension": ".py",
   "mimetype": "text/x-python",
   "name": "python",
   "nbconvert_exporter": "python",
   "pygments_lexer": "ipython3",
   "version": "3.10.9"
  }
 },
 "nbformat": 4,
 "nbformat_minor": 5
}
