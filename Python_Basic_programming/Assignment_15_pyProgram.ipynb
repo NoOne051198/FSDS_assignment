{
 "cells": [
  {
   "cell_type": "markdown",
   "id": "3352664d",
   "metadata": {},
   "source": [
    "# Assignment - 15 Solution"
   ]
  },
  {
   "cell_type": "markdown",
   "id": "743161f1",
   "metadata": {},
   "source": [
    "<font size=\"3\">__1. Please write a program using generator to print the numbers which can be divisible by 5 and 7 between 0 and n in comma separated form while n is input by console ?__</font><br>\n",
    "__Example:__<br>\n",
    "__If the following n is given as input to the program: 100__<br>\n",
    "__Then, the output of the program should be: 0,35,70__<br>"
   ]
  },
  {
   "cell_type": "code",
   "execution_count": 1,
   "id": "f785ffd3",
   "metadata": {},
   "outputs": [
    {
     "name": "stdout",
     "output_type": "stream",
     "text": [
      "Enter a number: 100\n",
      "0,35,70\n"
     ]
    }
   ],
   "source": [
    "def divisible_by_5_7(n):\n",
    "    for i in range(n+1):\n",
    "        if i % 5 == 0 and i % 7 == 0:\n",
    "            yield i\n",
    "\n",
    "n = int(input(\"Enter a number: \"))\n",
    "result = [str(i) for i in divisible_by_5_7(n)]\n",
    "print(\",\".join(result))\n"
   ]
  },
  {
   "cell_type": "markdown",
   "id": "b9375705",
   "metadata": {},
   "source": [
    "<font size=\"3\">__2.Please write a program using generator to print the even numbers between 0 and n in comma separated form while n is input by console ?__</font><br>\n",
    "__Example:__<br>\n",
    "__If the following n is given as input to the program: 10__<br>\n",
    "__Then, the output of the program should be: 0,2,4,6,8,10__<br>"
   ]
  },
  {
   "cell_type": "code",
   "execution_count": 2,
   "id": "1fea7582",
   "metadata": {},
   "outputs": [
    {
     "name": "stdout",
     "output_type": "stream",
     "text": [
      "Enter a number: 10\n",
      "0,2,4,6,8,10\n"
     ]
    }
   ],
   "source": [
    "def even_numbers(n):\n",
    "    for i in range(n+1):\n",
    "        if i % 2 == 0:\n",
    "            yield i\n",
    "\n",
    "n = int(input(\"Enter a number: \"))\n",
    "result = \",\".join(str(num) for num in even_numbers(n))\n",
    "print(result)\n"
   ]
  },
  {
   "cell_type": "markdown",
   "id": "69e36bd9",
   "metadata": {},
   "source": [
    "<font size=\"3\">__3.The Fibonacci Sequence is computed based on the following formula below, Please write a program using list comprehension to print the Fibonacci Sequence in comma separated form with a given n input by console ?__</font><br>\n",
    "__f(n)=0 if n=0 f(n)=1 if n=1 f(n)=f(n-1)+f(n-2) if n>1__"
   ]
  },
  {
   "cell_type": "code",
   "execution_count": 4,
   "id": "33d59691",
   "metadata": {},
   "outputs": [
    {
     "name": "stdout",
     "output_type": "stream",
     "text": [
      "Enter a value for n: 10\n",
      "0,1,1,2,3,5,8,13,21,34,55\n"
     ]
    }
   ],
   "source": [
    "n = int(input(\"Enter a value for n: \"))\n",
    "\n",
    "fib = [0, 1]\n",
    "[fib.append(fib[-1] + fib[-2]) for i in range(n - 1)]\n",
    "\n",
    "print(','.join(str(f) for f in fib))\n",
    "\n"
   ]
  },
  {
   "cell_type": "markdown",
   "id": "4555ef5c",
   "metadata": {},
   "source": [
    "<font size=\"3\">__4.Assuming that we have some email addresses in the \"username@companyname.com\" format, please write program to print the user name of a given email address. Both user names and company names are composed of letters only ?__</font><br>\n",
    "__Example:__<br>\n",
    "__If the following email address is given as input to the program: john@google.com__<br>\n",
    "__Then, the output of the program should be: john__<br>"
   ]
  },
  {
   "cell_type": "code",
   "execution_count": 5,
   "id": "7b1d60ee",
   "metadata": {},
   "outputs": [
    {
     "name": "stdout",
     "output_type": "stream",
     "text": [
      "Enter an email address: bhudeep@gmail.com\n",
      "bhudeep\n"
     ]
    }
   ],
   "source": [
    "email = input(\"Enter an email address: \")\n",
    "username = email.split(\"@\")[0]\n",
    "print(username)\n"
   ]
  },
  {
   "cell_type": "markdown",
   "id": "87f797a1",
   "metadata": {},
   "source": [
    "<font size=\"3\">__5.Define a class named Shape and its subclass Square. The Square class has an init function which takes a length as argument. Both classes have a area function which can print the area of the shape where Shape's area is 0 by default.__</font><br>"
   ]
  },
  {
   "cell_type": "code",
   "execution_count": 10,
   "id": "9205e7dc",
   "metadata": {},
   "outputs": [
    {
     "name": "stdout",
     "output_type": "stream",
     "text": [
      "Enter the length of the Square : 7\n",
      "Area of the square is :  49\n"
     ]
    }
   ],
   "source": [
    "class Shape:\n",
    "    def area(self):\n",
    "        return 0\n",
    "\n",
    "class Square(Shape):\n",
    "    def __init__(self, length):\n",
    "        self.length = length\n",
    "\n",
    "    def area(self):\n",
    "        return self.length**2\n",
    "\n",
    "lenth_sq = int(input(\"Enter the length of the Square : \"))\n",
    "area_sq = Square(lenth_sq).area()\n",
    "print(\"Area of the square is : \",area_sq)"
   ]
  },
  {
   "cell_type": "code",
   "execution_count": null,
   "id": "059a013d",
   "metadata": {},
   "outputs": [],
   "source": []
  }
 ],
 "metadata": {
  "kernelspec": {
   "display_name": "Python 3 (ipykernel)",
   "language": "python",
   "name": "python3"
  },
  "language_info": {
   "codemirror_mode": {
    "name": "ipython",
    "version": 3
   },
   "file_extension": ".py",
   "mimetype": "text/x-python",
   "name": "python",
   "nbconvert_exporter": "python",
   "pygments_lexer": "ipython3",
   "version": "3.10.9"
  }
 },
 "nbformat": 4,
 "nbformat_minor": 5
}
