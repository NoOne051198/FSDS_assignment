{
 "cells": [
  {
   "cell_type": "markdown",
   "id": "badddee3",
   "metadata": {},
   "source": [
    "# Assignment - 06 Solution"
   ]
  },
  {
   "cell_type": "markdown",
   "id": "bbc132ab",
   "metadata": {},
   "source": [
    "<font size=\"3\">__1. Write a Python Program to Display Fibonacci Sequence using Recursion ?__</font><br>"
   ]
  },
  {
   "cell_type": "code",
   "execution_count": 21,
   "id": "93789b7e",
   "metadata": {},
   "outputs": [
    {
     "name": "stdout",
     "output_type": "stream",
     "text": [
      "Enter the length of Series: 10\n",
      "0  1  1  2   3  5  8  13  21  34  "
     ]
    }
   ],
   "source": [
    "# Fibonacci Sequence using Recursion\n",
    "def gen_fib(num,a,b):\n",
    "    if num == 0:\n",
    "        return 1\n",
    "    else:\n",
    "        r = a+b\n",
    "        print(r, end='  ')\n",
    "        gen_fib(num-1,b,r)\n",
    "in_num = int(input('Enter the length of Series: '))\n",
    "print('0  1  1  2 ',end='  ')\n",
    "gen_fib(in_num-4,1,2)"
   ]
  },
  {
   "cell_type": "markdown",
   "id": "716cfaf7",
   "metadata": {},
   "source": [
    "<font size=\"3\">__2. Write a Python Program to Find Factorial of a Number using Recursion ?__ </font><br>"
   ]
  },
  {
   "cell_type": "code",
   "execution_count": 29,
   "id": "2c9c5d95",
   "metadata": {},
   "outputs": [
    {
     "name": "stdout",
     "output_type": "stream",
     "text": [
      "Enter a Number: 5\n",
      "120 is the factorial of 5\n"
     ]
    }
   ],
   "source": [
    "# Factorial of a number using Recursion\n",
    "def get_factorial(num):\n",
    "    if (num < 1):\n",
    "        return 1\n",
    "    else:\n",
    "        return num*get_factorial(num-1)\n",
    "num = int(input('Enter a Number: '))\n",
    "value = get_factorial(num)\n",
    "print('{} is the factorial of {}'.format(value,num))"
   ]
  },
  {
   "cell_type": "markdown",
   "id": "c83c908c",
   "metadata": {},
   "source": [
    "<font size=\"3\">__3. Write a Python Program to Calculate your Body Mass Index ?__ </font><br>"
   ]
  },
  {
   "cell_type": "code",
   "execution_count": 34,
   "id": "a59ad7de",
   "metadata": {},
   "outputs": [
    {
     "name": "stdout",
     "output_type": "stream",
     "text": [
      "Enter your Weight in kgs : 65\n",
      "Enter your Height in mts : 1.77\n",
      "\n",
      "Your Body Mass Index is 20.747550193111813, and you are Healthy.\n"
     ]
    }
   ],
   "source": [
    "# Calculate Body Mass Index\n",
    "def cal_BMI():\n",
    "    weight = float(input('Enter your Weight in kgs : '))\n",
    "    height = float(input('Enter your Height in mts : '))\n",
    "    bmi = weight/pow(height,2)\n",
    "    if (bmi < 18.5):\n",
    "        status = 'Underweight'\n",
    "    elif (bmi >= 18.5 and bmi < 24.9):\n",
    "        status = 'Healthy'\n",
    "    elif (bmi >= 24.9 and bmi < 30):\n",
    "        status = 'Overweight'\n",
    "    elif (bmi >=30):\n",
    "        status = 'Suffering from Obesity'\n",
    "    print('\\nYour Body Mass Index is {}, and you are {}.'.format(bmi,status))\n",
    "cal_BMI()"
   ]
  },
  {
   "cell_type": "markdown",
   "id": "eec4ce6a",
   "metadata": {},
   "source": [
    "<font size=\"3\">__4. Write a Python Program to Calculate the Natural Logarithm of any Number ?__ </font><br>"
   ]
  },
  {
   "cell_type": "code",
   "execution_count": 37,
   "id": "735a963b",
   "metadata": {},
   "outputs": [
    {
     "name": "stdout",
     "output_type": "stream",
     "text": [
      "Enter Number : 2.71828\n",
      "0.999999327347282 is the Natural Logarithm of 2.71828\n"
     ]
    }
   ],
   "source": [
    "# Natural Logarithm of any Number\n",
    "import math\n",
    "def nat_log():\n",
    "    num = float(input('Enter Number : '))\n",
    "    ln = math.log(num)\n",
    "    print(\"{} is the Natural Logarithm of {}\".format(ln,num))\n",
    "nat_log()  \n"
   ]
  },
  {
   "cell_type": "markdown",
   "id": "3408d7c4",
   "metadata": {},
   "source": [
    "<font size=\"3\">__5. Write a Python Program for Cube sum of first n Natural Numbers ?__ </font><br>"
   ]
  },
  {
   "cell_type": "code",
   "execution_count": 39,
   "id": "be8b9fdc",
   "metadata": {},
   "outputs": [
    {
     "name": "stdout",
     "output_type": "stream",
     "text": [
      "Enter the number, where you want to find cube sum :  5\n",
      "225.0 is the Cube Sum of First 5 Natural Numbers.\n"
     ]
    }
   ],
   "source": [
    "# Cube sum of first n Numbers\n",
    "def cube_sum():\n",
    "    num = int(input(\"Enter the number, where you want to find cube sum :  \"))\n",
    "    result = pow(((num * (num +1))/2),2)\n",
    "    print(f'{result} is the Cube Sum of First {num} Natural Numbers.')\n",
    "\n",
    "cube_sum()"
   ]
  },
  {
   "cell_type": "code",
   "execution_count": null,
   "id": "d347495a",
   "metadata": {},
   "outputs": [],
   "source": []
  }
 ],
 "metadata": {
  "kernelspec": {
   "display_name": "Python 3 (ipykernel)",
   "language": "python",
   "name": "python3"
  },
  "language_info": {
   "codemirror_mode": {
    "name": "ipython",
    "version": 3
   },
   "file_extension": ".py",
   "mimetype": "text/x-python",
   "name": "python",
   "nbconvert_exporter": "python",
   "pygments_lexer": "ipython3",
   "version": "3.10.9"
  }
 },
 "nbformat": 4,
 "nbformat_minor": 5
}
