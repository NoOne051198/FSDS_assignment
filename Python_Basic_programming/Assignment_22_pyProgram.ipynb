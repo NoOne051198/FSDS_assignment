{
 "cells": [
  {
   "cell_type": "markdown",
   "id": "d45a30cf",
   "metadata": {},
   "source": [
    "# Assignment - 22 Solution "
   ]
  },
  {
   "cell_type": "markdown",
   "id": "89858c60",
   "metadata": {},
   "source": [
    "<font size=\"3\">__1.Create a function that takes three parameters where:<br>\n",
    "x is the start of the range (inclusive).<br>\n",
    "y is the end of the range (inclusive).<br>\n",
    "n is the divisor to be checked against.__</font><br>\n",
    "\n",
    "__Return an ordered list with numbers in the range that are divisible by the third parameter n. Return an empty list if there are no numbers that are divisible by n.__</font><br>\n",
    "__Examples:<br>\n",
    "list_operation(1, 10, 3) ➞ [3, 6, 9]<br>\n",
    "list_operation(7, 9, 2) ➞ [8]<br>\n",
    "list_operation(15, 20, 7) ➞ []__"
   ]
  },
  {
   "cell_type": "code",
   "execution_count": 1,
   "id": "d8ef2be0",
   "metadata": {},
   "outputs": [
    {
     "name": "stdout",
     "output_type": "stream",
     "text": [
      "[3, 6, 9]\n",
      "[8]\n",
      "[]\n"
     ]
    }
   ],
   "source": [
    "def list_operation(x, y, n):\n",
    "    return [i for i in range(x, y+1) if i%n == 0]\n",
    "\n",
    "\n",
    "print(list_operation(1, 10, 3)) #  [3, 6, 9]\n",
    "print(list_operation(7, 9, 2)) #  [8]\n",
    "print(list_operation(15, 20, 7)) #  []"
   ]
  },
  {
   "cell_type": "markdown",
   "id": "27ce6d67",
   "metadata": {},
   "source": [
    "<font size=\"3\">__2.Create a function that takes in two lists and returns True if the second list follows the first list by one element, and False otherwise. In other words, determine if the second list is the first list shifted to the right by 1.__</font><br>\n",
    "__Examples:<br>\n",
    "simon_says([1, 2], [5, 1]) ➞ True<br>\n",
    "simon_says([1, 2], [5, 5]) ➞ False<br>\n",
    "simon_says([1, 2, 3, 4, 5], [0, 1, 2, 3, 4]) ➞ True<br>\n",
    "simon_says([1, 2, 3, 4, 5], [5, 5, 1, 2, 3]) ➞ False__\n",
    "\n",
    "__Notes:__\n",
    "1. __Both input lists will be of the same length, and will have a minimum length of 2.__\n",
    "2. __The values of the 0-indexed element in the second list and the n-1th indexed element in the first list do not matter.__"
   ]
  },
  {
   "cell_type": "code",
   "execution_count": 2,
   "id": "99b259ac",
   "metadata": {},
   "outputs": [
    {
     "name": "stdout",
     "output_type": "stream",
     "text": [
      "True\n",
      "False\n",
      "True\n",
      "False\n"
     ]
    }
   ],
   "source": [
    "def simon_says(lst1, lst2):\n",
    "    return lst1[:-1] == lst2[1:]\n",
    "\n",
    "\n",
    "print(simon_says([1, 2], [5, 1]))  # True\n",
    "print(simon_says([1, 2], [5, 5]))  # False\n",
    "print(simon_says([1, 2, 3, 4, 5], [0, 1, 2, 3, 4]))  # True\n",
    "print(simon_says([1, 2, 3, 4, 5], [5, 5, 1, 2, 3]))  # False"
   ]
  },
  {
   "cell_type": "markdown",
   "id": "0ea98442",
   "metadata": {},
   "source": [
    "<font size=\"3\">__3.A group of friends have decided to start a secret society. The name will be the first letter of each of their names, sorted in a alphabetical order ? Create a function that takes in a list of names and returns the name of the secret society ?__</font><br>\n",
    "__Examples:<br>\n",
    "society_name([\"Adam\", \"Sarah\", \"Malcolm\"]) ➞ \"AMS\"<br>\n",
    "society_name([\"Harry\", \"Newt\", \"Luna\", \"Cho\"]) ➞ \"CHLN\"<br>\n",
    "society_name([\"Phoebe\", \"Chandler\", \"Rachel\", \"Ross\", \"Monica\", \"Joey\"])  ➞ \"CJMPRR\"__"
   ]
  },
  {
   "cell_type": "code",
   "execution_count": 3,
   "id": "c2806ed5",
   "metadata": {},
   "outputs": [
    {
     "name": "stdout",
     "output_type": "stream",
     "text": [
      "AMS\n",
      "CHLN\n",
      "CJMPRR\n"
     ]
    }
   ],
   "source": [
    "def society_name(names):\n",
    "    letters = [name[0] for name in names]\n",
    "    return ''.join(sorted(letters))\n",
    "\n",
    "\n",
    "print(society_name([\"Adam\", \"Sarah\", \"Malcolm\"])) \n",
    "\n",
    "print(society_name([\"Harry\", \"Newt\", \"Luna\", \"Cho\"]))\n",
    "\n",
    "print(society_name([\"Phoebe\", \"Chandler\", \"Rachel\", \"Ross\", \"Monica\", \"Joey\"]))\n",
    "\n"
   ]
  },
  {
   "cell_type": "markdown",
   "id": "48201f75",
   "metadata": {},
   "source": [
    "<font size=\"3\">__4.An isogram is a word that has no duplicate letters. Create a function that takes a string and returns either True or False depending on whether or not it's an \"isogram\".__</font><br>\n",
    "\n",
    "__Examples:\n",
    "is_isogram(\"Algorism\") ➞ True<br>\n",
    "is_isogram(\"PasSword\") ➞ False<br>\n",
    "Not case sensitive.<br>\n",
    "is_isogram(\"Consecutive\") ➞ False__\n",
    "\n",
    "__Notes:<br>\n",
    "Ignore letter case (should not be case sensitive).<br>\n",
    "All test cases contain valid one word strings.__"
   ]
  },
  {
   "cell_type": "code",
   "execution_count": 4,
   "id": "3d402b29",
   "metadata": {},
   "outputs": [
    {
     "name": "stdout",
     "output_type": "stream",
     "text": [
      "True\n",
      "False\n",
      "False\n",
      "True\n",
      "False\n"
     ]
    }
   ],
   "source": [
    "def is_isogram(txt):\n",
    "    # Convert the input string to lowercase to make it case-insensitive\n",
    "    txt = txt.lower()\n",
    "    # Loop through each character in the string\n",
    "    for char in txt:\n",
    "        # If the character appears more than once, return False\n",
    "        if txt.count(char) > 1:\n",
    "            return False\n",
    "    # If no duplicate characters were found, return True\n",
    "    return True\n",
    "\n",
    "\n",
    "print(is_isogram(\"Algorism\"))  # True\n",
    "print(is_isogram(\"PasSword\"))  # False\n",
    "print(is_isogram(\"Consecutive\"))  # False\n",
    "print(is_isogram(\"isogram\"))  # True\n",
    "print(is_isogram(\"aba\"))  # False\n"
   ]
  },
  {
   "cell_type": "markdown",
   "id": "5519e879",
   "metadata": {},
   "source": [
    "<font size=\"3\">__5.Create a function that takes a string and returns True or False, depending on whether the characters are in order or not ?__</font><br>\n",
    "\n",
    "__Examples:<br>\n",
    "is_in_order(\"abc\") ➞ True<br>\n",
    "is_in_order(\"edabit\") ➞ False<br>\n",
    "is_in_order(\"123\") ➞ True<br>\n",
    "is_in_order(\"xyzz\") ➞ True__\n",
    "\n",
    "__Notes:<br>\n",
    "You don't have to handle empty strings.__"
   ]
  },
  {
   "cell_type": "code",
   "execution_count": 5,
   "id": "9a986bce",
   "metadata": {},
   "outputs": [
    {
     "name": "stdout",
     "output_type": "stream",
     "text": [
      "True\n",
      "False\n",
      "True\n",
      "True\n"
     ]
    }
   ],
   "source": [
    "def is_in_order(txt):\n",
    "    return txt == ''.join(sorted(txt))\n",
    "\n",
    "\n",
    "print(is_in_order(\"abc\"))  # True\n",
    "\n",
    "print(is_in_order(\"edabit\"))  # False\n",
    "\n",
    "print(is_in_order(\"123\"))  # True\n",
    "\n",
    "print(is_in_order(\"xyzz\"))  # True"
   ]
  },
  {
   "cell_type": "code",
   "execution_count": null,
   "id": "27fa9cff",
   "metadata": {},
   "outputs": [],
   "source": []
  }
 ],
 "metadata": {
  "kernelspec": {
   "display_name": "Python 3 (ipykernel)",
   "language": "python",
   "name": "python3"
  },
  "language_info": {
   "codemirror_mode": {
    "name": "ipython",
    "version": 3
   },
   "file_extension": ".py",
   "mimetype": "text/x-python",
   "name": "python",
   "nbconvert_exporter": "python",
   "pygments_lexer": "ipython3",
   "version": "3.10.9"
  }
 },
 "nbformat": 4,
 "nbformat_minor": 5
}
