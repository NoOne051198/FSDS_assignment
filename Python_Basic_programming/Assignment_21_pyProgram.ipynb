{
 "cells": [
  {
   "cell_type": "markdown",
   "id": "c517c9dd",
   "metadata": {},
   "source": [
    "# Assignment - 21 Solution "
   ]
  },
  {
   "cell_type": "markdown",
   "id": "63fd33af",
   "metadata": {},
   "source": [
    "<font size=\"3\">__1.Write a function that takes a list and a number as arguments. Add the number to the end of the list, then remove the first element of the list. The function should then return the updated list.__</font><br>\n",
    "__Examples:<br>\n",
    "next_in_line([5, 6, 7, 8, 9], 1) ➞ [6, 7, 8, 9, 1]<br>\n",
    "next_in_line([7, 6, 3, 23, 17], 10) ➞ [6, 3, 23, 17, 10]<br>\n",
    "next_in_line([1, 10, 20, 42 ], 6) ➞ [10, 20, 42, 6]<br>\n",
    "next_in_line([], 6) ➞ \"No list has been selected\"__"
   ]
  },
  {
   "cell_type": "code",
   "execution_count": 1,
   "id": "f9130344",
   "metadata": {},
   "outputs": [
    {
     "name": "stdout",
     "output_type": "stream",
     "text": [
      "[6, 7, 8, 9, 1]\n",
      "[6, 3, 23, 17, 10]\n",
      "[10, 20, 42, 6]\n",
      "No list has been selected\n"
     ]
    }
   ],
   "source": [
    "def next_in_line(lst, num):\n",
    "    if not lst:\n",
    "        return \"No list has been selected\"\n",
    "    lst.pop(0)\n",
    "    lst.append(num)\n",
    "    return lst\n",
    "\n",
    "\n",
    "print(next_in_line([5, 6, 7, 8, 9], 1))   #   [6, 7, 8, 9, 1])\n",
    "\n",
    "print(next_in_line([7, 6, 3, 23, 17], 10))   #   [6, 3, 23, 17, 10])\n",
    "\n",
    "print(next_in_line([1, 10, 20, 42 ], 6))   #   [10, 20, 42, 6])\n",
    "\n",
    "print(next_in_line([], 6))   #   \"No list has been selected\")"
   ]
  },
  {
   "cell_type": "markdown",
   "id": "d2b5945b",
   "metadata": {},
   "source": [
    "<font size=\"3\">__2.Create the function that takes a list of dictionaries and returns the sum of people's budgets.__</font><br>\n",
    "__Examples:<br>\n",
    "get_budgets([ { \"name\": \"John\", \"age\": 21, \"budget\": 23000 }, { \"name\": \"Steve\", \"age\": 32, \"budget\": 40000 }, { \"name\": \"Martin\", \"age\": 16, \"budget\": 2700 } ]) ➞ 65700__<br>\n",
    "\n",
    "__get_budgets([ { \"name\": \"John\", \"age\": 21, \"budget\": 29000 }, { \"name\": \"Steve\", \"age\": 32, \"budget\": 32000 }, { \"name\": \"Martin\", \"age\": 16, \"budget\": 1600 } ]) ➞ 62600__"
   ]
  },
  {
   "cell_type": "code",
   "execution_count": 2,
   "id": "b8215f86",
   "metadata": {},
   "outputs": [
    {
     "name": "stdout",
     "output_type": "stream",
     "text": [
      "65700\n",
      "62600\n"
     ]
    }
   ],
   "source": [
    "def get_budgets(lst):\n",
    "    total_budgets = 0\n",
    "    for person in lst:\n",
    "        total_budgets += person['budget']\n",
    "    return total_budgets\n",
    "\n",
    "\n",
    "\n",
    "print(get_budgets([{\"name\": \"John\", \"age\": 21, \"budget\": 23000}, {\"name\": \"Steve\", \"age\": 32, \"budget\": 40000}, {\"name\": \"Martin\", \"age\": 16, \"budget\": 2700}]))\n",
    "# Output: 65700\n",
    "\n",
    "print(get_budgets([{\"name\": \"John\", \"age\": 21, \"budget\": 29000}, {\"name\": \"Steve\", \"age\": 32, \"budget\": 32000}, {\"name\": \"Martin\", \"age\": 16, \"budget\": 1600}]))\n",
    "# Output: 62600\n"
   ]
  },
  {
   "cell_type": "markdown",
   "id": "9bdd1ca3",
   "metadata": {},
   "source": [
    "<font size=\"3\">__3.Create a function that takes a string and returns a string with its letters in alphabetical order.__</font><br>\n",
    "__Examples:<br>\n",
    "alphabet_soup(\"hello\") ➞ \"ehllo\"<br>\n",
    "alphabet_soup(\"edabit\") ➞ \"abdeit\"<br>\n",
    "alphabet_soup(\"hacker\") ➞ \"acehkr\"<br>\n",
    "alphabet_soup(\"geek\") ➞ \"eegk\"<br>\n",
    "alphabet_soup(\"javascript\") ➞ \"aacijprstv\"__"
   ]
  },
  {
   "cell_type": "code",
   "execution_count": 1,
   "id": "87e4ee30",
   "metadata": {},
   "outputs": [
    {
     "name": "stdout",
     "output_type": "stream",
     "text": [
      "ehllo\n",
      "abdeit\n",
      "acehkr\n",
      "eegk\n",
      "aacijprstv\n"
     ]
    }
   ],
   "source": [
    "def alphabet_soup(txt):\n",
    "    return ''.join(sorted(txt))\n",
    "\n",
    "\n",
    "print(alphabet_soup(\"hello\"))   #  \"ehllo\"\n",
    "      \n",
    "print(alphabet_soup(\"edabit\"))   #  \"abdeit\"\n",
    "      \n",
    "print(alphabet_soup(\"hacker\"))   #  \"acehkr\"\n",
    "      \n",
    "print(alphabet_soup(\"geek\"))   #  \"eegk\"\n",
    "      \n",
    "print(alphabet_soup(\"javascript\"))  #  \"aacijprstv\""
   ]
  },
  {
   "cell_type": "markdown",
   "id": "272b2d3a",
   "metadata": {},
   "source": [
    "<font size=\"3\">__4.What will be the value of your investment at the end of the 10 year period?\n",
    "Create a function that accepts the principal p, the term in years t, the interest rate r, and the number of compounding periods per year n. The function returns the value at the end of term rounded to the nearest cent.__</font><br>\n",
    "\n",
    "__For the example above:<br>\n",
    "compound_interest(10000, 10, 0.06, 12) ➞ 18193.97<br>\n",
    "Note : that the interest rate is given as a decimal and n=12 because with monthly compounding there are 12 periods per year. Compounding can also be done annually, quarterly, weekly, or daily.__\n",
    "\n",
    "__Examples:<br>\n",
    "compound_interest(100, 1, 0.05, 1) ➞ 105.0<br>\n",
    "compound_interest(3500, 15, 0.1, 4) ➞ 15399.26<br>\n",
    "compound_interest(100000, 20, 0.15, 365) ➞ 2007316.26__"
   ]
  },
  {
   "cell_type": "code",
   "execution_count": 2,
   "id": "df2eaa52",
   "metadata": {},
   "outputs": [
    {
     "name": "stdout",
     "output_type": "stream",
     "text": [
      "105.0\n",
      "15399.26\n",
      "2007316.26\n"
     ]
    }
   ],
   "source": [
    "def compound_interest(p, t, r, n):\n",
    "    A = p * pow(1 + r/n, n*t)\n",
    "    return round(A, 2)\n",
    "\n",
    "print(compound_interest(100, 1, 0.05, 1))  # 105.0\n",
    "print(compound_interest(3500, 15, 0.1, 4))  # 15399.26\n",
    "print(compound_interest(100000, 20, 0.15, 365))  # 2007316.26"
   ]
  },
  {
   "cell_type": "markdown",
   "id": "2b334b36",
   "metadata": {},
   "source": [
    "<font size=\"3\">__5.Write a function that takes a list of elements and returns only the integers.__</font><br>\n",
    "__Examples:<br>\n",
    "return_only_integer([9, 2, \"space\", \"car\", \"lion\", 16]) ➞ [9, 2, 16]<br>\n",
    "return_only_integer([\"hello\", 81, \"basketball\", 123, \"fox\"]) ➞ [81, 123]<br>\n",
    "return_only_integer([10, \"121\", 56, 20, \"car\", 3, \"lion\"]) ➞ [10, 56, 20,3]<br>\n",
    "return_only_integer([\"String\", True, 3.3, 1]) ➞ [1]__"
   ]
  },
  {
   "cell_type": "code",
   "execution_count": 4,
   "id": "496e13b8",
   "metadata": {},
   "outputs": [
    {
     "name": "stdout",
     "output_type": "stream",
     "text": [
      "[9, 2, 16]\n",
      "[81, 123]\n",
      "[10, 56, 20, 3]\n",
      "[True, 1]\n"
     ]
    }
   ],
   "source": [
    "def return_only_integer(lst):\n",
    "    return [x for x in lst if isinstance(x, int)]\n",
    "\n",
    "\n",
    "print(return_only_integer([9, 2, \"space\", \"car\", \"lion\", 16]))  #  [9, 2, 16]\n",
    "print(return_only_integer([\"hello\", 81, \"basketball\", 123, \"fox\"]))  #  [81, 123]\n",
    "print(return_only_integer([10, \"121\", 56, 20, \"car\", 3, \"lion\"]))  #  [10, 56, 20,3]\n",
    "print(return_only_integer([\"String\", True, 3.3, 1]))  #  [1]"
   ]
  },
  {
   "cell_type": "code",
   "execution_count": null,
   "id": "c7a677e9",
   "metadata": {},
   "outputs": [],
   "source": []
  }
 ],
 "metadata": {
  "kernelspec": {
   "display_name": "Python 3 (ipykernel)",
   "language": "python",
   "name": "python3"
  },
  "language_info": {
   "codemirror_mode": {
    "name": "ipython",
    "version": 3
   },
   "file_extension": ".py",
   "mimetype": "text/x-python",
   "name": "python",
   "nbconvert_exporter": "python",
   "pygments_lexer": "ipython3",
   "version": "3.10.9"
  }
 },
 "nbformat": 4,
 "nbformat_minor": 5
}
