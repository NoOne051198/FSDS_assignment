{
 "cells": [
  {
   "cell_type": "markdown",
   "id": "f50abc77",
   "metadata": {},
   "source": [
    "# Assignment - 12 Solution "
   ]
  },
  {
   "cell_type": "markdown",
   "id": "8a5ec54a",
   "metadata": {},
   "source": [
    "<font size=\"3\">__1.Write a Python program to Extract Unique values dictionary values?__</font>"
   ]
  },
  {
   "cell_type": "code",
   "execution_count": 1,
   "id": "7b129696",
   "metadata": {},
   "outputs": [
    {
     "name": "stdout",
     "output_type": "stream",
     "text": [
      "{1, 2, 3, 4, 5, 6}\n"
     ]
    }
   ],
   "source": [
    "def extract_unique_values(dict):\n",
    "    \"\"\"\n",
    "    This function extracts unique values from dictionary values.\n",
    "    \"\"\"\n",
    "    # Create an empty set to store unique values\n",
    "    unique_values = set()\n",
    "\n",
    "    # Loop through the values of the dictionary\n",
    "    for value in dict.values():\n",
    "        # If the value is a list or a tuple, loop through it\n",
    "        if isinstance(value, (list, tuple)):\n",
    "            for item in value:\n",
    "                # Add the item to the set of unique values\n",
    "                unique_values.add(item)\n",
    "        # If the value is not a list or a tuple, add it directly to the set of unique values\n",
    "        else:\n",
    "            unique_values.add(value)\n",
    "\n",
    "    # Return the set of unique values\n",
    "    return unique_values\n",
    "\n",
    "# Test the function with an example\n",
    "dict = {'a': [1, 2, 3], 'b': (4, 5), 'c': 6}\n",
    "result = extract_unique_values(dict)\n",
    "print(result)  # Output: {1, 2, 3, 4, 5, 6}\n"
   ]
  },
  {
   "cell_type": "markdown",
   "id": "2f7c5f3c",
   "metadata": {},
   "source": [
    "<font size=\"3\">__2.Write a Python program to find the sum of all items in a dictionary?__</font>"
   ]
  },
  {
   "cell_type": "code",
   "execution_count": 3,
   "id": "9b9bc7bc",
   "metadata": {},
   "outputs": [
    {
     "name": "stdout",
     "output_type": "stream",
     "text": [
      "15.5\n"
     ]
    }
   ],
   "source": [
    "def sum_dictionary_values(dict):\n",
    "    \"\"\"\n",
    "    This function calculates the sum of all items in a dictionary.\n",
    "    \"\"\"\n",
    "    # Initialize a variable to store the sum of values\n",
    "    sum = 0\n",
    "\n",
    "    # Loop through the values of the dictionary\n",
    "    for value in dict.values():\n",
    "        # If the value is a number, add it to the sum\n",
    "        if isinstance(value, (int, float)):\n",
    "            sum += value\n",
    "\n",
    "    # Return the sum of values\n",
    "    return sum\n",
    "\n",
    "# Test the function with an example\n",
    "dict = {'a': 5, 'b': 10.5, 'c': 'string'}\n",
    "result = sum_dictionary_values(dict)\n",
    "print(result)  # Output: 15.5\n"
   ]
  },
  {
   "cell_type": "markdown",
   "id": "0a87b47e",
   "metadata": {},
   "source": [
    "<font size=\"3\">__3.Write a Python program to Merging two Dictionaries?__</font>"
   ]
  },
  {
   "cell_type": "code",
   "execution_count": 4,
   "id": "4a460a64",
   "metadata": {},
   "outputs": [
    {
     "name": "stdout",
     "output_type": "stream",
     "text": [
      "{'a': 1, 'b': 2, 'c': 3, 'd': 4}\n"
     ]
    }
   ],
   "source": [
    "def merge_two_dicts(dict1, dict2):\n",
    "    \"\"\"\n",
    "    This function merges two dictionaries into one.\n",
    "    \"\"\"\n",
    "    # Create a new dictionary to store the merged dictionaries\n",
    "    merged_dict = dict1.copy()\n",
    "\n",
    "    # Update the new dictionary with the second dictionary\n",
    "    merged_dict.update(dict2)\n",
    "\n",
    "    # Return the merged dictionary\n",
    "    return merged_dict\n",
    "\n",
    "# Test the function with example dictionaries\n",
    "dict1 = {'a': 1, 'b': 2}\n",
    "dict2 = {'c': 3, 'd': 4}\n",
    "result = merge_two_dicts(dict1, dict2)\n",
    "print(result)  # Output: {'a': 1, 'b': 2, 'c': 3, 'd': 4}\n"
   ]
  },
  {
   "cell_type": "markdown",
   "id": "24102eb4",
   "metadata": {},
   "source": [
    "<font size=\"3\">__4.Write a Python program to convert key-values list to flat dictionary?__</font>"
   ]
  },
  {
   "cell_type": "code",
   "execution_count": 6,
   "id": "968a8d40",
   "metadata": {},
   "outputs": [
    {
     "name": "stdout",
     "output_type": "stream",
     "text": [
      "{'name': 'Raman', 'age': 25, 'city': 'New Delhi'}\n"
     ]
    }
   ],
   "source": [
    "def convert_to_dictionary(key_value_list):\n",
    "    flat_dictionary = {}\n",
    "    for key, value in key_value_list:\n",
    "        flat_dictionary[key] = value\n",
    "    return flat_dictionary\n",
    "\n",
    "# Example usage\n",
    "key_values = [(\"name\", \"Raman\"), (\"age\", 25), (\"city\", \"New Delhi\")]\n",
    "result = convert_to_dictionary(key_values)\n",
    "print(result)\n",
    "\n"
   ]
  },
  {
   "cell_type": "markdown",
   "id": "168ff919",
   "metadata": {},
   "source": [
    "<font size=\"3\">__5.Write a Python program to insertion at the beginning in OrderedDict?__</font>"
   ]
  },
  {
   "cell_type": "code",
   "execution_count": 7,
   "id": "b0e8d179",
   "metadata": {},
   "outputs": [
    {
     "name": "stdout",
     "output_type": "stream",
     "text": [
      "OrderedDict([('d', 4), ('a', 1), ('b', 2), ('c', 3)])\n"
     ]
    }
   ],
   "source": [
    "from collections import OrderedDict\n",
    "\n",
    "# Create an ordered dictionary\n",
    "od = OrderedDict([('a', 1), ('b', 2), ('c', 3)])\n",
    "\n",
    "# Insert a new key-value pair at the beginning of the ordered dictionary\n",
    "od.update({'d': 4})\n",
    "od.move_to_end('d', last=False)\n",
    "\n",
    "# Print the updated ordered dictionary\n",
    "print(od)\n"
   ]
  },
  {
   "cell_type": "markdown",
   "id": "d80bf8e3",
   "metadata": {},
   "source": [
    "<font size=\"3\">__6.Write a Python program to check order of character in string using OrderedDict()?__</font>"
   ]
  },
  {
   "cell_type": "code",
   "execution_count": 17,
   "id": "7a96ccb5",
   "metadata": {},
   "outputs": [
    {
     "name": "stdout",
     "output_type": "stream",
     "text": [
      "True\n"
     ]
    }
   ],
   "source": [
    "from collections import OrderedDict\n",
    "\n",
    "def check_order_of_characters(string):\n",
    "    # Create an OrderedDict from the string\n",
    "    ordered_dict = OrderedDict.fromkeys(string)\n",
    "\n",
    "    # Compare the string with the keys of the OrderedDict\n",
    "    return string == ''.join(ordered_dict.keys())\n",
    "\n",
    "# Example usage\n",
    "input_string = \"abxycduv\"\n",
    "result = check_order_of_characters(input_string)\n",
    "print(result)\n"
   ]
  },
  {
   "cell_type": "markdown",
   "id": "c2ae3031",
   "metadata": {},
   "source": [
    "<font size=\"3\">__7.Write a Python program to sort Python Dictionaries by Key or Value?__</font>"
   ]
  },
  {
   "cell_type": "code",
   "execution_count": 28,
   "id": "98042469",
   "metadata": {},
   "outputs": [
    {
     "name": "stdout",
     "output_type": "stream",
     "text": [
      "Sorted by key: {'a': 3, 'b': 1, 'c': 5, 'd': 6, 'e': 4, 'f': 2}\n",
      "Sorted by value: {'b': 1, 'f': 2, 'a': 3, 'e': 4, 'c': 5, 'd': 6}\n"
     ]
    }
   ],
   "source": [
    "from operator import itemgetter\n",
    "\n",
    "def sort_dictionary_by_key(dictionary):\n",
    "    sorted_dict = convert_to_dictionary(sorted(dictionary.items()))\n",
    "    return sorted_dict\n",
    "\n",
    "def sort_dictionary_by_value(dictionary):\n",
    "    sorted_dict = convert_to_dictionary(sorted(dictionary.items(), key=itemgetter(1)))\n",
    "    return sorted_dict\n",
    "\n",
    "# Example usage\n",
    "input_dict = {'c': 5, 'a': 3, 'b': 1, 'd': 6, 'e': 4, 'f': 2}\n",
    "\n",
    "# Sort dictionary by key\n",
    "sorted_dict_by_key = sort_dictionary_by_key(input_dict)\n",
    "print(\"Sorted by key:\", sorted_dict_by_key)\n",
    "\n",
    "# Sort dictionary by value\n",
    "sorted_dict_by_value = sort_dictionary_by_value(input_dict)\n",
    "print(\"Sorted by value:\", sorted_dict_by_value)\n",
    "\n"
   ]
  },
  {
   "cell_type": "code",
   "execution_count": null,
   "id": "073d03a3",
   "metadata": {},
   "outputs": [],
   "source": []
  }
 ],
 "metadata": {
  "kernelspec": {
   "display_name": "Python 3 (ipykernel)",
   "language": "python",
   "name": "python3"
  },
  "language_info": {
   "codemirror_mode": {
    "name": "ipython",
    "version": 3
   },
   "file_extension": ".py",
   "mimetype": "text/x-python",
   "name": "python",
   "nbconvert_exporter": "python",
   "pygments_lexer": "ipython3",
   "version": "3.10.9"
  }
 },
 "nbformat": 4,
 "nbformat_minor": 5
}
