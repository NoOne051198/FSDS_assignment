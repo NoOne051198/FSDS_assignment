{
 "cells": [
  {
   "cell_type": "markdown",
   "id": "857c8f60",
   "metadata": {},
   "source": [
    "# Assignment - 08 Solution"
   ]
  },
  {
   "cell_type": "markdown",
   "id": "6d4a79de",
   "metadata": {},
   "source": [
    "<font size=\"3\">__1. Write a Python Program to Add two Matrices ?__ </font><br>"
   ]
  },
  {
   "cell_type": "code",
   "execution_count": 21,
   "id": "7b82a049",
   "metadata": {},
   "outputs": [
    {
     "name": "stdout",
     "output_type": "stream",
     "text": [
      "Enter matrices : [[2, 4, 3], [5, 7, 8], [9, 6, 7]],[[3, 5, 7], [8, 3, 4], [5, 7, 8]]\n",
      "\n",
      "Addition of the matrices : [[5, 9, 10], [13, 10, 12], [14, 13, 15]]\n"
     ]
    }
   ],
   "source": [
    "# Program to add two Matrices.\n",
    "def add_matrices(m1,m2):\n",
    "    print(f'Enter matrices : {m1},{m2}')\n",
    "    if len(m1) == len(m2):\n",
    "        add_m = []\n",
    "        for i in range(len(m1)):\n",
    "            if len(m1[i]) == len(m2[i]):\n",
    "                add_m.append([])\n",
    "                for j in range(len(m1[i])):\n",
    "                    add_m[i].append(m1[i][j]+m2[i][j])\n",
    "            else:\n",
    "                print('Dimension of both matrices should be equal') \n",
    "    else:\n",
    "        print('Dimension of both matrices should be equal')\n",
    "    print(f'\\nAddition of the matrices : {add_m}')\n",
    "\n",
    "mat1 = [[2,4,3],[5,7,8,],[9,6,7]]\n",
    "mat2 = [[3,5,7],[8,3,4],[5,7,8]]\n",
    "add_matrices(mat1,mat2)\n"
   ]
  },
  {
   "cell_type": "markdown",
   "id": "29e6637f",
   "metadata": {},
   "source": [
    "<font size=\"3\">__2. Write a Python Program to Multiply two Matrices ?__ </font><br>"
   ]
  },
  {
   "cell_type": "code",
   "execution_count": 22,
   "id": "5eb7dd1f",
   "metadata": {},
   "outputs": [
    {
     "name": "stdout",
     "output_type": "stream",
     "text": [
      "Enter matrices : [[1, 2], [3, 4]],[[5, 6], [7, 8]]\n",
      "\n",
      " Multiplication of matrices : [[19, 22], [43, 50]]\n"
     ]
    }
   ],
   "source": [
    "# mutltiply of two matrices\n",
    "def multiply_matrices(m1,m2):\n",
    "    print(f'Enter matrices : {m1},{m2}')\n",
    "    mul_m = []\n",
    "    if len(m1[0]) == len(m2):\n",
    "        for i in range(len(m1[0])):\n",
    "            mul_m.append([0 for i in range(len(m2[0]))])\n",
    "        for j in range(len(m1)):\n",
    "            for k in range(len(m2[0])):\n",
    "                for l in range(len(m2)):\n",
    "                    mul_m[j][k] += m1[j][l]*m2[l][k]\n",
    "        print(f'\\n Multiplication of matrices : {mul_m}')     \n",
    "    else:\n",
    "        print('For Matrix multiplication, columns of matrix 1 must be equal to row of matrix 2')\n",
    "        \n",
    "mat1 = [[1,2],[3,4]]\n",
    "mat2 = [[5,6],[7,8]]\n",
    "multiply_matrices(mat1,mat2)"
   ]
  },
  {
   "cell_type": "markdown",
   "id": "831be450",
   "metadata": {},
   "source": [
    "<font size=\"3\">__3. Write a Python Program to transpose a Matrix ?__ </font><br>"
   ]
  },
  {
   "cell_type": "code",
   "execution_count": 23,
   "id": "3fcfa302",
   "metadata": {},
   "outputs": [
    {
     "name": "stdout",
     "output_type": "stream",
     "text": [
      "Enter matrix : [[1, 2, 3], [4, 5, 6], [7, 8, 9]]\n",
      "Transpose of the matrix is :  [[1, 4, 7], [2, 5, 8], [3, 6, 9]]\n"
     ]
    }
   ],
   "source": [
    "# Program to find Transpose of the matrix\n",
    "\n",
    "def mat_transpose(m1):\n",
    "    print(f'Enter matrix : {m1}')\n",
    "    trans_m = []\n",
    "    for i in range(len(m1[0])):\n",
    "        trans_m.append([0 for j in range(len(m1))])\n",
    "    for i in range(len(m1)):\n",
    "        for j in range(len(m1[i])):\n",
    "            trans_m[j][i] = m1[i][j]\n",
    "    print(f'Transpose of the matrix is :  {trans_m}')\n",
    "        \n",
    "mat1 = [[1,2,3],[4,5,6],[7,8,9]]\n",
    "        \n",
    "mat_transpose(mat1)\n"
   ]
  },
  {
   "cell_type": "markdown",
   "id": "35eb9838",
   "metadata": {},
   "source": [
    "<font size=\"3\">__4. Write a Python Program to sort Words in an Alphabatical Order ?__ </font><br>"
   ]
  },
  {
   "cell_type": "code",
   "execution_count": 10,
   "id": "f5af1329",
   "metadata": {},
   "outputs": [
    {
     "name": "stdout",
     "output_type": "stream",
     "text": [
      "Enter a String: bhudeep\n",
      "Sorted String is :  bdeehpu\n"
     ]
    }
   ],
   "source": [
    "# Sort words in Alphabatical order\n",
    "def sort_words(str1):\n",
    "    return ''.join(sorted(str1))\n",
    "\n",
    "str1 = input(\"Enter a String: \")\n",
    "print(\"Sorted String is : \",sort_words(str1))"
   ]
  },
  {
   "cell_type": "markdown",
   "id": "e41e1a47",
   "metadata": {},
   "source": [
    "<font size=\"3\">__5. Write a Python Program to remove Punctuations From a String ?__ </font><br>"
   ]
  },
  {
   "cell_type": "code",
   "execution_count": 20,
   "id": "36e9af53",
   "metadata": {},
   "outputs": [
    {
     "name": "stdout",
     "output_type": "stream",
     "text": [
      "Enter a String: Hello iNeuron ! I'm student of FSDS batch and I want to remove punctuations like ()-\\@#$%&* and many more, also tilde ~.\n",
      "Hello iNeuron  Im student of FSDS batch and I want to remove punctuations like  and many more also tilde \n"
     ]
    }
   ],
   "source": [
    "# Program to remove Punctuations\n",
    "def remove_punctuation():\n",
    "    punctuations = '''!()-[]{};:'\"\\,<>./?@#$%^&*_~'''\n",
    "    str1 = input('Enter a String: ')\n",
    "    result_str = ''\n",
    "    for i in str1:\n",
    "        if i not in punctuations:\n",
    "            result_str += i\n",
    "    print(result_str)\n",
    "    \n",
    "remove_punctuation()"
   ]
  },
  {
   "cell_type": "code",
   "execution_count": null,
   "id": "e645af6f",
   "metadata": {},
   "outputs": [],
   "source": []
  }
 ],
 "metadata": {
  "kernelspec": {
   "display_name": "Python 3 (ipykernel)",
   "language": "python",
   "name": "python3"
  },
  "language_info": {
   "codemirror_mode": {
    "name": "ipython",
    "version": 3
   },
   "file_extension": ".py",
   "mimetype": "text/x-python",
   "name": "python",
   "nbconvert_exporter": "python",
   "pygments_lexer": "ipython3",
   "version": "3.10.9"
  }
 },
 "nbformat": 4,
 "nbformat_minor": 5
}
