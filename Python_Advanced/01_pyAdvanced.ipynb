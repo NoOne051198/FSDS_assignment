{
 "cells": [
  {
   "cell_type": "markdown",
   "id": "878f1530",
   "metadata": {},
   "source": [
    "# Assignment - 01 Solution"
   ]
  },
  {
   "cell_type": "markdown",
   "id": "8ceeb924",
   "metadata": {},
   "source": [
    "<font size = 3>__1. What is the purpose of Python's OOP?__</font>\n",
    "\n",
    "__Ans:__ The purpose of Python's Object-Oriented Programming (OOP) is to provide a programming paradigm that allows for the organization and structuring of code in a more modular and reusable manner. OOP promotes the concept of objects, which are instances of classes that encapsulate data and behavior. It enables the creation of complex systems by breaking them down into smaller, manageable objects that interact with each other.\n",
    "\n",
    "The main benefits of using OOP in Python include:\n",
    "\n",
    "- __Encapsulation:__ OOP allows for the encapsulation of data and functionality within objects, providing abstraction and hiding the internal implementation details.\n",
    "- __Reusability:__ Objects can be reused in different parts of the program or in different projects, saving development time and effort.\n",
    "- __Modularity:__ OOP promotes modular design, allowing developers to break down complex systems into smaller, more manageable parts (classes and objects).\n",
    "- __Inheritance:__ Inheritance allows for the creation of hierarchical relationships between classes, enabling the reuse of code and the creation of specialized classes (subclasses) based on existing ones (superclasses).\n",
    "- __Polymorphism:__ Polymorphism enables objects to take on different forms and exhibit different behaviors based on their context or the context in which they are used, providing flexibility and extensibility.\n",
    "Overall, OOP in Python provides a structured and organized approach to software development, enhancing code readability, maintainability, and scalability."
   ]
  },
  {
   "cell_type": "markdown",
   "id": "d9f4cc9a",
   "metadata": {},
   "source": [
    "<font size = 3>__2. Where does an inheritance search look for an attribute?__</font>\n",
    "\n",
    "__Ans:__ During an inheritance search, the search for an attribute starts with the instance itself. If the attribute is not found, it then moves to the class of the instance. If the attribute is still not found, it continues to search in the parent classes (superclasses) in the order they are defined, following the method resolution order (MRO). If the attribute is not found in any of the parent classes, it raises an AttributeError."
   ]
  },
  {
   "cell_type": "markdown",
   "id": "582a9c5d",
   "metadata": {},
   "source": [
    "<font size = 3>__3. How do you distinguish between a class object and an instance object?__</font>\n",
    "\n",
    "__Ans:__ A class object represents the class itself, while an instance object is created from the class and represents a specific instance of that class. The class object defines the blueprint for creating instances and holds class-level attributes and methods. On the other hand, an instance object holds its own set of instance-level attributes and can invoke the methods defined in the class."
   ]
  },
  {
   "cell_type": "markdown",
   "id": "0aa77ab9",
   "metadata": {},
   "source": [
    "<font size = 3>__4. What makes the first argument in a class’s method function special?__</font>\n",
    "\n",
    "__Ans:__ The first argument in a class's method function, conventionally named self, is a reference to the instance of the class itself. It allows the method to access and manipulate the instance's attributes and perform operations specific to that instance. By convention, the first argument is always passed implicitly when calling a method on an instance, and it is used to differentiate instance-level operations from class-level operations."
   ]
  },
  {
   "cell_type": "markdown",
   "id": "258a41d9",
   "metadata": {},
   "source": [
    "<font size = 3>__5. What is the purpose of the init method?__</font>\n",
    "\n",
    "__Ans:__ The __init__ method, also known as the constructor, is used to initialize the attributes of an object when it is created from a class. It is automatically called when creating a new instance of a class. The __init__ method allows you to set the initial state of an object by assigning values to its attributes, and it can also perform any necessary setup or initialization tasks."
   ]
  },
  {
   "cell_type": "markdown",
   "id": "f8474c30",
   "metadata": {},
   "source": [
    "<font size = 3>__6. What is the process for creating a class instance?__</font>\n",
    "\n",
    "__Ans:__ To create a class instance in Python, you need to follow these steps:\n",
    "\n",
    "1. Define a class using the class keyword.\n",
    "2. Instantiate an object from the class by calling the class name as if it were a function, optionally passing any required arguments to the class's \\_\\_init\\_\\_ method.\n",
    "3. The \\_\\_init\\_\\_ method is automatically called during instantiation, and it initializes the object's attributes based on the provided arguments.\n",
    "4. The object instance is now created and can be accessed and manipulated using dot notation (object_name.attribute_name)."
   ]
  },
  {
   "cell_type": "code",
   "execution_count": 1,
   "id": "5f2f3014",
   "metadata": {},
   "outputs": [
    {
     "name": "stdout",
     "output_type": "stream",
     "text": [
      "example\n"
     ]
    }
   ],
   "source": [
    "# Define a class\n",
    "class MyClass:\n",
    "    def __init__(self, name):\n",
    "        self.name = name\n",
    "\n",
    "# Create an instance of the class\n",
    "my_object = MyClass(\"example\")\n",
    "\n",
    "# Access the object's attribute\n",
    "print(my_object.name)  # Output: example\n"
   ]
  },
  {
   "cell_type": "markdown",
   "id": "a6c45a89",
   "metadata": {},
   "source": [
    "<font size = 3>__7. What is the process for creating a class?__</font>\n",
    "\n",
    "__Ans:__ To create a class in Python, you need to follow these steps:\n",
    "\n",
    "1. Use the class keyword followed by the class name to define the class.\n",
    "2. Define class attributes and methods within the class block.\n",
    "3. Optionally, define the __init__ method to initialize the object's attributes when an instance is created.\n",
    "4. Instantiate objects from the class by calling the class name followed by parentheses, optionally passing any required arguments to the __init__ method.\n",
    "5. Access attributes and invoke methods of class objects using dot notation (object_name.attribute_name or object_name.method_name())."
   ]
  },
  {
   "cell_type": "markdown",
   "id": "1f5a055e",
   "metadata": {},
   "source": [
    "<font size = 3>__8. How would you define the superclasses of a class?__</font>\n",
    "\n",
    "__Ans:__ To define the superclasses of a class, you need to specify them inside the parentheses following the class name when defining the class. This is done by inheriting from the desired superclasses.\n",
    "```python\n",
    "class SubClass(SuperClass1, SuperClass2, ...):\n",
    "    # class definition\n",
    "```\n"
   ]
  },
  {
   "cell_type": "code",
   "execution_count": null,
   "id": "6af3c3b3",
   "metadata": {},
   "outputs": [],
   "source": []
  }
 ],
 "metadata": {
  "kernelspec": {
   "display_name": "Python 3 (ipykernel)",
   "language": "python",
   "name": "python3"
  },
  "language_info": {
   "codemirror_mode": {
    "name": "ipython",
    "version": 3
   },
   "file_extension": ".py",
   "mimetype": "text/x-python",
   "name": "python",
   "nbconvert_exporter": "python",
   "pygments_lexer": "ipython3",
   "version": "3.10.9"
  }
 },
 "nbformat": 4,
 "nbformat_minor": 5
}
