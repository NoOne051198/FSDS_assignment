{
 "cells": [
  {
   "cell_type": "markdown",
   "id": "75984d53",
   "metadata": {},
   "source": [
    "# Assignment - 04 Solution "
   ]
  },
  {
   "cell_type": "markdown",
   "id": "927a19e6",
   "metadata": {},
   "source": [
    "<font size = 3>__1. Which two operator overloading methods can you use in your classes to support iteration?__</font>\n",
    "\n",
    "__Ans:__ `__iter__` and `__next__` are the operator overloading methods in python that support iteration and are collectively called iterator protocol.\n",
    "\n",
    "**\\_\\_iter\\_\\_** returns the iterator object and is called at the start of loop in our respective class.<br>\n",
    "**\\_\\_next\\_\\_** is called at each loop increment, it returns the incremented value. Also Stopiteration is raised when there is no value to return."
   ]
  },
  {
   "cell_type": "code",
   "execution_count": 1,
   "id": "ea29afbe",
   "metadata": {},
   "outputs": [],
   "source": [
    "class MyClass:\n",
    "    \n",
    "    def __init__(self, data):\n",
    "        self.data = data\n",
    "\n",
    "    def __iter__(self):\n",
    "        # Initialize the iterator state\n",
    "        self.index = 0\n",
    "        return self\n",
    "\n",
    "    def __next__(self):\n",
    "        if self.index >= len(self.data):\n",
    "            raise StopIteration  # Stop iteration when done\n",
    "        item = self.data[self.index]\n",
    "        self.index += 1\n",
    "        return item\n",
    "\n",
    "\n",
    "    def __next__(self):\n",
    "        if self.index >= len(self.data):\n",
    "            raise StopIteration  # Stop iteration when done\n",
    "        item = self.data[self.index]\n",
    "        self.index += 1\n",
    "        return item\n"
   ]
  },
  {
   "cell_type": "markdown",
   "id": "265a8146",
   "metadata": {},
   "source": [
    "<font size = 3>__2. In what contexts do the two operator overloading methods manage printing?__</font>\n",
    "\n",
    "__Ans:__ The two operator overloading methods, `__str__` and `__repr__`, are used to manage printing in different contexts:\n",
    "\n",
    "**\\_\\_str\\_\\_**: This method is responsible for providing a human-readable string representation of the object. It is used by the built-in `str()` function and is typically used for display purposes. The `__str__` method should return a string that represents the object in a concise and user-friendly manner."
   ]
  },
  {
   "cell_type": "code",
   "execution_count": null,
   "id": "5f76d033",
   "metadata": {},
   "outputs": [],
   "source": [
    "class MyClass:\n",
    "    def __init__(self, value):\n",
    "        self.value = value\n",
    "\n",
    "    def __str__(self):\n",
    "        return f\"MyClass instance with value: {self.value}\"\n"
   ]
  },
  {
   "cell_type": "markdown",
   "id": "a5c70686",
   "metadata": {},
   "source": [
    "**\\_\\_repr\\_\\_**: This method provides a more detailed and unambiguous string representation of the object. It is used by the built-in `repr()` function and is typically used for debugging and development purposes. The `__repr__` method should return a string that represents the object in a way that can be used to recreate the object."
   ]
  },
  {
   "cell_type": "code",
   "execution_count": null,
   "id": "39aa3c93",
   "metadata": {},
   "outputs": [],
   "source": [
    "class MyClass:\n",
    "    def __init__(self, value):\n",
    "        self.value = value\n",
    "\n",
    "    def __repr__(self):\n",
    "        return f\"MyClass({self.value})\"\n"
   ]
  },
  {
   "cell_type": "markdown",
   "id": "9eea9aac",
   "metadata": {},
   "source": [
    "<font size = 3>__3. In a class, how do you intercept slice operations?__</font>\n",
    "\n",
    "__Ans:__ To intercept slice operations in a class, you can define the `__getitem__` method. This method allows objects of your class to support indexing and slicing operations.\n",
    "\n",
    "The `__getitem__` method is called when an object is accessed using square brackets `([])` with either an index or a slice object. It receives the index or slice object as an argument and should return the corresponding value or a new object based on the requested slice."
   ]
  },
  {
   "cell_type": "code",
   "execution_count": null,
   "id": "e40beffd",
   "metadata": {},
   "outputs": [],
   "source": [
    "class MyClass:\n",
    "    def __init__(self, data):\n",
    "        self.data = data\n",
    "\n",
    "    def __getitem__(self, key):\n",
    "        if isinstance(key, slice):\n",
    "            # Handle slice operation\n",
    "            return self.data[key.start:key.stop:key.step]\n",
    "        else:\n",
    "            # Handle single item access\n",
    "            return self.data[key]\n"
   ]
  },
  {
   "cell_type": "markdown",
   "id": "445825a3",
   "metadata": {},
   "source": [
    "<font size = 3>__4. In a class, how do you capture in-place addition?__</font>\n",
    "\n",
    "__Ans:__ To capture in-place addition in a class, you can define the `__iadd__` method. This method is used to implement the behavior of the in-place addition operator `(+=)` for instances of your class.\n",
    "\n",
    "The `__iadd__` method is called when the `+=` operator is used on an object of your class. It takes one argument, which is the value to be added to the object, and should modify the object in-place."
   ]
  },
  {
   "cell_type": "code",
   "execution_count": null,
   "id": "d46fe988",
   "metadata": {},
   "outputs": [],
   "source": [
    "class MyClass:\n",
    "    def __init__(self, value):\n",
    "        self.value = value\n",
    "\n",
    "    def __iadd__(self, other):\n",
    "        self.value += other\n",
    "        return self\n"
   ]
  },
  {
   "cell_type": "markdown",
   "id": "c4fb19d5",
   "metadata": {},
   "source": [
    "<font size = 3>__5. When is it appropriate to use operator overloading?__</font>"
   ]
  },
  {
   "cell_type": "markdown",
   "id": "b922ecd0",
   "metadata": {},
   "source": [
    "__Ans:__ Operator overloading should be used judiciously and in appropriate situations. Here are some scenarios where it is considered appropriate to use operator overloading:\n",
    "\n",
    "1. __Clarity and Readability:__ Operator overloading can be used to make code more readable and intuitive, especially when working with objects that naturally support certain mathematical or logical operations. For example, overloading the + operator to concatenate strings or merge lists can improve code clarity.\n",
    "\n",
    "2. __Domain-Specific Operations:__ If your class represents a specific domain or concept, operator overloading can be used to define operations that are meaningful and expected within that domain. For instance, a complex number class might overload operators such as +, -, * to perform complex number arithmetic.\n",
    "\n",
    "3. __Consistency with Built-in Types:__ Operator overloading can be used to make your custom objects behave similar to built-in types. This allows users to apply familiar operators and syntax to your objects, leading to more intuitive usage.\n",
    "\n",
    "4. __Code Expressiveness:__ Operator overloading can make code more expressive by enabling concise and idiomatic syntax. For example, overloading the comparison operators (<, >, ==, etc.) allows for more natural comparisons between objects.\n",
    "\n",
    "5. __Convenience and Productivity:__ Operator overloading can simplify and streamline code by providing shorthand notation for complex operations. This can lead to increased productivity and reduced code verbosity.\n",
    "\n"
   ]
  },
  {
   "cell_type": "code",
   "execution_count": null,
   "id": "be17b4a1",
   "metadata": {},
   "outputs": [],
   "source": []
  }
 ],
 "metadata": {
  "kernelspec": {
   "display_name": "Python 3 (ipykernel)",
   "language": "python",
   "name": "python3"
  },
  "language_info": {
   "codemirror_mode": {
    "name": "ipython",
    "version": 3
   },
   "file_extension": ".py",
   "mimetype": "text/x-python",
   "name": "python",
   "nbconvert_exporter": "python",
   "pygments_lexer": "ipython3",
   "version": "3.10.9"
  }
 },
 "nbformat": 4,
 "nbformat_minor": 5
}
