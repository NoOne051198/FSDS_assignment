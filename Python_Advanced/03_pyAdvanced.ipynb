{
 "cells": [
  {
   "cell_type": "markdown",
   "id": "20794e7c",
   "metadata": {},
   "source": [
    "# Assignment - 03 Solution"
   ]
  },
  {
   "cell_type": "markdown",
   "id": "67b5ec1b",
   "metadata": {},
   "source": [
    "<font size = 3>__1. What is the concept of an abstract superclass?__</font>\n",
    "\n",
    "__Ans:__ An abstract class/superclass can be considered as a blueprint for other classes. It allows you to create a set of methods that must be created within any child classes built from the abstract class. A class which contains one or more abstract methods is called an abstract class.\n",
    "\n",
    "Whereas an abstract method is a method that has a declaration but does not have an implementation\n",
    "\n",
    "```python\n",
    "from abc import ABC, abstractmethod\n",
    "class Polygon(ABC): # Abstract Class\n",
    "    @abstractmethod\n",
    "    def noofsides(self): # Abstract Method\n",
    "        pass\n",
    "class Triangle(Polygon):\n",
    "    def noofsides(self):  # overriding abstract method in child class Triangle\n",
    "        print(\"I have 3 sides\")\n",
    "class Pentagon(Polygon):\n",
    "    def noofsides(self): # overriding abstract method in child class Pentagon\n",
    "        print(\"I have 5 sides\")\n",
    "```"
   ]
  },
  {
   "cell_type": "markdown",
   "id": "305a4861",
   "metadata": {},
   "source": [
    "<font size = 3>__2. What happens when a class statement's top level contains a basic assignment statement?__</font>\n",
    "\n",
    "\n",
    "__Ans:__ When a class statement's top level contains a basic assignment statement, it creates a class variable that is shared among all instances of the class. The assignment statement outside any method in the class body is executed only once when the class is defined, and the assigned value is stored as a class attribute. This means that the value will be the same for all instances of the class and can be accessed using the class name or any instance of the class."
   ]
  },
  {
   "cell_type": "code",
   "execution_count": 4,
   "id": "c823b768",
   "metadata": {},
   "outputs": [
    {
     "name": "stdout",
     "output_type": "stream",
     "text": [
      "10\n",
      "20\n",
      "30\n",
      "50\n",
      "50\n"
     ]
    }
   ],
   "source": [
    "class MyClass:\n",
    "    x = 10  # This is a class variable\n",
    "\n",
    "    def __init__(self, y):\n",
    "        self.y = y  # This is an instance variable\n",
    "\n",
    "# Accessing the class variable\n",
    "print(MyClass.x)  # Output: 10\n",
    "\n",
    "# Creating instances of MyClass\n",
    "obj1 = MyClass(20)\n",
    "obj2 = MyClass(30)\n",
    "\n",
    "# Accessing the instance variables\n",
    "print(obj1.y)  # Output: 20\n",
    "print(obj2.y)  # Output: 30\n",
    "\n",
    "# Modifying the class variable\n",
    "MyClass.x = 50\n",
    "\n",
    "# Accessing the modified class variable through instances\n",
    "print(obj1.x)  # Output: 50\n",
    "print(obj2.x)  # Output: 50\n"
   ]
  },
  {
   "cell_type": "markdown",
   "id": "04aa50b9",
   "metadata": {},
   "source": [
    "<font size = 3>__3. Why does a class need to manually call a superclass's init method?__</font>\n",
    "\n",
    "__Ans:__ A class needs to manually call a superclass's \\_\\_init\\_\\_ method when it overrides the \\_\\_init\\_\\_ method of the superclass and wants to invoke the superclass's initialization logic as well. By calling the superclass's \\_\\_init\\_\\_ method, the subclass can inherit and initialize the attributes and behavior defined in the superclass. This ensures that both the superclass and subclass initialization steps are executed properly."
   ]
  },
  {
   "cell_type": "code",
   "execution_count": 3,
   "id": "646254bb",
   "metadata": {},
   "outputs": [
    {
     "name": "stdout",
     "output_type": "stream",
     "text": [
      "{'name': 'Vivek', 'age': 28, 'salary': 20000}\n"
     ]
    }
   ],
   "source": [
    "class Person:\n",
    "    def __init__(self,name,age):\n",
    "        self.name = name\n",
    "        self.age = age       \n",
    "class Employee(Person):\n",
    "    def __init__(self,name,age,salary):\n",
    "        super().__init__(name,age)\n",
    "        self.salary = salary\n",
    "emp_1 = Employee('Vivek',28,20000)\n",
    "print(emp_1.__dict__)"
   ]
  },
  {
   "cell_type": "markdown",
   "id": "78a62158",
   "metadata": {},
   "source": [
    "<font size = 3>__4. How can you augment, instead of completely replacing, an inherited method?__</font>\n",
    "\n",
    "__Ans:__ To augment an inherited method instead of completely replacing it, you can override the method in the subclass and call the superclass's method using the super() function. This allows you to add extra functionality to the method while still utilizing the original implementation defined in the superclass. By calling super().method_name(), you can invoke the superclass's method and then include any additional code or modifications specific to the subclass."
   ]
  },
  {
   "cell_type": "code",
   "execution_count": 2,
   "id": "b364b7e4",
   "metadata": {},
   "outputs": [
    {
     "name": "stdout",
     "output_type": "stream",
     "text": [
      "Parent method\n",
      "Additional functionality in Child method\n"
     ]
    }
   ],
   "source": [
    "class Parent:\n",
    "    def method(self):\n",
    "        print(\"Parent method\")\n",
    "\n",
    "class Child(Parent):\n",
    "    def method(self):\n",
    "        super().method()  # Call the superclass's method\n",
    "        print(\"Additional functionality in Child method\")\n",
    "\n",
    "# Create an instance of the Child class\n",
    "child = Child()\n",
    "\n",
    "# Call the augmented method\n",
    "child.method()\n"
   ]
  },
  {
   "cell_type": "markdown",
   "id": "de5d8cf3",
   "metadata": {},
   "source": [
    "<font size = 3>__5. How is the local scope of a class different from that of a function?__</font>\n",
    "\n",
    "__Ans:__ The local scope of a class and a function in Python have some differences:\n",
    "\n",
    "1. __Accessible Variables:__ In a class, variables defined within the class body (but not inside any method) are considered class attributes and are accessible throughout the class. In contrast, variables defined within a function's scope are only accessible within that function.\n",
    "\n",
    "2. __Instance Variables:__ Class attributes in a class can be accessed and modified by instances of that class, making them instance variables. Functions, on the other hand, don't have instance variables by default.\n",
    "\n",
    "3. __Class Methods:__ Class methods in a class can access and modify class attributes, as well as call other class methods. In a function, you can't directly access class attributes or call class methods.\n",
    "\n",
    "4. __Self Parameter:__ Class methods in a class require the self parameter, which refers to the instance of the class. Functions don't have this parameter unless they are defined within a class and explicitly decorated as methods.\n",
    "\n",
    "5. __Inheritance:__ When a class inherits from another class, it can access and override methods and attributes from the parent class. Functions do not have this concept of inheritance.\n"
   ]
  },
  {
   "cell_type": "code",
   "execution_count": 9,
   "id": "7fcf0054",
   "metadata": {},
   "outputs": [
    {
     "name": "stdout",
     "output_type": "stream",
     "text": [
      "your name is Raman\n",
      "Name varible is not available outside Hello function scope\n",
      "HomeSapines\n",
      "HomeSapines\n"
     ]
    }
   ],
   "source": [
    "def Hello(name):\n",
    "    name = name\n",
    "    print(f'your name is {name}')\n",
    "Hello('Raman')\n",
    "try:\n",
    "    name\n",
    "except NameError:\n",
    "    print('Name varible is not available outside Hello function scope')\n",
    "\n",
    "class Person:\n",
    "    species = \"HomeSapines\"\n",
    "    def __init__(self):\n",
    "        pass\n",
    "print(Person.species) # Accessing species using class name\n",
    "Male = Person()\n",
    "print(Male.species) # Accessing species using instance of class\n"
   ]
  },
  {
   "cell_type": "code",
   "execution_count": null,
   "id": "0794692f",
   "metadata": {},
   "outputs": [],
   "source": []
  }
 ],
 "metadata": {
  "kernelspec": {
   "display_name": "Python 3 (ipykernel)",
   "language": "python",
   "name": "python3"
  },
  "language_info": {
   "codemirror_mode": {
    "name": "ipython",
    "version": 3
   },
   "file_extension": ".py",
   "mimetype": "text/x-python",
   "name": "python",
   "nbconvert_exporter": "python",
   "pygments_lexer": "ipython3",
   "version": "3.10.9"
  }
 },
 "nbformat": 4,
 "nbformat_minor": 5
}
