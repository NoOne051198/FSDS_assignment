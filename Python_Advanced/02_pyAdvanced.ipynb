{
 "cells": [
  {
   "cell_type": "markdown",
   "id": "6a4511f7",
   "metadata": {},
   "source": [
    "# Assignment - 02 Solution "
   ]
  },
  {
   "cell_type": "markdown",
   "id": "ae947c16",
   "metadata": {},
   "source": [
    "<font size = 3>__1. What is the relationship between classes and modules?__</font>\n",
    "\n",
    "__Ans:__ In Python, A module is a file containing Python code, while a class is a blueprint for creating objects. Classes are defined within modules, and modules can contain multiple classes as well as other Python code.\n",
    "\n",
    "The relationship between classes and modules is that classes can be defined within modules and can be accessed and used within the module. Classes provide a way to organize and encapsulate related data and behavior, while modules provide a way to organize and group related classes and other code together.\n",
    "\n",
    "Modules can be imported into other modules or scripts, allowing access to the classes and other code defined within them. This allows for modular and reusable code, as classes from one module can be used in different parts of a program by importing the module."
   ]
  },
  {
   "cell_type": "markdown",
   "id": "b807f921",
   "metadata": {},
   "source": [
    "<font size = 3>__2. How do you make instances and classes?__</font>\n",
    "\n",
    "__Ans:__ Instances of a class are created by calling the class name followed by parentheses, similar to calling a function. This invokes the class's constructor, which initializes the object.\n",
    "```python\n",
    "instance = ClassName()\n",
    "```\n",
    "Classes are defined using the class keyword followed by the class name, followed by a colon. Class definitions can include attributes, methods, and other class-related code. \n",
    "\n",
    "```python\n",
    "class ClassName:\n",
    "    # class attributes\n",
    "    \n",
    "    def __init__(self, args):\n",
    "        # constructor\n",
    "    \n",
    "    def method(self, args):\n",
    "        # class method\n",
    "\n",
    "```"
   ]
  },
  {
   "cell_type": "markdown",
   "id": "cfdd6f06",
   "metadata": {},
   "source": [
    "<font size = 3>__3. Where and how should be class attributes created?__</font>\n",
    "\n",
    "__Ans:__ Class attributes should be created inside the class definition, outside of any method. They are typically placed at the top of the class, before any methods. Class attributes are shared by all instances of the class and are accessible through both the class itself and its instances. They are defined directly within the class and can be assigned default values or initialized using class methods.\n",
    "\n",
    "```python\n",
    "class MyClass:\n",
    "    class_attribute = \"This is a class attribute\"\n",
    "    \n",
    "    def __init__(self):\n",
    "        self.instance_attribute = \"This is an instance attribute\"\n",
    "```\n",
    "In this example, `class_attribute` is a class attribute that can be accessed using `MyClass.class_attribute`. Each instance of `MyClass` will have its own `instance_attribute`, which is specific to that instance."
   ]
  },
  {
   "cell_type": "markdown",
   "id": "65cefa14",
   "metadata": {},
   "source": [
    "<font size = 3>__4. Where and how are instance attributes created?__</font>\n",
    "\n",
    "__Ans:__ Instance attributes are created within the methods of a class, typically within the \\_\\_init\\_\\_ method. Each instance of a class can have its own set of instance attributes that are unique to that instance.\n",
    "```python\n",
    "class MyClass:\n",
    "    def __init__(self, attribute1, attribute2):\n",
    "        self.attribute1 = attribute1\n",
    "        self.attribute2 = attribute2\n",
    "```"
   ]
  },
  {
   "cell_type": "markdown",
   "id": "729802df",
   "metadata": {},
   "source": [
    "<font size = 3>__5. What does the term \"self\" in a Python class mean?__</font>\n",
    "\n",
    "__Ans:__ In Python, `self` refers to the instance of a class. It is used as the first parameter in the definition of a method in a class, and it refers to the object that is calling that method. It is used to access the attributes and methods of the current object. The use of `self` allows multiple instances of a class to have their own unique set of attributes and methods."
   ]
  },
  {
   "cell_type": "markdown",
   "id": "8572eda9",
   "metadata": {},
   "source": [
    "<font size = 3>__6. How does a Python class handle operator overloading?__</font>\n",
    "\n",
    "__Ans:__ In Python, operator overloading is achieved by defining special methods within a class that correspond to specific operators. These special methods have predefined names and are called when the corresponding operator is used on instances of the class. For example, the __\\_\\_add\\_\\___ method is called when the `+` operator is used to add two objects of the class. By implementing these special methods, a class can define custom behaviors for operators, enabling intuitive and meaningful operations on class instances."
   ]
  },
  {
   "cell_type": "markdown",
   "id": "cb1a90ac",
   "metadata": {},
   "source": [
    "<font size = 3>__7. When do you consider allowing operator overloading of your classes?__</font>\n",
    "\n",
    "__Ans:__ Operator overloading is considered when the class represents a concept or data type for which the standard mathematical or logical operators have well-defined meanings. It allows instances of the class to be manipulated using familiar operators, making the code more intuitive and readable. Operator overloading is particularly useful when working with custom data types or creating domain-specific classes where the overloaded operators reflect the desired behavior of the objects. It should be used judiciously to maintain clarity and avoid confusion."
   ]
  },
  {
   "cell_type": "markdown",
   "id": "dc2f1094",
   "metadata": {},
   "source": [
    "<font size = 3>__8. What is the most popular form of operator overloading?__</font>\n",
    "\n",
    "__Ans:__ The most popular form of operator overloading in Python is the __\\_\\_add\\_\\___ method, which enables the __+__ operator to perform addition between objects of a class. It is widely used to provide custom behavior for addition operations on instances of a class."
   ]
  },
  {
   "cell_type": "markdown",
   "id": "c024b3d3",
   "metadata": {},
   "source": [
    "<font size = 3>__9. What are the two most important concepts to grasp in order to comprehend Python OOP code?__</font>\n",
    "\n",
    "__Ans:__ The two most important concepts to grasp in order to comprehend Python OOP code are:\n",
    "\n",
    "1. __Classes:__ Understanding how classes are defined and how they encapsulate data and behavior is crucial. This includes understanding class attributes, instance attributes, methods, and inheritance.\n",
    "\n",
    "2. __Objects/Instances:__ Understanding how objects are created from classes, how they store data in instance attributes, and how they interact with methods and other objects is essential. This includes understanding instantiation, accessing attributes, and invoking methods on objects."
   ]
  },
  {
   "cell_type": "code",
   "execution_count": null,
   "id": "65509667",
   "metadata": {},
   "outputs": [],
   "source": []
  }
 ],
 "metadata": {
  "kernelspec": {
   "display_name": "Python 3 (ipykernel)",
   "language": "python",
   "name": "python3"
  },
  "language_info": {
   "codemirror_mode": {
    "name": "ipython",
    "version": 3
   },
   "file_extension": ".py",
   "mimetype": "text/x-python",
   "name": "python",
   "nbconvert_exporter": "python",
   "pygments_lexer": "ipython3",
   "version": "3.10.9"
  }
 },
 "nbformat": 4,
 "nbformat_minor": 5
}
