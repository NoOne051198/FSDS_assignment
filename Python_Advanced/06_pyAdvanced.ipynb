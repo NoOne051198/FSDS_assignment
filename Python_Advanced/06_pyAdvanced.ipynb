{
 "cells": [
  {
   "cell_type": "markdown",
   "id": "0ce33a36",
   "metadata": {},
   "source": [
    "# Assignment - 06 Solution "
   ]
  },
  {
   "cell_type": "markdown",
   "id": "85fbb0f5",
   "metadata": {},
   "source": [
    "<font size = 3>__1. Describe three applications for exception processing.__</font>\n",
    "\n",
    "__Ans:__ These are the application of exception processing\n",
    "1. __Error Handling:__ Exception processing is commonly used for error handling in programming. It allows you to catch and handle unexpected or exceptional situations that may occur during the execution of a program. By using try-except blocks, you can gracefully handle errors, provide meaningful error messages, and prevent program crashes.\n",
    "\n",
    "2. __Input Validation:__ Exception processing is useful for input validation, where you need to ensure that user input or data meets certain criteria or constraints. By raising and catching exceptions, you can validate input values and handle cases where input does not meet the expected requirements, such as incorrect data types, out-of-range values, or missing data.\n",
    "\n",
    "3. __Resource Management:__ Exception processing is employed for proper resource management. For example, when working with files, databases, network connections, or other resources, exceptions can be used to handle situations such as file not found, database connection errors, or network failures. By catching exceptions, you can release resources, rollback transactions, or take appropriate actions to handle exceptional situations and ensure the proper cleanup and release of resources."
   ]
  },
  {
   "cell_type": "markdown",
   "id": "6f90a2d0",
   "metadata": {},
   "source": [
    "<font size = 3>__2. What happens if you don't do something extra to treat an exception?__</font>\n",
    "\n",
    "__Ans:__ If you don't handle or treat an exception in your code, it will result in an unhandled exception. When an exception is not handled, it propagates up the call stack until it reaches the top-level of the program, causing the program to terminate. This termination is accompanied by an error message or traceback that indicates the type of exception and the location where it occurred. Failing to handle exceptions can lead to unexpected program crashes, loss of data, and an undesirable user experience. It is important to handle exceptions appropriately to gracefully handle errors and prevent program failures."
   ]
  },
  {
   "cell_type": "markdown",
   "id": "c3e4357a",
   "metadata": {},
   "source": [
    "<font size = 3>__3. What are your options for recovering from an exception in your script?__</font>\n",
    "\n",
    "__Ans:__ When encountering an exception in your script, you have several options for recovering from it:\n",
    "\n",
    "1. __Handle the Exception:__ You can use a try-except block to catch and handle the exception.\n",
    "\n",
    "2. __Rethrow the Exception:__ If you are unable to handle the exception at the current level, you can rethrow the exception using the raise statement without any arguments. \n",
    "\n",
    "3. __Cleanup Resources:__ Exception handling provides an opportunity to perform necessary cleanup tasks. You can use the finally block, which follows the try-except block, to execute cleanup code regardless of whether an exception was raised. T\n",
    "\n",
    "4. __Retry Mechanism:__ In some cases, it may be appropriate to implement a retry mechanism to recover from certain types of exceptions. For example, if a network connection error occurs, you can retry the operation after a brief delay. "
   ]
  },
  {
   "cell_type": "markdown",
   "id": "6304bb29",
   "metadata": {},
   "source": [
    "<font size = 3>__4. Describe two methods for triggering exceptions in your script ?__</font>\n",
    "\n",
    "__Ans:__ There are multiple ways to trigger exceptions in your script. Here are two common methods:\n",
    "\n",
    "1. __Raise an Exception Explicitly:__ You can raise an exception explicitly using the raise statement followed by an instance of an exception class. This allows you to create and raise exceptions based on specific conditions or criteria within your code.\n",
    "\n",
    "2. __Invoke Built-in Exception-Causing Operations:__ Certain operations or functions in Python can trigger exceptions under specific circumstances. For instance, accessing an index beyond the length of a list raises an IndexError, dividing a number by zero raises a ZeroDivisionError, and attempting to open a non-existent file raises a FileNotFoundError."
   ]
  },
  {
   "cell_type": "markdown",
   "id": "34a72bee",
   "metadata": {},
   "source": [
    "<font size = 3>__5. Identify two methods for specifying actions to be executed at termination time, regardless of whether or not an exception exists.__</font>\n",
    "\n",
    "\n",
    "__Ans:__ Two methods for specifying actions to be executed at termination time, regardless of whether or not an exception exists, are:\n",
    "\n",
    "1. __Using a finally Block:__ You can use a finally block in combination with a try block to ensure that certain actions are executed regardless of whether an exception occurred or not. The code within the finally block will always be executed, allowing you to perform cleanup operations, release resources, or finalize tasks that should be executed irrespective of exceptions.\n",
    "\n",
    "2. __Context Managers (with Statement):__ Another approach is to use context managers, which can be created by implementing the `__enter__` and `__exit__` methods in a class. Context managers allow you to define setup and teardown operations using the with statement. The `__exit__` method of the context manager is always executed, even if an exception occurs within the associated code block. This provides a convenient way to ensure cleanup or finalization actions are performed."
   ]
  },
  {
   "cell_type": "code",
   "execution_count": null,
   "id": "67679285",
   "metadata": {},
   "outputs": [],
   "source": []
  }
 ],
 "metadata": {
  "kernelspec": {
   "display_name": "Python 3 (ipykernel)",
   "language": "python",
   "name": "python3"
  },
  "language_info": {
   "codemirror_mode": {
    "name": "ipython",
    "version": 3
   },
   "file_extension": ".py",
   "mimetype": "text/x-python",
   "name": "python",
   "nbconvert_exporter": "python",
   "pygments_lexer": "ipython3",
   "version": "3.10.9"
  }
 },
 "nbformat": 4,
 "nbformat_minor": 5
}
