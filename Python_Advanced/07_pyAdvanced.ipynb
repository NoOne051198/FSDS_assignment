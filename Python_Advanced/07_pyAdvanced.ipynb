{
 "cells": [
  {
   "cell_type": "markdown",
   "id": "fc6a84a4",
   "metadata": {},
   "source": [
    "# Assignment - 07 Solution "
   ]
  },
  {
   "cell_type": "markdown",
   "id": "125ae8fe",
   "metadata": {},
   "source": [
    "<font size = 3>__1. What is the purpose of the try statement?__</font>\n",
    "\n",
    "__Ans:__ The purpose of the try statement in Python is to identify a block of code where exceptions might occur and handle them gracefully. It allows you to enclose potentially error-prone code in a try block and specify one or more except blocks to catch and handle specific exceptions. The try statement helps prevent program crashes and enables you to implement robust error handling and recovery mechanisms."
   ]
  },
  {
   "cell_type": "code",
   "execution_count": 1,
   "id": "222f72e6",
   "metadata": {},
   "outputs": [
    {
     "name": "stdout",
     "output_type": "stream",
     "text": [
      "Division result: 5.0\n",
      "Error: Cannot divide by zero!\n",
      "Error: Invalid operand types!\n"
     ]
    }
   ],
   "source": [
    "def divide(a, b):\n",
    "    try:\n",
    "        result = a / b\n",
    "        print(\"Division result:\", result)\n",
    "    except ZeroDivisionError:\n",
    "        print(\"Error: Cannot divide by zero!\")\n",
    "    except TypeError:\n",
    "        print(\"Error: Invalid operand types!\")\n",
    "\n",
    "# Example usages\n",
    "divide(10, 2)       # Division result: 5.0\n",
    "divide(8, 0)        # Error: Cannot divide by zero!\n",
    "divide(15, \"2\")     # Error: Invalid operand types!"
   ]
  },
  {
   "cell_type": "markdown",
   "id": "8d07ed7b",
   "metadata": {},
   "source": [
    "<font size = 3>__2. What are the two most popular try statement variations?__</font>\n",
    "\n",
    "__Ans:__ The two most popular variations of the try statement in Python are:\n",
    "\n",
    "1. __try-except:__ This variation allows you to catch and handle specific exceptions that might occur within the try block. You can specify one or more except blocks immediately after the try block to handle specific exception types. If an exception of the specified type occurs, the corresponding except block is executed. You can also include a generic except block to handle any exception that is not explicitly caught by preceding except blocks.\n",
    "\n",
    "2. __try-finally:__ This variation is used when you want to ensure that certain actions are executed regardless of whether an exception occurred or not. The try-finally block allows you to define cleanup or finalization code that is always executed, even if an exception is raised within the try block. The code within the finally block is guaranteed to run, ensuring that necessary cleanup operations or resource releases are performed."
   ]
  },
  {
   "cell_type": "markdown",
   "id": "1ec550e2",
   "metadata": {},
   "source": [
    "<font size = 3>__3. What is the purpose of the raise statement?__</font>\n",
    "\n",
    "__Ans:__ The purpose of the raise statement in Python is to explicitly raise exceptions during program execution. It allows you to create and trigger exceptions based on specific conditions or criteria. By using the raise statement, you can generate and propagate exceptions, indicating exceptional situations, error conditions, or custom error messages. It provides control over exception handling and allows for precise error reporting and recovery mechanisms."
   ]
  },
  {
   "cell_type": "markdown",
   "id": "ba9bb2aa",
   "metadata": {},
   "source": [
    "<font size = 3>__4. What does the assert statement do, and what other statement is it like?__</font>\n",
    "\n",
    "__Ans:__ The assert statement in Python is used for debugging and testing purposes. It evaluates a given expression and raises an AssertionError if the expression evaluates to False. It allows you to verify assumptions about your code and identify logical errors during development.\n",
    "\n",
    "The assert statement is similar to the if statement in terms of evaluating a condition. However, while the if statement is used for conditional branching, the assert statement is specifically designed for testing conditions that should always be true. It provides a concise way to enforce certain conditions and helps catch potential issues early in the development process."
   ]
  },
  {
   "cell_type": "markdown",
   "id": "db13f8df",
   "metadata": {},
   "source": [
    "<font size = 3>__5. What is the purpose of the with/as argument, and what other statement is it like?__</font>\n",
    "\n",
    "__Ans:__ The purpose of the `with/as` statement in Python is to simplify the management of resources that need to be properly initialized and cleaned up, such as files or database connections. It ensures that resources are automatically released or cleaned up regardless of whether an exception occurs or not.\n",
    "\n",
    "The `with/as` statement is similar to the `try/finally` statement in terms of ensuring proper resource management. However, the `with/as` statement provides a more concise and readable syntax by encapsulating the setup and teardown operations within a single block, making the code more maintainable and less error-prone."
   ]
  },
  {
   "cell_type": "code",
   "execution_count": null,
   "id": "c72bc5bc",
   "metadata": {},
   "outputs": [],
   "source": []
  }
 ],
 "metadata": {
  "kernelspec": {
   "display_name": "Python 3 (ipykernel)",
   "language": "python",
   "name": "python3"
  },
  "language_info": {
   "codemirror_mode": {
    "name": "ipython",
    "version": 3
   },
   "file_extension": ".py",
   "mimetype": "text/x-python",
   "name": "python",
   "nbconvert_exporter": "python",
   "pygments_lexer": "ipython3",
   "version": "3.10.9"
  }
 },
 "nbformat": 4,
 "nbformat_minor": 5
}
