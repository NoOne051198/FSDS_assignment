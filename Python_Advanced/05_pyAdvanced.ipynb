{
 "cells": [
  {
   "cell_type": "markdown",
   "id": "f2568da4",
   "metadata": {},
   "source": [
    "# Assignment - 05 Solution "
   ]
  },
  {
   "cell_type": "markdown",
   "id": "c89a63aa",
   "metadata": {},
   "source": [
    "<font size = 3>__1. What is the meaning of multiple inheritance?__</font>\n",
    "\n",
    "__Ans:__ Multiple inheritance is a feature in object-oriented programming where a class can inherit attributes and behaviors from more than one parent class. It allows a subclass to inherit and combine the features of multiple classes, enabling code reuse and creating complex class hierarchies."
   ]
  },
  {
   "cell_type": "code",
   "execution_count": 15,
   "id": "a88f8e3c",
   "metadata": {},
   "outputs": [
    {
     "name": "stdout",
     "output_type": "stream",
     "text": [
      "This is method A\n",
      "This is method B\n",
      "This is method C\n"
     ]
    }
   ],
   "source": [
    "class Parent_A:\n",
    "    def method_a(self):\n",
    "        print(\"This is method A\")\n",
    "\n",
    "class Parent_B:\n",
    "    def method_b(self):\n",
    "        print(\"This is method B\")\n",
    "\n",
    "class Child_C(Parent_A, Parent_B):\n",
    "    def method_c(self):\n",
    "        print(\"This is method C\")\n",
    "\n",
    "obj = Child_C()\n",
    "obj.method_a()  # Calling method from class A\n",
    "obj.method_b()  # Calling method from class B\n",
    "obj.method_c()  # Calling method from class C"
   ]
  },
  {
   "cell_type": "markdown",
   "id": "a96b93dc",
   "metadata": {},
   "source": [
    "<font size = 3>__2. What is the concept of delegation?__</font>\n",
    "\n",
    "__Ans:__ Delegation is a design pattern that involves one object forwarding or delegating a specific task to another object to handle it. Rather than directly performing the task itself, the delegating object relies on the delegated object to carry out the task. Delegation promotes code reuse, modularity, and separation of concerns, allowing objects to collaborate by assigning specific responsibilities to each other."
   ]
  },
  {
   "cell_type": "code",
   "execution_count": 16,
   "id": "0bfe8d99",
   "metadata": {},
   "outputs": [
    {
     "name": "stdout",
     "output_type": "stream",
     "text": [
      "Logging: Reading file: data.txt\n"
     ]
    }
   ],
   "source": [
    "class Logger:\n",
    "    def log(self, message):\n",
    "        print(f\"Logging: {message}\")\n",
    "\n",
    "\n",
    "class FileManager:\n",
    "    def __init__(self, logger):\n",
    "        self.logger = logger\n",
    "\n",
    "    def read_file(self, filename):\n",
    "        self.logger.log(f\"Reading file: {filename}\")\n",
    "        # Logic for reading the file\n",
    "\n",
    "\n",
    "logger = Logger()\n",
    "file_manager = FileManager(logger)\n",
    "file_manager.read_file(\"data.txt\")"
   ]
  },
  {
   "cell_type": "markdown",
   "id": "47f4752a",
   "metadata": {},
   "source": [
    "<font size = 3>__3. What is the concept of composition?__</font>\n",
    "\n",
    "__Ans:__ Composition is a design principle where a class is composed of one or more instances of other classes as its members. It allows objects to be combined to form more complex structures or behaviors. Composition enables code reuse, flexibility, and modularity by promoting the creation of classes that collaborate and interact with each other to achieve desired functionality."
   ]
  },
  {
   "cell_type": "code",
   "execution_count": 17,
   "id": "a3f12b05",
   "metadata": {},
   "outputs": [
    {
     "name": "stdout",
     "output_type": "stream",
     "text": [
      "Starting the car\n",
      "Engine started\n"
     ]
    }
   ],
   "source": [
    "class Engine:\n",
    "    def start(self):\n",
    "        print(\"Engine started\")\n",
    "\n",
    "class Car:\n",
    "    def __init__(self):\n",
    "        self.engine = Engine()\n",
    "\n",
    "    def start(self):\n",
    "        print(\"Starting the car\")\n",
    "        self.engine.start()\n",
    "\n",
    "my_car = Car()\n",
    "my_car.start()"
   ]
  },
  {
   "cell_type": "markdown",
   "id": "61b3e915",
   "metadata": {},
   "source": [
    "<font size = 3>__4. What are bound methods and how do we use them?__</font>\n",
    "\n",
    "__Ans:__ Bound methods are functions that are associated with a specific instance of a class. They are created when accessing a method on an instance of a class. Bound methods are automatically passed the instance as the first argument (usually named self). They encapsulate the behavior and state of the instance. Bound methods can be invoked directly on the instance, allowing access to the instance's attributes and behavior defined in the class."
   ]
  },
  {
   "cell_type": "code",
   "execution_count": 18,
   "id": "217f43f9",
   "metadata": {},
   "outputs": [
    {
     "name": "stdout",
     "output_type": "stream",
     "text": [
      "This is a bound method\n",
      "Value: 42\n"
     ]
    }
   ],
   "source": [
    "class MyClass:\n",
    "    def __init__(self, value):\n",
    "        self.value = value\n",
    "\n",
    "    def my_method(self):\n",
    "        print(\"This is a bound method\")\n",
    "        print(\"Value:\", self.value)\n",
    "\n",
    "\n",
    "obj = MyClass(42)\n",
    "obj.my_method()"
   ]
  },
  {
   "cell_type": "markdown",
   "id": "741cddbf",
   "metadata": {},
   "source": [
    "<font size = 3>__5. What is the purpose of pseudoprivate attributes?__</font>\n",
    "\n",
    "__Ans:__ The purpose of pseudoprivate attributes, also known as name mangling, is to provide a way to make class attributes less accessible outside the class. It allows attributes to be prefixed with double underscores (\\_\\_) to indicate that they are intended for internal use within the class. This naming convention helps avoid accidental name clashes with subclasses or external code, promoting encapsulation and reducing the risk of unintended modification or access to class internals."
   ]
  },
  {
   "cell_type": "code",
   "execution_count": 12,
   "id": "a9dde55e",
   "metadata": {},
   "outputs": [
    {
     "name": "stdout",
     "output_type": "stream",
     "text": [
      "42\n"
     ]
    },
    {
     "ename": "AttributeError",
     "evalue": "'MyClass' object has no attribute '__pseudoprivate'",
     "output_type": "error",
     "traceback": [
      "\u001b[1;31m---------------------------------------------------------------------------\u001b[0m",
      "\u001b[1;31mAttributeError\u001b[0m                            Traceback (most recent call last)",
      "Cell \u001b[1;32mIn[12], line 16\u001b[0m\n\u001b[0;32m     13\u001b[0m obj\u001b[38;5;241m.\u001b[39maccess_pseudoprivate()  \u001b[38;5;66;03m# Prints the value of pseudoprivate attribute\u001b[39;00m\n\u001b[0;32m     15\u001b[0m \u001b[38;5;66;03m# Trying to access the pseudoprivate attribute directly outside the class\u001b[39;00m\n\u001b[1;32m---> 16\u001b[0m \u001b[38;5;28mprint\u001b[39m(\u001b[43mobj\u001b[49m\u001b[38;5;241;43m.\u001b[39;49m\u001b[43m__pseudoprivate\u001b[49m)  \u001b[38;5;66;03m# Raises an AttributeError\u001b[39;00m\n\u001b[0;32m     18\u001b[0m \u001b[38;5;66;03m# Trying to call the pseudoprivate method directly outside the class\u001b[39;00m\n\u001b[0;32m     19\u001b[0m obj\u001b[38;5;241m.\u001b[39m__pseudoprivate_method()  \u001b[38;5;66;03m# Raises an AttributeError\u001b[39;00m\n",
      "\u001b[1;31mAttributeError\u001b[0m: 'MyClass' object has no attribute '__pseudoprivate'"
     ]
    }
   ],
   "source": [
    "class MyClass:\n",
    "    def __init__(self):\n",
    "        self.__pseudoprivate = 42\n",
    "\n",
    "    def __pseudoprivate_method(self):\n",
    "        print(\"This is a pseudoprivate method\")\n",
    "\n",
    "    def access_pseudoprivate(self):\n",
    "        print(self.__pseudoprivate)\n",
    "\n",
    "\n",
    "obj = MyClass()\n",
    "obj.access_pseudoprivate()  # Prints the value of pseudoprivate attribute\n",
    "\n",
    "# Trying to access the pseudoprivate attribute directly outside the class\n",
    "print(obj.__pseudoprivate)  # Raises an AttributeError\n",
    "\n",
    "# Trying to call the pseudoprivate method directly outside the class\n",
    "obj.__pseudoprivate_method()  # Raises an AttributeError\n"
   ]
  },
  {
   "cell_type": "code",
   "execution_count": null,
   "id": "537dee65",
   "metadata": {},
   "outputs": [],
   "source": []
  }
 ],
 "metadata": {
  "kernelspec": {
   "display_name": "Python 3 (ipykernel)",
   "language": "python",
   "name": "python3"
  },
  "language_info": {
   "codemirror_mode": {
    "name": "ipython",
    "version": 3
   },
   "file_extension": ".py",
   "mimetype": "text/x-python",
   "name": "python",
   "nbconvert_exporter": "python",
   "pygments_lexer": "ipython3",
   "version": "3.10.9"
  }
 },
 "nbformat": 4,
 "nbformat_minor": 5
}
