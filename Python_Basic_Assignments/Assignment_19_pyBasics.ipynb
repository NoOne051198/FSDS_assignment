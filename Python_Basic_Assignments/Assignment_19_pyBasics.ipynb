{
 "cells": [
  {
   "cell_type": "markdown",
   "id": "745ba6d5",
   "metadata": {},
   "source": [
    "# Assignment - 19 Solution"
   ]
  },
  {
   "cell_type": "markdown",
   "id": "bda43cbd",
   "metadata": {},
   "source": [
    "<font size = 3>__1. Make a class called Thing with no contents and print it. Then, create an object called example from this class and also print it. Are the printed values the same or different?__</font>"
   ]
  },
  {
   "cell_type": "code",
   "execution_count": 1,
   "id": "fde333d1",
   "metadata": {},
   "outputs": [
    {
     "name": "stdout",
     "output_type": "stream",
     "text": [
      "<class '__main__.Thing'>\n",
      "<__main__.Thing object at 0x000001BE03820D90>\n"
     ]
    }
   ],
   "source": [
    "# define the Thing class\n",
    "class Thing:\n",
    "    pass\n",
    "\n",
    "# print the class\n",
    "print(Thing)\n",
    "\n",
    "# create an object of the Thing class\n",
    "example = Thing()\n",
    "\n",
    "# print the object\n",
    "print(example)\n"
   ]
  },
  {
   "cell_type": "markdown",
   "id": "c3adb048",
   "metadata": {},
   "source": [
    "<font size = 3>__2. Create a new class called Thing2 and add the value 'abc' to the letters class attribute. Letters should be printed.__</font>"
   ]
  },
  {
   "cell_type": "code",
   "execution_count": 2,
   "id": "1b9d4746",
   "metadata": {},
   "outputs": [
    {
     "name": "stdout",
     "output_type": "stream",
     "text": [
      "abc\n"
     ]
    }
   ],
   "source": [
    "class Thing2:\n",
    "    letters = 'abc'\n",
    "\n",
    "print(Thing2.letters)\n"
   ]
  },
  {
   "cell_type": "markdown",
   "id": "ccdd2a76",
   "metadata": {},
   "source": [
    "<font size = 3>__3. Make yet another class called, of course, Thing3. This time, assign the value 'xyz' to an instance (object) attribute called letters. Print letters. Do you need to make an object from the class to do this?__</font>"
   ]
  },
  {
   "cell_type": "code",
   "execution_count": 3,
   "id": "b745fa5c",
   "metadata": {},
   "outputs": [
    {
     "name": "stdout",
     "output_type": "stream",
     "text": [
      "xyz\n"
     ]
    }
   ],
   "source": [
    "class Thing3:\n",
    "    def __init__(self):\n",
    "        self.letters = 'xyz'\n",
    "\n",
    "example = Thing3()\n",
    "print(example.letters)\n"
   ]
  },
  {
   "cell_type": "markdown",
   "id": "932a0802",
   "metadata": {},
   "source": [
    "<font size = 3>__4. Create an Element class with the instance attributes name, symbol, and number. Create a class object with the values 'Hydrogen,' 'H,' and 1.__</font>"
   ]
  },
  {
   "cell_type": "code",
   "execution_count": 4,
   "id": "7f7a9af8",
   "metadata": {},
   "outputs": [
    {
     "name": "stdout",
     "output_type": "stream",
     "text": [
      "Hydrogen\n",
      "H\n",
      "1\n"
     ]
    }
   ],
   "source": [
    "class Element:\n",
    "    def __init__(self, name, symbol, number):\n",
    "        self.name = name\n",
    "        self.symbol = symbol\n",
    "        self.number = number\n",
    "        \n",
    "hydrogen = Element('Hydrogen', 'H', 1)\n",
    "print(hydrogen.name)\n",
    "print(hydrogen.symbol)\n",
    "print(hydrogen.number)\n"
   ]
  },
  {
   "cell_type": "markdown",
   "id": "aa8aafe0",
   "metadata": {},
   "source": [
    "<font size = 3>__5. Make a dictionary with these keys and values: 'name': 'Hydrogen', 'symbol': 'H', 'number': 1. Then, create an object called hydrogen from class Element using this dictionary.__</font>"
   ]
  },
  {
   "cell_type": "code",
   "execution_count": 7,
   "id": "9a659a2c",
   "metadata": {},
   "outputs": [],
   "source": [
    "# Define the Element class\n",
    "class Element:\n",
    "    def __init__(self, name, symbol, number):\n",
    "        self.name = name\n",
    "        self.symbol = symbol\n",
    "        self.number = number\n",
    "        \n",
    "# Create a dictionary with key-value pairs\n",
    "hydrogen_dict = {'name': 'Hydrogen', 'symbol': 'H', 'number': 1}\n",
    "\n",
    "# Create an object called hydrogen from class Element using the dictionary\n",
    "hydrogen = Element(**hydrogen_dict)\n"
   ]
  },
  {
   "cell_type": "markdown",
   "id": "4c2d7810",
   "metadata": {},
   "source": [
    "<font size = 3>__6. For the Element class, define a method called dump() that prints the values of the object’s attributes (name, symbol, and number). Create the hydrogen object from this new definition and use dump() to print its attributes.__</font>"
   ]
  },
  {
   "cell_type": "code",
   "execution_count": 8,
   "id": "42a4c038",
   "metadata": {},
   "outputs": [
    {
     "name": "stdout",
     "output_type": "stream",
     "text": [
      "Name: Hydrogen, Symbol: H, Number: 1\n"
     ]
    }
   ],
   "source": [
    "class Element:\n",
    "    def __init__(self, name, symbol, number):\n",
    "        self.name = name\n",
    "        self.symbol = symbol\n",
    "        self.number = number\n",
    "    \n",
    "    def dump(self):\n",
    "        print(f\"Name: {self.name}, Symbol: {self.symbol}, Number: {self.number}\")\n",
    "\n",
    "        \n",
    "        \n",
    "hydrogen_dict = {'name': 'Hydrogen', 'symbol': 'H', 'number': 1}\n",
    "hydrogen = Element(**hydrogen_dict)\n",
    "\n",
    "hydrogen.dump()  # Output: Name: Hydrogen, Symbol: H, Number: 1\n"
   ]
  },
  {
   "cell_type": "markdown",
   "id": "45b1dfb4",
   "metadata": {},
   "source": [
    "<font size = 3>__7. Call print(hydrogen). In the definition of Element, change the name of method dump to __str__, create a new hydrogen object, and call print(hydrogen) again.__</font>"
   ]
  },
  {
   "cell_type": "code",
   "execution_count": 9,
   "id": "c98d0bde",
   "metadata": {},
   "outputs": [
    {
     "name": "stdout",
     "output_type": "stream",
     "text": [
      "Hydrogen (H) - 1\n"
     ]
    }
   ],
   "source": [
    "class Element:\n",
    "    def __init__(self, name, symbol, number):\n",
    "        self.name = name\n",
    "        self.symbol = symbol\n",
    "        self.number = number\n",
    "    \n",
    "    def __str__(self):\n",
    "        return f\"{self.name} ({self.symbol}) - {self.number}\"\n",
    "  \n",
    "hydrogen = Element('Hydrogen', 'H', 1)\n",
    "print(hydrogen)\n"
   ]
  },
  {
   "cell_type": "markdown",
   "id": "efd31c11",
   "metadata": {},
   "source": [
    "<font size = 3>__8. Modify Element to make the attributes name, symbol, and number private. Define a getter property for each to return its value.__</font>"
   ]
  },
  {
   "cell_type": "code",
   "execution_count": 10,
   "id": "3d58ba77",
   "metadata": {},
   "outputs": [
    {
     "name": "stdout",
     "output_type": "stream",
     "text": [
      "Hydrogen\n",
      "H\n",
      "1\n"
     ]
    }
   ],
   "source": [
    "class Element:\n",
    "    def __init__(self, name, symbol, number):\n",
    "        self.__name = name\n",
    "        self.__symbol = symbol\n",
    "        self.__number = number\n",
    "\n",
    "    @property\n",
    "    def name(self):\n",
    "        return self.__name\n",
    "\n",
    "    @property\n",
    "    def symbol(self):\n",
    "        return self.__symbol\n",
    "\n",
    "    @property\n",
    "    def number(self):\n",
    "        return self.__number\n",
    "\n",
    "    \n",
    "    \n",
    "# create an Element object\n",
    "hydrogen = Element('Hydrogen', 'H', 1)\n",
    "\n",
    "# access the private attributes using the getter properties\n",
    "print(hydrogen.name)    # output: Hydrogen\n",
    "print(hydrogen.symbol)  # output: H\n",
    "print(hydrogen.number)  # output: 1\n",
    "\n"
   ]
  },
  {
   "cell_type": "markdown",
   "id": "30fe5bce",
   "metadata": {},
   "source": [
    "<font size = 3>__9. Define three classes: Bear, Rabbit, and Octothorpe. For each, define only one method: eats(). This should return 'berries' (Bear), 'clover' (Rabbit), or 'campers' (Octothorpe). Create one object from each and print what it eats.__</font>"
   ]
  },
  {
   "cell_type": "code",
   "execution_count": 11,
   "id": "e0beece8",
   "metadata": {},
   "outputs": [
    {
     "name": "stdout",
     "output_type": "stream",
     "text": [
      "Bear eats: berries\n",
      "Rabbit eats: clover\n",
      "Octothorpe eats: campers\n"
     ]
    }
   ],
   "source": [
    "class Bear:\n",
    "    def eats(self):\n",
    "        return 'berries'\n",
    "\n",
    "class Rabbit:\n",
    "    def eats(self):\n",
    "        return 'clover'\n",
    "\n",
    "class Octothorpe:\n",
    "    def eats(self):\n",
    "        return 'campers'\n",
    "\n",
    "# create one object from each class\n",
    "bear = Bear()\n",
    "rabbit = Rabbit()\n",
    "octo = Octothorpe()\n",
    "\n",
    "# print what each eats\n",
    "print(\"Bear eats:\", bear.eats())\n",
    "print(\"Rabbit eats:\", rabbit.eats())\n",
    "print(\"Octothorpe eats:\", octo.eats())\n"
   ]
  },
  {
   "cell_type": "markdown",
   "id": "738a7afa",
   "metadata": {},
   "source": [
    "<font size = 3>__10. Define these classes: Laser, Claw, and SmartPhone. Each has only one method: does(). This returns 'disintegrate' (Laser), 'crush' (Claw), or 'ring' (SmartPhone). Then, define the class Robot that has one instance (object) of each of these. Define a does() method for the Robot that prints what its component objects do.__</font>"
   ]
  },
  {
   "cell_type": "code",
   "execution_count": 13,
   "id": "acf88d11",
   "metadata": {},
   "outputs": [
    {
     "name": "stdout",
     "output_type": "stream",
     "text": [
      "Laser does disintegrate, Claw does crush, SmartPhone does ring\n"
     ]
    }
   ],
   "source": [
    "class Laser:\n",
    "    def does(self):\n",
    "        return 'disintegrate'\n",
    "\n",
    "class Claw:\n",
    "    def does(self):\n",
    "        return 'crush'\n",
    "\n",
    "class SmartPhone:\n",
    "    def does(self):\n",
    "        return 'ring'\n",
    "\n",
    "class Robot:\n",
    "    def __init__(self):\n",
    "        self.laser = Laser()\n",
    "        self.claw = Claw()\n",
    "        self.phone = SmartPhone()\n",
    "    \n",
    "    def does(self):\n",
    "        return f'Laser does {self.laser.does()}, Claw does {self.claw.does()}, SmartPhone does {self.phone.does()}'\n",
    "\n",
    "    \n",
    "r = Robot()\n",
    "print(r.does())  # output: Laser does disintegrate, Claw does crush, SmartPhone does ring\n"
   ]
  },
  {
   "cell_type": "code",
   "execution_count": null,
   "id": "46b4acda",
   "metadata": {},
   "outputs": [],
   "source": []
  }
 ],
 "metadata": {
  "kernelspec": {
   "display_name": "Python 3 (ipykernel)",
   "language": "python",
   "name": "python3"
  },
  "language_info": {
   "codemirror_mode": {
    "name": "ipython",
    "version": 3
   },
   "file_extension": ".py",
   "mimetype": "text/x-python",
   "name": "python",
   "nbconvert_exporter": "python",
   "pygments_lexer": "ipython3",
   "version": "3.10.9"
  }
 },
 "nbformat": 4,
 "nbformat_minor": 5
}
