{
 "cells": [
  {
   "cell_type": "markdown",
   "id": "76b9a762",
   "metadata": {},
   "source": [
    "# Assignment - 25 Solution "
   ]
  },
  {
   "cell_type": "markdown",
   "id": "13166af2",
   "metadata": {},
   "source": [
    "<font size = 3>__1. What is the difference between enclosing a list comprehension in square brackets and parentheses?__</font>\n",
    "\n",
    "\n",
    "__Ans:__ Enclosing a list comprehension in square brackets produces a list, while enclosing it in parentheses produces a generator object. Lists are evaluated and constructed immediately, occupying memory, whereas generators produce values on-demand, conserving memory. Lists can be accessed multiple times, while generators are exhausted once iterated through. Generators are typically more memory-efficient for large datasets or infinite sequences."
   ]
  },
  {
   "cell_type": "code",
   "execution_count": 1,
   "id": "f77b2e4b",
   "metadata": {},
   "outputs": [
    {
     "name": "stdout",
     "output_type": "stream",
     "text": [
      "[1, 4, 9, 16, 25]\n",
      "<generator object <genexpr> at 0x000001FF23FE3B50>\n",
      "[1, 4, 9, 16, 25]\n"
     ]
    }
   ],
   "source": [
    "# Using square brackets\n",
    "squares = [x**2 for x in range(1, 6)]\n",
    "print(squares)  # Output: [1, 4, 9, 16, 25]\n",
    "\n",
    "# Using parentheses\n",
    "squares_generator = (x**2 for x in range(1, 6))\n",
    "print(squares_generator)  # Output: <generator object <genexpr> at 0x7f0c3d0257d0>\n",
    "print(list(squares_generator))  # Output: [1, 4, 9, 16, 25]\n"
   ]
  },
  {
   "cell_type": "markdown",
   "id": "ced40133",
   "metadata": {},
   "source": [
    "<font size = 3>__2. What is the relationship between generators and iterators?__</font>\n",
    "\n",
    "__Ans:__ Generators and iterators are closely related concepts in Python. A generator is a special type of iterator that generates values on-the-fly using the yield statement. It is implemented as a function and can be iterated using a for loop or by calling next() on it. Iterators, on the other hand, are more general and can be implemented using classes that define the __iter__() and __next__() methods. Generators are a convenient and concise way to create iterators in Python."
   ]
  },
  {
   "cell_type": "code",
   "execution_count": 4,
   "id": "0a50f6eb",
   "metadata": {},
   "outputs": [
    {
     "name": "stdout",
     "output_type": "stream",
     "text": [
      "0\n",
      "1\n",
      "2\n",
      "3\n",
      "4\n"
     ]
    }
   ],
   "source": [
    "# Define a generator function that yields a sequence of numbers\n",
    "def my_generator(start, stop):\n",
    "    while start < stop:\n",
    "        yield start\n",
    "        start += 1\n",
    "\n",
    "# Create an iterator object from the generator\n",
    "my_iterator = my_generator(0, 5)\n",
    "\n",
    "# Iterate over the sequence of numbers using the iterator\n",
    "for num in my_iterator:\n",
    "    print(num)\n"
   ]
  },
  {
   "cell_type": "markdown",
   "id": "1163d76f",
   "metadata": {},
   "source": [
    "<font size = 3>__3. What are the signs that a function is a generator function?__</font>\n",
    "\n",
    "__Ans:__ There are two main signs that a function is a generator function:\n",
    "\n",
    "1. __The function contains a yield statement:__ A generator function contains at least one yield statement that suspends the function's execution and returns a value to the caller. When the generator function is called, it returns a generator object, which can be used to control the execution of the function.\n",
    "\n",
    "2. __The function uses the yield keyword instead of return:__ In a generator function, the yield keyword is used to return a value from the function, whereas the return keyword immediately terminates the function's execution and returns a value to the caller. Additionally, generator functions often use a loop to generate multiple values, yielding each value in turn."
   ]
  },
  {
   "cell_type": "markdown",
   "id": "236f1f6e",
   "metadata": {},
   "source": [
    "<font size = 3>__4. What is the purpose of a yield statement?__</font>\n",
    "\n",
    "\n",
    "__Ans:__ The purpose of the yield statement in Python is to define a generator function. It allows the function to generate a sequence of values one at a time, instead of returning a single value. The yield statement suspends the function's execution and remembers its state, allowing it to resume from where it left off when requested."
   ]
  },
  {
   "cell_type": "markdown",
   "id": "b5acebfe",
   "metadata": {},
   "source": [
    "<font size = 3>__5. What is the relationship between map calls and list comprehensions? Make a comparison and contrast between the two ?__</font>\n",
    "\n",
    "__Ans:__ Both map calls and list comprehensions are used for transforming and processing elements in an iterable. However, they have some differences:\n",
    "\n",
    "Comparison:\n",
    "\n",
    "- Both can apply a function or expression to each element in an iterable.\n",
    "- Both return a new iterable.\n",
    "\n",
    "Contrast:\n",
    "\n",
    "- List comprehensions allow more flexibility by allowing conditions and nested iterations.\n",
    "- Map is more concise when only a single function is applied.\n",
    "- List comprehensions are often more readable and preferred for simple transformations.\n"
   ]
  },
  {
   "cell_type": "code",
   "execution_count": 5,
   "id": "ad01803f",
   "metadata": {},
   "outputs": [
    {
     "name": "stdout",
     "output_type": "stream",
     "text": [
      "[1, 4, 9, 16, 25]\n",
      "[1, 4, 9, 16, 25]\n"
     ]
    }
   ],
   "source": [
    "# Using map\n",
    "numbers = [1, 2, 3, 4, 5]\n",
    "squares = map(lambda x: x**2, numbers)\n",
    "print(list(squares)) # [1, 4, 9, 16, 25]\n",
    "\n",
    "# Using list comprehension\n",
    "numbers = [1, 2, 3, 4, 5]\n",
    "squares = [x**2 for x in numbers]\n",
    "print(squares) # [1, 4, 9, 16, 25]\n"
   ]
  },
  {
   "cell_type": "code",
   "execution_count": null,
   "id": "555be932",
   "metadata": {},
   "outputs": [],
   "source": []
  }
 ],
 "metadata": {
  "kernelspec": {
   "display_name": "Python 3 (ipykernel)",
   "language": "python",
   "name": "python3"
  },
  "language_info": {
   "codemirror_mode": {
    "name": "ipython",
    "version": 3
   },
   "file_extension": ".py",
   "mimetype": "text/x-python",
   "name": "python",
   "nbconvert_exporter": "python",
   "pygments_lexer": "ipython3",
   "version": "3.10.9"
  }
 },
 "nbformat": 4,
 "nbformat_minor": 5
}
