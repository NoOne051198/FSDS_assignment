{
 "cells": [
  {
   "cell_type": "markdown",
   "id": "62343bce",
   "metadata": {},
   "source": [
    "# Assignment - 17 Solution"
   ]
  },
  {
   "cell_type": "markdown",
   "id": "38392ee0",
   "metadata": {},
   "source": [
    "<font size = 3>__1. Assign the value 7 to the variable guess_me. Then, write the conditional tests (if, else, and elif) to print the string 'too low' if guess_me is less than 7, 'too high' if greater than 7, and 'just right' if equal to 7.__</font>"
   ]
  },
  {
   "cell_type": "code",
   "execution_count": 2,
   "id": "ce7d6ffd",
   "metadata": {},
   "outputs": [
    {
     "name": "stdout",
     "output_type": "stream",
     "text": [
      "just right\n",
      "too low\n",
      "too high\n"
     ]
    }
   ],
   "source": [
    "def guess_me(num):\n",
    "    guess_me = 7\n",
    "    if num < guess_me:\n",
    "        print('too low')\n",
    "    elif num > guess_me:\n",
    "        print('too high')\n",
    "    else:\n",
    "        print('just right')\n",
    "\n",
    "\n",
    "guess_me(7)\n",
    "guess_me(5)\n",
    "guess_me(15)"
   ]
  },
  {
   "cell_type": "markdown",
   "id": "b31521f5",
   "metadata": {},
   "source": [
    "<font size = 3>__2. Assign the value 7 to the variable guess_me and the value 1 to the variable start. Write a while loop that compares start with guess_me. Print too low if start is less than guess me. If start equals guess_me, print 'found it!' and exit the loop. If start is greater than guess_me, print 'oops' and exit the loop. Increment start at the end of the loop__</font>"
   ]
  },
  {
   "cell_type": "code",
   "execution_count": 4,
   "id": "d2f828d0",
   "metadata": {},
   "outputs": [
    {
     "name": "stdout",
     "output_type": "stream",
     "text": [
      "too low\n",
      "too low\n",
      "too low\n",
      "too low\n",
      "too low\n",
      "too low\n",
      "found it!\n"
     ]
    }
   ],
   "source": [
    "guess_me = 7\n",
    "start = 1\n",
    "\n",
    "while True:\n",
    "    if start < guess_me:\n",
    "        print('too low')\n",
    "    elif start == guess_me:\n",
    "        print('found it!')\n",
    "        break\n",
    "    else:\n",
    "        print('oops')\n",
    "        break\n",
    "    start += 1\n"
   ]
  },
  {
   "cell_type": "markdown",
   "id": "eaa02b9a",
   "metadata": {},
   "source": [
    "<font size = 3>__3. Print the following values of the list [3, 2, 1, 0] using a for loop.__</font>"
   ]
  },
  {
   "cell_type": "code",
   "execution_count": 6,
   "id": "f0c42a01",
   "metadata": {},
   "outputs": [
    {
     "name": "stdout",
     "output_type": "stream",
     "text": [
      "3\n",
      "2\n",
      "1\n",
      "0\n"
     ]
    }
   ],
   "source": [
    "list_1 = [3, 2, 1, 0]\n",
    "for item in list_1:\n",
    "    print(item)\n"
   ]
  },
  {
   "cell_type": "markdown",
   "id": "de4446a6",
   "metadata": {},
   "source": [
    "<font size = 3>__4. Use a list comprehension to make a list of the even numbers in range(10)__</font>"
   ]
  },
  {
   "cell_type": "code",
   "execution_count": 7,
   "id": "17ec8098",
   "metadata": {},
   "outputs": [
    {
     "name": "stdout",
     "output_type": "stream",
     "text": [
      "[0, 2, 4, 6, 8]\n"
     ]
    }
   ],
   "source": [
    "even_numbers = [num for num in range(10) if num % 2 == 0]\n",
    "print(even_numbers)  # output: [0, 2, 4, 6, 8]\n"
   ]
  },
  {
   "cell_type": "markdown",
   "id": "6144bf13",
   "metadata": {},
   "source": [
    "<font size = 3>__5. Use a dictionary comprehension to create the dictionary squares. Use range(10) to return the keys, and use the square of each key as its value.__</font>"
   ]
  },
  {
   "cell_type": "code",
   "execution_count": 8,
   "id": "6aeacf6e",
   "metadata": {},
   "outputs": [
    {
     "name": "stdout",
     "output_type": "stream",
     "text": [
      "{0: 0, 1: 1, 2: 4, 3: 9, 4: 16, 5: 25, 6: 36, 7: 49, 8: 64, 9: 81}\n"
     ]
    }
   ],
   "source": [
    "squares = {num: num*num for num in range(10)}\n",
    "print(squares)\n"
   ]
  },
  {
   "cell_type": "markdown",
   "id": "c982db21",
   "metadata": {},
   "source": [
    "<font size = 3>__6. Construct the set odd from the odd numbers in the range using a set comprehension (10).__</font>"
   ]
  },
  {
   "cell_type": "code",
   "execution_count": 9,
   "id": "2939595e",
   "metadata": {},
   "outputs": [
    {
     "name": "stdout",
     "output_type": "stream",
     "text": [
      "{1, 3, 5, 7, 9}\n"
     ]
    }
   ],
   "source": [
    "odd = {x for x in range(10) if x % 2 != 0}\n",
    "print(odd)"
   ]
  },
  {
   "cell_type": "markdown",
   "id": "b2161bd2",
   "metadata": {},
   "source": [
    "<font size = 3>__7. Use a generator comprehension to return the string 'Got ' and a number for the numbers in range(10). Iterate through this by using a for loop__</font>"
   ]
  },
  {
   "cell_type": "code",
   "execution_count": 10,
   "id": "1b1fc2d3",
   "metadata": {},
   "outputs": [
    {
     "name": "stdout",
     "output_type": "stream",
     "text": [
      "Got 0\n",
      "Got 1\n",
      "Got 2\n",
      "Got 3\n",
      "Got 4\n",
      "Got 5\n",
      "Got 6\n",
      "Got 7\n",
      "Got 8\n",
      "Got 9\n"
     ]
    }
   ],
   "source": [
    "gen = ('Got ' + str(num) for num in range(10))\n",
    "for item in gen:\n",
    "    print(item)\n"
   ]
  },
  {
   "cell_type": "markdown",
   "id": "9e6231a8",
   "metadata": {},
   "source": [
    "<font size = 3>__8. Define a function called good that returns the list ['Harry', 'Ron', 'Hermione'].__</font>"
   ]
  },
  {
   "cell_type": "code",
   "execution_count": 12,
   "id": "6228f77f",
   "metadata": {},
   "outputs": [
    {
     "data": {
      "text/plain": [
       "['Harry', 'Ron', 'Hermione']"
      ]
     },
     "execution_count": 12,
     "metadata": {},
     "output_type": "execute_result"
    }
   ],
   "source": [
    "def good():\n",
    "    return ['Harry', 'Ron', 'Hermione']\n",
    "\n",
    "good()"
   ]
  },
  {
   "cell_type": "markdown",
   "id": "e0a08a66",
   "metadata": {},
   "source": [
    "<font size = 3>__9. Define a generator function called get_odds that returns the odd numbers from range(10). Use a for loop to find and print the third value returned.__</font>"
   ]
  },
  {
   "cell_type": "code",
   "execution_count": 14,
   "id": "2dddc03a",
   "metadata": {},
   "outputs": [
    {
     "name": "stdout",
     "output_type": "stream",
     "text": [
      "The third odd number is: 5\n"
     ]
    }
   ],
   "source": [
    "def get_odds():\n",
    "    for number in range(1, 10, 2):\n",
    "        yield number\n",
    "\n",
    "count = 1\n",
    "for odd in get_odds():\n",
    "    if count == 3:\n",
    "        print(\"The third odd number is:\", odd)\n",
    "        break\n",
    "    count += 1\n"
   ]
  },
  {
   "cell_type": "markdown",
   "id": "46629297",
   "metadata": {},
   "source": [
    "<font size = 3>__10. Define an exception called OopsException. Raise this exception to see what happens. Then write the code to catch this exception and print 'Caught an oops'.__</font>"
   ]
  },
  {
   "cell_type": "code",
   "execution_count": 15,
   "id": "40affe80",
   "metadata": {},
   "outputs": [
    {
     "ename": "OopsException",
     "evalue": "Something went wrong",
     "output_type": "error",
     "traceback": [
      "\u001b[1;31m---------------------------------------------------------------------------\u001b[0m",
      "\u001b[1;31mOopsException\u001b[0m                             Traceback (most recent call last)",
      "Cell \u001b[1;32mIn[15], line 6\u001b[0m\n\u001b[0;32m      3\u001b[0m     \u001b[38;5;28;01mpass\u001b[39;00m\n\u001b[0;32m      5\u001b[0m \u001b[38;5;66;03m# Raise the exception\u001b[39;00m\n\u001b[1;32m----> 6\u001b[0m \u001b[38;5;28;01mraise\u001b[39;00m OopsException(\u001b[38;5;124m\"\u001b[39m\u001b[38;5;124mSomething went wrong\u001b[39m\u001b[38;5;124m\"\u001b[39m)\n\u001b[0;32m      8\u001b[0m \u001b[38;5;66;03m# Catch and handle the exception\u001b[39;00m\n\u001b[0;32m      9\u001b[0m \u001b[38;5;28;01mtry\u001b[39;00m:\n",
      "\u001b[1;31mOopsException\u001b[0m: Something went wrong"
     ]
    }
   ],
   "source": [
    "# Define the exception\n",
    "class OopsException(Exception):\n",
    "    pass\n",
    "\n",
    "# Raise the exception\n",
    "raise OopsException(\"Something went wrong\")\n",
    "\n",
    "# Catch and handle the exception\n",
    "try:\n",
    "    raise OopsException(\"Something went wrong\")\n",
    "except OopsException as exc:\n",
    "    print(\"Caught an oops:\", exc)\n"
   ]
  },
  {
   "cell_type": "markdown",
   "id": "03250b9a",
   "metadata": {},
   "source": [
    "<font size = 3>__11. Use zip() to make a dictionary called movies that pairs these lists: titles = ['Creature of Habit', 'Crewel Fate'] and plots = ['A nun turns into a monster', 'A haunted yarn shop'].__</font>"
   ]
  },
  {
   "cell_type": "code",
   "execution_count": 16,
   "id": "6763f35a",
   "metadata": {},
   "outputs": [
    {
     "name": "stdout",
     "output_type": "stream",
     "text": [
      "{'Creature of Habit': 'A nun turns into a monster', 'Crewel Fate': 'A haunted yarn shop'}\n"
     ]
    }
   ],
   "source": [
    "titles = ['Creature of Habit', 'Crewel Fate']\n",
    "plots = ['A nun turns into a monster', 'A haunted yarn shop']\n",
    "\n",
    "movies = dict(zip(titles, plots))\n",
    "print(movies)\n"
   ]
  },
  {
   "cell_type": "code",
   "execution_count": null,
   "id": "50a13069",
   "metadata": {},
   "outputs": [],
   "source": []
  }
 ],
 "metadata": {
  "kernelspec": {
   "display_name": "Python 3 (ipykernel)",
   "language": "python",
   "name": "python3"
  },
  "language_info": {
   "codemirror_mode": {
    "name": "ipython",
    "version": 3
   },
   "file_extension": ".py",
   "mimetype": "text/x-python",
   "name": "python",
   "nbconvert_exporter": "python",
   "pygments_lexer": "ipython3",
   "version": "3.10.9"
  }
 },
 "nbformat": 4,
 "nbformat_minor": 5
}
