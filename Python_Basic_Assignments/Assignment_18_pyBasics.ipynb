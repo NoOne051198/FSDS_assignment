{
 "cells": [
  {
   "cell_type": "markdown",
   "id": "455bbe09",
   "metadata": {},
   "source": [
    "# Assignment - 18 Solution "
   ]
  },
  {
   "cell_type": "markdown",
   "id": "75dd2504",
   "metadata": {},
   "source": [
    "<font size = 3>__1. Create a zoo.py file first. Define the hours() function, which prints the string 'Open 9-5 daily'. Then, use the interactive interpreter to import the zoo module and call its hours() function.__</font>"
   ]
  },
  {
   "cell_type": "code",
   "execution_count": null,
   "id": "2f291f76",
   "metadata": {},
   "outputs": [],
   "source": [
    "'''!type zoo.py\n",
    "    def hours():\n",
    "        print(\"Open 9-5 daily\")'''"
   ]
  },
  {
   "cell_type": "code",
   "execution_count": 1,
   "id": "8ab772bb",
   "metadata": {},
   "outputs": [
    {
     "name": "stdout",
     "output_type": "stream",
     "text": [
      "Open 9-5 daily\n"
     ]
    }
   ],
   "source": [
    "import zoo\n",
    "zoo.hours()"
   ]
  },
  {
   "cell_type": "markdown",
   "id": "cc491b2a",
   "metadata": {},
   "source": [
    "<font size = 3>__2. In the interactive interpreter, import the zoo module as menagerie and call its hours() function__</font>"
   ]
  },
  {
   "cell_type": "code",
   "execution_count": 2,
   "id": "306beab9",
   "metadata": {},
   "outputs": [
    {
     "name": "stdout",
     "output_type": "stream",
     "text": [
      "Open 9-5 daily\n"
     ]
    }
   ],
   "source": [
    "import zoo as menagerie\n",
    "menagerie.hours()"
   ]
  },
  {
   "cell_type": "markdown",
   "id": "a1ad518a",
   "metadata": {},
   "source": [
    "<font size = 3>__3. Using the interpreter, explicitly import and call the hours() function from zoo.__</font>"
   ]
  },
  {
   "cell_type": "code",
   "execution_count": 4,
   "id": "8f4789a0",
   "metadata": {},
   "outputs": [
    {
     "name": "stdout",
     "output_type": "stream",
     "text": [
      "Open 9-5 daily\n"
     ]
    }
   ],
   "source": [
    "from zoo import hours\n",
    "hours()"
   ]
  },
  {
   "cell_type": "markdown",
   "id": "d5050f34",
   "metadata": {},
   "source": [
    "<font size = 3>__4. Import the hours() function as info and call it.__</font>"
   ]
  },
  {
   "cell_type": "code",
   "execution_count": 5,
   "id": "7a780e9d",
   "metadata": {},
   "outputs": [
    {
     "name": "stdout",
     "output_type": "stream",
     "text": [
      "Open 9-5 daily\n"
     ]
    }
   ],
   "source": [
    "from zoo import hours as info\n",
    "info()"
   ]
  },
  {
   "cell_type": "markdown",
   "id": "86d25ed0",
   "metadata": {},
   "source": [
    "<font size = 3>__5. Create a plain dictionary with the key-value pairs 'a': 1, 'b': 2, and 'c': 3, and print it out.__</font>"
   ]
  },
  {
   "cell_type": "code",
   "execution_count": 6,
   "id": "b061b8b4",
   "metadata": {},
   "outputs": [
    {
     "name": "stdout",
     "output_type": "stream",
     "text": [
      "{'a': 1, 'b': 2, 'c': 3}\n"
     ]
    }
   ],
   "source": [
    "plain_dict = {'a':1,'b':2,'c':3}\n",
    "print(plain_dict)"
   ]
  },
  {
   "cell_type": "markdown",
   "id": "500486a0",
   "metadata": {},
   "source": [
    "<font size = 3>__6.Make an OrderedDict called fancy from the same pairs listed in 5 and print it. Did it print in the same order as plain?__</font>"
   ]
  },
  {
   "cell_type": "code",
   "execution_count": 7,
   "id": "8f37633d",
   "metadata": {},
   "outputs": [
    {
     "name": "stdout",
     "output_type": "stream",
     "text": [
      "plain_dict -> {'a': 1, 'b': 2, 'c': 3}\n",
      "fancy -> OrderedDict([('a', 1), ('b', 2), ('c', 3)])\n"
     ]
    }
   ],
   "source": [
    "from collections import OrderedDict\n",
    "fancy = OrderedDict(plain_dict)\n",
    "print(f'plain_dict -> {plain_dict}')\n",
    "print(f'fancy -> {fancy}')"
   ]
  },
  {
   "cell_type": "markdown",
   "id": "4f6d66c9",
   "metadata": {},
   "source": [
    "<font size = 3>__7. Make a default dictionary called dict_of_lists and pass it the argument list. Make the list dict_of_lists['a'] and append the value 'something for a' to it in one assignment. Print dict_of_lists['a'].__</font>"
   ]
  },
  {
   "cell_type": "code",
   "execution_count": 8,
   "id": "023d8300",
   "metadata": {},
   "outputs": [
    {
     "name": "stdout",
     "output_type": "stream",
     "text": [
      "['something for a']\n"
     ]
    }
   ],
   "source": [
    "from collections import defaultdict\n",
    "dict_of_lists = defaultdict(list)\n",
    "dict_of_lists['a'].append('something for a')\n",
    "print(dict_of_lists['a'])"
   ]
  },
  {
   "cell_type": "code",
   "execution_count": null,
   "id": "9d139ab4",
   "metadata": {},
   "outputs": [],
   "source": []
  }
 ],
 "metadata": {
  "kernelspec": {
   "display_name": "Python 3 (ipykernel)",
   "language": "python",
   "name": "python3"
  },
  "language_info": {
   "codemirror_mode": {
    "name": "ipython",
    "version": 3
   },
   "file_extension": ".py",
   "mimetype": "text/x-python",
   "name": "python",
   "nbconvert_exporter": "python",
   "pygments_lexer": "ipython3",
   "version": "3.10.9"
  }
 },
 "nbformat": 4,
 "nbformat_minor": 5
}
