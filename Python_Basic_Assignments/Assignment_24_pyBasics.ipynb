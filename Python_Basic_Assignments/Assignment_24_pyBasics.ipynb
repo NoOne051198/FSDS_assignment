{
 "cells": [
  {
   "cell_type": "markdown",
   "id": "b0654f5b",
   "metadata": {},
   "source": [
    "# Assignment - 24 Solution "
   ]
  },
  {
   "cell_type": "markdown",
   "id": "1809bcbe",
   "metadata": {},
   "source": [
    "<font size = 3>__1. What is the relationship between def statements and lambda expressions ?__</font>\n",
    "\n",
    "__Ans:__ Both def statements and lambda expressions in Python are used to define functions. The main difference is that def statements create named functions with a block of code, while lambda expressions create anonymous functions as expressions. Lambda expressions are typically used for simpler and one-line functions, while def statements are more versatile and can contain multiple statements and have a name for reusability."
   ]
  },
  {
   "cell_type": "markdown",
   "id": "f8b23f14",
   "metadata": {},
   "source": [
    "<font size = 3>__2. What is the benefit of lambda?__</font>\n",
    "\n",
    "__Ans:__ The primary benefit of using lambda expressions in Python is that they allow for the creation of small, anonymous functions without the need for a formal function definition. This can make code more concise and easier to read, particularly when using functions as arguments to other functions, such as in map(), filter(), and reduce() operations. Lambda expressions are also often used in conjunction with sorting and other data manipulation operations, as they can provide a quick and efficient way to define custom comparison functions."
   ]
  },
  {
   "cell_type": "markdown",
   "id": "27a8dd14",
   "metadata": {},
   "source": [
    "<font size = 3>__3. Compare and contrast map, filter, and reduce.__</font>\n",
    "\n",
    "__Ans:__ \n",
    "1. __Map:__ It applies a given function to each item in an iterable and returns a new iterable with the transformed values.\n",
    "2. __Filter:__ It applies a given function to each item in an iterable and returns a new iterable with the items that satisfy the function's condition.\n",
    "3. __Reduce:__ It applies a given function to the items in an iterable in a cumulative way, reducing them to a single value. It returns the final reduced value.\n",
    "While map and filter produce new iterables, reduce returns a single value."
   ]
  },
  {
   "cell_type": "code",
   "execution_count": 1,
   "id": "2cd231a4",
   "metadata": {},
   "outputs": [
    {
     "name": "stdout",
     "output_type": "stream",
     "text": [
      "Map -> [2, 4, 6, 8]\n",
      "Filter -> [1, 3]\n",
      "Reduce -> 21\n"
     ]
    }
   ],
   "source": [
    "from functools import reduce\n",
    "# map function\n",
    "print('Map ->',list(map(lambda x:x+x, [1,2,3,4])))\n",
    "# fitler function\n",
    "print('Filter ->',list(filter(lambda x:x%2 !=0, [1,2,3,4])))\n",
    "# reduce function\n",
    "print('Reduce ->',reduce(lambda x,y:x+y, [1,2,3,4,5,6]))"
   ]
  },
  {
   "cell_type": "markdown",
   "id": "d85a56bc",
   "metadata": {},
   "source": [
    "<font size = 3>__4. What are function annotations, and how are they used?__</font>\n",
    "\n",
    "__Ans:__ Function annotations in Python are a way to add metadata or type hints to function parameters and return values. They provide additional information about the types or expected values of function inputs and outputs. Annotations are optional and do not affect the actual execution of the function. They can be defined using the : syntax after the parameter or return value name. Annotations can be used by tools or libraries for static type checking, documentation generation, or runtime introspection."
   ]
  },
  {
   "cell_type": "markdown",
   "id": "cc23eb72",
   "metadata": {},
   "source": [
    "<font size = 3>__5. What are recursive functions, and how are they used?__</font>\n",
    "\n",
    "__Ans:__ Recursive functions are functions that call themselves during their execution. They are used to solve problems that can be divided into smaller subproblems of the same nature. A recursive function typically has a base case that specifies the termination condition and one or more recursive cases that call the function again with a smaller or simpler input. Recursive functions can be used to solve problems like calculating factorials, finding Fibonacci numbers, traversing tree structures, and more. They provide an elegant and concise way to solve complex problems by breaking them down into simpler subproblems."
   ]
  },
  {
   "cell_type": "markdown",
   "id": "304e0ad1",
   "metadata": {},
   "source": [
    "<font size = 3>__6. What are some general design guidelines for coding functions?__</font>\n",
    "\n",
    "__Ans:__ Here are some general design guidelines for coding functions:\n",
    "\n",
    "1. __Keep functions small:__ \n",
    "\n",
    "2. __Use descriptive names:__ \n",
    "\n",
    "3. __Use default arguments:__ \n",
    "\n",
    "4. __Use docstrings:__ \n",
    "\n",
    "5. __Avoid global variables:__ \n",
    "\n",
    "6. __Avoid side effects:__ \n",
    "\n",
    "7. __Use exceptions to indicate errors:__ \n",
    "\n",
    "8. __Use meaningful variable names:__ \n",
    "\n",
    "9. __Write test cases:__ \n",
    "\n",
    "10. __Don't repeat yourself:__ "
   ]
  },
  {
   "cell_type": "markdown",
   "id": "e5a2f156",
   "metadata": {},
   "source": [
    "<font size = 3>__7. Name three or more ways that functions can communicate results to a caller.__</font>\n",
    "\n",
    "\n",
    "__Ans:__ Functions can communicate results to a caller in several ways, including:\n",
    "\n",
    "1. __Return statement:__ A function can use the return statement to return a value to the caller. This is the most common way of communicating results.\n",
    "\n",
    "2. __Global variables:__ A function can also modify global variables to communicate results to the caller. However, this approach is generally not recommended, as it can make the code harder to understand and maintain.\n",
    "\n",
    "3. __Output parameters:__ A function can use output parameters to communicate results to the caller. This is done by passing variables as arguments to the function, which are then modified by the function.\n",
    "\n",
    "4. __Exceptions:__ A function can raise an exception to communicate errors or special conditions to the caller.\n",
    "\n",
    "5. __Printing:__ A function can print its results to the console or write them to a file for the caller to read. However, this is generally not recommended as it limits the flexibility of the caller to use the results in different ways."
   ]
  },
  {
   "cell_type": "code",
   "execution_count": null,
   "id": "26dbec5a",
   "metadata": {},
   "outputs": [],
   "source": []
  }
 ],
 "metadata": {
  "kernelspec": {
   "display_name": "Python 3 (ipykernel)",
   "language": "python",
   "name": "python3"
  },
  "language_info": {
   "codemirror_mode": {
    "name": "ipython",
    "version": 3
   },
   "file_extension": ".py",
   "mimetype": "text/x-python",
   "name": "python",
   "nbconvert_exporter": "python",
   "pygments_lexer": "ipython3",
   "version": "3.10.9"
  }
 },
 "nbformat": 4,
 "nbformat_minor": 5
}
