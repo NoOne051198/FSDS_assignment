{
 "cells": [
  {
   "cell_type": "markdown",
   "id": "bb4312f6",
   "metadata": {},
   "source": [
    "# Assignment - 14 Solution "
   ]
  },
  {
   "cell_type": "markdown",
   "id": "6a8f0728",
   "metadata": {},
   "source": [
    "<font size = 3>__1. What does RGBA stand for?__</font>\n",
    "\n",
    "\n",
    "__Ans:__ RGBA stands for Red, Green, Blue, and Alpha. It is a color model used in computer graphics, where each color is represented by a combination of red, green, and blue values, and the alpha channel represents the transparency or opacity of the color."
   ]
  },
  {
   "cell_type": "markdown",
   "id": "d5cc9630",
   "metadata": {},
   "source": [
    "<font size = 3>__2. From the Pillow module, how do you get the RGBA value of any images?__</font>\n",
    "\n",
    "\n",
    "__Ans:__ To get the RGBA value of any image using the Pillow module in Python, you can use the getdata() method of the Image object. "
   ]
  },
  {
   "cell_type": "code",
   "execution_count": 1,
   "id": "c3c34a26",
   "metadata": {},
   "outputs": [
    {
     "name": "stdout",
     "output_type": "stream",
     "text": [
      "0\n"
     ]
    }
   ],
   "source": [
    "from PIL import Image\n",
    "\n",
    "# Open the image file\n",
    "image = Image.open('example.png')\n",
    "\n",
    "# Get the RGBA values of all pixels in the image\n",
    "pixels = image.getdata()\n",
    "\n",
    "# Print the RGBA values of the first pixel\n",
    "print(pixels[0])\n"
   ]
  },
  {
   "cell_type": "markdown",
   "id": "5b42167e",
   "metadata": {},
   "source": [
    "<font size = 3>__3. What is a box tuple, and how does it work?__</font>\n",
    "\n",
    "\n",
    "__Ans:__ A box tuple is a tuple that contains four values representing a rectangular region in an image. The four values are usually referred to as left, upper, right, and lower, and they specify the coordinates of the region's edges in pixels.\n",
    "\n",
    "For example, the box tuple (100, 50, 200, 150) specifies a rectangular region that starts at the point (100, 50) and extends to the point (200, 150) in an image."
   ]
  },
  {
   "cell_type": "markdown",
   "id": "1eb389d0",
   "metadata": {},
   "source": [
    "<font size = 3>__4. Use your image and load in notebook then, How can you find out the width and height of an Image object?__</font>\n",
    "\n",
    "\n",
    "__Ans:__ In this example, we first open the image file using the Image.open() method and assign the resulting Image object to the variable img. We then use the size attribute to get a tuple containing the width and height of the image, and unpack that tuple into separate variables width and height. Finally, we print out the results using an f-string."
   ]
  },
  {
   "cell_type": "code",
   "execution_count": 2,
   "id": "8e9db987",
   "metadata": {},
   "outputs": [
    {
     "name": "stdout",
     "output_type": "stream",
     "text": [
      "The image is 4898 pixels wide and 3265 pixels tall.\n"
     ]
    }
   ],
   "source": [
    "from PIL import Image\n",
    "\n",
    "# Open the image file\n",
    "img = Image.open('example.png')\n",
    "\n",
    "# Get the width and height of the image\n",
    "width, height = img.size\n",
    "\n",
    "# Print the results\n",
    "print(f\"The image is {width} pixels wide and {height} pixels tall.\")\n"
   ]
  },
  {
   "cell_type": "markdown",
   "id": "baa689df",
   "metadata": {},
   "source": [
    "<font size = 3>__5. What method would you call to get Image object for a 100×100 image, excluding the lower-left quarter of it?__</font>\n",
    "\n",
    "__Ans:__ To get an Image object for a 100×100 image, excluding the lower-left quarter of it, you can use the crop() method of the Image object. You can specify the coordinates of the upper left corner and lower right corner of the crop box using a tuple (left, upper, right, lower) where (0, 0) is the upper left corner of the image.\n",
    "\n",
    "__eg:__ The coordinates of the crop box for excluding the lower-left quarter of the image would be (0, 0, 50, 50) for a 100x100 image. The code to get the Image object for the cropped image would be:\n",
    "\n",
    "This will create a new Image object cropped_image that is the top-right quarter of the original image."
   ]
  },
  {
   "cell_type": "code",
   "execution_count": 3,
   "id": "c5652949",
   "metadata": {},
   "outputs": [],
   "source": [
    "from PIL import Image\n",
    "\n",
    "image = Image.open(\"bp_pic.jpg\")\n",
    "cropped_image = image.crop((0, 0, 50, 50))\n"
   ]
  },
  {
   "cell_type": "markdown",
   "id": "408789b5",
   "metadata": {},
   "source": [
    "<font size = 3>__6. After making changes to an Image object, how could you save it as an image file?__</font>\n",
    "\n",
    "\n",
    "__Ans:__ After making changes to an Image object using the Pillow library, you can save it as an image file using the save() method of the Image object."
   ]
  },
  {
   "cell_type": "code",
   "execution_count": 4,
   "id": "8707eab7",
   "metadata": {},
   "outputs": [],
   "source": [
    "from PIL import Image\n",
    "\n",
    "# Open the image file\n",
    "img = Image.open(\"bp_pic.jpg\")\n",
    "\n",
    "# Make changes to the image object\n",
    "img = img.resize((200, 200))\n",
    "\n",
    "# Save the modified image as a PNG file\n",
    "img.save(\"modified.png\")\n"
   ]
  },
  {
   "cell_type": "markdown",
   "id": "e9046e52",
   "metadata": {},
   "source": [
    "<font size = 3>__7. What module contains Pillow’s shape-drawing code?__</font>\n",
    "\n",
    "__Ans:__ Pillow’s shape-drawing code is contained in the `ImageDraw module`."
   ]
  },
  {
   "cell_type": "markdown",
   "id": "49979368",
   "metadata": {},
   "source": [
    "<font size = 3>__8. Image objects do not have drawing methods. What kind of object does? How do you get this kind of object?__</font>\n",
    "\n",
    "__Ans:__ The ImageDraw module of the Pillow library contains shape-drawing methods. To use it, you need to create an ImageDraw object by calling the Draw() method of an Image object."
   ]
  },
  {
   "cell_type": "code",
   "execution_count": 5,
   "id": "d38fcb74",
   "metadata": {
    "scrolled": true
   },
   "outputs": [],
   "source": [
    "from PIL import Image, ImageDraw\n",
    "\n",
    "# Open an image file\n",
    "image = Image.open(\"modified.png\")\n",
    "\n",
    "# Create an ImageDraw object\n",
    "draw = ImageDraw.Draw(image)\n",
    "\n",
    "# Use shape-drawing methods on the ImageDraw object\n",
    "draw.rectangle((50, 50, 100, 100), fill=\"red\")\n",
    "\n",
    "# Save the modified image\n",
    "image.save(\"my_modified_image.png\")\n"
   ]
  },
  {
   "cell_type": "code",
   "execution_count": null,
   "id": "2b7112a6",
   "metadata": {},
   "outputs": [],
   "source": []
  }
 ],
 "metadata": {
  "kernelspec": {
   "display_name": "Python 3 (ipykernel)",
   "language": "python",
   "name": "python3"
  },
  "language_info": {
   "codemirror_mode": {
    "name": "ipython",
    "version": 3
   },
   "file_extension": ".py",
   "mimetype": "text/x-python",
   "name": "python",
   "nbconvert_exporter": "python",
   "pygments_lexer": "ipython3",
   "version": "3.10.9"
  }
 },
 "nbformat": 4,
 "nbformat_minor": 5
}
