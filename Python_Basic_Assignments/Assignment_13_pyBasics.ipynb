{
 "cells": [
  {
   "cell_type": "markdown",
   "id": "111267a1",
   "metadata": {},
   "source": [
    "# Assessment - 13 Solution"
   ]
  },
  {
   "cell_type": "markdown",
   "id": "3b08abc3",
   "metadata": {},
   "source": [
    "<font size = 3>__1. What advantages do Excel spreadsheets have over CSV spreadsheets?__</font>\n",
    "\n",
    "\n",
    "__Ans:__ Excel spreadsheets have advantages over CSV spreadsheets in terms of advanced formatting options, formulas, data validation, and interactive features like charts, pivot tables, and macros. Excel provides a more comprehensive and user-friendly interface for data manipulation, analysis, and presentation compared to the plain-text format of CSV."
   ]
  },
  {
   "cell_type": "markdown",
   "id": "e9effa72",
   "metadata": {},
   "source": [
    "<font size = 3>__2. What do you pass to csv.reader() and csv.writer() to create reader and writer objects?__</font>\n",
    "\n",
    "__Ans:__ To create reader and writer objects in the csv module, you pass file objects to csv.reader() and csv.writer(). Typically, you pass an open file object, such as `open('file.csv','r')` or `open('file.csv','w')`."
   ]
  },
  {
   "cell_type": "markdown",
   "id": "9cd1249e",
   "metadata": {},
   "source": [
    "<font size = 3>__3. What modes do File objects for reader and writer objects need to be opened in?__</font>\n",
    "\n",
    "__Ans:__ For csv.reader(file_object), the file objects needed to be opened in `read mode mode='r'` Whereas for csv.writer(file_object) the file objects needed to be opened in `write mode mode='w'`."
   ]
  },
  {
   "cell_type": "markdown",
   "id": "4a270035",
   "metadata": {},
   "source": [
    "<font size = 3>__4. What method takes a list argument and writes it to a CSV file?__</font>"
   ]
  },
  {
   "cell_type": "code",
   "execution_count": null,
   "id": "4ecd28b9",
   "metadata": {},
   "outputs": [],
   "source": [
    "import csv      \n",
    "fields = ['EmpID','Name', 'Designation', 'HireDate', 'Salary'] # name of the column \n",
    "rows = [ \n",
    "            [1001,'Raman', 'Business Analyst', '07-11-2004', 50000],  # data rows of csv file \n",
    "            [1002,'Shagun', 'Manager', '01-05-2010', 80000], \n",
    "            [1003,'Deepak', 'Technial Architect', '19-01-2012', 70000]\n",
    "       ] \n",
    "with open(\"Employee_record.csv\", 'w') as csvfile: \n",
    "    csvwriter = csv.writer(csvfile) # creating a csv writer object \n",
    "    csvwriter.writerow(fields) # writing the fields \n",
    "    csvwriter.writerows(rows) # writing the data rows "
   ]
  },
  {
   "cell_type": "markdown",
   "id": "7eb2fd9d",
   "metadata": {},
   "source": [
    "<font size = 3>__5. What do the keyword arguments delimiter and line terminator do?__</font>\n",
    "\n",
    "__Ans:__ The delimiter keyword argument in the csv module specifies the character used to separate fields in a CSV file, while the lineterminator argument specifies the character sequence used to terminate lines in the CSV file when writing data.\n"
   ]
  },
  {
   "cell_type": "code",
   "execution_count": null,
   "id": "758a8b87",
   "metadata": {},
   "outputs": [],
   "source": [
    "import csv\n",
    "\n",
    "# Example 1: Reading a CSV file with a custom delimiter\n",
    "with open('data1.csv', 'r') as file:\n",
    "    reader = csv.reader(file, delimiter=';')  # Using semicolon (;) as the delimiter\n",
    "    for row in reader:\n",
    "        print(row)\n",
    "\n",
    "# Example 2: Writing data to a CSV file with a custom line terminator\n",
    "data = [\n",
    "    ['Name', 'Age', 'Country'],\n",
    "    ['John', '25', 'USA'],\n",
    "    ['Emily', '30', 'Canada'],\n",
    "    ['Michael', '35', 'Australia']\n",
    "]\n",
    "\n",
    "with open('output.csv', 'w', newline='', encoding='utf-8') as file:\n",
    "    writer = csv.writer(file, lineterminator='\\r\\n')  # Using CRLF line terminator\n",
    "    writer.writerows(data)\n"
   ]
  },
  {
   "cell_type": "markdown",
   "id": "4f042e63",
   "metadata": {},
   "source": [
    "<font size = 3>__6. What function takes a string of JSON data and returns a Python data structure?__</font>\n",
    "\n",
    "__Ans:__ The json.loads() function is used to parse a JSON string and convert it into a Python data structure, such as a dictionary or a list."
   ]
  },
  {
   "cell_type": "code",
   "execution_count": 1,
   "id": "386164c4",
   "metadata": {},
   "outputs": [
    {
     "name": "stdout",
     "output_type": "stream",
     "text": [
      "{'name': 'John Smith', 'age': 35, 'isMarried': True, 'hobbies': ['reading', 'swimming', 'running']}\n"
     ]
    }
   ],
   "source": [
    "import json\n",
    "\n",
    "# JSON data as a string\n",
    "json_string = '{\"name\": \"John Smith\", \"age\": 35, \"isMarried\": true, \"hobbies\": [\"reading\", \"swimming\", \"running\"]}'\n",
    "\n",
    "# Parsing JSON data into a Python data structure\n",
    "data = json.loads(json_string)\n",
    "\n",
    "# Printing the Python data structure\n",
    "print(data)\n"
   ]
  },
  {
   "cell_type": "markdown",
   "id": "755de2fb",
   "metadata": {},
   "source": [
    "<font size = 3>__7. What function takes a Python data structure and returns a string of JSON data?__</font>\n",
    "\n",
    "__Ans:__ The json.dumps() function takes a Python data structure and returns a JSON-formatted string."
   ]
  },
  {
   "cell_type": "code",
   "execution_count": 2,
   "id": "3930f793",
   "metadata": {},
   "outputs": [
    {
     "name": "stdout",
     "output_type": "stream",
     "text": [
      "{\"name\": \"John\", \"age\": 30, \"city\": \"New York\"}\n"
     ]
    }
   ],
   "source": [
    "import json\n",
    "\n",
    "data = {\n",
    "    \"name\": \"John\",\n",
    "    \"age\": 30,\n",
    "    \"city\": \"New York\"\n",
    "}\n",
    "\n",
    "json_str = json.dumps(data)\n",
    "\n",
    "print(json_str) # {\"name\": \"John\", \"age\": 30, \"city\": \"New York\"}\n"
   ]
  },
  {
   "cell_type": "code",
   "execution_count": null,
   "id": "9267d5ff",
   "metadata": {},
   "outputs": [],
   "source": []
  }
 ],
 "metadata": {
  "kernelspec": {
   "display_name": "Python 3 (ipykernel)",
   "language": "python",
   "name": "python3"
  },
  "language_info": {
   "codemirror_mode": {
    "name": "ipython",
    "version": 3
   },
   "file_extension": ".py",
   "mimetype": "text/x-python",
   "name": "python",
   "nbconvert_exporter": "python",
   "pygments_lexer": "ipython3",
   "version": "3.10.9"
  }
 },
 "nbformat": 4,
 "nbformat_minor": 5
}
