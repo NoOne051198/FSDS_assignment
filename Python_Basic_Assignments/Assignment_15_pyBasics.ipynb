{
 "cells": [
  {
   "cell_type": "markdown",
   "id": "8b95134d",
   "metadata": {},
   "source": [
    "# Assignment - 15 Solution "
   ]
  },
  {
   "cell_type": "markdown",
   "id": "5cedd4cc",
   "metadata": {},
   "source": [
    "<font size = 3>__1.How many seconds are in an hour? Use the interactive interpreter as a calculator and multiply the number of seconds in a minute (60) by the number of minutes in an hour (also 60).__</font>\n",
    "\n",
    "__Ans:__ There are 3600 seconds in an hour.\n",
    "\n",
    "To calculate this in the Python interactive interpreter, you can simply multiply 60 (seconds in a minute) by 60 (minutes in an hour):"
   ]
  },
  {
   "cell_type": "code",
   "execution_count": 1,
   "id": "da11937a",
   "metadata": {},
   "outputs": [
    {
     "name": "stdout",
     "output_type": "stream",
     "text": [
      "3600\n"
     ]
    }
   ],
   "source": [
    "print(60*60)"
   ]
  },
  {
   "cell_type": "markdown",
   "id": "6852d295",
   "metadata": {},
   "source": [
    "<font size = 3>__2. Assign the result from the previous task (seconds in an hour) to a variable called seconds_per_hour.__</font>"
   ]
  },
  {
   "cell_type": "code",
   "execution_count": 2,
   "id": "7f9acbe1",
   "metadata": {},
   "outputs": [
    {
     "name": "stdout",
     "output_type": "stream",
     "text": [
      "3600\n"
     ]
    }
   ],
   "source": [
    "seconds_per_hour = 60 * 60\n",
    "print(seconds_per_hour)"
   ]
  },
  {
   "cell_type": "markdown",
   "id": "3242c440",
   "metadata": {},
   "source": [
    "<font size = 3>__3. How many seconds do you think there are in a day? Make use of the variables seconds per hour and minutes per hour.__</font>"
   ]
  },
  {
   "cell_type": "code",
   "execution_count": 3,
   "id": "1a445267",
   "metadata": {},
   "outputs": [
    {
     "name": "stdout",
     "output_type": "stream",
     "text": [
      "86400\n"
     ]
    }
   ],
   "source": [
    "seconds_per_day = seconds_per_hour * 24\n",
    "\n",
    "\n",
    "seconds_per_day = 3600 * 24\n",
    "print(seconds_per_day)\n"
   ]
  },
  {
   "cell_type": "markdown",
   "id": "7d35e69e",
   "metadata": {},
   "source": [
    "<font size = 3>__4. Calculate seconds per day again, but this time save the result in a variable called seconds_per_day__</font>"
   ]
  },
  {
   "cell_type": "code",
   "execution_count": null,
   "id": "7b0db1f0",
   "metadata": {},
   "outputs": [],
   "source": [
    "seconds_per_day = seconds_per_hour * 24\n",
    "\n",
    "\n",
    "seconds_per_day = 3600 * 24\n"
   ]
  },
  {
   "cell_type": "markdown",
   "id": "c306dc3b",
   "metadata": {},
   "source": [
    "<font size = 3>__5. Divide seconds_per_day by seconds_per_hour. Use floating-point (/) division.__</font>"
   ]
  },
  {
   "cell_type": "code",
   "execution_count": 4,
   "id": "bc0e89e9",
   "metadata": {},
   "outputs": [
    {
     "data": {
      "text/plain": [
       "24.0"
      ]
     },
     "execution_count": 4,
     "metadata": {},
     "output_type": "execute_result"
    }
   ],
   "source": [
    "seconds_per_day = 86400\n",
    "seconds_per_hour = 3600\n",
    "seconds_per_day / seconds_per_hour\n"
   ]
  },
  {
   "cell_type": "markdown",
   "id": "92feb3cd",
   "metadata": {},
   "source": [
    "<font size = 3>__6. Divide seconds_per_day by seconds_per_hour, using integer (//) division. Did this number agree with the floating-point value from the previous question, aside from the final .0?__</font>\n",
    "\n",
    "\n",
    "__Ans:__ Yes, the integer division result should be the same as the floating-point division result without the decimal point.\n",
    "\n",
    "Let's perform the integer division of seconds_per_day by seconds_per_hour and see if it matches the previous result:"
   ]
  },
  {
   "cell_type": "code",
   "execution_count": 5,
   "id": "774ef9bd",
   "metadata": {},
   "outputs": [
    {
     "data": {
      "text/plain": [
       "24"
      ]
     },
     "execution_count": 5,
     "metadata": {},
     "output_type": "execute_result"
    }
   ],
   "source": [
    "seconds_per_day // seconds_per_hour\n"
   ]
  },
  {
   "cell_type": "markdown",
   "id": "9cdeb4a6",
   "metadata": {},
   "source": [
    "<font size = 3>__7. Write a generator, genPrimes, that returns the sequence of prime numbers on successive calls to its next() method: 2, 3, 5, 7, 11, ...__</font>\n",
    "\n",
    "\n",
    "__Ans:__ Here's an implementation of the genPrimes generator function"
   ]
  },
  {
   "cell_type": "code",
   "execution_count": 6,
   "id": "7dc8710e",
   "metadata": {},
   "outputs": [
    {
     "name": "stdout",
     "output_type": "stream",
     "text": [
      "2\n",
      "3\n",
      "5\n",
      "7\n",
      "11\n"
     ]
    }
   ],
   "source": [
    "def genPrimes():\n",
    "    primes = []\n",
    "    num = 2\n",
    "    while True:\n",
    "        is_prime = True\n",
    "        for p in primes:\n",
    "            if num % p == 0:\n",
    "                is_prime = False\n",
    "                break\n",
    "        if is_prime:\n",
    "            primes.append(num)\n",
    "            yield num\n",
    "        num += 1\n",
    "output = genPrimes()\n",
    "for i in range(5):\n",
    "    print(next(output))"
   ]
  },
  {
   "cell_type": "code",
   "execution_count": null,
   "id": "3324ef50",
   "metadata": {},
   "outputs": [],
   "source": []
  }
 ],
 "metadata": {
  "kernelspec": {
   "display_name": "Python 3 (ipykernel)",
   "language": "python",
   "name": "python3"
  },
  "language_info": {
   "codemirror_mode": {
    "name": "ipython",
    "version": 3
   },
   "file_extension": ".py",
   "mimetype": "text/x-python",
   "name": "python",
   "nbconvert_exporter": "python",
   "pygments_lexer": "ipython3",
   "version": "3.10.9"
  }
 },
 "nbformat": 4,
 "nbformat_minor": 5
}
