{
 "cells": [
  {
   "cell_type": "markdown",
   "id": "dae36617",
   "metadata": {},
   "source": [
    "# Assignment - 23 Solution "
   ]
  },
  {
   "cell_type": "markdown",
   "id": "8f87a669",
   "metadata": {},
   "source": [
    "<font size = 3>__1. What is the result of the code, and why?__</font>\n",
    "```python\n",
    "def func(a, b=6, c=8):\n",
    "    print(a, b, c)\n",
    "func(1, 2)\n",
    "```\n",
    "\n",
    "__Ans:__ The output of the code will be `1 2 8`.\n",
    "\n",
    "When we call the function func() with arguments (1,2), the value 1 is assigned to the first parameter a and the value 2 is assigned to the second parameter b, as we have specified that b has a default value of 6. Since we haven't provided a value for the third parameter c, it takes the default value of 8."
   ]
  },
  {
   "cell_type": "code",
   "execution_count": 1,
   "id": "15cb662c",
   "metadata": {},
   "outputs": [
    {
     "name": "stdout",
     "output_type": "stream",
     "text": [
      "1 2 8\n"
     ]
    }
   ],
   "source": [
    "def func(a,b=6,c=8):\n",
    "    print(a,b,c)\n",
    "func(1,2)"
   ]
  },
  {
   "cell_type": "markdown",
   "id": "48c906da",
   "metadata": {},
   "source": [
    "<font size = 3>__2. What is the result of this code, and why?__</font>\n",
    "```python\n",
    "def func(a, b, c=5):\n",
    "    print(a, b, c)\n",
    "func(1, c=3, b=2)\n",
    "```\n",
    "__Ans:__ The output of the code is: `1 2 3`\n",
    "\n",
    "This is because the values for the a, b, and c parameters are explicitly provided in the function call, with a being assigned the value 1, b being assigned the value 2, and c being assigned the value 3. Even though the parameter c has a default value of 5 in the function definition, its value is overwritten by the argument passed during the function call. The order of the arguments doesn't matter since they are explicitly named in the function call."
   ]
  },
  {
   "cell_type": "code",
   "execution_count": 2,
   "id": "17d3f329",
   "metadata": {},
   "outputs": [
    {
     "name": "stdout",
     "output_type": "stream",
     "text": [
      "1 2 3\n"
     ]
    }
   ],
   "source": [
    "def func(a,b,c=5):\n",
    "    print(a,b,c)\n",
    "func(1,c=3,b=2)"
   ]
  },
  {
   "cell_type": "markdown",
   "id": "05cec84b",
   "metadata": {},
   "source": [
    "<font size = 3>__3. How about this code: what is its result, and why?__</font>\n",
    "```python\n",
    "def func(a, *pargs):\n",
    "    print(a, pargs)\n",
    "func(1, 2, 3)\n",
    "```\n",
    "\n",
    "\n",
    "__Ans:__ The output of the code is: `1 (2, 3)`\n",
    "\n",
    "This is because the function func takes one mandatory argument a and then uses \\*pargs to take any number of additional positional arguments. When the function is called with func(1, 2, 3), 1 is passed as the value of a, while 2 and 3 are packed into a tuple and passed as the value of pargs. Thus, the print statement in the function outputs 1 (2, 3)."
   ]
  },
  {
   "cell_type": "code",
   "execution_count": 3,
   "id": "39736595",
   "metadata": {},
   "outputs": [
    {
     "name": "stdout",
     "output_type": "stream",
     "text": [
      "1 (2, 3)\n"
     ]
    }
   ],
   "source": [
    "def func(a, *pargs):\n",
    "    print(a,pargs)\n",
    "func(1,2,3)"
   ]
  },
  {
   "cell_type": "markdown",
   "id": "6a847a47",
   "metadata": {},
   "source": [
    "<font size = 3>__4. What does this code print, and why?__</font>\n",
    "```python\n",
    "def func(a, **kargs):\n",
    "    print(a, kargs)\n",
    "func(a=1, c=3, b=2)\n",
    "```\n",
    "__Ans:__ The code will print `1 {'c': 3, 'b': 2}`.\n",
    "\n",
    "Here, func() takes one required argument a and a keyword arguments \\*\\*kargs. When func() is called with the arguments a=1, c=3, b=2, the value of a is set to 1 and \\*\\*kargs is set to a dictionary containing the keyword arguments passed, i.e., {'c': 3, 'b': 2}.\n",
    "\n",
    "The print statement in the function body prints the value of a and the keyword arguments as a dictionary, which is why the output is 1 {'c': 3, 'b': 2}."
   ]
  },
  {
   "cell_type": "code",
   "execution_count": 4,
   "id": "4d3e6682",
   "metadata": {},
   "outputs": [
    {
     "name": "stdout",
     "output_type": "stream",
     "text": [
      "1 {'c': 3, 'b': 2}\n"
     ]
    }
   ],
   "source": [
    "def func(a,**kargs):\n",
    "    print(a,kargs)\n",
    "func(a=1,c=3,b=2)"
   ]
  },
  {
   "cell_type": "markdown",
   "id": "1f3271bf",
   "metadata": {},
   "source": [
    "<font size = 3>__5. What gets printed by this, and explain?__</font>\n",
    "```python\n",
    "def func(a, b, c=8, d=5): print(a, b, c, d)\n",
    "func(1, *(5, 6))\n",
    "```\n",
    "__Ans:__ The output of the code is: `1 5 6 5`\n",
    "\n",
    "Here, the * before the (5, 6) tuple is used to unpack the values in the tuple and pass them as separate arguments to the function. Hence, 5 is assigned to the c parameter and 6 is assigned to the d parameter. The a parameter is assigned the value 1 as usual, and the default value 8 is assigned to b because there is no value provided for it. The final output shows the values of all four parameters passed to the function."
   ]
  },
  {
   "cell_type": "code",
   "execution_count": 5,
   "id": "97b42f79",
   "metadata": {},
   "outputs": [
    {
     "name": "stdout",
     "output_type": "stream",
     "text": [
      "1 5 6 5\n"
     ]
    }
   ],
   "source": [
    "def func(a,b,c=8,d=5):\n",
    "    print(a,b,c,d)\n",
    "func(1,*(5,6))"
   ]
  },
  {
   "cell_type": "markdown",
   "id": "d87fa31a",
   "metadata": {},
   "source": [
    "<font size = 3>__6. what is the result of this, and explain?__</font>\n",
    "```python\n",
    "def func(a, b, c): a = 2; b[0] = 'x'; c['a'] = 'y'\n",
    "l=1; m=[1]; n={'a':0}\n",
    "func(l, m, n)\n",
    "```\n",
    "\n",
    "__Ans:__ Here's what happens in detail: `(1, ['x'], {'a': 'y'})`\n",
    "\n",
    "We define a function func that takes three arguments a, b, and c.\n",
    "Inside the function, we assign the integer value 2 to a, replace the first element of b with the string value 'x', and add a new key-value pair to c where the key is 'a' and the value is 'y'.\n",
    "We define three variables: l with the value 1, m as a list containing the integer value 1, and n as a dictionary containing a key-value pair where the key is 'a' and the value is 0.\n",
    "We call the function func with arguments l, m, and n. Inside the function, the values of a, b, and c are modified as described above.\n",
    "Finally, we print the values of l, m, and n. l is unchanged because integers are immutable. m has been modified because it is a list, which is mutable. n has also been modified because it is a dictionary, which is also mutable."
   ]
  },
  {
   "cell_type": "code",
   "execution_count": 7,
   "id": "95450924",
   "metadata": {},
   "outputs": [
    {
     "data": {
      "text/plain": [
       "(1, ['x'], {'a': 'y'})"
      ]
     },
     "execution_count": 7,
     "metadata": {},
     "output_type": "execute_result"
    }
   ],
   "source": [
    "def func(a, b, c): a = 2; b[0] = 'x'; c['a'] = 'y'\n",
    "l=1; m=[1]; n={'a':0}\n",
    "func(l, m, n)\n",
    "l,m,n"
   ]
  },
  {
   "cell_type": "code",
   "execution_count": null,
   "id": "5b7a1744",
   "metadata": {},
   "outputs": [],
   "source": []
  }
 ],
 "metadata": {
  "kernelspec": {
   "display_name": "Python 3 (ipykernel)",
   "language": "python",
   "name": "python3"
  },
  "language_info": {
   "codemirror_mode": {
    "name": "ipython",
    "version": 3
   },
   "file_extension": ".py",
   "mimetype": "text/x-python",
   "name": "python",
   "nbconvert_exporter": "python",
   "pygments_lexer": "ipython3",
   "version": "3.10.9"
  }
 },
 "nbformat": 4,
 "nbformat_minor": 5
}
