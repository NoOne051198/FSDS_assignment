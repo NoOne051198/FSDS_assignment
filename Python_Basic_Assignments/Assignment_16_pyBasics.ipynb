{
 "cells": [
  {
   "cell_type": "markdown",
   "id": "16ce3874",
   "metadata": {},
   "source": [
    "# Assignment - 16 Solution"
   ]
  },
  {
   "cell_type": "markdown",
   "id": "0c2f2fcd",
   "metadata": {},
   "source": [
    "<font size = 3>__1. Create a list called years_list, starting with the year of your birth, and each year thereafter until the year of your fifth birthday. For example, if you were born in 1980. the list would be years_list = [1980, 1981, 1982, 1983, 1984, 1985].__</font>"
   ]
  },
  {
   "cell_type": "code",
   "execution_count": 1,
   "id": "df83f176",
   "metadata": {},
   "outputs": [
    {
     "name": "stdout",
     "output_type": "stream",
     "text": [
      "[1990, 1991, 1992, 1993, 1994, 1995]\n"
     ]
    }
   ],
   "source": [
    "starting_year = 1990\n",
    "num_years = 6\n",
    "\n",
    "years_list = [starting_year + i for i in range(num_years)]\n",
    "print(years_list)\n"
   ]
  },
  {
   "cell_type": "markdown",
   "id": "d463f61d",
   "metadata": {},
   "source": [
    "<font size = 3>__2. In which year in years_list was your third birthday? Remember, you were 0 years of age for your first year.__</font>\n",
    "\n",
    "\n",
    "__Ans:__ If we assume that the first birthday in years_list corresponds to age 0, then our third birthday would be at age 2. So we need to find the year in years_list that corresponds to age 2."
   ]
  },
  {
   "cell_type": "code",
   "execution_count": 2,
   "id": "10409d01",
   "metadata": {},
   "outputs": [
    {
     "data": {
      "text/plain": [
       "1992"
      ]
     },
     "execution_count": 2,
     "metadata": {},
     "output_type": "execute_result"
    }
   ],
   "source": [
    "years_list = [1990, 1991, 1992, 1993, 1994, 1995]\n",
    "years_list[2]"
   ]
  },
  {
   "cell_type": "markdown",
   "id": "add2d3b1",
   "metadata": {},
   "source": [
    "<font size = 3>__3.In the years list, which year were you the oldest?__</font>"
   ]
  },
  {
   "cell_type": "code",
   "execution_count": 3,
   "id": "3f84dfc5",
   "metadata": {},
   "outputs": [
    {
     "name": "stdout",
     "output_type": "stream",
     "text": [
      "2000\n"
     ]
    }
   ],
   "source": [
    "years_list = [1995, 1996, 1997, 1998, 1999, 2000]\n",
    "oldest_year = max(years_list)\n",
    "print(oldest_year)\n"
   ]
  },
  {
   "cell_type": "markdown",
   "id": "b54c4dfd",
   "metadata": {},
   "source": [
    "<font size = 3>__4. Make a list called things with these three strings as elements: \"mozzarella\", \"cinderella\", \"salmonella\".__</font>\n",
    "\n"
   ]
  },
  {
   "cell_type": "code",
   "execution_count": 4,
   "id": "26236a4f",
   "metadata": {},
   "outputs": [],
   "source": [
    "things = [\"mozzarella\", \"cinderella\", \"salmonella\"]\n"
   ]
  },
  {
   "cell_type": "markdown",
   "id": "b6f2b574",
   "metadata": {},
   "source": [
    "<font size = 3>__5. Capitalize the element in things that refers to a person and then print the list. Did it change the element in the list?__</font>\n",
    "\n"
   ]
  },
  {
   "cell_type": "code",
   "execution_count": 5,
   "id": "c29eb110",
   "metadata": {},
   "outputs": [
    {
     "name": "stdout",
     "output_type": "stream",
     "text": [
      "['mozzarella', 'Cinderella', 'salmonella']\n"
     ]
    }
   ],
   "source": [
    "things = [\"mozzarella\", \"cinderella\", \"salmonella\"]\n",
    "things[1] = things[1].capitalize()\n",
    "print(things) # yes, it changes the element of the list\n"
   ]
  },
  {
   "cell_type": "markdown",
   "id": "d9481426",
   "metadata": {},
   "source": [
    "<font size = 3>__6. Make a surprise list with the elements \"Groucho,\" \"Chico,\" and \"Harpo.\"__</font>"
   ]
  },
  {
   "cell_type": "code",
   "execution_count": 6,
   "id": "111763b9",
   "metadata": {},
   "outputs": [],
   "source": [
    "surprise = [\"Groucho\", \"Chico\", \"Harpo\"]\n"
   ]
  },
  {
   "cell_type": "markdown",
   "id": "c84e9449",
   "metadata": {},
   "source": [
    "<font size = 3>__7. Lowercase the last element of the surprise list, reverse it, and then capitalize it.__</font>"
   ]
  },
  {
   "cell_type": "code",
   "execution_count": 7,
   "id": "44696694",
   "metadata": {},
   "outputs": [
    {
     "name": "stdout",
     "output_type": "stream",
     "text": [
      "['Groucho', 'Chico', 'Oprah']\n"
     ]
    }
   ],
   "source": [
    "surprise = [\"Groucho\", \"Chico\", \"Harpo\"]\n",
    "last_element = surprise[-1]\n",
    "last_element = last_element.lower()[::-1].capitalize()\n",
    "surprise[-1] = last_element\n",
    "print(surprise)\n"
   ]
  },
  {
   "cell_type": "markdown",
   "id": "e8c2e336",
   "metadata": {},
   "source": [
    "<font size = 3>__8. Make an English-to-French dictionary called e2f and print it. Here are your starter words: dog is chien, cat is chat, and walrus is morse.__</font>"
   ]
  },
  {
   "cell_type": "code",
   "execution_count": 8,
   "id": "6e7cbdfb",
   "metadata": {},
   "outputs": [
    {
     "name": "stdout",
     "output_type": "stream",
     "text": [
      "{'dog': 'chien', 'cat': 'chat', 'walrus': 'morse'}\n"
     ]
    }
   ],
   "source": [
    "e2f = {'dog': 'chien', 'cat': 'chat', 'walrus': 'morse'}\n",
    "print(e2f)\n"
   ]
  },
  {
   "cell_type": "markdown",
   "id": "12602b4c",
   "metadata": {},
   "source": [
    "<font size = 3>__9. Write the French word for walrus in your three-word dictionary e2f.__</font>\n",
    "\n",
    "__Ans:__ The French word for walrus in the e2f dictionary is \"morse\"."
   ]
  },
  {
   "cell_type": "markdown",
   "id": "35927426",
   "metadata": {},
   "source": [
    "<font size = 3>__10. Make a French-to-English dictionary called f2e from e2f. Use the items method.__</font>\n",
    "\n"
   ]
  },
  {
   "cell_type": "code",
   "execution_count": 9,
   "id": "91af4405",
   "metadata": {},
   "outputs": [
    {
     "name": "stdout",
     "output_type": "stream",
     "text": [
      "{'chien': 'dog', 'chat': 'cat', 'morse': 'walrus'}\n"
     ]
    }
   ],
   "source": [
    "e2f = {'dog': 'chien', 'cat': 'chat', 'walrus': 'morse'}\n",
    "f2e = {value: key for key, value in e2f.items()}\n",
    "print(f2e)\n"
   ]
  },
  {
   "cell_type": "markdown",
   "id": "f70c56b3",
   "metadata": {},
   "source": [
    "<font size = 3>__11. Print the English version of the French word chien using f2e.__</font>"
   ]
  },
  {
   "cell_type": "code",
   "execution_count": 10,
   "id": "16d09758",
   "metadata": {},
   "outputs": [
    {
     "name": "stdout",
     "output_type": "stream",
     "text": [
      "dog\n"
     ]
    }
   ],
   "source": [
    "print(f2e['chien'])\n"
   ]
  },
  {
   "cell_type": "markdown",
   "id": "522ca982",
   "metadata": {},
   "source": [
    "<font size = 3>__12. Make and print a set of English words from the keys in e2f.__</font>"
   ]
  },
  {
   "cell_type": "code",
   "execution_count": 11,
   "id": "872bf08e",
   "metadata": {},
   "outputs": [
    {
     "name": "stdout",
     "output_type": "stream",
     "text": [
      "{'cat', 'dog', 'walrus'}\n"
     ]
    }
   ],
   "source": [
    "# Create the English-to-French dictionary\n",
    "e2f = {'dog': 'chien', 'cat': 'chat', 'walrus': 'morse'}\n",
    "\n",
    "# Create a set of English words from the keys in e2f\n",
    "english_words = set(e2f.keys())\n",
    "\n",
    "# Print the set of English words\n",
    "print(english_words)\n"
   ]
  },
  {
   "cell_type": "markdown",
   "id": "981b6da2",
   "metadata": {},
   "source": [
    "<font size = 3>__13. Make a multilevel dictionary called life. Use these strings for the topmost keys: 'animals', 'plants', and 'other'. Make the 'animals' key refer to another dictionary with the keys 'cats', 'octopi', and 'emus'. Make the 'cats' key refer to a list of strings with the values 'Henri', 'Grumpy', and 'Lucy'. Make all the other keys refer to empty dictionaries.__</font>\n"
   ]
  },
  {
   "cell_type": "code",
   "execution_count": 13,
   "id": "c74de52b",
   "metadata": {},
   "outputs": [
    {
     "name": "stdout",
     "output_type": "stream",
     "text": [
      "{'animals': {'cats': ['Henri', 'Grumpy', 'Lucy'], 'octopi': {}, 'emus': {}}, 'plants': {}, 'other': {}}\n"
     ]
    }
   ],
   "source": [
    "life = {'animals': {'cats': ['Henri', 'Grumpy', 'Lucy'], 'octopi': {}, 'emus': {}},\n",
    "        'plants': {},\n",
    "        'other': {}}\n",
    "print(life)"
   ]
  },
  {
   "cell_type": "code",
   "execution_count": null,
   "id": "86156f0d",
   "metadata": {},
   "outputs": [],
   "source": []
  }
 ],
 "metadata": {
  "kernelspec": {
   "display_name": "Python 3 (ipykernel)",
   "language": "python",
   "name": "python3"
  },
  "language_info": {
   "codemirror_mode": {
    "name": "ipython",
    "version": 3
   },
   "file_extension": ".py",
   "mimetype": "text/x-python",
   "name": "python",
   "nbconvert_exporter": "python",
   "pygments_lexer": "ipython3",
   "version": "3.10.9"
  }
 },
 "nbformat": 4,
 "nbformat_minor": 5
}
