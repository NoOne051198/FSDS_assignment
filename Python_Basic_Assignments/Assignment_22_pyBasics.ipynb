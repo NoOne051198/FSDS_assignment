{
 "cells": [
  {
   "cell_type": "markdown",
   "id": "218d64b8",
   "metadata": {},
   "source": [
    "# Assignment - 22 Solution "
   ]
  },
  {
   "cell_type": "markdown",
   "id": "a9377e2b",
   "metadata": {},
   "source": [
    "<font size = 3>__1. What is the result of the code, and explain?__</font>\n",
    "\n",
    "```python\n",
    "X = 'iNeuron'\n",
    "def func():\n",
    "    print(X)\n",
    "func()\n",
    "```\n",
    "\n",
    "__Ans:__ The code will output the string `'iNeuron'`.\n",
    "\n",
    "__Explanation:__ The variable X is defined outside the function func(), and it is accessed within the function using the print statement. When the function func() is called, it prints the value of the variable X, which is 'iNeuron'. Since the variable is defined in the global namespace, it is accessible within the function."
   ]
  },
  {
   "cell_type": "code",
   "execution_count": 1,
   "id": "b29e937b",
   "metadata": {},
   "outputs": [
    {
     "name": "stdout",
     "output_type": "stream",
     "text": [
      "iNeuron\n"
     ]
    }
   ],
   "source": [
    "X = 'iNeuron'\n",
    "def func():\n",
    "    print(X)\n",
    "func()"
   ]
  },
  {
   "cell_type": "markdown",
   "id": "d9e9d318",
   "metadata": {},
   "source": [
    "<font size = 3>__2. What is the result of the code, and explain?__</font>\n",
    "\n",
    "```python\n",
    "X = 'iNeuron'\n",
    "def func():\n",
    "    X = 'NI!'\n",
    "    print(X)\n",
    "func()\n",
    "```\n",
    "\n",
    "__Ans:__ The result of the code will be `'NI!'`.\n",
    "\n",
    "The Result of this cide is NI!, because the function initially looks for the variable X in its local scope if X is not available then it checks for variable X in the global scope, Since here the X is present in the local scope. it prints the value NI!"
   ]
  },
  {
   "cell_type": "code",
   "execution_count": 2,
   "id": "337547eb",
   "metadata": {},
   "outputs": [
    {
     "name": "stdout",
     "output_type": "stream",
     "text": [
      "NI!\n"
     ]
    }
   ],
   "source": [
    "X = 'iNeuron'\n",
    "def func():\n",
    "    X = 'NI!'\n",
    "    print(X)\n",
    "func()"
   ]
  },
  {
   "cell_type": "markdown",
   "id": "74fdf175",
   "metadata": {},
   "source": [
    "<font size = 3>__3. What does this code print, and why?__</font>\n",
    "\n",
    "```python\n",
    "X = 'iNeuron'\n",
    "def func():\n",
    "    X = 'NI'\n",
    "    print(X)\n",
    "func()\n",
    "print(X)\n",
    "```\n",
    "__Ans:__ This code prints `NI` first and then `iNeuron` in a new line.\n",
    "\n",
    "Inside the function func(), a local variable X is created and assigned the value of \"NI\". This local variable is printed inside the function which prints \"NI\" as output. However, the global variable X remains unchanged, and when it is printed outside the function, it still has the value \"iNeuron\"."
   ]
  },
  {
   "cell_type": "code",
   "execution_count": 3,
   "id": "d2b87cd5",
   "metadata": {},
   "outputs": [
    {
     "name": "stdout",
     "output_type": "stream",
     "text": [
      "NI\n",
      "iNeuron\n"
     ]
    }
   ],
   "source": [
    "X = 'iNeuron'\n",
    "def func():\n",
    "    X = 'NI'\n",
    "    print(X)\n",
    "func()\n",
    "print(X)"
   ]
  },
  {
   "cell_type": "markdown",
   "id": "d6e5e162",
   "metadata": {},
   "source": [
    "<font size = 3>__4. What output does this code produce? Why?__</font>\n",
    "    \n",
    "```python\n",
    "X = 'iNeuron'\n",
    "def func():\n",
    "    global X\n",
    "    X = 'NI'\n",
    "func()\n",
    "print(X)\n",
    "```\n",
    "__Ans:__ The code produces the output `NI`.\n",
    "\n",
    "In the function func(), the global keyword is used to declare that the variable X refers to the global variable with the same name, rather than a new local variable. When func() is called, it changes the value of the global variable X to \"NI\".\n",
    "\n",
    "Therefore, when print(X) is called after the function, it outputs the value of the modified global variable, which is \"NI\"."
   ]
  },
  {
   "cell_type": "code",
   "execution_count": 4,
   "id": "43af0dce",
   "metadata": {},
   "outputs": [
    {
     "name": "stdout",
     "output_type": "stream",
     "text": [
      "NI\n"
     ]
    }
   ],
   "source": [
    "X = 'iNeuron'\n",
    "def func():\n",
    "    global X\n",
    "    X = 'NI'\n",
    "func()\n",
    "print(X)"
   ]
  },
  {
   "cell_type": "markdown",
   "id": "c1b0bb38",
   "metadata": {},
   "source": [
    "<font size = 3>__5. What about this code—what’s the output, and why?__</font>\n",
    "\n",
    "```python\n",
    "X = 'iNeuron'\n",
    "def func():\n",
    "    X = 'NI'\n",
    "    def nested():\n",
    "        print(X)\n",
    "    nested()\n",
    "func()\n",
    "X\n",
    "```\n",
    "__Ans:__ The output of the first two lines would be nothing, since the function func() is defined, but not called.\n",
    "\n",
    "The output of the third line, `NI`, is printed. This is because the nested function nested() accesses the variable X defined in the enclosing scope of func().\n",
    "\n",
    "Finally, the output of the last line is `iNeuron`, since the X variable defined in func() is a local variable and does not affect the global variable X."
   ]
  },
  {
   "cell_type": "code",
   "execution_count": 5,
   "id": "ac288d4b",
   "metadata": {},
   "outputs": [
    {
     "name": "stdout",
     "output_type": "stream",
     "text": [
      "NI\n"
     ]
    },
    {
     "data": {
      "text/plain": [
       "'iNeuron'"
      ]
     },
     "execution_count": 5,
     "metadata": {},
     "output_type": "execute_result"
    }
   ],
   "source": [
    "X = 'iNeuron'\n",
    "def func():\n",
    "    X = 'NI'\n",
    "    def nested():\n",
    "        print(X)\n",
    "    nested()\n",
    "func()\n",
    "X"
   ]
  },
  {
   "cell_type": "markdown",
   "id": "2427f4d7",
   "metadata": {},
   "source": [
    "<font size = 3>__6. How about this code: what is its output in Python 3, and explain?__</font>\n",
    "\n",
    "```python\n",
    "def func():\n",
    "    X = 'NI'\n",
    "    def nested():\n",
    "        nonlocal X\n",
    "        X = 'Spam'\n",
    "    nested()\n",
    "    print(X)\n",
    "func()\n",
    "```\n",
    "__Ans:__ The output of this code in Python 3 is `Spam`. The nonlocal keyword allows nested() to modify the variable X defined in func(). When func() is called, X is set to 'NI', then nested() is called. Within nested(), nonlocal X is used to indicate that the X being referred to is the X defined in func(). Thus, the assignment X = 'Spam' modifies X in func(). Finally, print(X) is called in func(), so it prints 'Spam'."
   ]
  },
  {
   "cell_type": "code",
   "execution_count": 7,
   "id": "7a46ae2c",
   "metadata": {},
   "outputs": [
    {
     "name": "stdout",
     "output_type": "stream",
     "text": [
      "Spam\n"
     ]
    }
   ],
   "source": [
    "def func():\n",
    "    X = 'NI'\n",
    "    def nested():\n",
    "        nonlocal X\n",
    "        X = 'Spam'\n",
    "    nested()\n",
    "    print(X)\n",
    "func()\n"
   ]
  },
  {
   "cell_type": "code",
   "execution_count": null,
   "id": "aa5564e0",
   "metadata": {},
   "outputs": [],
   "source": []
  }
 ],
 "metadata": {
  "kernelspec": {
   "display_name": "Python 3 (ipykernel)",
   "language": "python",
   "name": "python3"
  },
  "language_info": {
   "codemirror_mode": {
    "name": "ipython",
    "version": 3
   },
   "file_extension": ".py",
   "mimetype": "text/x-python",
   "name": "python",
   "nbconvert_exporter": "python",
   "pygments_lexer": "ipython3",
   "version": "3.10.9"
  }
 },
 "nbformat": 4,
 "nbformat_minor": 5
}
