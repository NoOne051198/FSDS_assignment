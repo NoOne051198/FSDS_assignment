{
 "cells": [
  {
   "cell_type": "markdown",
   "id": "70604059",
   "metadata": {},
   "source": [
    "# Assignment - 21 Solution "
   ]
  },
  {
   "cell_type": "markdown",
   "id": "1b33b625",
   "metadata": {},
   "source": [
    "<font size = 3>__1. Add the current date to the text file today.txt as a string.__</font>"
   ]
  },
  {
   "cell_type": "code",
   "execution_count": 1,
   "id": "34f13837",
   "metadata": {},
   "outputs": [],
   "source": [
    "import datetime\n",
    "\n",
    "# Get the current date as a string\n",
    "date_str = datetime.date.today().strftime(\"%Y-%m-%d\")\n",
    "\n",
    "# Open the file in append mode and write the date\n",
    "with open(\"today.txt\", \"a\") as f:\n",
    "    f.write(date_str + \"\\n\")\n"
   ]
  },
  {
   "cell_type": "markdown",
   "id": "0d789bac",
   "metadata": {},
   "source": [
    "<font size = 3>__2. Read the text file today.txt into the string today_string__</font>"
   ]
  },
  {
   "cell_type": "code",
   "execution_count": 3,
   "id": "01e3aa66",
   "metadata": {},
   "outputs": [
    {
     "name": "stdout",
     "output_type": "stream",
     "text": [
      "2023-05-15\n",
      "\n"
     ]
    }
   ],
   "source": [
    "with open('today.txt', 'r') as file:\n",
    "    today_string = file.read()\n",
    "    \n",
    "print(today_string)\n"
   ]
  },
  {
   "cell_type": "markdown",
   "id": "23afe9c2",
   "metadata": {},
   "source": [
    "<font size = 3>__3. Parse the date from today_string.__</font>"
   ]
  },
  {
   "cell_type": "code",
   "execution_count": 4,
   "id": "044db9b7",
   "metadata": {},
   "outputs": [
    {
     "name": "stdout",
     "output_type": "stream",
     "text": [
      "2023-05-07\n"
     ]
    }
   ],
   "source": [
    "from datetime import datetime\n",
    "\n",
    "today_string = \"2023-05-07\"\n",
    "parsed_date = datetime.strptime(today_string, '%Y-%m-%d').date()\n",
    "\n",
    "print(parsed_date)\n"
   ]
  },
  {
   "cell_type": "markdown",
   "id": "bbd447f6",
   "metadata": {},
   "source": [
    "<font size = 3>__4. List the files in your current directory__</font>"
   ]
  },
  {
   "cell_type": "code",
   "execution_count": 15,
   "id": "9c247fb3",
   "metadata": {},
   "outputs": [
    {
     "name": "stdout",
     "output_type": "stream",
     "text": [
      ".ipynb_checkpoints\n",
      "Assignment_01_pyBasics.ipynb\n",
      "Assignment_06_pyProgram.ipynb\n",
      "Assignment_07_pyProgram.ipynb\n",
      "Assignment_08_pyProgram.ipynb\n",
      "Assignment_09_pyProgram.ipynb\n",
      "Assignment_10_pyProgram.ipynb\n",
      "Assignment_11_pyBasics.ipynb\n",
      "Assignment_11_pyProgram.ipynb\n",
      "Assignment_12_pyBasics.ipynb\n",
      "Assignment_12_pyProgram.ipynb\n",
      "Assignment_13_pyBasics.ipynb\n",
      "Assignment_13_pyProgram.ipynb\n",
      "Assignment_14_pyBasics.ipynb\n",
      "Assignment_14_pyProgram.ipynb\n",
      "Assignment_15_pyBasics.ipynb\n",
      "Assignment_15_pyProgram.ipynb\n",
      "Assignment_16_pyBasics.ipynb\n",
      "Assignment_16_pyProgram.ipynb\n",
      "Assignment_17_pyBasics.ipynb\n",
      "Assignment_17_pyProgram.ipynb\n",
      "Assignment_18_pyBasics.ipynb\n",
      "Assignment_18_pyProgram.ipynb\n",
      "Assignment_19_pyBasics.ipynb\n",
      "Assignment_19_pyProgram.ipynb\n",
      "Assignment_20_pyBasics.ipynb\n",
      "Assignment_20_pyProgram.ipynb\n",
      "Assignment_21_pyBasics.ipynb\n",
      "Assignment_21_pyProgram.ipynb\n",
      "Assignment_22_pyBasics.ipynb\n",
      "Assignment_22_pyProgram.ipynb\n",
      "Assignment_23_pyBasics.ipynb\n",
      "Assignment_23_pyProgram.ipynb\n",
      "Assignment_24_pyBasics.ipynb\n",
      "Assignment_25_pyBasics.ipynb\n",
      "Assignment_25_pyProgram.ipynb\n",
      "Assignment_pyProgram.ipynb\n",
      "books.csv\n",
      "books.db\n",
      "bp_pic.jpg\n",
      "ccsu_meerut.mp4\n",
      "check_working\n",
      "data1.csv\n",
      "delhi.py\n",
      "Employee_record.csv\n",
      "example.png\n",
      "file1.pdf\n",
      "file2.pdf\n",
      "first_notepad.py\n",
      "first_notepad.txt\n",
      "list.log\n",
      "modified.png\n",
      "module_class.py\n",
      "mymodule\n",
      "output.csv\n",
      "practise.py\n",
      "programLog.txt\n",
      "Python_different_task.ipynb\n",
      "SQL&Python\n",
      "StartPractise.ipynb\n",
      "test.txt\n",
      "text_file2.txt\n",
      "tkinter_code.ipynb\n",
      "today.txt\n",
      "Untitled.ipynb\n",
      "Untitled1.ipynb\n",
      "Untitled2.ipynb\n",
      "zoo.py\n",
      "__pycache__\n"
     ]
    }
   ],
   "source": [
    "import os\n",
    "lists = os.listdir()\n",
    "for i in lists:\n",
    "    print(i)"
   ]
  },
  {
   "cell_type": "markdown",
   "id": "1bc1b87f",
   "metadata": {},
   "source": [
    "<font size = 3>__5. Create a list of all of the files in your parent directory (minimum five files should be available)__</font>"
   ]
  },
  {
   "cell_type": "code",
   "execution_count": 14,
   "id": "d536de49",
   "metadata": {},
   "outputs": [
    {
     "name": "stdout",
     "output_type": "stream",
     "text": [
      "$RECYCLE.BIN\n",
      "Bhudeep\n",
      "check_pdf\n",
      "codessss\n",
      "interviewPrep\n",
      "Learn_something\n",
      "miniconda2\n",
      "New folder\n",
      "New folder (2)\n",
      "Notebook_helping\n",
      "python00.txt\n",
      "SQL practise\n",
      "Stats iNeuron\n",
      "System Volume Information\n",
      "TimeSeries Ineuron\n",
      "towards__DA\n",
      "towards__DataScience\n"
     ]
    }
   ],
   "source": [
    "import os\n",
    "\n",
    "# Get the parent directory path\n",
    "parent_dir = os.path.dirname(os.getcwd())\n",
    "\n",
    "# List all the files in the parent directory\n",
    "files = os.listdir(parent_dir)\n",
    "\n",
    "# Print the files\n",
    "for i in files:\n",
    "    print(i)\n"
   ]
  },
  {
   "cell_type": "markdown",
   "id": "69717514",
   "metadata": {},
   "source": [
    "<font size = 3>__6. Use multiprocessing to create three separate processes. Make each one wait a random number of seconds between one and five, print the current time, and then exit.__</font>"
   ]
  },
  {
   "cell_type": "code",
   "execution_count": 7,
   "id": "38eecd83",
   "metadata": {},
   "outputs": [],
   "source": [
    "import multiprocessing\n",
    "import time\n",
    "import random\n",
    "from datetime import datetime\n",
    "\n",
    "# define a function that prints current time after waiting for a random number of seconds\n",
    "def print_time():\n",
    "    sleep_time = random.randint(1, 5)\n",
    "    time.sleep(sleep_time)\n",
    "    print(f\"Current time: {datetime.now()}, Slept for {sleep_time} seconds\")\n",
    "\n",
    "# create three processes\n",
    "processes = []\n",
    "for i in range(3):\n",
    "    process = multiprocessing.Process(target=print_time)\n",
    "    processes.append(process)\n",
    "\n",
    "# start the processes\n",
    "for process in processes:\n",
    "    process.start()\n",
    "\n",
    "# wait for all processes to complete\n",
    "for process in processes:\n",
    "    process.join()\n"
   ]
  },
  {
   "cell_type": "markdown",
   "id": "bd6a95e5",
   "metadata": {},
   "source": [
    "<font size = 3>__7. Create a date object of your day of birth.__</font>"
   ]
  },
  {
   "cell_type": "code",
   "execution_count": 8,
   "id": "d83a7cc7",
   "metadata": {},
   "outputs": [
    {
     "name": "stdout",
     "output_type": "stream",
     "text": [
      "2000-11-05\n"
     ]
    }
   ],
   "source": [
    "from datetime import date\n",
    "\n",
    "birthday = date(2000, 11, 5)\n",
    "print(birthday)\n"
   ]
  },
  {
   "cell_type": "markdown",
   "id": "d9501c6a",
   "metadata": {},
   "source": [
    "<font size = 3>__8. What day of the week was your day of birth?__</font>"
   ]
  },
  {
   "cell_type": "code",
   "execution_count": 11,
   "id": "8adb777b",
   "metadata": {},
   "outputs": [
    {
     "name": "stdout",
     "output_type": "stream",
     "text": [
      "My birthday was on a Sunday.\n"
     ]
    }
   ],
   "source": [
    "from datetime import date\n",
    "\n",
    "# create a date object for your day of birth\n",
    "birth_date = date(2000, 11, 5)  # replace with your birth year, month, and day\n",
    "\n",
    "# find the day of the week as an integer\n",
    "day_of_week = birth_date.weekday()\n",
    "\n",
    "# print the day of the week as a string\n",
    "days = ['Monday', 'Tuesday', 'Wednesday', 'Thursday', 'Friday', 'Saturday', 'Sunday']\n",
    "print(f\"My birthday was on a {days[day_of_week]}.\")\n"
   ]
  },
  {
   "cell_type": "markdown",
   "id": "8130ec75",
   "metadata": {},
   "source": [
    "<font size = 3>__9. When will you be (or when were you) 10,000 days old?__</font>"
   ]
  },
  {
   "cell_type": "code",
   "execution_count": 12,
   "id": "12905698",
   "metadata": {},
   "outputs": [
    {
     "name": "stdout",
     "output_type": "stream",
     "text": [
      "You will be (or were) 10,000 days old on: 2028-03-23\n"
     ]
    }
   ],
   "source": [
    "import datetime\n",
    "\n",
    "# Replace these values with your own birth year, month, and day\n",
    "birth_year = 2000\n",
    "birth_month = 11\n",
    "birth_day = 5\n",
    "\n",
    "# Calculate the number of days until you turn 10,000 days old\n",
    "days_until_10000 = 10000 - (datetime.date.today() - datetime.date(birth_year, birth_month, birth_day)).days\n",
    "\n",
    "# Calculate the date when you will be (or were) 10,000 days old\n",
    "date_10000_days_old = datetime.date.today() + datetime.timedelta(days=days_until_10000)\n",
    "\n",
    "print(\"You will be (or were) 10,000 days old on:\", date_10000_days_old)\n"
   ]
  },
  {
   "cell_type": "code",
   "execution_count": null,
   "id": "5b3d07ec",
   "metadata": {},
   "outputs": [],
   "source": []
  }
 ],
 "metadata": {
  "kernelspec": {
   "display_name": "Python 3 (ipykernel)",
   "language": "python",
   "name": "python3"
  },
  "language_info": {
   "codemirror_mode": {
    "name": "ipython",
    "version": 3
   },
   "file_extension": ".py",
   "mimetype": "text/x-python",
   "name": "python",
   "nbconvert_exporter": "python",
   "pygments_lexer": "ipython3",
   "version": "3.10.9"
  }
 },
 "nbformat": 4,
 "nbformat_minor": 5
}
